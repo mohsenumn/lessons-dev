{
 "cells": [
  {
   "cell_type": "markdown",
   "metadata": {
    "slideshow": {
     "slide_type": "slide"
    }
   },
   "source": [
    "# Creating Covid-19 Maps from Online Data\n",
    "\n",
    "As the Covid-19 pandemic evolves, you no doubt have seen lot of maps showing the impact of Covid-19. You might have wondered how difficult it is to create these maps. In this section you will learn the entire process from downloading data to creating a map.\n"
   ]
  },
  {
   "cell_type": "code",
   "execution_count": null,
   "metadata": {
    "hide_input": true,
    "init_cell": true,
    "slideshow": {
     "slide_type": "skip"
    },
    "tags": [
     "Hide"
    ]
   },
   "outputs": [],
   "source": [
    "# This code cell starts the necessary setup for Hour of CI lesson notebooks.\n",
    "# First, it enables users to hide and unhide code by producing a 'Toggle raw code' button below.\n",
    "# Second, it imports the hourofci package, which is necessary for lessons and interactive Jupyter Widgets.\n",
    "# Third, it helps hide/control other aspects of Jupyter Notebooks to improve the user experience\n",
    "# This is an initialization cell\n",
    "# It is not displayed because the Slide Type is 'Skip'\n",
    "\n",
    "from IPython.display import HTML, IFrame, Javascript, display\n",
    "from ipywidgets import interactive\n",
    "import ipywidgets as widgets\n",
    "from ipywidgets import Layout\n",
    "\n",
    "import getpass # This library allows us to get the username (User agent string)\n",
    "\n",
    "# import package for hourofci project\n",
    "import sys\n",
    "sys.path.append('../../supplementary') # relative path (may change depending on the location of the lesson notebook)\n",
    "import hourofci\n",
    "\n",
    "# load javascript to initialize/hide cells, get user agent string, and hide output indicator\n",
    "# hide code by introducing a toggle button \"Toggle raw code\"\n",
    "HTML(''' \n",
    "    <script type=\"text/javascript\" src=\\\"../../supplementary/js/custom.js\\\"></script>\n",
    "    \n",
    "    <style>\n",
    "        .output_prompt{opacity:0;}\n",
    "    </style>\n",
    "    \n",
    "    <input id=\"toggle_code\" type=\"button\" value=\"Toggle raw code\">\n",
    "''')"
   ]
  },
  {
   "cell_type": "markdown",
   "metadata": {
    "slideshow": {
     "slide_type": "slide"
    }
   },
   "source": [
    "\n",
    "## Reminder\n",
    "\n",
    "<a href=\"#/slide-2-0\" class=\"navigate-right\" style=\"background-color:blue;color:white;padding:8px;margin:2px;font-weight:bold;\">Continue with the lesson</a>\n",
    "\n",
    "<font size=\"+1\">\n",
    "\n",
    "By continuing with this lesson you are granting your permission to take part in this research study for the Hour of Cyberinfrastructure: Developing Cyber Literacy for GIScience project. In this study, you will be learning about cyberinfrastructure and related concepts using a web-based platform that will take approximately one hour per lesson. Participation in this study is voluntary.\n",
    "\n",
    "Participants in this research must be 18 years or older. If you are under the age of 18 then please exit this webpage or navigate to another website such as the Hour of Code at https://hourofcode.com, which is designed for K-12 students.\n",
    "\n",
    "If you are not interested in participating please exit the browser or navigate to this website: http://www.umn.edu. Your participation is voluntary and you are free to stop the lesson at any time.\n",
    "\n",
    "For the full description please navigate to this website: <a href=\"gateway-1.ipynb\">Gateway Lesson Research Study Permission</a>.\n",
    "\n",
    "</font>\n",
    "\n"
   ]
  },
  {
   "cell_type": "markdown",
   "metadata": {
    "slideshow": {
     "slide_type": "slide"
    }
   },
   "source": [
    "## Setup\n",
    "\n",
    "To start you have to import the specific Python modules you will need. You will learn more about these packages in other Hour of CI lessons, so let's just import everything we need right now.\n",
    "\n",
    "Click the Run button ( <img src=\"supplementary/play-button.png\" alt=\"Run button picture\" style=\"display: inline-block;\">) below to import our packages (wait until you see the printed message to continue).\n"
   ]
  },
  {
   "cell_type": "code",
   "execution_count": null,
   "metadata": {
    "slideshow": {
     "slide_type": "-"
    },
    "tags": [
     "4A"
    ]
   },
   "outputs": [],
   "source": [
    "import pandas\n",
    "import geopandas\n",
    "from matplotlib import pyplot\n",
    "\n",
    "print(\"Python modules imported!\")"
   ]
  },
  {
   "cell_type": "markdown",
   "metadata": {
    "slideshow": {
     "slide_type": "slide"
    }
   },
   "source": [
    "## Download Covid-19 Data\n",
    "First, we have to find the data. There are lots of sources of Covid-19 data online. For this segment we will use US county level data released by the New York Times. It's found here: https://raw.githubusercontent.com/nytimes/covid-19-data/master/us-counties.csv.\n",
    "\n",
    "The code below uses a utility called **wget** to download the data from the URL and save it to a local file called \"us-counties.csv\" (side note: that is what the -O does). Click the Run button ( <img src=\"supplementary/play-button.png\" alt=\"Run button picture\" style=\"display: inline-block;\">) below."
   ]
  },
  {
   "cell_type": "code",
   "execution_count": null,
   "metadata": {
    "rise": {
     "scroll": true
    },
    "scrolled": true,
    "slideshow": {
     "slide_type": "-"
    },
    "tags": [
     "4B"
    ]
   },
   "outputs": [],
   "source": [
    "!wget -O us-counties.csv https://raw.githubusercontent.com/nytimes/covid-19-data/master/us-counties.csv"
   ]
  },
  {
   "cell_type": "markdown",
   "metadata": {
    "slideshow": {
     "slide_type": "-"
    }
   },
   "source": [
    " "
   ]
  },
  {
   "cell_type": "markdown",
   "metadata": {
    "slideshow": {
     "slide_type": "slide"
    }
   },
   "source": [
    "## Read and view the data\n",
    "Once you have downloaded the data file, you have to read it using Python. To do that, we'll convert the downloaded file into a data format that our Python program can use. Here we're going to use Dataframes provided by the **pandas** module we just imported.\n",
    "\n",
    "**Dataframes** can be thought of as spreadsheets for tabular data organized in rows and columns. See an example below.\n",
    "\n",
    "| Column 1 | Column 2 | Column 3 |\n",
    "|:---------|:---------|:---------|\n",
    "|First     |Record    |1         |\n",
    "|Second    |Record    |2         |\n",
    "\n",
    "If you want to learn more about Dataframes you can look at the Pandas documentation <a href=\"https://pandas.pydata.org/pandas-docs/stable/getting_started/intro_tutorials/01_table_oriented.html#min-tut-01-tableoriented\">here</a>."
   ]
  },
  {
   "cell_type": "markdown",
   "metadata": {
    "slideshow": {
     "slide_type": "slide"
    }
   },
   "source": [
    "## Read and view the data\n",
    "\n",
    "The function we will use to read the data is **pandas.read_csv**. To view the data we will use the **head** function that displays the top 5 data records. Run the code. Here we can see a record contains a date, a county, a state, a numerical representations of a county and state called a FIPS code. We are getting a record for each county for each day there is at least one case or death. Click the Run button ( <img src=\"supplementary/play-button.png\" alt=\"Run button picture\" style=\"display: inline-block;\">) below."
   ]
  },
  {
   "cell_type": "code",
   "execution_count": null,
   "metadata": {
    "slideshow": {
     "slide_type": "-"
    },
    "tags": [
     "4C"
    ]
   },
   "outputs": [],
   "source": [
    "#Read the data that we downloaded from the NYT into a dataframe\n",
    "covid_counties = pandas.read_csv('./us-counties.csv')\n",
    "\n",
    "#View the first 5 records\n",
    "covid_counties.head(5)"
   ]
  },
  {
   "cell_type": "markdown",
   "metadata": {
    "slideshow": {
     "slide_type": "slide"
    }
   },
   "source": [
    "## Count the number of records\n",
    "\n",
    "How many records do we have? Let's take a look using Panda's **count** function.\n"
   ]
  },
  {
   "cell_type": "code",
   "execution_count": null,
   "metadata": {
    "slideshow": {
     "slide_type": "-"
    },
    "tags": [
     "4D"
    ]
   },
   "outputs": [],
   "source": [
    "covid_counties.count()"
   ]
  },
  {
   "cell_type": "markdown",
   "metadata": {
    "slideshow": {
     "slide_type": "fragment"
    }
   },
   "source": [
    "Whoa! That is a lot of records. Too many records actually... We are getting a record for each day there is at least one case.\n",
    "\n"
   ]
  },
  {
   "cell_type": "markdown",
   "metadata": {
    "slideshow": {
     "slide_type": "slide"
    }
   },
   "source": [
    "## Aggregate records\n",
    "\n",
    "We need to combine or **aggregate** the Covid-19 records to map them. Let's map the total number of cases for each US county.\n",
    "\n",
    "To do this we will use the **groupby** function. We will group _daily cases_ by _county_. Since some county names are found in more than one state, we have to group by _county_ and _state_ (as well as a special code called the _FIPS_ code). We will add them all up using the **sum** function.\n",
    "\n",
    "Go to the next slide to see the code."
   ]
  },
  {
   "cell_type": "markdown",
   "metadata": {
    "slideshow": {
     "slide_type": "slide"
    }
   },
   "source": [
    "## Aggregate records"
   ]
  },
  {
   "cell_type": "code",
   "execution_count": null,
   "metadata": {
    "slideshow": {
     "slide_type": "-"
    },
    "tags": [
     "4E"
    ]
   },
   "outputs": [],
   "source": [
    "# First group cases by county and state using groupby\n",
    "covid_grouped = covid_counties.groupby(['fips','county','state'])['cases']\n",
    "\n",
    "# Second, add up all the Covid-19 cases using sum\n",
    "covid_total = covid_grouped.sum()\n",
    "\n",
    "#View the result\n",
    "covid_total"
   ]
  },
  {
   "cell_type": "markdown",
   "metadata": {
    "slideshow": {
     "slide_type": "slide"
    }
   },
   "source": [
    "## Get the geography\n",
    "Though this Covid-19 data includes columns for county and state, which is **geospatial information,** it does not have the geometry data that will allow you to plot a map. So we need to get additional data that has the geometry data that defines the outline of each county. \n",
    "\n",
    "Good news! We have already obtained that data for you, \"counties_geometry.geojson\", and stored it on disk, so now we'll load that into a geodataframe - that's a dataframe that also contains a geospatial column for the geometry."
   ]
  },
  {
   "cell_type": "code",
   "execution_count": null,
   "metadata": {
    "slideshow": {
     "slide_type": "-"
    },
    "tags": [
     "4F"
    ]
   },
   "outputs": [],
   "source": [
    "counties_geojson = geopandas.read_file(\"./supplementary/counties_geometry.geojson\")\n",
    "counties_geojson.head(5)"
   ]
  },
  {
   "cell_type": "markdown",
   "metadata": {
    "slideshow": {
     "slide_type": "slide"
    }
   },
   "source": [
    "## Merging Data\n",
    "\n",
    "Now we have two files: \n",
    "1. New York Times Covid-19 cases file for every county but no geometry data\n",
    "2. County geometry file that contains the geometry and population data but no Covid-19 case data\n",
    "\n",
    "We need to **merge** these data by matching the county and state names. However, if you look at the two dataframes above, the Covid-19 data has columns \"county\" and \"state\", while the geometry data has columns \"NAME\" and \"state_name\", so we have to specify which columns to match up. "
   ]
  },
  {
   "cell_type": "code",
   "execution_count": null,
   "metadata": {
    "slideshow": {
     "slide_type": "-"
    },
    "tags": [
     "4G"
    ]
   },
   "outputs": [],
   "source": [
    "# Merge geography (counties_geojson) and covid cases (covid_total)\n",
    "merged = pandas.merge(counties_geojson, covid_total, how='left',\n",
    "                left_on=['NAME','state_name'], right_on = ['county','state'])"
   ]
  },
  {
   "cell_type": "markdown",
   "metadata": {
    "slideshow": {
     "slide_type": "slide"
    }
   },
   "source": [
    "## Success!\n",
    "\n",
    "Now we have a merged dataframe with both geometry, population and Covid-19 data. Let's view the data and the columns in it."
   ]
  },
  {
   "cell_type": "code",
   "execution_count": null,
   "metadata": {
    "slideshow": {
     "slide_type": "fragment"
    },
    "tags": [
     "4H"
    ]
   },
   "outputs": [],
   "source": [
    "merged.columns"
   ]
  },
  {
   "cell_type": "code",
   "execution_count": null,
   "metadata": {
    "slideshow": {
     "slide_type": "fragment"
    },
    "tags": [
     "4I"
    ]
   },
   "outputs": [],
   "source": [
    "merged"
   ]
  },
  {
   "cell_type": "markdown",
   "metadata": {
    "slideshow": {
     "slide_type": "slide"
    }
   },
   "source": [
    "## Mapping the data\n",
    "\n",
    "Now that we have a combined dataset, making a map is easy! There are a lot of options, we'll just use one of them."
   ]
  },
  {
   "cell_type": "code",
   "execution_count": null,
   "metadata": {
    "scrolled": false,
    "slideshow": {
     "slide_type": "-"
    },
    "tags": [
     "4J"
    ]
   },
   "outputs": [],
   "source": [
    "merged.plot(figsize=(15, 15), column='cases', cmap='OrRd', scheme='fisher_jenks', legend=\"true\", \n",
    "                       legend_kwds={'loc': 'lower left', 'title':'Number of Confirmed Cases'})\n",
    "pyplot.title(\"Number of Confirmed Cases\")"
   ]
  },
  {
   "cell_type": "markdown",
   "metadata": {
    "slideshow": {
     "slide_type": "slide"
    }
   },
   "source": [
    "## Congratulations, you made a map!\n",
    "\n",
    "Of course, it's not a pretty map, but it's a map! Congratulations, you've made a map using cyberinfrastructure and geospatial technologies!"
   ]
  },
  {
   "cell_type": "markdown",
   "metadata": {
    "slideshow": {
     "slide_type": "slide"
    }
   },
   "source": [
    "## How is this cyberinfrastructure?\n",
    "\n",
    "I wrote a few lines of Python code. How is this cyberinfrastructure? \n",
    "\n",
    "To answer that question, let's take a step back.\n",
    "\n",
    "<a href=\"gateway-5.ipynb\">Click here to move to the next section to learn more!</a>"
   ]
  }
 ],
 "metadata": {
  "celltoolbar": "Slideshow",
  "kernelspec": {
   "display_name": "Python 3 (ipykernel)",
   "language": "python",
   "name": "python3"
  },
  "language_info": {
   "codemirror_mode": {
    "name": "ipython",
    "version": 3
   },
   "file_extension": ".py",
   "mimetype": "text/x-python",
   "name": "python",
   "nbconvert_exporter": "python",
   "pygments_lexer": "ipython3",
   "version": "3.8.1"
  },
  "rise": {
   "auto_select": "none",
   "autolaunch": true,
   "scroll": true
  }
 },
 "nbformat": 4,
 "nbformat_minor": 2
}
