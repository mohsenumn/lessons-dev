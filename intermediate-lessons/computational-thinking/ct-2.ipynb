{
 "cells": [
  {
   "cell_type": "markdown",
   "metadata": {
    "hide_input": true,
    "slideshow": {
     "slide_type": "slide"
    }
   },
   "source": [
    "## Introduction to Computational Thinking\n",
    "### Segment 1 of 5\n",
    "# Define the Question"
   ]
  },
  {
   "cell_type": "markdown",
   "metadata": {
    "slideshow": {
     "slide_type": "slide"
    }
   },
   "source": [
    "## Thank you for helping our study\n",
    "\n",
    "\n",
    "<a href=\"#/slide-1-0\" class=\"navigate-right\" style=\"background-color:blue;color:white;padding:8px;margin:2px;font-weight:bold;\">Continue with the lesson</a>\n",
    "\n",
    "Throughout this lesson you will see reminders, like the one below, to ensure that all participants understand that they are in a voluntary research study.\n",
    "\n",
    "### Reminder\n",
    "\n",
    "<font size=\"+1\">\n",
    "\n",
    "By continuing with this lesson you are granting your permission to take part in this research study for the Hour of Cyberinfrastructure: Developing Cyber Literacy for GIScience project. In this study, you will be learning about cyberinfrastructure and related concepts using a web-based platform that will take approximately one hour per lesson. Participation in this study is voluntary.\n",
    "\n",
    "Participants in this research must be 18 years or older. If you are under the age of 18 then please exit this webpage or navigate to another website such as the Hour of Code at https://hourofcode.com, which is designed for K-12 students.\n",
    "\n",
    "If you are not interested in participating please exit the browser or navigate to this website: http://www.umn.edu. Your participation is voluntary and you are free to stop the lesson at any time.\n",
    "\n",
    "For the full description please navigate to this website: <a href=\"../../gateway-lesson/gateway/gateway-1.ipynb\">Gateway Lesson Research Study Permission</a>.\n",
    "\n",
    "</font>"
   ]
  },
  {
   "cell_type": "code",
   "execution_count": null,
   "metadata": {
    "hide_input": true,
    "init_cell": true,
    "slideshow": {
     "slide_type": "skip"
    },
    "tags": [
     "Hide"
    ]
   },
   "outputs": [],
   "source": [
    "# This code cell starts the necessary setup for Hour of CI lesson notebooks.\n",
    "# First, it enables users to hide and unhide code by producing a 'Toggle raw code' button below.\n",
    "# Second, it imports the hourofci package, which is necessary for lessons and interactive Jupyter Widgets.\n",
    "# Third, it helps hide/control other aspects of Jupyter Notebooks to improve the user experience\n",
    "# This is an initialization cell\n",
    "# It is not displayed because the Slide Type is 'Skip'\n",
    "\n",
    "from IPython.display import HTML, IFrame, Javascript, display, clear_output\n",
    "from ipywidgets import interactive\n",
    "import ipywidgets as widgets\n",
    "from ipywidgets import Layout\n",
    "\n",
    "import getpass # This library allows us to get the username (User agent string)\n",
    "\n",
    "# import package for hourofci project\n",
    "import sys\n",
    "sys.path.append('../../supplementary') # relative path (may change depending on the location of the lesson notebook)\n",
    "import hourofci\n",
    "\n",
    "import warnings\n",
    "warnings.filterwarnings('ignore') # Hide warnings\n",
    "\n",
    "# load javascript to initialize/hide cells, get user agent string, and hide output indicator\n",
    "# hide code by introducing a toggle button \"Toggle raw code\"\n",
    "# HTML(''' \n",
    "#     <script type=\"text/javascript\" src=\\\"../../supplementary/js/custom.js\\\"></script>\n",
    "    \n",
    "#     <input id=\"toggle_code\" type=\"button\" value=\"Toggle raw code\">\n",
    "# ''')\n",
    "\n",
    "HTML(''' \n",
    "    <script type=\"text/javascript\" src=\\\"../../supplementary/js/custom.js\\\"></script>\n",
    "    \n",
    "    <style>\n",
    "        .output_prompt{opacity:0;}\n",
    "    </style>\n",
    "    \n",
    "    <input id=\"toggle_code\" type=\"button\" value=\"Toggle raw code\">\n",
    "''')\n"
   ]
  },
  {
   "cell_type": "markdown",
   "metadata": {
    "slideshow": {
     "slide_type": "slide"
    }
   },
   "source": [
    "When you have successfully completed this lesson, you will be able to:<br>\n",
    "1. \n",
    "2.\n",
    "..."
   ]
  },
  {
   "cell_type": "markdown",
   "metadata": {
    "slideshow": {
     "slide_type": "slide"
    }
   },
   "source": [
    "## Your Task\n",
    "\n",
    "You need to decide where to put a new freeway in your city. In this segment, we’re going to look at the problem of how you build a new freeway, breaking it down into many steps.\n",
    "<center><img width=700 alt=\"Picture of highway split into city\" src=\"supplementary/pexels-joey-kyber-highway.jpg\"></center>\n",
    "<font size=\"-2\">Image Credit: Joey Kyber@Pexels</font>"
   ]
  },
  {
   "cell_type": "markdown",
   "metadata": {
    "slideshow": {
     "slide_type": "slide"
    }
   },
   "source": [
    "The overall problem, or goal, is to build a freeway. If we think about this all at once, it gets overwhelming. Let’s break the problem down into smaller pieces.\n",
    "\n",
    "What questions do we need to ask first in order to build our freeway?\n",
    "\n",
    "* What signs should be on the freeway?\n",
    "* What route should the freeway take?\n",
    "*  What are the points at the beginning and end of the freeway?\n",
    "* How many lanes should it have?\n"
   ]
  },
  {
   "cell_type": "markdown",
   "metadata": {
    "slideshow": {
     "slide_type": "slide"
    }
   },
   "source": [
    "# Break it down. The first step.\n",
    "Let’s say you know where the freeway needs to start and stop as the first step.  Next, you need to decide what route it is going to take. \n",
    "\n",
    "<center><img width=700 alt=\"Map with start and stop point\" src=\"supplementary/route-map1.png\"></center>"
   ]
  },
  {
   "cell_type": "markdown",
   "metadata": {
    "slideshow": {
     "slide_type": "slide"
    }
   },
   "source": [
    "## Define your route\n",
    "\n",
    "Defining our route is our first step in computational thinking. This is where we define our question. We need to think through the details of the problem and ask a manageable question. For this example, let's ask the following computable question:\n",
    "\n",
    "**What is the best route for our freeway that gets from the Start point to the End point?**\n"
   ]
  },
  {
   "cell_type": "markdown",
   "metadata": {
    "slideshow": {
     "slide_type": "slide"
    }
   },
   "source": [
    "**What is the best route for our freeway that gets from the Start point to the End point?**\n",
    "\n",
    "\n",
    "Our question now must be transformed into a more precise form so that we can use computation. While the point S and P are precise, we are faced with the challenge of defining 'best route'. Let's look at a few options.\n",
    "\n",
    "First, we could have the computer pick a random route that gets us from Start to End.\n",
    "<center><img width=700 alt=\"Map with start and end points\" src=\"supplementary/route-map2.png\"></center>"
   ]
  },
  {
   "cell_type": "markdown",
   "metadata": {
    "slideshow": {
     "slide_type": "slide"
    }
   },
   "source": [
    "# Add Precision\n",
    "\n",
    "Clearly, we, as humans, can tell this is not the best route for a freeway. So let's be more precise. We want to minimize the distance of the freeway.\n",
    "\n",
    "<code>minimize(distance(Start,End))</code>\n",
    "\n",
    "<center><img width=700 alt=\"Map with straight line from start to end point\" src=\"supplementary/route-map3.png\"></center>"
   ]
  },
  {
   "cell_type": "markdown",
   "metadata": {
    "slideshow": {
     "slide_type": "slide"
    }
   },
   "source": [
    "# Uh, oh\n",
    "\n",
    "Great. Now we have the shortest distance pathway. But! It cuts right through a historic building.\n",
    "\n",
    "<center><img width=700 alt=\"Map with line cutting through building\" src=\"supplementary/route-map4.png\"></center>"
   ]
  },
  {
   "cell_type": "markdown",
   "metadata": {
    "slideshow": {
     "slide_type": "slide"
    }
   },
   "source": [
    "# Redefining our question\n",
    " So we add a new constraint that we must avoid key buildings, but still aim to minimize the distance.\n",
    "\n",
    "<code>avoid_key_buildings()\n",
    "minimize(distance(S,P))</code>\n",
    "\n",
    "<center><img width=700 alt=\"Map with two routes to avoid building\" src=\"supplementary/route-map5.png\"></center>"
   ]
  },
  {
   "cell_type": "markdown",
   "metadata": {
    "slideshow": {
     "slide_type": "slide"
    }
   },
   "source": [
    "## Cost cutting!\n",
    "We have just learned that our budget is being cut. Now we need to pay attention to the cost of the project!!\n",
    "So now we need to also try to reduce the cost. We can now 'weight' our decision between minimizing distance and minimizing cost. \n",
    "<center>\n",
    "<img width=700 alt=\"Map with two routes to avoid building\" src=\"supplementary/route-map5.png\">\n",
    "    </center>"
   ]
  },
  {
   "cell_type": "code",
   "execution_count": null,
   "metadata": {
    "hide_input": false,
    "slideshow": {
     "slide_type": "slide"
    },
    "tags": [
     "Hide",
     "Init"
    ]
   },
   "outputs": [],
   "source": [
    "widget1 = widgets.RadioButtons(\n",
    "    options = ['Longer Route ($)', 'Shorter Route ($$$)'],\n",
    "    description = 'If we are optimizing for distance, which do we pick?', style={'description_width': 'initial'},\n",
    "    layout = Layout(width='100%',display=\"flex\", justify_content=\"flex-start\"),\n",
    "    value = None\n",
    ")\n",
    "\n",
    "def out():\n",
    "    print('The correct answer is the Shorter Route!')\n",
    "display(widget1)\n",
    "\n",
    "hourofci.SubmitBtn2(widget1, out)\n",
    "\n"
   ]
  },
  {
   "cell_type": "code",
   "execution_count": null,
   "metadata": {
    "hide_input": false,
    "slideshow": {
     "slide_type": "slide"
    },
    "tags": [
     "Hide",
     "Init"
    ]
   },
   "outputs": [],
   "source": [
    "widget2 = widgets.RadioButtons(\n",
    "    options = ['Longer Route ($)', 'Shorter Route ($$$)'],\n",
    "    description = 'If we are optimizing for cost, which do we pick?', style={'description_width': 'initial'},\n",
    "    layout = Layout(width='100%',display=\"flex\", justify_content=\"flex-start\"),\n",
    "    value = None\n",
    ")\n",
    "\n",
    "def out2():\n",
    "    print(\"The correct answer is the Longer Route as it's cheaper in this case!\")\n",
    "display(widget2)\n",
    "\n",
    "hourofci.SubmitBtn2(widget2, out2)\n",
    "\n",
    "\n"
   ]
  },
  {
   "cell_type": "code",
   "execution_count": null,
   "metadata": {
    "hide_input": false,
    "slideshow": {
     "slide_type": "slide"
    },
    "tags": [
     "Hide",
     "Init"
    ]
   },
   "outputs": [],
   "source": [
    "%%html\n",
    "<iframe src=\"supplementary/optimum_path.html\", width=550, height=600, allowfullscreen></iframe>\n"
   ]
  },
  {
   "cell_type": "markdown",
   "metadata": {
    "slideshow": {
     "slide_type": "slide"
    }
   },
   "source": [
    "What if we are balancing. what factors?"
   ]
  },
  {
   "cell_type": "code",
   "execution_count": null,
   "metadata": {
    "hide_input": false,
    "slideshow": {
     "slide_type": "-"
    },
    "tags": [
     "Hide",
     "Init"
    ]
   },
   "outputs": [],
   "source": [
    "w = widgets.Textarea(\n",
    "            value='',\n",
    "            placeholder='Write your thoughts here...',\n",
    "            description='',\n",
    "            disabled=False,\n",
    "            layout=Layout( height='100px', min_height='100px', width='500px')\n",
    "            )\n",
    "\n",
    "\n",
    "def out3():\n",
    "    print('Submitted!')\n",
    "    \n",
    "display(w)\n",
    "hourofci.SubmitBtn2(w, out3)"
   ]
  },
  {
   "cell_type": "markdown",
   "metadata": {
    "slideshow": {
     "slide_type": "slide"
    }
   },
   "source": [
    "## Let's Reflect\n",
    "\n",
    "Which of the following things do you think we need to think about?<br>\n",
    "You need to consider many factors before making your decision. <br>\n",
    "Pick the ones that matter to you:\n"
   ]
  },
  {
   "cell_type": "code",
   "execution_count": null,
   "metadata": {
    "hide_input": false,
    "slideshow": {
     "slide_type": "-"
    },
    "tags": [
     "Hide",
     "Init"
    ]
   },
   "outputs": [],
   "source": [
    "check1 = widgets.Checkbox(\n",
    "    value=False,\n",
    "    description='Terrain',\n",
    "    disabled=False\n",
    ")\n",
    "check2 = widgets.Checkbox(\n",
    "    value=False,\n",
    "    description='existing transportation infrastructure',\n",
    "    disabled=False\n",
    ")\n",
    "check3 = widgets.Checkbox(\n",
    "    value=False,\n",
    "    description='cost',\n",
    "    disabled=False\n",
    ")\n",
    "check4 = widgets.Checkbox(\n",
    "    value=False,\n",
    "    description='what is there right now, including housing, businesses, roads, natural resources, communities, etc.',\n",
    "    disabled=False\n",
    ")\n",
    "check5 = widgets.Checkbox(\n",
    "    value=False,\n",
    "    description='distance of the routes',\n",
    "    disabled=False\n",
    ")\n",
    "\n",
    "# Submit button\n",
    "button1 = widgets.Button(\n",
    "    description = 'Submit',\n",
    "    disabled = False,\n",
    "    button_style = '',\n",
    "    icon = 'check'\n",
    ")\n",
    "\n",
    "# Output\n",
    "output1 = widgets.Output()\n",
    "\n",
    "display(check1, check2, check3, check4, check5, button1, output1)\n",
    "\n",
    "# Output function\n",
    "def out(b):\n",
    "    clear_output()\n",
    "    display(check1, check2, check3, check4, check5, button1, output1)\n",
    "    print('Submitted!')\n",
    "\n",
    "# Handle click event\n",
    "button1.on_click(out)"
   ]
  },
  {
   "cell_type": "markdown",
   "metadata": {
    "slideshow": {
     "slide_type": "slide"
    }
   },
   "source": [
    "# What should we consider?\n",
    "Okay,  now ...\n",
    "<center><img width=700 alt=\"Map with start and stop point\" src=\"supplementary/route-map6.png\"></center>"
   ]
  },
  {
   "cell_type": "markdown",
   "metadata": {
    "hide_input": false,
    "slideshow": {
     "slide_type": "slide"
    }
   },
   "source": [
    "\n",
    "\n",
    "<font size=\"+1\"><a style=\"background-color:blue;color:white;padding:12px;margin:10px;font-weight:bold;\" href=\"ct-3.ipynb\">Click here to go to the next notebook.</a></font>"
   ]
  }
 ],
 "metadata": {
  "celltoolbar": "Edit Metadata",
  "kernelspec": {
   "display_name": "Python 3 (ipykernel)",
   "language": "python",
   "name": "python3"
  },
  "language_info": {
   "codemirror_mode": {
    "name": "ipython",
    "version": 3
   },
   "file_extension": ".py",
   "mimetype": "text/x-python",
   "name": "python",
   "nbconvert_exporter": "python",
   "pygments_lexer": "ipython3",
   "version": "3.7.16"
  },
  "rise": {
   "autolaunch": true,
   "overlay": "<div class='hciheader'></div><div class='hcifooter'></div>",
   "scroll": true
  }
 },
 "nbformat": 4,
 "nbformat_minor": 4
}
