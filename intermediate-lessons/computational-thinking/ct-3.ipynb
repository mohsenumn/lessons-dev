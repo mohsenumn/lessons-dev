{
 "cells": [
  {
   "cell_type": "markdown",
   "metadata": {
    "slideshow": {
     "slide_type": "slide"
    }
   },
   "source": [
    "## Computational Thinking\n",
    "\n",
    "### Segment 2 of 5\n",
    "# ..."
   ]
  },
  {
   "cell_type": "markdown",
   "metadata": {
    "slideshow": {
     "slide_type": "slide"
    }
   },
   "source": [
    "## Reminder\n",
    "<a href=\"#/slide-2-0\" class=\"navigate-right\" style=\"background-color:blue;color:white;padding:8px;margin:2px;font-weight:bold;\">Continue with the lesson</a>\n",
    "\n",
    "<br>\n",
    "</br>\n",
    "<font size=\"+1\">\n",
    "\n",
    "By continuing with this lesson you are granting your permission to take part in this research study for the Hour of Cyberinfrastructure: Developing Cyber Literacy for GIScience project. In this study, you will be learning about cyberinfrastructure and related concepts using a web-based platform that will take approximately one hour per lesson. Participation in this study is voluntary.\n",
    "\n",
    "Participants in this research must be 18 years or older. If you are under the age of 18 then please exit this webpage or navigate to another website such as the Hour of Code at https://hourofcode.com, which is designed for K-12 students.\n",
    "\n",
    "If you are not interested in participating please exit the browser or navigate to this website: http://www.umn.edu. Your participation is voluntary and you are free to stop the lesson at any time.\n",
    "\n",
    "For the full description please navigate to this website: <a href=\"../../gateway-lesson/gateway/gateway-1.ipynb\">Gateway Lesson Research Study Permission</a>.\n",
    "\n",
    "</font>"
   ]
  },
  {
   "cell_type": "code",
   "execution_count": 2,
   "metadata": {
    "hide_input": true,
    "init_cell": true,
    "slideshow": {
     "slide_type": "skip"
    },
    "tags": [
     "Hide"
    ]
   },
   "outputs": [
    {
     "data": {
      "text/html": [
       " \n",
       "    <script type=\"text/javascript\" src=\"../../supplementary/js/custom.js\"></script>\n",
       "    \n",
       "    <style>\n",
       "        .output_prompt{opacity:0;}\n",
       "    </style>\n",
       "    \n",
       "    <input id=\"toggle_code\" type=\"button\" value=\"Toggle raw code\">\n"
      ],
      "text/plain": [
       "<IPython.core.display.HTML object>"
      ]
     },
     "execution_count": 2,
     "metadata": {},
     "output_type": "execute_result"
    }
   ],
   "source": [
    "# This code cell starts the necessary setup for Hour of CI lesson notebooks.\n",
    "# First, it enables users to hide and unhide code by producing a 'Toggle raw code' button below.\n",
    "# Second, it imports the hourofci package, which is necessary for lessons and interactive Jupyter Widgets.\n",
    "# Third, it helps hide/control other aspects of Jupyter Notebooks to improve the user experience\n",
    "# This is an initialization cell\n",
    "# It is not displayed because the Slide Type is 'Skip'\n",
    "\n",
    "from IPython.display import HTML, IFrame, Javascript, display\n",
    "from ipywidgets import interactive\n",
    "import ipywidgets as widgets\n",
    "from ipywidgets import Layout\n",
    "\n",
    "import getpass # This library allows us to get the username (User agent string)\n",
    "\n",
    "# import package for hourofci project\n",
    "import sys\n",
    "sys.path.append('../../supplementary') # relative path (may change depending on the location of the lesson notebook)\n",
    "import hourofci\n",
    "\n",
    "\n",
    "# load javascript to initialize/hide cells, get user agent string, and hide output indicator\n",
    "# hide code by introducing a toggle button \"Toggle raw code\"\n",
    "HTML(''' \n",
    "    <script type=\"text/javascript\" src=\\\"../../supplementary/js/custom.js\\\"></script>\n",
    "    \n",
    "    <style>\n",
    "        .output_prompt{opacity:0;}\n",
    "    </style>\n",
    "    \n",
    "    <input id=\"toggle_code\" type=\"button\" value=\"Toggle raw code\">\n",
    "''')"
   ]
  },
  {
   "cell_type": "markdown",
   "metadata": {
    "slideshow": {
     "slide_type": "slide"
    }
   },
   "source": [
    "In the first section, we explored computational thinking by breaking down a project (the freeway) into several steps and balancing decisions based on different factors, such as terrain, water and populations.\n",
    "\n",
    "In Minnesota, we saw an example of a freeway being planned.\n",
    "Where do you think the freeway should go?\n",
    "Here’s the freeway that was constructed:\n"
   ]
  },
  {
   "cell_type": "markdown",
   "metadata": {
    "slideshow": {
     "slide_type": "slide"
    }
   },
   "source": [
    "\n",
    "\n",
    "<table>\n",
    "    <tr style=\"background: #fff; text-align: left; vertical-align:\">\n",
    "        <td style=\"background: #fff; text-align: left; font-size: 23px;\">\n",
    "            The dotted black line shows where the freeway went.<br>\n",
    "What neighborhood was impacted?<br><br>\n",
    "Learn more about the Rondo neighborhood and the freeway construction:<br>\n",
    "            <ul>\n",
    "                <li>\n",
    "            <a href='https://storymaps.arcgis.com/collections/5d7664bd60464a05a0b726c824bbf4cf?item=1'>2892</a>\n",
    "                </li>\n",
    "                <li>\n",
    "            <a href='https://www.mnopedia.org/event/neighborhood-resistance-i-94-1953-1965'>MNOpedia</a>\n",
    "                </li>\n",
    "            </ul>\n",
    "        </td>\n",
    "        <td style=\"width: 60%; background: #fff; text-align: left; vertical-align: top;\"> <img src='supplementary/ortho.png' alt='map'>\n",
    "        </td>\n",
    "    </tr>\n",
    "</table>\n",
    "\n"
   ]
  },
  {
   "cell_type": "markdown",
   "metadata": {
    "slideshow": {
     "slide_type": "slide"
    }
   },
   "source": [
    "Can we relate Computational Thinking to issues of equity?\n"
   ]
  },
  {
   "cell_type": "markdown",
   "metadata": {
    "slideshow": {
     "slide_type": "slide"
    }
   },
   "source": [
    "<img src='supplementary/equity.jpg' alt='equality vs equity'>\n",
    "\n",
    "What does this image show us about equality and equity? <br>\n",
    "<b>Equality</b> is when everyone is treated the same way. <br>\n",
    "<b>Equity</b> means everyone is given what they need to reach success. <br>\n",
    "In the image situation, it is <b>equitable</b> when people are given support according to their needs. It is <b>equal</b> when everyone has access to the same resources.\n",
    "\n",
    "Image courtesy the <a href='https://www.flickr.com/photos/mpcaphotos/31655988501'>Minnesota Pollution Control Agency</a>"
   ]
  },
  {
   "cell_type": "markdown",
   "metadata": {
    "slideshow": {
     "slide_type": "slide"
    }
   },
   "source": [
    "The opposite of <b>equity</b> and <b>equality</b> is <b>inequity</b> and <b>inequality</b>. <br>\n",
    "According to Merriam Webster, “inequity” means injustice or unfairness, or an instance of injustice or unfairness. <br>\n",
    "Inequality is a similar concept, but not quite the same. It means the quality of being unequal or uneven: such as social disparity or unequal opportunity.<br>\n",
    "\n",
    "<b>Inequities</b> cause <b>Inequalities</b>. Inequities are preventable. <br>\n",
    "“Inequity.” Merriam-Webster.com Dictionary, Merriam-Webster, https://www.merriam-webster.com/dictionary/inequity. Accessed 11 Feb. 2023.<br>\n",
    "“Inequality.” Merriam-Webster.com Dictionary, Merriam-Webster, https://www.merriam-webster.com/dictionary/inequality. Accessed 11 Feb. 2023\n"
   ]
  },
  {
   "cell_type": "markdown",
   "metadata": {
    "slideshow": {
     "slide_type": "slide"
    }
   },
   "source": [
    "Why should we care about inequity and inequality? There are many examples of inequity that impact our lives. <br>Which of the following are examples of inequity?<br>\n",
    "<ul>\n",
    "    <li>\n",
    "Some communities have less access to healthcare because of location\n",
    "    </li>\n",
    "    <li>\n",
    "Some people are paid less for the same work because of their gender\n",
    "    </li>\n",
    "    <li>\n",
    "Some schools don’t have computers because the taxbase in their district generates less money \n",
    "    </li>\n",
    "    <li>\n",
    "Some families can’t buy fresh fruits and vegetables because the grocery stores are too far away\n",
    "    </li>\n",
    "    <li>\n",
    "Some workers can’t get a job because they cannot afford a car and there is poor public transportation\n",
    "    </li>\n",
    "    <li>\n",
    "Some students aren’t put in advanced classes because of their race.\n",
    "    </li>\n",
    "</ul>\n",
    "    \n"
   ]
  },
  {
   "cell_type": "markdown",
   "metadata": {
    "slideshow": {
     "slide_type": "slide"
    }
   },
   "source": [
    "All of those are examples of inequity.<br><br>\n",
    "\n",
    "Can you think of other examples of inequity and inequality in your community?\n"
   ]
  },
  {
   "cell_type": "markdown",
   "metadata": {
    "slideshow": {
     "slide_type": "slide"
    }
   },
   "source": [
    "In order to resolve inequities, we need to examine the causes. Let’s try to break down some causes of inequity:<br>\n",
    "Sorting boxes??<br><br>\n",
    "\n",
    "<i>Poverty, employment status, income level, gender and ethnicity, lack of public transport, exposure to violence, unemployment, low educational attainment, inadequate housing, and neighborhood deterioration, a lack of well-paying jobs, immigration status, age, sexual orientation, gender identity</i>\n"
   ]
  },
  {
   "cell_type": "markdown",
   "metadata": {
    "slideshow": {
     "slide_type": "slide"
    }
   },
   "source": [
    "All of these things have been identified as root causes of inequity.<br><br>\n",
    "\n",
    "Like many big problems, if we break it down into smaller pieces, we can see patterns and look for solutions….. Let’s look closer at some examples.\n"
   ]
  },
  {
   "cell_type": "markdown",
   "metadata": {
    "slideshow": {
     "slide_type": "slide"
    }
   },
   "source": [
    "This map helps us visualize inequity in health care. The light colored counties have adequate access to healthcare, while the dark counties do not. What happens if you live in the counties that have fewer primary care providers? People have to travel further and it is harder to find care. This is an example of an inequity.\n",
    "\n",
    "<img src='supplementary/prim_care.png' alt='primary care in rural USA'>\n",
    "\n",
    "Source: https://www.clinicaladvisor.com/home/topics/practice-management-information-center/health-disparities-in-rural-america-current-challenges-and-future-solutions/ \n"
   ]
  },
  {
   "cell_type": "markdown",
   "metadata": {
    "slideshow": {
     "slide_type": "slide"
    }
   },
   "source": [
    "Here’s another example of inequity. This data shows where women are paid less than men. How does that create inequity? \n",
    "You can visit the site to explore this map. https://public.tableau.com/views/GenderPayGapMap_16461609104250/USA_Dashboard?%3AshowVizHome=no\n",
    "\n",
    "<img src='supplementary/gender_pay_gap.png' alt='gender pay gap in USA'>\n",
    "\n"
   ]
  },
  {
   "cell_type": "markdown",
   "metadata": {
    "slideshow": {
     "slide_type": "slide"
    }
   },
   "source": [
    "One more example….\n"
   ]
  },
  {
   "cell_type": "markdown",
   "metadata": {
    "slideshow": {
     "slide_type": "slide"
    }
   },
   "source": [
    "Inequity is very complicated. <br>\n",
    "\n",
    "Let’s look again at the issues we looked at earlier. In order to understand how to address some of the issues, we need to break down the many factors that are part of the problem. <br>\n",
    "We identified many components of the problems of inequity. If we look closely at a few of these, maybe we can see how to look at other problems.<br>\n",
    "<p>\n",
    "<font color='red'><i>Shana to write up: Start looking at Renewing Inequality and write a way to look deeper at that data.\n",
    "<ol>\n",
    "    <li>\n",
    "What do you think Urban Renewal is? What does it sound like it is?\n",
    "    </li>\n",
    "    <li>\n",
    "Think about where you want to put a new freeway (or sports stadium, University buildings, whatever)\n",
    "    </li>\n",
    "    <li>\n",
    "What factors do you have to think about when deciding where to put this thing?\n",
    "    </li>\n",
    "</ol>\n",
    "    </i>\n",
    "    </font>\n",
    "    </p>\n",
    "\n"
   ]
  },
  {
   "cell_type": "markdown",
   "metadata": {
    "slideshow": {
     "slide_type": "slide"
    }
   },
   "source": [
    "\n",
    "\n",
    "<font size=\"+1\"><a style=\"background-color:blue;color:white;padding:12px;margin:10px;font-weight:bold;\" \n",
    "href=\"ct-4.ipynb\">Click here to go to the next notebook.</a></font>"
   ]
  }
 ],
 "metadata": {
  "celltoolbar": "Slideshow",
  "kernelspec": {
   "display_name": "Python 3 (ipykernel)",
   "language": "python",
   "name": "python3"
  },
  "language_info": {
   "codemirror_mode": {
    "name": "ipython",
    "version": 3
   },
   "file_extension": ".py",
   "mimetype": "text/x-python",
   "name": "python",
   "nbconvert_exporter": "python",
   "pygments_lexer": "ipython3",
   "version": "3.9.13"
  },
  "rise": {
   "autolaunch": true,
   "overlay": "<div class='hciheader'></div><div class='hcifooter'></div>",
   "scroll": true
  }
 },
 "nbformat": 4,
 "nbformat_minor": 4
}
