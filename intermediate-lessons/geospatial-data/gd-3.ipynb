{
 "cells": [
  {
   "cell_type": "markdown",
   "id": "1e90c0ae",
   "metadata": {
    "slideshow": {
     "slide_type": "slide"
    },
    "tags": []
   },
   "source": [
    "# Intermediate Lesson on Geospatial Data \n",
    "\n",
    "## Database\n",
    "\n",
    "<strong>Lesson Developers:</strong> Jayakrishnan Ajayakumar\n",
    "\n",
    "#### Segment 2 of 5\n"
   ]
  },
  {
   "cell_type": "code",
   "execution_count": null,
   "id": "30cea5c9",
   "metadata": {
    "hide_input": true,
    "init_cell": true,
    "slideshow": {
     "slide_type": "skip"
    },
    "tags": [
     "Hide"
    ]
   },
   "outputs": [],
   "source": [
    "# This code cell starts the necessary setup for Hour of CI lesson notebooks.\n",
    "# First, it enables users to hide and unhide code by producing a 'Toggle raw code' button below.\n",
    "# Second, it imports the hourofci package, which is necessary for lessons and interactive Jupyter Widgets.\n",
    "# Third, it helps hide/control other aspects of Jupyter Notebooks to improve the user experience\n",
    "# This is an initialization cell\n",
    "# It is not displayed because the Slide Type is 'Skip'\n",
    "\n",
    "from IPython.display import HTML, IFrame, Javascript, display\n",
    "from ipywidgets import interactive\n",
    "import ipywidgets as widgets\n",
    "from ipywidgets import Layout\n",
    "\n",
    "import getpass # This library allows us to get the username (User agent string)\n",
    "\n",
    "# import package for hourofci project\n",
    "import sys\n",
    "sys.path.append('../../supplementary') # relative path (may change depending on the location of the lesson notebook)\n",
    "# sys.path.append('supplementary')\n",
    "import hourofci\n",
    "try:\n",
    "    import os\n",
    "    os.chdir('supplementary')\n",
    "except:\n",
    "    pass\n",
    "\n",
    "# load javascript to initialize/hide cells, get user agent string, and hide output indicator\n",
    "# hide code by introducing a toggle button \"Toggle raw code\"\n",
    "HTML(''' \n",
    "    <script type=\"text/javascript\" src=\\\"../../supplementary/js/custom.js\\\"></script>\n",
    "    \n",
    "    <style>\n",
    "        .output_prompt{opacity:0;}\n",
    "    </style>\n",
    "    \n",
    "    <input id=\"toggle_code\" type=\"button\" value=\"Toggle raw code\">\n",
    "''')"
   ]
  },
  {
   "cell_type": "markdown",
   "id": "63bbde82",
   "metadata": {
    "slideshow": {
     "slide_type": "slide"
    }
   },
   "source": [
    "## What is a database?\n",
    "\n",
    ">A database is an **organized collection of data** stored and retrieved electronically from a computer or server. <br/>\n",
    ">The **databases manage data** to reduce or **eliminate redundancy** so that the data they contain can be **easily searched and retrieved**.\n",
    "\n",
    "<!-- ![databases](supplementary/images/databases.png)  -->\n",
    "<img src = \"supplementary/images/databases.png\" width = \"300px\">\n",
    "\n",
    "\n"
   ]
  },
  {
   "cell_type": "markdown",
   "id": "2664a883",
   "metadata": {
    "slideshow": {
     "slide_type": "slide"
    }
   },
   "source": [
    "Another way to think about a database is through the lens of a computer. A computer is a device that allows you to manipulate data which is commonly in the form of text, numbers, images, and videos. However to do these manipulations the computer needs to *store* the data before it can be referenced or changed. Apart from storing information it needs to also make sure that the right information is provided at the right time. This is where the database truly shines. Not only does it helps to store and update data, but it also helps to retrieve data efficiently and seamlessly. \n",
    "\n",
    "You can consider a database as a **giant filing cabinet**. It can store vast amounts of information that you can easily refer to. Or you can even think of a database as a **phone book**. Phone books are used to organize data (names, addresses, and phone numbers) using a unique identifying characteristic (a person's name) to align data. To find information, you’d search the phone book for this unique identifier. Similarly, a database helps to organize data, and helps in efficient retrieval with the help of unique identifiers (called keys in the database). The difference is that while the phone book is restricted to store only text and numbers, the database can store many more types of data.  \n",
    "<table>\n",
    "  <tc>\n",
    "    <th><img src = \"supplementary/images/file-cabinet.png\" width = \"300px\"></th>\n",
    "  </tc>\n",
    "  <tc>\n",
    "    <td><img src = \"supplementary/images/yellow_pages.jpg\" width = \"300px\"></td>\n",
    "  </tc>\n",
    "</table>"
   ]
  },
  {
   "cell_type": "markdown",
   "id": "5e1e34aa",
   "metadata": {
    "slideshow": {
     "slide_type": "slide"
    }
   },
   "source": [
    "**Do you regularly interact with databases???**\n",
    "\n",
    "If you are using any social media websites like Facebook, Twitter, or Instagram you are knowingly or unknowingly interacting with a database.\n",
    "How do you think Facebook stores your account details or your friend network? All of these data are stored on databases. What about your online banking application? Or your online shopping website? All of these web applications store and retrieve data from databases. \n",
    "\n",
    "Databases power everything from banking software to scientific research to government records, as well as the websites you use every day, like Amazon, YouTube, Netflix, and Wikipedia.\n",
    "\n",
    "**So why are databases so common?**\n",
    "\n",
    "They make accessing information using a computer much easier. "
   ]
  },
  {
   "cell_type": "markdown",
   "id": "66d02c97",
   "metadata": {
    "slideshow": {
     "slide_type": "slide"
    }
   },
   "source": [
    "## Why do you need a database?"
   ]
  },
  {
   "cell_type": "markdown",
   "id": "be8842fe",
   "metadata": {
    "slideshow": {
     "slide_type": "slide"
    }
   },
   "source": [
    "## 1. Databases are **scalable**\n",
    "\n",
    "Database systems are capable of **storing and handling truly massive, complex data sets, or big data**. You might not be handling large amounts of data at first, but a well-designed database can last you for many years as you accumulate more data over time.\n",
    "\n",
    "<img src = \"supplementary/images/scalable.jpg\" width = \"300px\">\n",
    "    "
   ]
  },
  {
   "cell_type": "markdown",
   "id": "85fba54e",
   "metadata": {
    "slideshow": {
     "slide_type": "slide"
    }
   },
   "source": [
    "## 2. Database can handle **multiple users (concurrency)**\n",
    "\n",
    "Databases are designed from the ground up to support **multiple people working together and taking action on a shared set of information**.\n",
    "**Database Management Systems (DBMS)** (which you will see in a later segment) also have built-in mechanisms to ensure that **data stays consistent** even if **multiple people are accessing the same data**. This is a capability that is absent in spreadsheets. \n",
    "\n",
    "<img src = \"supplementary/images/concurrency.jpg\" width = \"300px\">\n",
    "    "
   ]
  },
  {
   "cell_type": "markdown",
   "id": "2c45dd58",
   "metadata": {
    "slideshow": {
     "slide_type": "slide"
    }
   },
   "source": [
    "## 3. Databases are **reliable**\n",
    "Databases have a **defined structure, as well as access controls**, make it much **easier to prevent human error**. Database have built-in checks to prevent data-loss, such as roll-back, to allow data discrepancies to be handled efficiently.\n",
    "\n",
    "<img src = \"supplementary/images/data-integrity.png\" width = \"400px\">"
   ]
  },
  {
   "cell_type": "markdown",
   "id": "fb89c3ac",
   "metadata": {
    "slideshow": {
     "slide_type": "slide"
    }
   },
   "source": [
    "## 4. Databases avoid **redundancy**\n",
    "A **well-designed database** can avoid redundancy by ensuring that **each piece of data only exists in one location at a time**. With a database, you can update information in one place and rest assured that any other places in which that data is referenced will be automatically updated as well.\n",
    "\n",
    "<img src = \"supplementary/images/data_redundancy.jpg\" width = \"400px\">"
   ]
  },
  {
   "cell_type": "markdown",
   "id": "28453487",
   "metadata": {
    "slideshow": {
     "slide_type": "slide"
    }
   },
   "source": [
    "## 5. Databases are self-describing\n",
    "A database system is referred to as **self-describing** because it not only contains the database itself, but also **metadata** which defines and describes the **data and relationships between tables in the database**.\n",
    "<img src = \"supplementary/images/meta_data.png\" width = \"400px\">"
   ]
  },
  {
   "cell_type": "markdown",
   "id": "92be4ca0",
   "metadata": {
    "slideshow": {
     "slide_type": "slide"
    }
   },
   "source": [
    "## Database Management Systems (DBMS)\n",
    "\n",
    ">**Database Management System (DBMS)** is a **software for storing and retrieving users’ data**. It consists of a **group of programs which manipulate the database**. The DBMS accepts the **request for data from an application (or user)** and **instructs the operating system to provide the specific data**. In large systems, a DBMS helps **users and other third-party software** to **store and retrieve data**. You can think of DBMS as an agent in the middle who **understand your request and convert them into a form which the machine can understand and retrieve the required results for the user**.\n",
    "\n",
    "<img src = \"supplementary/images/dbms_new.png\" width = \"400px\">"
   ]
  },
  {
   "cell_type": "markdown",
   "id": "27273f8b",
   "metadata": {
    "slideshow": {
     "slide_type": "slide"
    }
   },
   "source": [
    "## Types of Databases\n",
    "\n",
    "### 1. Relational databases \n",
    "\n",
    "A relational database employs the **relational model, which maintains data in rows and columns to form a database table** (more to come in the next segment). It is one of the most commonly used databases. Examples include MySQL, Oracle, PostgreSQL\n",
    "\n",
    "<img src = \"supplementary/images/relational_database.jpg\" width = \"400px\">"
   ]
  },
  {
   "cell_type": "markdown",
   "id": "dbf0dc78",
   "metadata": {
    "slideshow": {
     "slide_type": "slide"
    }
   },
   "source": [
    "### 2. NoSQL databases\n",
    "\n",
    "A NoSQL database is a **non-relational database that allows storing and managing unstructured and semistructured data**. It is particularly useful for storing **huge volume data**. Examples include MongoDB, CouchDB, and Neo4J\n",
    "\n",
    "![nosql](supplementary/images/NoSQL.jpg)"
   ]
  },
  {
   "cell_type": "markdown",
   "id": "92f3a493",
   "metadata": {
    "slideshow": {
     "slide_type": "slide"
    }
   },
   "source": [
    "### 3. Distributed databases\n",
    "\n",
    "These database systems are **connected via communication links**. These **links make it simpler for end-users to obtain information**. Examples of distributed databases include Apache Cassandra, HBase, and Ignite.\n",
    "\n",
    "<img src = \"supplementary/images/distributed.png\" width = \"400px\">"
   ]
  },
  {
   "cell_type": "markdown",
   "id": "50adeec5",
   "metadata": {
    "slideshow": {
     "slide_type": "slide"
    }
   },
   "source": [
    "### 4. Object-oriented databases \n",
    "\n",
    "The data in an object-oriented database is stored as an **object**. These are similar to **objects in object-oriented programming languages**. Examples of object-oriented databases include IBM Db2 and Versant.\n",
    "\n",
    "![Object-oriented](supplementary/images/object_oriented.png)"
   ]
  },
  {
   "cell_type": "markdown",
   "id": "6c8eb590",
   "metadata": {
    "slideshow": {
     "slide_type": "-"
    }
   },
   "source": [
    "Now we look into Relational Databases in detail"
   ]
  },
  {
   "cell_type": "markdown",
   "id": "e2d4e767",
   "metadata": {
    "slideshow": {
     "slide_type": "slide"
    }
   },
   "source": [
    "## Relational Databases \n",
    "We have already seen the definition for relational databases. To make it more clear, relational databases uses a **structure** that allows us to **identify and access data in relation to another piece of data** in the database. The key here is **relation**. So what is a **relation**"
   ]
  },
  {
   "cell_type": "markdown",
   "id": "a7c2aafe",
   "metadata": {
    "slideshow": {
     "slide_type": "slide"
    }
   },
   "source": [
    "### What are Relations? (aka Tables)\n",
    "The most **fundamental elements in the relational model are relations**, which users and modern RDBMSs recognize as **tables**. \n",
    ">A relation is a **set of tuples, or rows in a table, with each tuple sharing a set of attributes, or columns**.\n",
    "\n",
    "![sample_table](supplementary/images/sample_table.png)\n",
    "\n",
    "Tables can have hundreds, thousands, sometimes even millions of **rows of data**. These rows are often called **records**.\n",
    "\n",
    "Tables can also have many **columns of data**. Each column has a **name** and a data type associated with it (more on this as we progress).\n",
    "\n",
    "In our sample table there are three rows (records) and three columns (Name, Age, and Email).\n",
    "\n",
    "Let's look at some more key definitions"
   ]
  },
  {
   "cell_type": "markdown",
   "id": "10bdc1c0",
   "metadata": {
    "slideshow": {
     "slide_type": "slide"
    }
   },
   "source": [
    "### Primary Key \n",
    "\n",
    "In the relational model, each table contains **at least one column that can be used to uniquely identify each row**, called a **primary key**. In our sample table, which column can be a primary key?? Any guess??\n",
    "\n",
    "We could use email as primary key, but it has its own caveats. A person can have many email addresses. So it might not be a great candidate for a primary key. Your SSN id could be a primary key as its only related to a single person. \n",
    "\n",
    "Primary key can also be autogenerated. An example of this would be your studentid, which most of the time would be a unique number. \n",
    "\n",
    "<img src = \"supplementary/images/pkey1.png\" width = \"500px\">\n",
    "\n",
    "In this example, the Id column will be the primary key for the student table. For the Id 1, there will be one and only one record associated with it. We can't have another record with Id 1 as it will violate the Primary Key assumption (constraint as it's called in database language)."
   ]
  },
  {
   "cell_type": "markdown",
   "id": "347dfac2",
   "metadata": {
    "slideshow": {
     "slide_type": "slide"
    }
   },
   "source": [
    "### Foreign Key\n",
    "If you have **two tables that you’d like to associate with one another** (which is the real strength of relational database), one way you can do so is with a **foreign key**. **A foreign key is essentially a copy of one table’s (the 'parent' table) primary key inserted into a column in another table (the 'child')**.\n",
    "Lets look at a concrete example to make this clear. Let's add a new table Student_Blood_Group which has only two columns Studentid (the id for the student), and the blood group. \n",
    "\n",
    "<img src = \"supplementary/images/fkey.png\" width = \"700px\">\n",
    "\n",
    "In this example the Studentid column can be assigned as a foreign key that refers to the Id column in the Student table (which is the primary key for the table). In this way, both the Student table and the Student_Blood_Group table are related to each other. Once the Foreign key relation is set, you can't have a record in the Student_Blood_Group with a Studentid that's not in Student table"
   ]
  },
  {
   "cell_type": "markdown",
   "id": "3cdd0097",
   "metadata": {
    "slideshow": {
     "slide_type": "slide"
    }
   },
   "source": [
    "## Relationship Types (cardinality)\n",
    "One of the huge advantages of a relational database is that, once you have your data held in clearly defined, compact tables, you can **connect or relate the data held in different tables (using keys)**.\n",
    "\n",
    "There are three types of relationships between the data:\n",
    "<ul>\n",
    "<li>One-to-One</li>\n",
    "<li>One-to-Many</li>\n",
    "<li>Many-to-Many (we won’t cover this in this lesson).</li>\n",
    "</ul>"
   ]
  },
  {
   "cell_type": "markdown",
   "id": "d339cd9b",
   "metadata": {
    "slideshow": {
     "slide_type": "slide"
    }
   },
   "source": [
    "### One-to-One Relationship\n",
    "A **one-to-one (1:1)** relationship means that **each record in Table A relates to one, and only one, record in Table B**, and each record in **Table B relates to one, and only one, record in Table A**.\n",
    "\n",
    "An example for **one to one relationship** is Country and Capital\n",
    "\n",
    "<img src = \"supplementary/images/one-one.png\" width = \"700px\">"
   ]
  },
  {
   "cell_type": "markdown",
   "id": "4751b5e4",
   "metadata": {
    "slideshow": {
     "slide_type": "slide"
    }
   },
   "source": [
    "### One-to-Many Relationship\n",
    "A one-to-many (1:N) relationship means a **record in Table A can relate to zero, one, or many records in Table B**. **Many records in Table B can relate to one record in Table A**. This is a very common relationship type seen in databases. A real world example will be Mother and Child. A mother can relate to zero or many childs, but a child will be related to one and only one mother. Let's see an example of Customer and Orders.\n",
    "\n",
    "<img src = \"supplementary/images/one-many.png\" width = \"500px\">\n"
   ]
  },
  {
   "cell_type": "markdown",
   "id": "0d8dbc6d",
   "metadata": {
    "slideshow": {
     "slide_type": "slide"
    }
   },
   "source": [
    "The relationship between Customer and Orders is one-many as a Customer can be associated with many orders, but an order is associated with one and only one customer.\n",
    "\n",
    "Once the tables are related we can ask questions such as \n",
    "\n",
    "* How many orders did Jay Ajay make?\n",
    "\n",
    "* How many orders are from the state of Ohio?\n",
    "\n",
    "<b>That's the power of relational databases!!</b>"
   ]
  },
  {
   "cell_type": "markdown",
   "id": "90fb6927",
   "metadata": {
    "slideshow": {
     "slide_type": "slide"
    }
   },
   "source": [
    "## Data Types\n",
    "\n",
    "A data type is a **description of the kind of data in a table column**. There are many data types but the most typical ones include `Text`, `Integer`, `Date`, and `Geometry`*.\n",
    " \n",
    "As it's shown below, every column has a data type which specifies the type of its values. \n",
    "<center><img src = \"supplementary/images/data_types.jpg\" width = \"600px\"></center>\n",
    "\n",
    "*`Geometry` is a special data type for spatial databases that was introduced in the Beginner Geospatial Data lesson."
   ]
  },
  {
   "cell_type": "markdown",
   "id": "7cf11341",
   "metadata": {
    "slideshow": {
     "slide_type": "slide"
    }
   },
   "source": [
    "#### For more information about what you have just learned, check out these resources\n",
    "https://blog.airtable.com/what-is-a-database/<br/>\n",
    "https://www.tutorialspoint.com/Why-do-we-need-a-Database<br/>\n",
    "https://edu.gcfglobal.org/en/access2007/why-do-i-need-a-database/1/<br/>\n",
    "https://www.bbc.co.uk/bitesize/guides/z8yg87h/revision/4<br/>\n",
    "https://www.g2.com/articles/what-is-a-database<br/>\n",
    "https://opentextbc.ca/dbdesign01/chapter/chapter-3-characteristics-and-benefits-of-a-database/<br/>"
   ]
  },
  {
   "cell_type": "markdown",
   "id": "0a2317b4",
   "metadata": {},
   "source": [
    "In the next lesson we will look at SQL (Structured Query Language), which is a special language to talk to the database. \n",
    "The link below takes you to the next lesson. \n",
    "\n",
    "<br/>\n",
    "<br/>\n",
    "<font size=\"+1\"><a style=\"background-color:blue;color:white;padding:12px;margin:10px;font-weight:bold;\" href=\"gd-4.ipynb\">Click here to go to the next notebook.</a></font>"
   ]
  }
 ],
 "metadata": {
  "celltoolbar": "Slideshow",
  "kernelspec": {
   "display_name": "Python 3 (ipykernel)",
   "language": "python",
   "name": "python3"
  },
  "language_info": {
   "codemirror_mode": {
    "name": "ipython",
    "version": 3
   },
   "file_extension": ".py",
   "mimetype": "text/x-python",
   "name": "python",
   "nbconvert_exporter": "python",
   "pygments_lexer": "ipython3",
   "version": "3.7.16"
  },
  "rise": {
   "autolaunch": true,
   "overlay": "<div class='hciheader'></div><div class='hcifooter'></div>",
   "scroll": true
  }
 },
 "nbformat": 4,
 "nbformat_minor": 5
}
