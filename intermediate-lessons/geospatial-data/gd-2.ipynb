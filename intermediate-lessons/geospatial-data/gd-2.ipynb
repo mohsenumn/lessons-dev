{
 "cells": [
  {
   "cell_type": "markdown",
   "id": "d82fdfb1",
   "metadata": {
    "slideshow": {
     "slide_type": "slide"
    },
    "tags": []
   },
   "source": [
    "# Intermediate Lesson on Geospatial Data \n",
    "\n",
    "## Data, Information, Knowledge and Wisdom\n",
    "\n",
    "<strong>Lesson Developers:</strong> Jayakrishnan Ajayakumar\n",
    "\n",
    "#### Part 1 of 4"
   ]
  },
  {
   "cell_type": "code",
   "execution_count": null,
   "id": "bba785e3",
   "metadata": {
    "hide_input": false,
    "init_cell": true,
    "slideshow": {
     "slide_type": "skip"
    },
    "tags": [
     "Hide"
    ]
   },
   "outputs": [],
   "source": [
    "# This code cell starts the necessary setup for Hour of CI lesson notebooks.\n",
    "# First, it enables users to hide and unhide code by producing a 'Toggle raw code' button below.\n",
    "# Second, it imports the hourofci package, which is necessary for lessons and interactive Jupyter Widgets.\n",
    "# Third, it helps hide/control other aspects of Jupyter Notebooks to improve the user experience\n",
    "# This is an initialization cell\n",
    "# It is not displayed because the Slide Type is 'Skip'\n",
    "\n",
    "from IPython.display import HTML, IFrame, Javascript, display\n",
    "from ipywidgets import interactive\n",
    "import ipywidgets as widgets\n",
    "from ipywidgets import Layout\n",
    "\n",
    "import getpass # This library allows us to get the username (User agent string)\n",
    "\n",
    "# import package for hourofci project\n",
    "import sys\n",
    "sys.path.append('../../supplementary') # relative path (may change depending on the location of the lesson notebook)\n",
    "# sys.path.append('supplementary')\n",
    "import hourofci\n",
    "try:\n",
    "    import os\n",
    "    os.chdir('supplementary')\n",
    "except:\n",
    "    pass\n",
    "\n",
    "# load javascript to initialize/hide cells, get user agent string, and hide output indicator\n",
    "# hide code by introducing a toggle button \"Toggle raw code\"\n",
    "HTML(''' \n",
    "    <script type=\"text/javascript\" src=\\\"../../supplementary/js/custom.js\\\"></script>\n",
    "    \n",
    "    <style>\n",
    "        .output_prompt{opacity:0;}\n",
    "    </style>\n",
    "    \n",
    "    <input id=\"toggle_code\" type=\"button\" value=\"Toggle raw code\">\n",
    "''')"
   ]
  },
  {
   "cell_type": "markdown",
   "id": "f752df94",
   "metadata": {
    "slideshow": {
     "slide_type": "slide"
    }
   },
   "source": [
    "## Reminder\n",
    "<a href=\"#/slide-2-0\" class=\"navigate-right\" style=\"background-color:blue;color:white;padding:8px;margin:2px;font-weight:bold;\">Continue with the lesson</a>\n",
    "\n",
    "<br>\n",
    "</br>\n",
    "<font size=\"+1\">\n",
    "\n",
    "By continuing with this lesson you are granting your permission to take part in this research study for the Hour of Cyberinfrastructure: Developing Cyber Literacy for GIScience project. In this study, you will be learning about cyberinfrastructure and related concepts using a web-based platform that will take approximately one hour per lesson. Participation in this study is voluntary.\n",
    "\n",
    "Participants in this research must be 18 years or older. If you are under the age of 18 then please exit this webpage or navigate to another website such as the Hour of Code at https://hourofcode.com, which is designed for K-12 students.\n",
    "\n",
    "If you are not interested in participating please exit the browser or navigate to this website: http://www.umn.edu. Your participation is voluntary and you are free to stop the lesson at any time.\n",
    "\n",
    "For the full description please navigate to this website: <a href=\"../../gateway-lesson/gateway/gateway-1.ipynb\">Gateway Lesson Research Study Permission</a>.\n",
    "\n",
    "</font>"
   ]
  },
  {
   "cell_type": "markdown",
   "id": "3772395a",
   "metadata": {
    "slideshow": {
     "slide_type": "slide"
    }
   },
   "source": [
    "## Preface\n",
    "\n",
    "* How do we solve a problem using data? \n",
    "* How do we make sense of data? \n",
    "* Wait, WTH is data at all?!!\n",
    "\n",
    "In this segment we are going to answer these questions and look at the different phases of every data analysis project.   \n",
    "\n",
    "To do that, we will look at four stages of the lifecycle of a project: Data, Information, Knowledge and Wisdom. \n",
    "\n",
    "These four stages build a pyramid that is referred to as **DIKW** or **Knowledge** pyramid. We will talk about it in detail later in this segment! \n",
    "\n",
    "Let's start from **(Geospatial) Data**! "
   ]
  },
  {
   "cell_type": "markdown",
   "id": "988a4fef",
   "metadata": {
    "slideshow": {
     "slide_type": "slide"
    }
   },
   "source": [
    "## Do you believe in Global Warming???\n",
    "What if I ask you this question and throw some numbers at you like below?!\n"
   ]
  },
  {
   "cell_type": "code",
   "execution_count": null,
   "id": "ec76aa52",
   "metadata": {
    "hide_input": true,
    "tags": [
     "Hide",
     "Init"
    ]
   },
   "outputs": [],
   "source": [
    "from ipywidgets import Button, HBox, VBox,widgets,Layout\n",
    "from IPython.display import display\n",
    "import pandas as pd\n",
    "table1 = pd.read_csv('databases/antartica_mass.csv').sample(frac = 1)\n",
    "table1['0'] = pd.to_datetime(table1['0'])\n",
    "table2 = pd.read_csv('databases/global_temperature.csv').sample(frac = 1)\n",
    "table2['0'] = pd.to_datetime(table2['0'],format='%Y')\n",
    "table3 = pd.read_csv('databases/carbon_dioxide.csv').sample(frac = 1)\n",
    "table3['2'] = pd.to_datetime(table3['2'])\n",
    "table1_disp = widgets.Output()\n",
    "table2_disp = widgets.Output()\n",
    "table3_disp = widgets.Output()\n",
    "with table1_disp:\n",
    "    display(table1)\n",
    "with table2_disp:\n",
    "    display(table2)\n",
    "with table3_disp:\n",
    "    display(table3)\n",
    "out=HBox([VBox([table1_disp],layout = Layout(margin='0 100px 0 0')),VBox([table2_disp],layout = Layout(margin='0 100px 0 0')),VBox([table3_disp])])\n",
    "out"
   ]
  },
  {
   "cell_type": "markdown",
   "id": "d6a89075",
   "metadata": {
    "slideshow": {
     "slide_type": "slide"
    }
   },
   "source": [
    "These are just symbols and numbers (of course we can identify the date as we have seen that pattern before) and doesn't convey anything.\n",
    "\n",
    "This is what we essentially call **Data (or raw Data)**."
   ]
  },
  {
   "cell_type": "markdown",
   "id": "27f07707",
   "metadata": {
    "slideshow": {
     "slide_type": "slide"
    }
   },
   "source": [
    "## What is Data?\n",
    "\n",
    ">**Data is a collection of facts** in a **raw or unorganized form** such as **numbers or characters**.\n",
    "Without **context** data has no value!!\n",
    "\n",
    "Now what if we are provided with the **information** about:\n",
    "<ul>\n",
    "    <li><b>what</b> these symbols represent?</li>\n",
    "    <li><b>who</b> collected the data?</li>\n",
    "    <li><b>where</b> is this data collected from?</li> \n",
    "    <li><b>when</b> was the data collected?</li>\n",
    "</ul>\n"
   ]
  },
  {
   "cell_type": "markdown",
   "id": "81052af3",
   "metadata": {
    "slideshow": {
     "slide_type": "slide"
    }
   },
   "source": [
    "## What is Information (Data+Context)?\n",
    "\n",
    ">**Information** is a **collection of data** that is **arranged and ordered in a consistent way**. Data in the form of information becomes **more useful because storage and retrieval are easy**.\n",
    "\n",
    "For our sample datasets, what if we know about the **\"what, who, where, and when\"** questions. \n",
    "\n",
    "We are provided with the information that these datasets represent:\n",
    "<ul>\n",
    "    <li>the change in Antarctic Ice mass in giga tonnes,</li>\n",
    "    <li>the temperature anomaly across the globe in celsius, and</li>\n",
    "    <li>the carbon dioxide content in the atmosphere as parts per million.</li>\n",
    "</ul>\n",
    "    \n",
    "Now we can try to deduce patterns from the data. Let's see some data in the next slide."
   ]
  },
  {
   "cell_type": "code",
   "execution_count": null,
   "id": "8bdc6175",
   "metadata": {
    "hide_input": true,
    "slideshow": {
     "slide_type": "slide"
    },
    "tags": [
     "Hide",
     "Init"
    ]
   },
   "outputs": [],
   "source": [
    "table1.columns = [\"Time\", \"Antartic_Mass(Gt)\"]\n",
    "table2.columns = [\"Time\", \"Temperature_Anomaly(C)\"]\n",
    "table3.columns = [\"Time\", \"Carbon_Dioxide(PPM)\"]\n",
    "table1_disp = widgets.Output()\n",
    "table2_disp = widgets.Output()\n",
    "table3_disp = widgets.Output()\n",
    "with table1_disp:\n",
    "    display(table1)\n",
    "with table2_disp:\n",
    "    display(table2)\n",
    "with table3_disp:\n",
    "    display(table3)\n",
    "out=HBox([VBox([table1_disp],layout = Layout(margin='0 100px 0 0')),VBox([table2_disp],layout = Layout(margin='0 100px 0 0')),VBox([table3_disp])])\n",
    "out"
   ]
  },
  {
   "cell_type": "markdown",
   "id": "039c3d80",
   "metadata": {
    "slideshow": {
     "slide_type": "slide"
    }
   },
   "source": [
    "We can do more **processing** on the data and can convert it into structured forms. For example we can **sort** these datasets to look for temporal changes. The tables below are sorted by time:"
   ]
  },
  {
   "cell_type": "code",
   "execution_count": null,
   "id": "02bd66a8",
   "metadata": {
    "hide_input": true,
    "tags": [
     "Hide",
     "Init"
    ]
   },
   "outputs": [],
   "source": [
    "table1_disp = widgets.Output()\n",
    "table2_disp = widgets.Output()\n",
    "table3_disp = widgets.Output()\n",
    "with table1_disp:\n",
    "    display(table1.sort_values(by='Time'))\n",
    "with table2_disp:\n",
    "    display(table2.sort_values(by='Time'))\n",
    "with table3_disp:\n",
    "    display(table3.sort_values(by='Time'))\n",
    "out=HBox([VBox([table1_disp],layout = Layout(margin='0 100px 0 0')),VBox([table2_disp],layout = Layout(margin='0 100px 0 0')),VBox([table3_disp])])\n",
    "out"
   ]
  },
  {
   "cell_type": "markdown",
   "id": "25772441",
   "metadata": {
    "slideshow": {
     "slide_type": "slide"
    }
   },
   "source": [
    "After sorting we can see that, with Time, there is a depletion in Antarctic mass and increase in temperature anomaly as well as carbon dioxide content in the atmosphere.\n",
    "\n",
    "We can also **visualize** these datasets (as a picture is worth 1000 words!!) to bolster our arguments"
   ]
  },
  {
   "cell_type": "code",
   "execution_count": null,
   "id": "97986090",
   "metadata": {
    "hide_input": true,
    "tags": [
     "Hide",
     "Init"
    ]
   },
   "outputs": [],
   "source": [
    "import matplotlib.pyplot as plt\n",
    "fig, axes = plt.subplots(1,3)\n",
    "fig.set_figheight(8)\n",
    "fig.set_figwidth(20)\n",
    "table1.sort_values(by='Time').plot(x='Time',y='Antartic_Mass(Gt)',ax=axes[0]);\n",
    "table2.sort_values(by='Time').plot(x='Time',y='Temperature_Anomaly(C)',ax=axes[1]);\n",
    "table3.sort_values(by='Time').plot(x='Time',y='Carbon_Dioxide(PPM)',ax=axes[2]);\n",
    "plt.show()"
   ]
  },
  {
   "cell_type": "markdown",
   "id": "3358412d",
   "metadata": {
    "slideshow": {
     "slide_type": "slide"
    }
   },
   "source": [
    "By asking relevant questions about ‘who’, ‘what’, ‘when’, ‘where’, etc., we can derive valuable information from the data and make it more useful for us."
   ]
  },
  {
   "cell_type": "markdown",
   "id": "8f2fc60e",
   "metadata": {
    "slideshow": {
     "slide_type": "slide"
    }
   },
   "source": [
    "## What is Knowledge? (Patterns from Information)\n",
    ">**Knowledge** is the **appropriate organization of information**, such that its **intent is to be useful**.\n",
    "\n",
    "Knowledge deals with the question of **\"How\"**.\n",
    "<ul>\n",
    "    <li> <b> \"How\" </b> is the information, derived from the collected data, relevant to our goals? </li>\n",
    "    <li> <b> \"How\" </b> are the pieces of this information connected to other pieces to add more meaning and value? </li>\n",
    "</ul>\n",
    "\n",
    "How do we find this connection between our pieces of information? \n",
    "\n",
    "For example now we have the information that with time there is a decrease in Antarctic Ice mass and a corresponding increase in Temperature Anomaly and Carbon Dioxide content in the atmosphere. Can we prove that there is a relationship? This is where the simulation and model building skills come into play. Machine Learning is used to answer such questions from large sets of data.\n"
   ]
  },
  {
   "cell_type": "markdown",
   "id": "38d1dffe",
   "metadata": {
    "slideshow": {
     "slide_type": "slide"
    }
   },
   "source": [
    "## What is Wisdom? (Acting on Knowledge)\n",
    ">**Wisdom** is the **ability to select the best way to reach the desired outcome based on knowledge**. \n",
    "\n",
    "Wisdom is a very subjective concept. In our example, we now have the knowledge (from developing climatic models) that increases in atmospheric carbon dioxide are responsible for about two-thirds of the total energy imbalance that is causing earth's temperature to rise. We also know that rise in temperature leads to melting of ice mass which is a big threat to earth's biodiversity. So what are we going to do about that? What is the best way to do it? \n",
    "\n",
    "Wisdom is acting upon this knowledge regarding carbon emissions and finding ways to reduce it.\n"
   ]
  },
  {
   "cell_type": "markdown",
   "id": "e730a692",
   "metadata": {
    "slideshow": {
     "slide_type": "slide"
    }
   },
   "source": [
    "## The DIKW pyramid\n",
    "We can essentially represent these concepts in a Pyramid with Data at the bottom and Wisdom at the top.  \n",
    "![DIKW](supplementary/images/dikw.png) \n",
    "\n",
    "You can find more about it in <a href=\"https://journals.sagepub.com/doi/pdf/10.1177/0165551508094050\">this</a> article. \n",
    "\n",
    "Reference: *Frické, M. (2009). The knowledge pyramid: a critique of the DIKW hierarchy. Journal of information science, 35(2), 131-142.*"
   ]
  },
  {
   "cell_type": "markdown",
   "id": "f015f3de",
   "metadata": {
    "slideshow": {
     "slide_type": "slide"
    },
    "tags": []
   },
   "source": [
    "\n",
    "**Databases** allow us to manage, organize, explore, and process raw data to build knowledge and obtain wisdom. \n",
    "\n",
    "Let's explore them in the next notebook!\n"
   ]
  },
  {
   "cell_type": "markdown",
   "id": "c46e202f",
   "metadata": {},
   "source": [
    "\n",
    "#### For more information about what you have just learned, check out these resources\n",
    "https://www.ontotext.com/knowledgehub/fundamentals/dikw-pyramid/<br/>\n",
    "https://www.systems-thinking.org/dikw/dikw.htm<br/>\n",
    "https://www.csestack.org/dikw-pyramid-model-difference-between-data-information/<br/>\n",
    "https://developer.ibm.com/articles/ba-data-becomes-knowledge-1/<br/>\n",
    "https://www.certguidance.com/explaining-dikw-hierarchy/<br/>\n",
    "https://www.spreadingscience.com/our-approach/diffusion-of-innovations-in-a-community/1-the-dikw-model-of-innovation/<br/>\n",
    "https://climate.nasa.gov/vital-signs/ice-sheets/<br/>\n",
    "https://climate.nasa.gov/vital-signs/global-temperature/<br/>\n",
    "https://climate.nasa.gov/vital-signs/carbon-dioxide/<br/>\n",
    "\n",
    "<br>\n",
    "\n",
    "<font size=\"+1\"><a style=\"background-color:blue;color:white;padding:12px;margin:10px;font-weight:bold;\" href=\"gd-3.ipynb\">Click here to go to the next notebook.</a></font>"
   ]
  }
 ],
 "metadata": {
  "celltoolbar": "Edit Metadata",
  "kernelspec": {
   "display_name": "Python 3",
   "language": "python",
   "name": "python3"
  },
  "language_info": {
   "codemirror_mode": {
    "name": "ipython",
    "version": 3
   },
   "file_extension": ".py",
   "mimetype": "text/x-python",
   "name": "python",
   "nbconvert_exporter": "python",
   "pygments_lexer": "ipython3",
   "version": "3.8.1"
  },
  "rise": {
   "autolaunch": true,
   "overlay": "<div class='hciheader'></div><div class='hcifooter'></div>",
   "scroll": true
  }
 },
 "nbformat": 4,
 "nbformat_minor": 5
}
