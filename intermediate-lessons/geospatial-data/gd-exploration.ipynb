{
 "cells": [
  {
   "cell_type": "markdown",
   "id": "f0562501",
   "metadata": {
    "slideshow": {
     "slide_type": "slide"
    }
   },
   "source": [
    "# Intermediate Lesson on Geospatial Data \n",
    "\n",
    "### Exploration\n",
    "\n",
    "#### Segment 5 of 5\n",
    "\n",
    "## Spatial Functions\n"
   ]
  },
  {
   "cell_type": "code",
   "execution_count": null,
   "id": "3e26f4b4",
   "metadata": {
    "hide_input": false,
    "init_cell": true,
    "slideshow": {
     "slide_type": "skip"
    },
    "tags": [
     "Hide"
    ]
   },
   "outputs": [],
   "source": [
    "# This code cell starts the necessary setup for Hour of CI lesson notebooks.\n",
    "# First, it enables users to hide and unhide code by producing a 'Toggle raw code' button below.\n",
    "# Second, it imports the hourofci package, which is necessary for lessons and interactive Jupyter Widgets.\n",
    "# Third, it helps hide/control other aspects of Jupyter Notebooks to improve the user experience\n",
    "# This is an initialization cell\n",
    "# It is not displayed because the Slide Type is 'Skip'\n",
    "\n",
    "from IPython.display import HTML, IFrame, Javascript, display, clear_output\n",
    "from ipywidgets import interactive, Textarea, HBox, Button, Layout\n",
    "import ipywidgets as widgets\n",
    "import sqlite3\n",
    "import spatialite\n",
    "import pandas as pd\n",
    "import geopandas as gpd\n",
    "\n",
    "import getpass # This library allows us to get the username (User agent string)\n",
    "\n",
    "# import package for hourofci project\n",
    "import sys\n",
    "sys.path.append('../../supplementary') # relative path (may change depending on the location of the lesson notebook)\n",
    "# sys.path.append('supplementary')\n",
    "import hourofci\n",
    "try:\n",
    "    import os\n",
    "    os.chdir('supplementary')\n",
    "except:\n",
    "    pass\n",
    "\n",
    "# load javascript to initialize/hide cells, get user agent string, and hide output indicator\n",
    "# hide code by introducing a toggle button \"Toggle raw code\"\n",
    "HTML(''' \n",
    "    <script type=\"text/javascript\" src=\\\"../../supplementary/js/custom.js\\\"></script>\n",
    "    \n",
    "    <style>\n",
    "        .output_prompt{opacity:0;}\n",
    "    </style>\n",
    "    \n",
    "    <input id=\"toggle_code\" type=\"button\" value=\"Toggle raw code\">\n",
    "''')"
   ]
  },
  {
   "cell_type": "markdown",
   "id": "4986c50b",
   "metadata": {},
   "source": [
    "In this exploration segment, in addition to our `us_states` table we will use the following tables to make demo problems:\n",
    "<ol>\n",
    "    <li>nyc_neighborhoods</li>\n",
    "    <li>nyc_subway_lines</li>\n",
    "    <li>nyc_substations</li>\n",
    "    <li>nyc_homicides</li>\n",
    "    <li>hospitals</li>\n",
    "</ol>\n",
    "    \n",
    "All the tables starting with `nyc_` have been downloaded from the official PostGIS workshop that is an open source project licensed under <a href= \"https://creativecommons.org/licenses/by-sa/3.0/us/\">Creative Commons</a>. You can find the details in their source page <a href= \"https://postgis.net/workshops/postgis-intro/about_data.html\">here</a>. \n",
    "\n",
    "The `hospitals` table was downloaded from <a href=\"https://www.openstreetmap.org\">OpenStreetMap</a> (OSM). OpenStreetMap data is licensed under the <a href=\"http://opendatacommons.org/licenses/odbl/\">Open Database License</a>.\n",
    "\n",
    "Below, you can see the first 5 row of each of these tables by changing the table name in the `FROM` clause:"
   ]
  },
  {
   "cell_type": "code",
   "execution_count": null,
   "id": "aaa703cd",
   "metadata": {
    "hide_input": false,
    "slideshow": {
     "scrolled": true
    },
    "tags": [
     "Hide",
     "Init"
    ]
   },
   "outputs": [],
   "source": [
    "val00 = \"\"\"SELECT *\n",
    "FROM nyc_neighborhoods \n",
    "LIMIT 5\n",
    "\"\"\"\n",
    "inp00 = Textarea(description='<b>Query:</b>', value=val00, layout=Layout(width='40%', height='120px'))\n",
    "button00 = Button(description=\"Execute!\")\n",
    "Box00 = HBox([inp00, button00])\n",
    "\n",
    "def execute_query00(b):\n",
    "    clear_output()\n",
    "    button00.on_click(execute_query00)\n",
    "    display(Box00)\n",
    "    print('Please wait...')\n",
    "    table100 = pd.read_sql_query(inp00.value,db)\n",
    "    clear_output()\n",
    "    button00.on_click(execute_query00)\n",
    "    display(Box00)\n",
    "    return display(table100)\n",
    "\n",
    "button00.on_click(execute_query00)\n",
    "display(Box00)"
   ]
  },
  {
   "cell_type": "markdown",
   "id": "bd6d7191",
   "metadata": {
    "slideshow": {
     "slide_type": "slide"
    }
   },
   "source": [
    "### Intersection Query"
   ]
  },
  {
   "cell_type": "markdown",
   "id": "a86a6bfc",
   "metadata": {
    "slideshow": {
     "slide_type": "slide"
    }
   },
   "source": [
    "### Intersects\n",
    "\n",
    "A real world example of `st_intersects()` would be to identify the houses that fall within a hazard zone. We would not only want the houses that fall in the hazard zone but also those that have some portion of it inside.\n",
    "\n",
    "<img src = \"supplementary/images/hazard_zones.png\" width = \"400px\">\n",
    "\n",
    "Let's look at an interactive example.  "
   ]
  },
  {
   "cell_type": "markdown",
   "id": "b6eab2e9",
   "metadata": {
    "slideshow": {
     "slide_type": "slide"
    }
   },
   "source": [
    "In this example, we will use the `us_states` table that contains the state polygons of the contiguous US to illustrate the application of **intersects()** function.\n",
    "\n",
    "By running the following code, you can use either the line or the rectangle drawer tool (on the left vertical bar) to draw your own geometry and highlight the states that your geometry intersects. \n"
   ]
  },
  {
   "cell_type": "code",
   "execution_count": null,
   "id": "8aa59815",
   "metadata": {},
   "outputs": [],
   "source": [
    "from ipyleaflet import Map,DrawControl,GeoJSON,LayerGroup\n",
    "import geojson\n",
    "import json\n",
    "from shapely.geometry import shape\n",
    "import geopandas as gpd\n",
    "import numpy as np\n",
    "import time\n",
    "import spatialite\n",
    "matching=[]\n",
    "def handle_draw(target, action, geo_json):\n",
    "    global matching\n",
    "    draw_group.clear_layers()\n",
    "    geo_dat = GeoJSON(data = geo_json)\n",
    "    draw_group.add_layer(geo_dat)\n",
    "    dc.clear()\n",
    "    g1 = geojson.loads(json.dumps(geo_json['geometry']))\n",
    "    g2 = shape(g1)\n",
    "    sql = f\"SELECT stusps from us_states u where st_intersects(u.geom,ST_TRANSFORM(ST_GeomFromText('{g2.wkt}',4326),4269))\"\n",
    "    pdf = pd.read_sql_query(sql, db)\n",
    "    matching = pdf.values\n",
    "    for layer in stateGroup.layers:\n",
    "        layer.style={'weight':2+np.random.random_sample()}\n",
    "    \n",
    "def styleChange(feature):\n",
    "    props=feature['properties']\n",
    "    if props['stusps'] in matching:\n",
    "        return {'opacity': 1, 'fillOpacity': 0, 'weight': 1,'color':'green'}\n",
    "    else:\n",
    "        return {'opacity': 0.3, 'fillOpacity': 0, 'weight': 1,'color':'red'}\n",
    "\n",
    "sMap= Map(center=(44.967243, -103.771556), zoom=8,prefer_canvas =True)\n",
    "sMap.fit_bounds(((24.1, -126.1), (49.9, -64.4)))\n",
    "dc = DrawControl(\n",
    "    marker={},\n",
    "    rectangle={\"shapeOptions\": {\"color\": \"#0000FF\",'fillOpacity':0}},\n",
    "    circle={},\n",
    "    circlemarker={},\n",
    "    polygon={}\n",
    ")\n",
    "dc.on_draw(handle_draw)\n",
    "sMap.add_control(dc)\n",
    "draw_group = LayerGroup()\n",
    "sMap.add_layer(draw_group)\n",
    "stateGroup = LayerGroup()\n",
    "sMap.add_layer(stateGroup)\n",
    "db = spatialite.connect('databases/spatialDB.sqlite')\n",
    "stateGeomSql = f\"SELECT stusps,ST_AsBinary(geom) as geom FROM us_states;\"\n",
    "gdf = gpd.GeoDataFrame.from_postgis(stateGeomSql, db,crs = 'EPSG:4269')\n",
    "sMap.zoom = 6\n",
    "geo_data = GeoJSON(data = json.loads(gdf.to_crs('EPSG:4269').to_json()),style={'opacity': 0.3, 'fillOpacity': 0, 'weight': 1,'color':'red'},style_callback=styleChange)\n",
    "stateGroup.add_layer(geo_data)\n",
    "\n",
    "sMap"
   ]
  },
  {
   "cell_type": "markdown",
   "id": "6721e444",
   "metadata": {
    "slideshow": {
     "slide_type": "slide"
    }
   },
   "source": [
    "### Intersection\n",
    "\n",
    "Now we will look at a concrete example of using st_intersection\n",
    "\n",
    "**Query: What is the total length of subway lines in each NYC neighborhood?**\n",
    "\n",
    "<img src = \"supplementary/images/intersection_example.png\" width = \"400px\">"
   ]
  },
  {
   "cell_type": "markdown",
   "id": "48ed33e5",
   "metadata": {
    "slideshow": {
     "slide_type": "slide"
    }
   },
   "source": [
    "To make this query, we will need one more function named **st_length(geometry)** for calculating the length of a geometry. \n",
    "\n",
    "Run the following code to see the tables involved in this query:"
   ]
  },
  {
   "cell_type": "code",
   "execution_count": null,
   "id": "fc8001f4",
   "metadata": {},
   "outputs": [],
   "source": [
    "from ipywidgets import HBox, VBox,widgets,Layout,HTML\n",
    "from IPython.display import display\n",
    "db = spatialite.connect('databases/spatialDB.sqlite')\n",
    "table1 = pd.read_sql_query('select boroname,name,geom as geometry from nyc_neighborhoods limit 5',db)\n",
    "table2 = pd.read_sql_query('select pk_uid,geometry from nyc_subway_lines limit 5',db)\n",
    "table1_disp = widgets.Output()\n",
    "table2_disp = widgets.Output()\n",
    "table1_header = widgets.HTML(value = f\"<b><font color='red'><center>NYC_NEIGHBORHOODS</center></b>\")\n",
    "table2_header = widgets.HTML(value = f\"<b><font color='red'><center>NYC_SUBWAY_LINES</center></b>\")\n",
    "with table1_disp:\n",
    "    display(table1)\n",
    "with table2_disp:\n",
    "    display(table2)\n",
    "out=HBox([VBox([table1_header,table1_disp],layout = Layout(margin='0 100px 0 0')),VBox([table2_header,table2_disp])])\n",
    "out"
   ]
  },
  {
   "cell_type": "markdown",
   "id": "a4d84cd6",
   "metadata": {
    "slideshow": {
     "slide_type": "slide"
    }
   },
   "source": [
    "And here is the query:\n",
    "\n",
    "```sql\n",
    "SELECT u.boroname,sum(ST_Length(st_intersection(u.geom,s.geometry))) as total_length \n",
    "from nyc_neighborhoods u,nyc_subway_lines s\n",
    "where st_intersects(u.geom,s.geometry) \n",
    "group by u.boroname\n",
    "```\n",
    "Challenge: can you dismantle this query yourself?\n",
    "\n",
    "Click *Execute!* to run this query!"
   ]
  },
  {
   "cell_type": "code",
   "execution_count": null,
   "id": "7ea4cb50",
   "metadata": {
    "hide_input": false,
    "slideshow": {
     "scrolled": true
    },
    "tags": [
     "Hide",
     "Init"
    ]
   },
   "outputs": [],
   "source": [
    "valz2 = \"\"\"\n",
    "SELECT u.boroname,sum(ST_Length(st_intersection(u.geom,s.geometry))) as total_length \n",
    "from nyc_neighborhoods u,nyc_subway_lines s\n",
    "where st_intersects(u.geom,s.geometry) \n",
    "group by u.boroname\n",
    "\"\"\"\n",
    "inp72 = Textarea(description='<b>Query:</b>', value=valz2, layout=Layout(width='40%', height='120px'))\n",
    "button72 = Button(description=\"Execute!\")\n",
    "Box72 = HBox([inp72, button72])\n",
    "\n",
    "def execute_query72(b):\n",
    "    clear_output()\n",
    "    button72.on_click(execute_query72)\n",
    "    display(Box72)\n",
    "    print('Please wait...')\n",
    "    table172 = pd.read_sql_query(inp72.value,db)\n",
    "    clear_output()\n",
    "    button72.on_click(execute_query72)\n",
    "    display(Box72)\n",
    "    return display(table172)\n",
    "\n",
    "button72.on_click(execute_query72)\n",
    "display(Box72)\n",
    "\n",
    "\n"
   ]
  },
  {
   "cell_type": "markdown",
   "id": "7e19ce3f",
   "metadata": {
    "slideshow": {
     "slide_type": "slide"
    }
   },
   "source": [
    "### A Spatial Analysis Example!\n",
    "Now that you are familiar with spatial functions like `st_buffer()` and `st_contain()` it's time to make an actual spatial analysis! \n",
    "\n",
    "#### Query: How many homicides are recorded within 1000 meters radius of the NYC substations?\n",
    "\n",
    "To make such query, we need the following tables:\n"
   ]
  },
  {
   "cell_type": "code",
   "execution_count": null,
   "id": "a7b4eee3",
   "metadata": {
    "hide_input": true,
    "slideshow": {
     "slide_type": "-"
    },
    "tags": [
     "Hide",
     "Init"
    ]
   },
   "outputs": [],
   "source": [
    "from ipywidgets import HBox, VBox,widgets,Layout,HTML\n",
    "from IPython.display import display\n",
    "db = spatialite.connect('databases/spatialDB.sqlite')\n",
    "table1 = pd.read_sql_query('select pk_uid,name,geom as geometry from nyc_substations limit 5',db)\n",
    "table2 = pd.read_sql_query('select pk_uid,weapon,year,geom as geometry from nyc_homicides limit 5',db)\n",
    "table1_disp = widgets.Output()\n",
    "table2_disp = widgets.Output()\n",
    "table1_header = widgets.HTML(value = f\"<b><font color='red'><center>NYC_SUBSTATIONS</center></b>\")\n",
    "table2_header = widgets.HTML(value = f\"<b><font color='red'><center>NYC_HOMICIDES</center></b>\")\n",
    "with table1_disp:\n",
    "    display(table1)\n",
    "with table2_disp:\n",
    "    display(table2)\n",
    "out=HBox([VBox([table1_header,table1_disp],layout = Layout(margin='0 100px 0 0')),VBox([table2_header,table2_disp])])\n",
    "out"
   ]
  },
  {
   "cell_type": "markdown",
   "id": "292dec94",
   "metadata": {
    "slideshow": {
     "slide_type": "slide"
    }
   },
   "source": [
    "And the query is \n",
    "\n",
    "```sql\n",
    "SELECT u.name,count(*) as total_homicides \n",
    "FROM nyc_substations u,\n",
    "nyc_homicides s \n",
    "WHERE st_contains(st_buffer(st_transform(u.geom, 3857),1000),st_transform(s.geom,3857)) \n",
    "GROUP BY u.name\n",
    "```\n",
    "\n",
    "Run this query below!"
   ]
  },
  {
   "cell_type": "code",
   "execution_count": null,
   "id": "d2898623",
   "metadata": {
    "hide_input": false,
    "slideshow": {
     "scrolled": true
    },
    "tags": [
     "Hide",
     "Init"
    ]
   },
   "outputs": [],
   "source": [
    "valz3 = \"\"\"\n",
    "SELECT u.name,count(*) as total_homicides \n",
    "FROM nyc_substations u,\n",
    "nyc_homicides s \n",
    "WHERE st_contains(st_buffer(st_transform(u.geom, 3857),1000),st_transform(s.geom,3857)) \n",
    "GROUP BY u.name\n",
    "\"\"\"\n",
    "inp73 = Textarea(description='<b>Query:</b>', value=valz3, layout=Layout(width='40%', height='120px'))\n",
    "button73 = Button(description=\"Execute!\")\n",
    "Box73 = HBox([inp73, button73])\n",
    "\n",
    "def execute_query73(b):\n",
    "    clear_output()\n",
    "    button73.on_click(execute_query73)\n",
    "    display(Box73)\n",
    "    print('Please wait, this will take a little longer...')\n",
    "    table173 = pd.read_sql_query(inp73.value,db)\n",
    "    clear_output()\n",
    "    button73.on_click(execute_query73)\n",
    "    display(Box73)\n",
    "    return display(table173)\n",
    "\n",
    "button73.on_click(execute_query73)\n",
    "display(Box73)\n",
    "\n"
   ]
  },
  {
   "cell_type": "markdown",
   "id": "a57d9740",
   "metadata": {
    "slideshow": {
     "slide_type": "slide"
    }
   },
   "source": [
    "### A Cool Example: An Interactive Hospital Finder Tool\n",
    "\n",
    "**The following map allows you to know how many hospitals are there within a specific distance of where you select.**\n",
    "\n",
    "After running the code below, double click anywhere on the map to select a location and see the hospitals within the disstance set by the slider (default is 3000 meter). You can change the slider to change the buffer value."
   ]
  },
  {
   "cell_type": "code",
   "execution_count": null,
   "id": "40f20988",
   "metadata": {},
   "outputs": [],
   "source": [
    "from ipyleaflet import Map, DrawControl,GeoData,LayerGroup,Polygon,GeoJSON,Marker\n",
    "from ipywidgets import Button, HBox, VBox,widgets,Layout,GridspecLayout,IntSlider,HTML\n",
    "from IPython.display import display\n",
    "import spatialite\n",
    "import pandas as pd\n",
    "import geopandas as gpd\n",
    "import json\n",
    "import time\n",
    "db = spatialite.connect('databases/spatialDB.sqlite')\n",
    "coords=None\n",
    "\n",
    "def handle_click(**kwargs):\n",
    "    global coords\n",
    "    if kwargs.get('type') == 'dblclick':\n",
    "        layer_group.clear_layers()\n",
    "        coords = kwargs.get('coordinates')\n",
    "        layer_group.add_layer(Marker(location=coords))\n",
    "        findHospitals()\n",
    "        \n",
    "def findHospitals():\n",
    "    global coords\n",
    "    if coords is not None:\n",
    "        stateGeomSql = f\"\"\"SELECT st_asbinary(u.geom) as geom from hospitals u\n",
    " where st_contains(st_buffer(st_transform(MakePoint({coords[1]},{coords[0]},4326),3857),{radiusSlider.value}),\n",
    " st_transform(u.geom,3857))\"\"\"\n",
    "        gdf = gpd.GeoDataFrame.from_postgis(stateGeomSql, db)\n",
    "        if len(gdf)!=0:\n",
    "            \n",
    "            geo_data = GeoData(geo_dataframe = gdf,\n",
    "                style={'color': 'black', 'radius':8, 'fillColor': '#3366cc', 'opacity':0.5, 'weight':1.9, 'dashArray':'2', 'fillOpacity':0.6},\n",
    "                hover_style={'fillColor': 'red' , 'fillOpacity': 0.2},\n",
    "                point_style={'radius': 5, 'color': 'red', 'fillOpacity': 0.8, 'fillColor': 'blue', 'weight': 3},\n",
    "                name = 'Release')\n",
    "            layer_group.add_layer(geo_data)\n",
    "            center = [gdf.centroid.y.values[0],gdf.centroid.x.values[0]]\n",
    "            sMap.center = center\n",
    "            sMap.zoom = 12\n",
    "\n",
    "def radiusChanged(slider):\n",
    "    findHospitals()\n",
    "        \n",
    "sMap= Map(center=(41.482222, -81.669722), zoom=15,prefer_canvas =True)\n",
    "\n",
    "radiusSlider = widgets.IntSlider(\n",
    "    value=3000,\n",
    "    min=0,\n",
    "    max=100000,\n",
    "    step=500,\n",
    "    description='Radius:',\n",
    "    disabled=False,\n",
    "    continuous_update=False,\n",
    "    orientation='horizontal',\n",
    "    readout=True,\n",
    "    readout_format='d'\n",
    ")\n",
    "\n",
    "radiusSlider.observe(radiusChanged, 'value')\n",
    "layer_group = LayerGroup()\n",
    "sMap.add_layer(layer_group)\n",
    "sMap.on_interaction(handle_click)\n",
    "filterParams=HBox([sMap,VBox([radiusSlider])])\n",
    "filterParams"
   ]
  },
  {
   "cell_type": "markdown",
   "id": "01089c76",
   "metadata": {
    "slideshow": {
     "slide_type": "slide"
    }
   },
   "source": [
    "### Another Cool Example: Show me the farthest US state from where I choose!\n",
    "\n",
    "The following code will allow you to double-click anywhere you want and see the farthest state from there. \n",
    "\n",
    "Once you double click anywhere on the map, a list variable named `coords` stores the latitude (`{coords[1]}`) and longitude (`{coords[0]}`) of the selected point. These values then are passed to the following sql code:\n",
    "\n",
    "```sql\n",
    "SELECT name,st_asbinary(u.geom) AS geom,st_distance(u.geom,MakePoint({coords[1]},{coords[0]},4326)) AS dist_to_loc \n",
    "FROM us_states u \n",
    "ORDER BY dist_to_loc DESC \n",
    "LIMIT 1\n",
    "```\n",
    "\n",
    "In this query, first using the `MakePoint` function we make a point geometry using the user selection coordinates. <br/>\n",
    "\n",
    "Then we pass it to the `st_distance` function to calculate the distance from each state. The number 4326 is the coordinate system reference number. <br/>\n",
    "\n",
    "Next, we order the resulting distances in descending order. It means that now the first row is the state with maximum distance. Therefore we filter it using the `LIMIT 1` function. <br/>\n",
    "\n",
    "Run the code:\n"
   ]
  },
  {
   "cell_type": "code",
   "execution_count": null,
   "id": "03c9875f",
   "metadata": {
    "scrolled": true
   },
   "outputs": [],
   "source": [
    "from ipyleaflet import Map, DrawControl,GeoData,LayerGroup,Polygon,GeoJSON,Marker\n",
    "from ipywidgets import Button, HBox, VBox,widgets,Layout,GridspecLayout,IntSlider,HTML\n",
    "from IPython.display import display\n",
    "import spatialite\n",
    "import pandas as pd\n",
    "import geopandas as gpd\n",
    "import json\n",
    "import time\n",
    "db = spatialite.connect('databases/spatialDB.sqlite')\n",
    "coords=None\n",
    "\n",
    "def handle_click(**kwargs):\n",
    "    global coords\n",
    "    if kwargs.get('type') == 'dblclick':\n",
    "        layer_group.clear_layers()\n",
    "        coords = kwargs.get('coordinates')\n",
    "        layer_group.add_layer(Marker(location=coords))\n",
    "        findNearestGasStation()\n",
    "        \n",
    "def findNearestGasStation():\n",
    "    global coords\n",
    "    if coords is not None:\n",
    "        stateGeomSql = f\"\"\"SELECT name,st_asbinary(u.geom) as geom,st_distance(u.geom,MakePoint({coords[1]},{coords[0]},4326)) as dist_to_loc \n",
    "        from us_states u \n",
    "        order by dist_to_loc desc \n",
    "        limit 1\"\"\"\n",
    "        gdf = gpd.GeoDataFrame.from_postgis(stateGeomSql, db,crs = 'EPSG:4326')\n",
    "        geo_data = GeoData(geo_dataframe = gdf,\n",
    "            style={'color': 'black', 'radius':8, 'fillColor': '#3366cc', 'opacity':0.5, 'weight':1.9, 'dashArray':'2', 'fillOpacity':0.6},\n",
    "            hover_style={'fillColor': 'red' , 'fillOpacity': 0.2},\n",
    "            point_style={'radius': 5, 'color': 'red', 'fillOpacity': 0.8, 'fillColor': 'blue', 'weight': 3},\n",
    "            name = 'Release')\n",
    "        layer_group.add_layer(geo_data)\n",
    "        center = [gdf.centroid.y.values[0],gdf.centroid.x.values[0]]\n",
    "        sMap.center = center\n",
    "        sMap.zoom = 3\n",
    "        \n",
    "sMap= Map(center=(41.482222, -81.669722), zoom=4,prefer_canvas =True)\n",
    "layer_group = LayerGroup()\n",
    "sMap.add_layer(layer_group)\n",
    "sMap.on_interaction(handle_click)\n",
    "sMap"
   ]
  },
  {
   "cell_type": "markdown",
   "id": "37abe355",
   "metadata": {
    "slideshow": {
     "slide_type": "slide"
    }
   },
   "source": [
    "\n",
    "# Congratulations!\n",
    "\n",
    "\n",
    "**You have finished an Hour of CI!**\n",
    "\n",
    "\n",
    "But, before you go ... \n",
    "\n",
    "1. Please fill out a very brief questionnaire to provide feedback and help us improve the Hour of CI lessons. It is fast and your feedback is very important to let us know what you learned and how we can improve the lessons in the future.\n",
    "2. If you would like a certificate, then please type your name below and click \"Create Certificate\" and you will be presented with a PDF certificate.\n",
    "\n",
    "<font size=\"+1\"><a style=\"background-color:blue;color:white;padding:12px;margin:10px;font-weight:bold;\" href=\"https://forms.gle/JUUBm76rLB8iYppN7\">Take the questionnaire and provide feedback</a></font>\n",
    "\n"
   ]
  },
  {
   "cell_type": "code",
   "execution_count": null,
   "id": "0ae7fcf9",
   "metadata": {
    "hide_input": true,
    "slideshow": {
     "slide_type": "-"
    },
    "tags": [
     "Hide",
     "Init"
    ]
   },
   "outputs": [],
   "source": [
    "\n",
    "# This code cell loads the Interact Textbox that will ask users for their name\n",
    "# Once they click \"Create Certificate\" then it will add their name to the certificate template\n",
    "# And present them a PDF certificate\n",
    "from PIL import Image\n",
    "from PIL import ImageFont\n",
    "from PIL import ImageDraw\n",
    "\n",
    "from ipywidgets import interact\n",
    "\n",
    "def make_cert(learner_name, lesson_name):\n",
    "    cert_filename = 'hourofci_certificate.pdf'\n",
    "\n",
    "    img = Image.open(\"../../../supplementary/hci-certificate-template.jpg\")\n",
    "    draw = ImageDraw.Draw(img)\n",
    "\n",
    "    cert_font = ImageFont.load_default()\n",
    "    \n",
    "    cert_font   = ImageFont.truetype('../../../supplementary/cruft.ttf', 150)\n",
    "    cert_fontsm = ImageFont.truetype('../../../supplementary/cruft.ttf', 80) \n",
    "    _,_,w,h = cert_font.getbbox(learner_name)  \n",
    "    draw.text( xy = (1650-w/2,1100-h/2), text = learner_name, fill=(0,0,0),font=cert_font)\n",
    "    \n",
    "    _,_,w,h = cert_fontsm.getbbox(lesson_name)\n",
    "    draw.text( xy = (1650-w/2,1100-h/2 + 750), text = lesson_name, fill=(0,0,0),font=cert_fontsm)\n",
    "    img.save(cert_filename, \"PDF\", resolution=100.0)  \n",
    "    \n",
    "    return cert_filename\n",
    "\n",
    "\n",
    "interact_cert=interact.options(manual=True, manual_name=\"Create Certificate\")\n",
    "\n",
    "@interact_cert(name=\"Your Name\")\n",
    "def f(name):\n",
    "    print(\"Congratulations\",name)\n",
    "    filename = make_cert(name, 'Intermediate Geospatial Data')\n",
    "    print(\"Download your certificate by clicking the link below.\")\n",
    "    "
   ]
  },
  {
   "cell_type": "markdown",
   "id": "d4e9f1a1",
   "metadata": {},
   "source": [
    "<font size=\"+1\"><a style=\"background-color:blue;color:white;padding:12px;margin:10px;font-weight:bold;\" href=\"supplementary/hourofci_certificate.pdf?download=1\" download=\"supplementary/hourofci_certificate.pdf\">Download your certificate</a></font>"
   ]
  }
 ],
 "metadata": {
  "celltoolbar": "Edit Metadata",
  "kernelspec": {
   "display_name": "Python 3 (ipykernel)",
   "language": "python",
   "name": "python3"
  },
  "language_info": {
   "codemirror_mode": {
    "name": "ipython",
    "version": 3
   },
   "file_extension": ".py",
   "mimetype": "text/x-python",
   "name": "python",
   "nbconvert_exporter": "python",
   "pygments_lexer": "ipython3",
   "version": "3.7.16"
  }
 },
 "nbformat": 4,
 "nbformat_minor": 5
}
