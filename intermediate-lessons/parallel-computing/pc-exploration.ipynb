{
 "cells": [
  {
   "cell_type": "markdown",
   "metadata": {},
   "source": [
    "## Intermediate Parallel Computing\n",
    "\n",
    "### Segment 6 of 6\n",
    "\n",
    "# Exploration: A Coffeeholic Tourist's Problem!\n",
    "\n",
    "### After completing this exploration you will learn:\n",
    ">1. when you should avoid parallelism. \n",
    ">2. which cafe to go when you crave for a triple-shot Espresso with an outlook of the Mississippi river in St Paul :))\n",
    "\n",
    "*Lesson Developer: Mohsen Ahmadkhani, ahmad178@umn.edu*"
   ]
  },
  {
   "cell_type": "markdown",
   "metadata": {},
   "source": [
    "## Reminder\n",
    "<a href=\"#/slide-2-0\" class=\"navigate-right\" style=\"background-color:blue;color:white;padding:8px;margin:2px;font-weight:bold;\">Continue with the lesson</a>\n",
    "\n",
    "<br>\n",
    "</br>\n",
    "<font size=\"+1\">\n",
    "\n",
    "By continuing with this lesson you are granting your permission to take part in this research study for the Hour of Cyberinfrastructure: Developing Cyber Literacy for GIScience project. In this study, you will be learning about cyberinfrastructure and related concepts using a web-based platform that will take approximately one hour per lesson. Participation in this study is voluntary.\n",
    "\n",
    "Participants in this research must be 18 years or older. If you are under the age of 18 then please exit this webpage or navigate to another website such as the Hour of Code at https://hourofcode.com, which is designed for K-12 students.\n",
    "\n",
    "If you are not interested in participating please exit the browser or navigate to this website: http://www.umn.edu. Your participation is voluntary and you are free to stop the lesson at any time.\n",
    "\n",
    "For the full description please navigate to this website: <a href=\"../../gateway-lesson/gateway/gateway-1.ipynb\">Gateway Lesson Research Study Permission</a>.\n",
    "\n",
    "</font>"
   ]
  },
  {
   "cell_type": "code",
   "execution_count": null,
   "metadata": {
    "hide_input": false,
    "init_cell": true,
    "slideshow": {
     "slide_type": "skip"
    },
    "tags": [
     "Hide"
    ]
   },
   "outputs": [],
   "source": [
    "# This code cell starts the necessary setup for Hour of CI lesson notebooks.\n",
    "# First, it enables users to hide and unhide code by producing a 'Toggle raw code' button below.\n",
    "# Second, it imports the hourofci package, which is necessary for lessons and interactive Jupyter Widgets.\n",
    "# Third, it helps hide/control other aspects of Jupyter Notebooks to improve the user experience\n",
    "# This is an initialization cell\n",
    "# It is not displayed because the Slide Type is 'Skip'\n",
    "\n",
    "from IPython.display import HTML, IFrame, Javascript, display, Latex, Markdown\n",
    "from ipywidgets import interactive\n",
    "import ipywidgets as widgets\n",
    "from ipywidgets import Layout, VBox, Button\n",
    "import warnings\n",
    "warnings.filterwarnings('ignore') # Hide warnings\n",
    "import getpass # This library allows us to get the username (User agent string)\n",
    "\n",
    "# import package for hourofci project\n",
    "import sys\n",
    "sys.path.append('../../supplementary') # relative path (may change depending on the location of the lesson notebook)\n",
    "import hourofci\n",
    "\n",
    "class Output:\n",
    "    def __init__(self, name='cmd_out'):\n",
    "        self.h = display(display_id=name)\n",
    "        self.content = ''\n",
    "        self.mime_type = None\n",
    "        self.dic_kind = {\n",
    "            'text': 'text/plain',\n",
    "            'markdown': 'text/markdown',\n",
    "            'html': 'text/html',\n",
    "        }\n",
    "        \n",
    "    def display(self):\n",
    "        self.h.display({'text/plain': ''}, raw=True)\n",
    "        \n",
    "    def _build_obj(self, content, kind, append, new_line):\n",
    "        self.mime_type = self.dic_kind.get(kind)\n",
    "        if not self.mime_type:\n",
    "            return content, False\n",
    "        if append:\n",
    "            sep = '\\n' if new_line else ''\n",
    "            self.content = self.content + sep + content\n",
    "        else:\n",
    "            self.content = content\n",
    "        return {self.mime_type: self.content}, True\n",
    "        \n",
    "    def update(self, content, kind=None, append=False, new_line=True):\n",
    "        obj, raw = self._build_obj(content, kind, append, new_line)\n",
    "        self.h.update(obj, raw=raw)\n",
    "        \n",
    "\n",
    "def cont(gpd_time, sedona_time):\n",
    "    return f'''*** \\n <font style=\"font-size: large; color: black;\">\n",
    "Comparing the two execution times, GeoPandas took <font size=5 color='red'>{round(gpd_time, 3)}</font> seconds while \n",
    "Apache Sedona did it in <font size=5 color='red'>{round(sedona_time, 3)}</font> seconds. It means parallelizing this operation with Spark SQL made \n",
    "the spatial operation <font size=5 color='red'>{round(sedona_time/gpd_time, 2)}</font> times <font size=5 color='gold'>SLOWER.</font> Think about it \n",
    "for a few moments and write your thoughts in the text area below. \n",
    "'''\n",
    "\n",
    "# load javascript to initialize/hide cells, get user agent string, and hide output indicator\n",
    "# hide code by introducing a toggle button \"Toggle raw code\"\n",
    "HTML(''' \n",
    "    <script type=\"text/javascript\" src=\\\"../../supplementary/js/custom.js\\\"></script>\n",
    "    \n",
    "    <style>\n",
    "        .output_prompt{opacity:0;}\n",
    "    </style>\n",
    "    \n",
    "    <input id=\"toggle_code\" type=\"button\" value=\"Toggle raw code\">\n",
    "''')\n",
    "\n"
   ]
  },
  {
   "cell_type": "markdown",
   "metadata": {},
   "source": [
    "## Outline\n",
    "In this segment, we will explore a case that our datasets are too small and therefore parallelism would be inefficient. \n",
    "\n",
    "For this exploration, we will take the following steps: \n",
    "><ol>\n",
    "    <li>\n",
    "        Demo Problem \n",
    "    </li>\n",
    "    <li>\n",
    "        Data Collection\n",
    "    </li>\n",
    "    <li>\n",
    "        Spatial Operation With <b>GeoPandas</b> (Not Parallelized)\n",
    "    </li>\n",
    "    <li>\n",
    "        Spatial Operation With <b> Apache Sedona</b>  (Parallelized)\n",
    "    </li>\n",
    "    <li>\n",
    "        Discussion and Conclusion \n",
    "    </li>\n",
    "</ol>\n",
    "    \n",
    "Let's go!\n"
   ]
  },
  {
   "cell_type": "markdown",
   "metadata": {},
   "source": [
    "\n",
    "# 1. Demo Problem:\n",
    "\n",
    ">## What cafe in St Paul, MN is the nearest to the Mississippi river?\n",
    "\n",
    "\n",
    "First, let's import the required packages and build our spatially enabled Spark Session. "
   ]
  },
  {
   "cell_type": "code",
   "execution_count": null,
   "metadata": {},
   "outputs": [],
   "source": [
    "from pyspark.sql import SparkSession\n",
    "from sedona.register import SedonaRegistrator\n",
    "from sedona.utils import SedonaKryoRegistrator, KryoSerializer\n",
    "import geopandas as gpd\n",
    "from ipyleaflet import Map, GeoData, AwesomeIcon, Marker"
   ]
  },
  {
   "cell_type": "code",
   "execution_count": null,
   "metadata": {},
   "outputs": [],
   "source": [
    "spark = SparkSession.\\\n",
    "    builder.\\\n",
    "    master(\"local[*]\").\\\n",
    "    appName(\"Spatial Spark Demo\").\\\n",
    "    config(\"spark.serializer\", KryoSerializer.getName).\\\n",
    "    config(\"spark.kryo.registrator\", SedonaKryoRegistrator.getName) .\\\n",
    "    config(\"spark.jars.packages\", \"org.apache.sedona:sedona-python-adapter-3.0_2.12:1.2.1-incubating,org.datasyslab:geotools-wrapper:1.1.0-25.2\") .\\\n",
    "    getOrCreate()\n",
    "\n",
    "\n",
    "\n",
    "SedonaRegistrator.registerAll(spark)\n",
    "sc = spark.sparkContext\n"
   ]
  },
  {
   "cell_type": "markdown",
   "metadata": {},
   "source": [
    "# 2. Data Collection\n",
    "\n",
    "To solve this problem, we will need the following datasets: \n",
    "1. Rivers and lake centerlines\n",
    "    * We already have downloaded this dataset in the previous segment, so we'll just load it in.\n",
    "2. Cafes in St. Paul\n",
    "    * Download it from OpenStreetMap liberary (osmnx). \n",
    "    \n",
    "The code provided in the next few cells collect and prepare the required datasets. "
   ]
  },
  {
   "cell_type": "code",
   "execution_count": null,
   "metadata": {},
   "outputs": [],
   "source": [
    "rivers = gpd.read_file('ne_10m_rivers_lake_centerlines.shp')\n",
    "rivers = rivers[['name', 'geometry']].dropna(subset=['geometry']).to_crs('epsg:3857')\n",
    "rivers.head()"
   ]
  },
  {
   "cell_type": "markdown",
   "metadata": {},
   "source": [
    "Download the point dataset of coffee shops in the city of St. Paul using the `osmnx` package. According to its <a href='https://osmnx.readthedocs.io/en/stable/'>documentation</a>, \n",
    "><i>\"OSMnx is a Python package that lets you download geospatial data from OpenStreetMap and model, project, visualize, and analyze real-world street networks and any other geospatial geometries\".</i>"
   ]
  },
  {
   "cell_type": "code",
   "execution_count": null,
   "metadata": {},
   "outputs": [],
   "source": [
    "import osmnx as ox \n",
    "\n",
    "place = 'St Paul, MN'\n",
    "tags = {'amenity':'cafe', 'cuisine':'coffee-shop'}  \n",
    "coffee_shops = ox.geometries_from_place(place, tags) \n",
    "coffee_shops = coffee_shops[['name', 'geometry']].dropna(subset=['geometry']).to_crs('epsg:3857')\n",
    "coffee_shops = coffee_shops[coffee_shops['geometry'].type == 'Point']\n",
    "coffee_shops.head()"
   ]
  },
  {
   "cell_type": "markdown",
   "metadata": {},
   "source": [
    "Let's look at the coffee shops."
   ]
  },
  {
   "cell_type": "code",
   "execution_count": null,
   "metadata": {},
   "outputs": [],
   "source": [
    "coffee_shops_layer = GeoData(geo_dataframe = coffee_shops.to_crs('4326'), point_style={'color': 'black'})\n",
    "mymap3 = Map(center=(44.96,-93.13), zoom = 11)\n",
    "mymap3.add_layer(coffee_shops_layer)\n",
    "mymap3\n"
   ]
  },
  {
   "cell_type": "markdown",
   "metadata": {},
   "source": [
    "# 3. Spatial Operation With GeoPandas (Not Parallelized)\n",
    "\n"
   ]
  },
  {
   "cell_type": "code",
   "execution_count": null,
   "metadata": {},
   "outputs": [],
   "source": [
    "import time\n",
    "start_time = time.time()\n",
    "\n",
    "# filter only the mississippi river from the rivers' dataset and store in a variable with this name.\n",
    "mississipi = gpd.GeoSeries(rivers[rivers['name']=='Mississippi']['geometry']).unary_union \n",
    "dists = []\n",
    "for c in coffee_shops['geometry']: # measure distance from the river to every cafe through a for loop\n",
    "    dists.append(mississipi.distance(c)) # make a list of distances \n",
    "    \n",
    "\n",
    "coffee_shops['dists'] = dists # add the distances to the original cafe's dataframe as a new column named \"dists\"\n",
    "\n",
    "nearest_cafes = coffee_shops.sort_values(by='dists').iloc[0:1,:] # sort the table by distances and select the first row\n",
    "\n",
    "gpd_time = time.time() - start_time\n",
    "print(f\"Execution time for GeoPandas: {gpd_time}\")\n",
    "nearest_cafes"
   ]
  },
  {
   "cell_type": "markdown",
   "metadata": {},
   "source": [
    "# 4. Spatial Operation With GeoPandas (Not Parallelized)\n",
    "\n",
    "Here we follow the similar process that we did in the previous segment."
   ]
  },
  {
   "cell_type": "code",
   "execution_count": null,
   "metadata": {},
   "outputs": [],
   "source": [
    "rivers_spdf = spark.createDataFrame(rivers)\n",
    "rivers_spdf.printSchema()"
   ]
  },
  {
   "cell_type": "code",
   "execution_count": null,
   "metadata": {},
   "outputs": [],
   "source": [
    "coffee_shops_spdf = spark.createDataFrame(coffee_shops)\n",
    "coffee_shops_spdf.printSchema()"
   ]
  },
  {
   "cell_type": "markdown",
   "metadata": {},
   "source": [
    "### Creating SQL Views\n",
    "\n",
    "Next, we create two Views named `rivers` and `Coffee shops`. We will query from these two tables. "
   ]
  },
  {
   "cell_type": "code",
   "execution_count": null,
   "metadata": {},
   "outputs": [],
   "source": [
    "rivers_spdf.createOrReplaceTempView(\"rivers\")\n",
    "coffee_shops_spdf.createOrReplaceTempView(\"cafes\")"
   ]
  },
  {
   "cell_type": "markdown",
   "metadata": {},
   "source": [
    "### Solution SQL Query\n",
    "One way to answer the question is the following spatial query. \n",
    ">```sql\n",
    "SELECT c.name, ST_DISTANCE(r.geometry, c.geometry) AS dist, c.geometry\n",
    "FROM cafes AS c, rivers AS r\n",
    "WHERE r.name = 'Mississippi' \n",
    "ORDER BY dist ASC\n",
    "LIMIT 1\n",
    "\n",
    "\n",
    "* In this query, we select the `name` of each cafe along with its distance to the Mississippi river, and its geometry (coordinate information). Note that to calculate distances we applied `ST_DISTANCE` spatial method, we call this column `dist`. \n",
    "\n",
    "* In the `WHERE` clause, we specified the name of the river of interest. \n",
    "\n",
    "* The first three lines of this query will return a table of all coffee shops with their distances from the river. * Using the `ORDER BY dist ASC` clause we sort the result by the `dist` column in an ascending (`ASC`) order. \n",
    "* The very first row of this sorted table will be the cafe that has the shortest distance to the river (our answer). `LIMIT 1` returns this first row.\n",
    "\n",
    "Let's execute this query and record the execution time in the next cell. "
   ]
  },
  {
   "cell_type": "code",
   "execution_count": null,
   "metadata": {},
   "outputs": [],
   "source": [
    "import time\n",
    "start_time = time.time()\n",
    "\n",
    "nearest_cafe = spark.sql(\"\"\"\n",
    "SELECT c.name, ST_DISTANCE(r.geometry, c.geometry) AS dist, c.geometry\n",
    "FROM cafes AS c, rivers AS r\n",
    "WHERE r.name = 'Mississippi' \n",
    "ORDER BY dist ASC\n",
    "LIMIT 1\n",
    "\"\"\")\n",
    "sedona_time = time.time() - start_time\n",
    "print(f\"Execution time for Apache Sedona: {sedona_time}\")\n"
   ]
  },
  {
   "cell_type": "code",
   "execution_count": null,
   "metadata": {
    "hide_input": false,
    "slideshow": {
     "slide_type": "-"
    },
    "tags": [
     "Hide",
     "Init"
    ]
   },
   "outputs": [],
   "source": [
    "display(Markdown('<b>Did you expect this result regarding the execution times?</b>'))\n",
    "o1='Yes'\n",
    "o2='No'\n",
    "widget1 = widgets.RadioButtons(\n",
    "    options = [o1, o2],\n",
    "    description = ' ', style={'description_width': 'initial'},\n",
    "    value = None\n",
    ")\n",
    "execute = Button(\n",
    "    description='Submit',\n",
    "    disabled=False,\n",
    "    button_style='success',\n",
    ")\n",
    "\n",
    "children1 = [widget1, execute]\n",
    "vbox = VBox(children=children1)\n",
    "out = Output(name='cmd_out')\n",
    "def cmd(b):\n",
    "    print('Submitted!')\n",
    "    return out.update(Markdown(cont(gpd_time, sedona_time)))\n",
    "\n",
    "execute.on_click(cmd)\n",
    "display(vbox)\n"
   ]
  },
  {
   "cell_type": "markdown",
   "metadata": {},
   "source": [
    "### Show the result of the query"
   ]
  },
  {
   "cell_type": "code",
   "execution_count": null,
   "metadata": {},
   "outputs": [],
   "source": [
    "nearest_cafe.show()"
   ]
  },
  {
   "cell_type": "markdown",
   "metadata": {},
   "source": [
    "# 5. Discussion and Conclusion\n"
   ]
  },
  {
   "cell_type": "code",
   "execution_count": null,
   "metadata": {
    "hide_input": false,
    "tags": [
     "Hide",
     "Init"
    ]
   },
   "outputs": [],
   "source": [
    "out = Output(name='cmd_out')\n",
    "\n",
    "out.display()\n"
   ]
  },
  {
   "cell_type": "code",
   "execution_count": null,
   "metadata": {
    "hide_input": false,
    "tags": [
     "Hide",
     "Init"
    ]
   },
   "outputs": [],
   "source": [
    "w = widgets.Textarea(\n",
    "            value='',\n",
    "            placeholder='Write your thoughts here...',\n",
    "            description='',\n",
    "            disabled=False,\n",
    "            layout=Layout( height='200px', min_height='100px', width='900px')\n",
    "            )\n",
    "\n",
    "\n",
    "def out3():\n",
    "    print('Great! Move on to see the answer.')\n",
    "    \n",
    "display(w)\n",
    "hourofci.SubmitBtn2(w, out3)"
   ]
  },
  {
   "cell_type": "markdown",
   "metadata": {},
   "source": [
    "As you might have guessed, it is because our datasets were too small to see a faster performance for parallelization. \n",
    "\n",
    "In this exploration we dealed with about 50 coffeeshops and a single river performing a rather simple spatial operation of equcleadian distance. Regarding the simplicity of this entire process the framework of GeoPandas can perform much faster as it does not bother spending time to partition the input data between multiple worker nodes. Parallelization and distributed computing can show much significant improvements when working with voluminous datasets. \n",
    "\n",
    "In the <a href=\"../../beginner-lesson/parallel-computing/pc-1.ipynb\">beginers' Parallel Computing lesson</a>, we also talked about \"Amdahl's Law\" and mentioned that having more worker nodes does not necessarily bring a better performance. \n",
    "\n"
   ]
  },
  {
   "cell_type": "markdown",
   "metadata": {},
   "source": [
    "## [Optional] Visualization\n",
    "\n",
    "Do you want to see the coffee shops, the river, and its closest cafe on a map?! Run the cell below. \n",
    "\n",
    "The resulting cafe appears in red, and the others remain black. "
   ]
  },
  {
   "cell_type": "code",
   "execution_count": null,
   "metadata": {},
   "outputs": [],
   "source": [
    "riverside_cafesdf = gpd.GeoDataFrame(nearest_cafes.to_crs(4326), geometry=\"geometry\")\n",
    "riverside_cafes_layer = GeoData(geo_dataframe = riverside_cafesdf, point_style={'color': 'red'})\n",
    "\n",
    "coffee_shops_layer = GeoData(geo_dataframe = coffee_shops.to_crs(4326), point_style={'color': 'black'})\n",
    "\n",
    "mymap4 = Map(center=(44.96,-93.13), zoom = 11)\n",
    "mymap4.add_layer(coffee_shops_layer)\n",
    "rivers_layer = GeoData(geo_dataframe = rivers.to_crs(4326), style={'color':'blue'})\n",
    "mymap4.add_layer(rivers_layer)\n",
    "mymap4.add_layer(riverside_cafes_layer)\n",
    "mymap4"
   ]
  },
  {
   "cell_type": "markdown",
   "metadata": {},
   "source": [
    "## What Else?\n",
    "\n",
    "Apache Sedona enables tens of other spatial functions like centroid, distance, transformation, buffer, and many more that we cannot cover all here. \n",
    "\n",
    "You can see a list of all available spatial functions at https://sedona.apache.org/api/sql/Function. "
   ]
  },
  {
   "cell_type": "markdown",
   "metadata": {},
   "source": [
    "# Congratulations!\n",
    "\n",
    "\n",
    "**You have finished an Hour of CI!**\n",
    "\n",
    "\n",
    "But, before you go ... \n",
    "\n",
    "1. Please fill out a very brief questionnaire to provide feedback and help us improve the Hour of CI lessons. It is fast and your feedback is very important to let us know what you learned and how we can improve the lessons in the future.\n",
    "2. If you would like a certificate, then please type your name below and click \"Create Certificate\" and you will be presented with a PDF certificate.\n",
    "\n",
    "<font size=\"+1\"><a style=\"background-color:blue;color:white;padding:12px;margin:10px;font-weight:bold;\" href=\"https://forms.gle/JUUBm76rLB8iYppN7\">Take the questionnaire and provide feedback</a></font>"
   ]
  },
  {
   "cell_type": "code",
   "execution_count": null,
   "metadata": {
    "hide_input": true,
    "slideshow": {
     "slide_type": "-"
    },
    "tags": [
     "Hide",
     "Init"
    ]
   },
   "outputs": [],
   "source": [
    "\n",
    "# This code cell loads the Interact Textbox that will ask users for their name\n",
    "# Once they click \"Create Certificate\" then it will add their name to the certificate template\n",
    "# And present them a PDF certificate\n",
    "from PIL import Image\n",
    "from PIL import ImageFont\n",
    "from PIL import ImageDraw\n",
    "\n",
    "from ipywidgets import interact\n",
    "\n",
    "def make_cert(learner_name, lesson_name):\n",
    "    cert_filename = 'hourofci_certificate.pdf'\n",
    "\n",
    "    img = Image.open(\"../../supplementary/hci-certificate-template.jpg\")\n",
    "    draw = ImageDraw.Draw(img)\n",
    "\n",
    "    cert_font   = ImageFont.truetype('../../supplementary/cruft.ttf', 150)\n",
    "    cert_fontsm = ImageFont.truetype('../../supplementary/cruft.ttf', 80)\n",
    "    \n",
    "    _,_,w,h = cert_font.getbbox(learner_name)  \n",
    "    draw.text( xy = (1650-w/2,1100-h/2), text = learner_name, fill=(0,0,0),font=cert_font)\n",
    "    \n",
    "    _,_,w,h = cert_fontsm.getbbox(lesson_name)\n",
    "    draw.text( xy = (1650-w/2,1100-h/2 + 750), text = lesson_name, fill=(0,0,0),font=cert_fontsm)\n",
    "    \n",
    "    img.save(cert_filename, \"PDF\", resolution=100.0)   \n",
    "    return cert_filename\n",
    "\n",
    "\n",
    "interact_cert=interact.options(manual=True, manual_name=\"Create Certificate\")\n",
    "\n",
    "@interact_cert(name=\"Your Name\")\n",
    "def f(name):\n",
    "    print(\"Congratulations\",name)\n",
    "    filename = make_cert(name, 'Intermediate Parallel Computing')\n",
    "    print(\"Download your certificate by clicking the link below.\")\n"
   ]
  },
  {
   "cell_type": "markdown",
   "metadata": {},
   "source": [
    "<font size=\"+1\"><a style=\"background-color:blue;color:white;padding:12px;margin:10px;font-weight:bold;\" href=\"hourofci_certificate.pdf?download=1\" download=\"hourofci_certificate.pdf\">Download your certificate</a></font>"
   ]
  }
 ],
 "metadata": {
  "celltoolbar": "Edit Metadata",
  "kernelspec": {
   "display_name": "Python 3 (ipykernel)",
   "language": "python",
   "name": "python3"
  },
  "language_info": {
   "codemirror_mode": {
    "name": "ipython",
    "version": 3
   },
   "file_extension": ".py",
   "mimetype": "text/x-python",
   "name": "python",
   "nbconvert_exporter": "python",
   "pygments_lexer": "ipython3",
   "version": "3.8.1"
  }
 },
 "nbformat": 4,
 "nbformat_minor": 2
}
