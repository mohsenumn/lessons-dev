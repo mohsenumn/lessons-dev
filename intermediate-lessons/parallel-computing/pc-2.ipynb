{
 "cells": [
  {
   "cell_type": "markdown",
   "metadata": {
    "hide_input": true,
    "slideshow": {
     "slide_type": "slide"
    }
   },
   "source": [
    "## Intermediate Parallel Computing\n",
    "### Segment 1 of 5\n",
    "\n",
    "### Haste Does NOT Always Make Waste, Indeed!!\n",
    "\n",
    "#### In this segment we will answer:\n",
    "* Why parallel processing?\n",
    "* What are latency and throughput?\n",
    "* What are some of available tools for parallel computing?\n",
    "\n",
    "\n",
    "*Lesson Developer: Mohsen Ahmadkhani, ahmad178@umn.edu*"
   ]
  },
  {
   "cell_type": "markdown",
   "metadata": {
    "slideshow": {
     "slide_type": "slide"
    }
   },
   "source": [
    "## Thank you for helping our study\n",
    "\n",
    "\n",
    "<a href=\"#/slide-1-0\" class=\"navigate-right\" style=\"background-color:blue;color:white;padding:8px;margin:2px;font-weight:bold;\">Continue with the lesson</a>\n",
    "\n",
    "Throughout this lesson you will see reminders, like the one below, to ensure that all participants understand that they are in a voluntary research study.\n",
    "\n",
    "### Reminder\n",
    "\n",
    "<font size=\"+1\">\n",
    "\n",
    "By continuing with this lesson you are granting your permission to take part in this research study for the Hour of Cyberinfrastructure: Developing Cyber Literacy for GIScience project. In this study, you will be learning about cyberinfrastructure and related concepts using a web-based platform that will take approximately one hour per lesson. Participation in this study is voluntary.\n",
    "\n",
    "Participants in this research must be 18 years or older. If you are under the age of 18 then please exit this webpage or navigate to another website such as the Hour of Code at https://hourofcode.com, which is designed for K-12 students.\n",
    "\n",
    "If you are not interested in participating please exit the browser or navigate to this website: http://www.umn.edu. Your participation is voluntary and you are free to stop the lesson at any time.\n",
    "\n",
    "For the full description please navigate to this website: <a href=\"../../gateway-lesson/gateway/gateway-1.ipynb\">Gateway Lesson Research Study Permission</a>.\n",
    "\n",
    "</font>"
   ]
  },
  {
   "cell_type": "code",
   "execution_count": null,
   "metadata": {
    "hide_input": false,
    "init_cell": true,
    "slideshow": {
     "slide_type": "skip"
    },
    "tags": [
     "Hide"
    ]
   },
   "outputs": [],
   "source": [
    "# This code cell starts the necessary setup for Hour of CI lesson notebooks.\n",
    "# First, it enables users to hide and unhide code by producing a 'Toggle raw code' button below.\n",
    "# Second, it imports the hourofci package, which is necessary for lessons and interactive Jupyter Widgets.\n",
    "# Third, it helps hide/control other aspects of Jupyter Notebooks to improve the user experience\n",
    "# This is an initialization cell\n",
    "# It is not displayed because the Slide Type is 'Skip'\n",
    "\n",
    "from IPython.display import HTML, IFrame, Javascript, display\n",
    "from ipywidgets import interactive\n",
    "import ipywidgets as widgets\n",
    "from ipywidgets import Layout\n",
    "\n",
    "import getpass # This library allows us to get the username (User agent string)\n",
    "\n",
    "# import package for hourofci project\n",
    "import sys\n",
    "sys.path.append('../../supplementary') # relative path (may change depending on the location of the lesson notebook)\n",
    "import hourofci\n",
    "\n",
    "import warnings\n",
    "warnings.filterwarnings('ignore') # Hide warnings\n",
    "\n",
    "# load javascript to initialize/hide cells, get user agent string, and hide output indicator\n",
    "# hide code by introducing a toggle button \"Toggle raw code\"\n",
    "# HTML(''' \n",
    "#     <script type=\"text/javascript\" src=\\\"../../supplementary/js/custom.js\\\"></script>\n",
    "    \n",
    "#     <input id=\"toggle_code\" type=\"button\" value=\"Toggle raw code\">\n",
    "# ''')\n",
    "\n",
    "HTML(''' \n",
    "    <script type=\"text/javascript\" src=\\\"../../supplementary/js/custom.js\\\"></script>\n",
    "    \n",
    "    <style>\n",
    "        .output_prompt{opacity:0;}\n",
    "    </style>\n",
    "    \n",
    "    <input id=\"toggle_code\" type=\"button\" value=\"Toggle raw code\">\n",
    "''')\n"
   ]
  },
  {
   "cell_type": "markdown",
   "metadata": {
    "slideshow": {
     "slide_type": "slide"
    }
   },
   "source": [
    "# Why Parallel Computing?\n",
    "\n",
    "* **Running out of memory**\n",
    "\n",
    "If you usually work with large datasets or do heavy analyses with your computer, you likely have seen the following error message popping up abruptly:\n",
    "\n",
    "<center><img src=\"supplementary/memoryerror.jpg\" width=300></center>\n",
    "Needless to say how frustrating it is to have your computation cancelled after hours or even weeks of processing!<br/><br/>\n",
    "\n",
    "* **Seeing our results FASTER!**\n",
    "\n",
    "Parallel computing can reduce the time of your (big) computation of your (big) data from weeks to a few hours! \n"
   ]
  },
  {
   "cell_type": "markdown",
   "metadata": {
    "slideshow": {
     "slide_type": "slide"
    }
   },
   "source": [
    "## Recap from the beginners' lesson\n",
    "\n",
    "In the <a href=\"../../beginner-lessons/parallel-computing/pc-1.ipynb\">beginner parallel computing lesson</a> we saw how employing two gardeners instead of one increased the speed of the planting work significantly. \n",
    "\n",
    "Now, in this intermediate lesson we will go through the computation parallelization using multiple cores of the computer's central processing units (CPUs). \n",
    "\n",
    "\n",
    "\n",
    "<center><img src=\"supplementary/parall.png\" width=400></center>"
   ]
  },
  {
   "cell_type": "markdown",
   "metadata": {
    "slideshow": {
     "slide_type": "slide"
    }
   },
   "source": [
    "## What is a CPU?\n",
    "\n",
    "Before we talk about the parallelization we need to know what a **CPU** is. <br>\n",
    "In simple words, a CPU is an electric chip made of billions of tiny pieces called **transistors**. \n",
    "Transistors are the building blocks of a CPU and their size and speed (clock frequency) estimate the overall attributes of the CPU. \n",
    "\n",
    "<center><img src=\"supplementary/single_cpu.png\" width=100></center>\n",
    "<center>A schematic CPU</center>\n",
    "\n",
    "\n"
   ]
  },
  {
   "cell_type": "markdown",
   "metadata": {
    "slideshow": {
     "slide_type": "slide"
    }
   },
   "source": [
    "## What to optimize to get the work done FASTER?\n",
    "\n",
    "There are two major ways hardware designers take to increase the computation speed in computers: \n",
    "1. Producing stronger CPUs = **increasing** the **number** of transistors and **decreasing** their **size** in a single CPU. \n",
    "2. Producing simpler CPUs and assembling them to work in parallel. \n",
    "\n",
    "In later slides, we will see why the tech companies are recently leaning toward getting parallel by selecting the second approach!\n"
   ]
  },
  {
   "cell_type": "markdown",
   "metadata": {
    "slideshow": {
     "slide_type": "slide"
    }
   },
   "source": [
    "## Moore's Law\n",
    "In the last few decades, the technology has had exponential growth in terms of CPU speed. About half a century ago (1965), Gordon Moore, the co-founder of Intel, stated an interesting observation about technology growth. He claimed that the number of transistors gets doubled every two years while their price gets half. His observation got so much attention and now it's known as **Moore's law**.\n",
    "\n",
    "The following figure shows the trend of transistor quantities in CPUs proving Moore's law. But how far this trend can continue?!\n",
    "<center><img src=\"supplementary/moore.png\" width=600></center>\n",
    "<center>Moore's Law <a href=https://en.wikipedia.org/wiki/Moore%27s_law>source</a>.</center>"
   ]
  },
  {
   "cell_type": "markdown",
   "metadata": {
    "slideshow": {
     "slide_type": "slide"
    }
   },
   "source": [
    "## Why is the world getting parallel?!\n",
    "\n",
    "Although the technology has been successful in fitting more transistors in smaller CPUs over time, this does not seem to be the best approach to increase the CPUs' clock frequency (speed) anymore.\n",
    "\n",
    "It's because increasing the speed of the CPUs via increasing the number of transistors will induce higher power consumption and consequently the need for much stronger cooling systems. This means more cost, less environment-friendly, and therefore, less favorable. \n",
    "\n",
    "You guessed it right! Moore's law is coming to an end!\n",
    "\n"
   ]
  },
  {
   "cell_type": "markdown",
   "metadata": {
    "slideshow": {
     "slide_type": "slide"
    }
   },
   "source": [
    "## Technology Trend: Scaling\n",
    "\n",
    "For a better understanding, click the link below and carefully watch the figure. <br>\n",
    "This figure is created by Stanford University and shows the trend of transistor sizes since the 70s. \n",
    "\n",
    "Please note that in this figure, \"feature size\" refers to the size of transistors in Micrometers (μm). μm is the unit of length in the international system of units (SI) equivalent to 10<sup>-6</sup> meters. \n",
    "<center>\n",
    "<table>\n",
    "    <tr>\n",
    "        <td style=\"border:solid;width:1000%;font-size:20px;background:white\">\n",
    "            <center><a href=http://cpudb.stanford.edu/visualize/technology_scaling>Transistor Sizes Over Time</a></center>\n",
    "        </td>\n",
    "    </tr>\n",
    "</table>\n",
    "</center>\n",
    "\n"
   ]
  },
  {
   "cell_type": "markdown",
   "metadata": {
    "slideshow": {
     "slide_type": "slide"
    }
   },
   "source": [
    "## Technology Trend: Speed\n",
    "\n",
    "Now, click the following link to see the changes in CPU speeds over time. <br>\n",
    "In this figure, the Y-axis indicates the clock frequency (speed) of CPUs in Mega Hertz (MHz). MHz is the unit of frequency in the SI system equivalent to one million events/cycles/processes per second. Also, each color indicates the make of the CPU.\n",
    "<center>\n",
    "<table>\n",
    "    <tr>\n",
    "        <td style=\"border:solid;width:100%;font-size:20px;background:white\">\n",
    "            <center><a href= http://cpudb.stanford.edu/visualize/clock_frequency>Clock Speed Trend</a></center>\n",
    "        </td>\n",
    "    </tr>\n",
    "</table>\n",
    "</center>  \n",
    "\n"
   ]
  },
  {
   "cell_type": "markdown",
   "metadata": {
    "slideshow": {
     "slide_type": "slide"
    }
   },
   "source": [
    "## Technology Trend: Scaling Vs. Speed \n",
    "Looking at these figures, do you see a constant improvement in shrinking the sizes? What about speed?<br>\n",
    "How do these two relate to each other?<br>\n",
    "How do you relate these figures to Moore's law?<br>\n",
    "Do these figures justify the necessity of parallelism? \n",
    "\n",
    "In the textbox below, let us know what you think. \n",
    "\n"
   ]
  },
  {
   "cell_type": "code",
   "execution_count": null,
   "metadata": {
    "hide_input": false,
    "tags": [
     "Hide",
     "Init"
    ]
   },
   "outputs": [],
   "source": [
    "\n",
    "w = widgets.Textarea(\n",
    "            value='',\n",
    "            placeholder='Write your thoughts here',\n",
    "            description='',\n",
    "            disabled=False,\n",
    "            layout=Layout( height='200px', min_height='100px', width='900px')\n",
    "            )\n",
    "\n",
    "\n",
    "def out3():\n",
    "    print('Submitted!')\n",
    "    \n",
    "display(w)\n",
    "hourofci.SubmitBtn2(w, out3)"
   ]
  },
  {
   "cell_type": "markdown",
   "metadata": {
    "slideshow": {
     "slide_type": "slide"
    }
   },
   "source": [
    "## Why is the world getting parallel?!\n",
    "\n",
    "As you might have concluded, the technology has been leaning toward making **smaller** and **power-efficient** processing units, but **more of them** to work in parallel. \n",
    "\n",
    "In this lesson, we will focus on employing multiple computational cores at the same time! \n"
   ]
  },
  {
   "cell_type": "markdown",
   "metadata": {
    "slideshow": {
     "slide_type": "slide"
    }
   },
   "source": [
    "## What are we optimizing to get a faster processing in parallelism?\n",
    "\n",
    "There are two approaches of increasing the processing performance:\n",
    "\n",
    "<ol>\n",
    "    <li>\n",
    "        <b>Latency Optimization</b>\n",
    "        <ul>\n",
    "            <li>\n",
    "                Minimizing the time it takes for a processor to complete a computational task. <br><br>\n",
    "            </li>\n",
    "        </ul>\n",
    "    </li>\n",
    "    <li>\n",
    "        <b>Throughput Optimization</b>\n",
    "    </li>\n",
    "    <ul>\n",
    "        <li>\n",
    "            Maximizing the number of computational tasks per time unit. \n",
    "        </li>\n",
    "    </ul>\n",
    "</ol>\n",
    "    \n",
    "\n",
    "Although these two seem similar, they are indeed different. Let's see how! "
   ]
  },
  {
   "cell_type": "markdown",
   "metadata": {
    "slideshow": {
     "slide_type": "slide"
    }
   },
   "source": [
    "## What do we mean by latency and throughput?!\n",
    "Imagine you are staying in a line for checkout at a grocery store.\n",
    "\n",
    "It becomes so boring to wait in a long queue to checkout, specially if it's a Saturday! Ugh! \n",
    "<center><img src = \"supplementary/queue.png\" width = 200></center>\n",
    "\n",
    "Unfortunately, this problem might persist because your goal and the goal of the grocery store manager do not align. You try to minimize your waiting time in a checkout line, while the grocery store manager tries to maximize the number of customers each cashier processes, so, all employees have work to do. In other words, you are optimizing **latency** while the grocery store is optimizing the **throughput**. \n",
    "\n"
   ]
  },
  {
   "cell_type": "markdown",
   "metadata": {
    "slideshow": {
     "slide_type": "slide"
    }
   },
   "source": [
    "## Why do we care about latency and throughput?!\n",
    "\n",
    "Ok, so far, we learned that there are two different ways to optimize the processor performances, their speed (latency) and the amount of data they process per time unit (throughput). \n",
    "\n",
    "But the question is why learning about throughput and latency matters. To answer this question, let's introduce you to Hippo company! \n",
    "\n"
   ]
  },
  {
   "cell_type": "markdown",
   "metadata": {
    "slideshow": {
     "slide_type": "slide"
    }
   },
   "source": [
    "## Hippo Company Example\n",
    "\n",
    "\n",
    "Assume that Hippo Inc. is a newly founded food corporation located in Wayzata, MN. Managers of Hippo have decided to ship six boxes to Los Angles Port (~1865 miles) for exportation. They are newly established, so they have only two types of vehicles at their disposal, fast sports cars, and a single heavy-duty truck that goes slow. \n",
    "\n",
    "This makes them choose between two scenarios in the next slide!\n",
    "\n",
    "\n"
   ]
  },
  {
   "cell_type": "markdown",
   "metadata": {
    "slideshow": {
     "slide_type": "slide"
    }
   },
   "source": [
    "## Hippo Company Example \n",
    "\n",
    "**Senario 1:** Use a fast sports car to do the transportation. It takes 3 time units to get to LA Port, however, it only has capacity to ship 2 boxes per travel.  \n",
    "**Senario 2:** Use a truck that takes 6 time units to get to the destination but can take all 6 boxes in one go.\n",
    "<br>\n",
    "<br>\n",
    "<center><img src = \"supplementary/hippo_inc.gif\" width=600></center>\n",
    "\n"
   ]
  },
  {
   "cell_type": "markdown",
   "metadata": {
    "slideshow": {
     "slide_type": "slide"
    }
   },
   "source": [
    "\n",
    "Now, let's do the math and calculate the latency and the throughput for each senario:\n",
    "<center>\n",
    "$$\n",
    "  Latency = Time\\ to\\ finish\\ one\\ trip\\   (processing\\ time)\n",
    "$$\n",
    "\n",
    "$$\n",
    "  Throughput = \\frac{Number\\ of\\ boxes\\ (tasks)}{Latency}\n",
    "$$\n",
    "</center>\n",
    "\n",
    "**Sports car:**\n",
    "- Latency: 3 time-unit\n",
    "- Throughput: 2/3 = 0.66 box/time-unit\n",
    "\n",
    "**Truck:**\n",
    "- Latency: 6 time unit\n",
    "- Throughput: 6/6 = 1 box/time-unit\n"
   ]
  },
  {
   "cell_type": "markdown",
   "metadata": {
    "slideshow": {
     "slide_type": "slide"
    }
   },
   "source": [
    "\n",
    "We can see that the first scenario has a much smaller latency (good!) and smaller throughput (bad!), and the second scenario gives a much larger latency (bad!) but larger throughput (good!). <br/> \n",
    "As trivial, the second scenario wins. But what if they use three sports cars at the same time?\n",
    "\n",
    "Using these measures, we can design a more efficient processing framework according to our problem. <br>\n",
    "\n",
    "Ok, now that we have a sense of parallel processing, let's see how we can implement it in cyberspace. \n"
   ]
  },
  {
   "cell_type": "markdown",
   "metadata": {
    "slideshow": {
     "slide_type": "slide"
    }
   },
   "source": [
    "# Choosing a parallel computing tool\n",
    "\n",
    "Multiple tools have been developed in recent decades that provide a parallel computing framework. In this lesson we introduce **Apache Spark**, **Dask**, and **Ray**. <br><br>\n",
    "<center>\n",
    "    <table>\n",
    "        <tr style=\"background-color:white;border:solid\">\n",
    "            <td style=\"border:solid;width:30%;\">\n",
    "                <img src=\"supplementary/spark_logo.png\" width=200>\n",
    "            </td>\n",
    "            <td style=\"border:solid;width:30%;\">\n",
    "                <img src = \"supplementary/dask_logo.png\" width = 250>\n",
    "            </td>\n",
    "            <td style=\"border:solid;width:30%;\">\n",
    "                <img src = \"supplementary/ray_logo2.png\" width = 250>\n",
    "            </td>\n",
    "        </tr>\n",
    "    </table>\n",
    "</center>\n",
    "   \n",
    "\n",
    "\n",
    "\n"
   ]
  },
  {
   "cell_type": "markdown",
   "metadata": {
    "slideshow": {
     "slide_type": "slide"
    }
   },
   "source": [
    "## Comparing the Three Parallel Computing Frameworks: Origin\n",
    "\n",
    "<br/>\n",
    "\n",
    "<table style=\"background-color:white;width:50%\">\n",
    "    <tr style=\"background-color:white;width:50%\">\n",
    "        <td style=\"text-align:left;\">\n",
    "            <center><img src = \"supplementary/spark_logo.png\" width = 100 height = 100></center>\n",
    "            <ul>\n",
    "                <li>\n",
    "                    Based on MapReduce<sup>*</sup>\n",
    "                </li>\n",
    "                <li>\n",
    "Developed by: U.C. Berkeley, 2010\n",
    "                </li>\n",
    "                <li>\n",
    "Created for big data and analytics\n",
    "                </li>\n",
    "                <li>\n",
    "Successor of: Hadoop ecosystem\n",
    "                </li>\n",
    "                <li>\n",
    "                    Available in: (initially in) Scala, Java, SQL, Python, R, C#, F#\n",
    "                </li>\n",
    "                <li>\n",
    "                    Official Website: <a href=https://spark.apache.org>https://spark.apache.org</a>\n",
    "                </li>\n",
    "            </ul>\n",
    "        </td>\n",
    "    </tr>\n",
    "</table>\n",
    "\n",
    "<sup>*</sup><i style=\"font-size:70%;\">Don't worry if you have no idea what MapReduce is! You will learn it in the upcomming segments!</i>\n"
   ]
  },
  {
   "cell_type": "markdown",
   "metadata": {
    "slideshow": {
     "slide_type": "slide"
    }
   },
   "source": [
    "## Comparing the Three Parallel Computing Frameworks: Origin\n",
    "\n",
    "<br/>\n",
    "\n",
    "<table style=\"background-color:white;width:50%\">\n",
    "    <tr style=\"background-color:white;width:50%\">\n",
    "        <td style=\"text-align:left;\">\n",
    "            <center><img src = \"supplementary/dask_logo.png\" width = 100 height = 100></center>\n",
    "            <ul>\n",
    "                <li>\n",
    "Based on task scheduling\n",
    "                </li>\n",
    "                <li>\n",
    "Anaconda, 2015\n",
    "                </li>\n",
    "                <li>\n",
    "Developed for scaling Python code/packages\n",
    "                </li>\n",
    "                <li>\n",
    "                    Available in: Python\n",
    "                </li>\n",
    "                <li>\n",
    "                    Official Website: <a href=https://dask.org>https://dask.org</a>\n",
    "                </li>\n",
    "            </ul>\n",
    "        </td>\n",
    "    </tr>\n",
    "</table>\n",
    "\n",
    "<sup>*</sup><i style=\"font-size:70%;\">Don't worry if you have no idea what MapReduce is! You will learn it in the upcomming segments!</i>\n"
   ]
  },
  {
   "cell_type": "markdown",
   "metadata": {
    "slideshow": {
     "slide_type": "slide"
    }
   },
   "source": [
    "## Comparing the Three Parallel Computing Frameworks: Origin\n",
    "<br/>\n",
    "\n",
    "<table style=\"background-color:white;width:50%\">\n",
    "    <tr style=\"background-color:white;width:50%\">\n",
    "        <td style=\"text-align:left;\">\n",
    "            <center><img src = \"supplementary/ray_logo2.png\" width = 100 height = 100></center>\n",
    "            <ul>\n",
    "                <li>\n",
    "Based on tasks/actors\n",
    "                </li>\n",
    "                <li>\n",
    "U.C. Berkeley, 2016\n",
    "                </li>\n",
    "                <li>\n",
    "Initially focused on deep learning\n",
    "                </li>\n",
    "                <li>\n",
    "                    APIs: (initially in) C++/Python, Java, Python\n",
    "                </li>\n",
    "                <li>\n",
    "                    Official Website: <a href=https://www.ray.io>https://www.ray.io</a>\n",
    "                </li>\n",
    "            </ul>\n",
    "        </td>\n",
    "    </tr>\n",
    "</table>\n",
    "\n",
    "<sup>*</sup><i style=\"font-size:70%;\">Don't worry if you have no idea what MapReduce is! You will learn it in the upcomming segments!</i>\n"
   ]
  },
  {
   "cell_type": "markdown",
   "metadata": {
    "slideshow": {
     "slide_type": "slide"
    }
   },
   "source": [
    "## Comparing the Three Parallel Computing Frameworks: Popularity\n",
    "<br/>\n",
    "To get a sense of the popularity of these three packages we will look at the number of times these packages have been installed using pip command (<a href=https://pypistats.org>source</a>). Please note that as mentioned in the previous slide, these frameworks have been implemented in multiple different languages but here we only use the Python version of them to check the popularity. The statistics shown below are as of September 13, 2022. \n",
    "\n",
    "<center>\n",
    "    <table style=\"background-color:white;border:solid;\">\n",
    "        <tr style=\"background-color:white;border:solid;\">\n",
    "            <td style=\"border:solid;width:30%;text-align:left;\">\n",
    "                <center><img src = \"supplementary/spark_logo.png\" width = 100 height = 100></center>\n",
    "                <ul>\n",
    "                    <li>\n",
    "Downloads last day: 893K\n",
    "                    </li>\n",
    "                    <li>\n",
    "Downloads last week: 5.8M\n",
    "                    </li>\n",
    "                    <li>\n",
    "Downloads last month: 24M\n",
    "                    </li>\n",
    "                </ul>\n",
    "            </td>\n",
    "            <td style=\"border:solid;width:30%;text-align:left;\">\n",
    "                <center><img src = \"supplementary/dask_logo.png\" width = 100 height = 100></center>\n",
    "                <ul>\n",
    "                    <li>\n",
    "Downloads last day: 236K\n",
    "                    </li>\n",
    "                    <li>\n",
    "Downloads last week: 1.4M\n",
    "                    </li>\n",
    "                    <li>\n",
    "Downloads last month: 7M\n",
    "                    </li>\n",
    "                </ul>\n",
    "            </td>\n",
    "            <td style=\"border:solid;width:30%;text-align:left;\">\n",
    "                <center><img src = \"supplementary/ray_logo2.png\" width = 100 height = 100></center>\n",
    "                <ul>\n",
    "                    <li>\n",
    "Downloads last day: 66K\n",
    "                    </li>\n",
    "                    <li>\n",
    "Downloads last week: 477K\n",
    "                    </li>\n",
    "                    <li>\n",
    "Downloads last month: 1.8M\n",
    "                    </li>\n",
    "                </ul>\n",
    "            </td>\n",
    "        </tr>\n",
    "    </table>\n",
    "</center>\n",
    "\n"
   ]
  },
  {
   "cell_type": "markdown",
   "metadata": {
    "slideshow": {
     "slide_type": "slide"
    }
   },
   "source": [
    "## Apache Spark\n",
    "\n",
    "As shown in the previous slide, Apache Spark is the most popular parallel computing framework among the three. Therefore, we will be focusing on this package till the end of this lesson. Please note that the popularity is not indeed it's only advantage. There are many pros come with Apache Spark. You can review some of them <a href=https://towardsdatascience.com/the-what-why-and-when-of-apache-spark-6c27abc19527>here</a>.  \n",
    "\n"
   ]
  },
  {
   "cell_type": "markdown",
   "metadata": {
    "slideshow": {
     "slide_type": "slide"
    }
   },
   "source": [
    "Great! Now, let's delve into the Apache Spark in the next segment! <br><br>\n",
    "\n",
    "\n",
    "<font size=\"+1\"><a style=\"background-color:blue;color:white;padding:12px;margin:10px;font-weight:bold;\" href=\"pc-3.ipynb\">Click here to go to the next segment.</a></font>"
   ]
  }
 ],
 "metadata": {
  "celltoolbar": "Slideshow",
  "kernelspec": {
   "display_name": "Python 3 (ipykernel)",
   "language": "python",
   "name": "python3"
  },
  "language_info": {
   "codemirror_mode": {
    "name": "ipython",
    "version": 3
   },
   "file_extension": ".py",
   "mimetype": "text/x-python",
   "name": "python",
   "nbconvert_exporter": "python",
   "pygments_lexer": "ipython3",
   "version": "3.8.1"
  },
  "rise": {
   "autolaunch": true,
   "overlay": "<div class='hciheader'></div><div class='hcifooter'></div>",
   "scroll": true
  }
 },
 "nbformat": 4,
 "nbformat_minor": 4
}
