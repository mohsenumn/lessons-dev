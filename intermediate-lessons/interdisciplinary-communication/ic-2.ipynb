{
 "cells": [
  {
   "cell_type": "markdown",
   "metadata": {
    "hide_input": true,
    "slideshow": {
     "slide_type": "slide"
    }
   },
   "source": [
    "## Introduction to Interdisciplinary Communication\n",
    "### Segment 1 of 2\n",
    "\n",
    "*Lesson Developer: Jennifer Bernstein, bernstjm@usc.edu*"
   ]
  },
  {
   "cell_type": "markdown",
   "metadata": {
    "slideshow": {
     "slide_type": "slide"
    }
   },
   "source": [
    "## Thank you for helping our study\n",
    "\n",
    "\n",
    "<a href=\"#/slide-1-0\" class=\"navigate-right\" style=\"background-color:blue;color:white;padding:8px;margin:2px;font-weight:bold;\">Continue with the lesson</a>\n",
    "\n",
    "Throughout this lesson you will see reminders, like the one below, to ensure that all participants understand that they are in a voluntary research study.\n",
    "\n",
    "### Reminder\n",
    "\n",
    "<font size=\"+1\">\n",
    "\n",
    "By continuing with this lesson you are granting your permission to take part in this research study for the Hour of Cyberinfrastructure: Developing Cyber Literacy for GIScience project. In this study, you will be learning about cyberinfrastructure and related concepts using a web-based platform that will take approximately one hour per lesson. Participation in this study is voluntary.\n",
    "\n",
    "Participants in this research must be 18 years or older. If you are under the age of 18 then please exit this webpage or navigate to another website such as the Hour of Code at https://hourofcode.com, which is designed for K-12 students.\n",
    "\n",
    "If you are not interested in participating please exit the browser or navigate to this website: http://www.umn.edu. Your participation is voluntary and you are free to stop the lesson at any time.\n",
    "\n",
    "For the full description please navigate to this website: <a href=\"../../gateway-lesson/gateway/gateway-1.ipynb\">Gateway Lesson Research Study Permission</a>.\n",
    "\n",
    "</font>"
   ]
  },
  {
   "cell_type": "code",
   "execution_count": null,
   "metadata": {
    "hide_input": true,
    "init_cell": true,
    "slideshow": {
     "slide_type": "skip"
    },
    "tags": [
     "Hide"
    ]
   },
   "outputs": [],
   "source": [
    "# This code cell starts the necessary setup for Hour of CI lesson notebooks.\n",
    "# First, it enables users to hide and unhide code by producing a 'Toggle raw code' button below.\n",
    "# Second, it imports the hourofci package, which is necessary for lessons and interactive Jupyter Widgets.\n",
    "# Third, it helps hide/control other aspects of Jupyter Notebooks to improve the user experience\n",
    "# This is an initialization cell\n",
    "# It is not displayed because the Slide Type is 'Skip'\n",
    "\n",
    "from IPython.display import HTML, IFrame, Javascript, display\n",
    "from ipywidgets import interactive\n",
    "import ipywidgets as widgets\n",
    "from ipywidgets import Layout, Textarea\n",
    "\n",
    "import getpass # This library allows us to get the username (User agent string)\n",
    "\n",
    "# import package for hourofci project\n",
    "import sys\n",
    "sys.path.append('../../supplementary') # relative path (may change depending on the location of the lesson notebook)\n",
    "import hourofci\n",
    "\n",
    "import warnings\n",
    "warnings.filterwarnings('ignore') # Hide warnings\n",
    "\n",
    "# load javascript to initialize/hide cells, get user agent string, and hide output indicator\n",
    "# hide code by introducing a toggle button \"Toggle raw code\"\n",
    "# HTML(''' \n",
    "#     <script type=\"text/javascript\" src=\\\"../../supplementary/js/custom.js\\\"></script>\n",
    "    \n",
    "#     <input id=\"toggle_code\" type=\"button\" value=\"Toggle raw code\">\n",
    "# ''')\n",
    "\n",
    "HTML(''' \n",
    "    <script type=\"text/javascript\" src=\\\"../../supplementary/js/custom.js\\\"></script>\n",
    "    \n",
    "    <style>\n",
    "        .output_prompt{opacity:0;}\n",
    "    </style>\n",
    "    \n",
    "    <input id=\"toggle_code\" type=\"button\" value=\"Toggle raw code\">\n",
    "''')\n"
   ]
  },
  {
   "cell_type": "markdown",
   "metadata": {
    "slideshow": {
     "slide_type": "slide"
    }
   },
   "source": [
    "## Interdisciplinary communication \n",
    "#### What IS IC? And why does it matter?\n",
    "*\tWell, it’s complicated! The term is essentially unsettled because it relies on the term “disciplinary”, which is also unsettled\n",
    "*\tThat said, “use of communication tools to facilitate integration between different subject areas” (cite)\n",
    "\n",
    "#### Why does IC matter in the context of Cyberinfrastructure (CI)?\n",
    "*\tThrough data-sharing, CI supports interdisciplinary problem solving (social, environmental, economic, etc.)\n",
    "*\tWith CI’s increase in data speed and accessibility, it’s even more important for there to be clear communication between users, managers, analysts, and the general public\n",
    "*\tThe type of problem solving enabled by CI needs IC to maximize its potential\n"
   ]
  },
  {
   "cell_type": "markdown",
   "metadata": {
    "slideshow": {
     "slide_type": "slide"
    }
   },
   "source": [
    "## Science Communication \n",
    "* This unit covers science communication, a particular type of interdisciplinary communication \n",
    "* Science communication is…\n",
    "\n",
    "    “The use of appropriate skills, media, activities, and dialogue to produce one or more of the following <font style=\"color:red;\"><b>personal responses</b></font> to science: \n",
    "    \n",
    "<ul>\n",
    "    <li>\n",
    "<font style=\"color:red;\">Awareness</font>, including familiarity with new aspects of science;\n",
    "    </li>\n",
    "    <li>\n",
    "        <font style=\"color:red;\">Enjoyment</font> or other affective responses, e.g. appreciating science as entertainment or art; \n",
    "    </li>\n",
    "    <li>\n",
    "        <font style=\"color:red;\">Interest</font>, as evidenced by voluntary involvement with science or its communication; \n",
    "    </li>\n",
    "    <li>\n",
    "        <font style=\"color:red;\">Opinions</font>, the forming, reforming, or confirming of science-related attitudes; \n",
    "    </li>\n",
    "    <li>\n",
    "        <font style=\"color:red;\">Understanding</font> of science, its content, processes, and social factors. Science communication may involve science practitioners, mediators, and other members of the general public, either peer-to-peer or between groups” [1].\n",
    "    </li>\n",
    "</ul>\n",
    "\n",
    "<font style=\"font-size:17px;\">[1] Burns, T. W., O'Connor, D. J., & Stocklmayer, S. M. (2003). Science communication: a contemporary definition. Public understanding of science, 12(2), 183-202.</font>\n"
   ]
  },
  {
   "cell_type": "markdown",
   "metadata": {
    "slideshow": {
     "slide_type": "slide"
    }
   },
   "source": [
    "## Why do we need Science Communication? \n",
    "In the 1970’s, scientists were confused as to why the public thought nuclear energy was dangerous. \n",
    "There was a perception of nuclear as risky and fossil fuels as safe….despite data showing otherwise! Nuclear is one of the safest forms of energy when compared to air pollution. So, what happened?<br>\n",
    "Scientists came to realize that communicating the findings of their data was a field unto itself!<br>\n",
    "The deficit model <font style=\"color:red;\">is the idea that the public does not understand or act on scientific knowledge because they do not have enough information. <b>It has been widely debunked.</b></font><br>\n",
    "Science communication was simply seen as a form of information transmission. The idea was that the facts speak for themselves; findings will be interpreted the same by all groups. <br>\n",
    "<b>That isn’t true.</b>\n",
    " "
   ]
  },
  {
   "cell_type": "markdown",
   "metadata": {
    "slideshow": {
     "slide_type": "slide"
    }
   },
   "source": [
    "## Why do we need Science Communication? \n",
    "The deficit model <font style=\"color:red;\"><b>has been widely debunked.</b></font> \n",
    "#### Why?\n",
    "<ul>\n",
    "    <li>\n",
    "It’s a one-way means of communication, and condescending towards audiences.\n",
    "    </li>\n",
    "    <li>\n",
    "More information does not change people’s understanding or acceptance of science. \n",
    "    </li>\n",
    "    <li>\n",
    "The strongest predictors are not scientific accuracy or comprehension. Rather they are…\n",
    "        <ul>\n",
    "            <li>\n",
    "Political partisanship \n",
    "            </li>\n",
    "            <li>\n",
    "Religious identity \n",
    "            </li>\n",
    "            <li>\n",
    "Demographics (race and gender, in particular)\n",
    "            </li>\n",
    "        </ul>\n",
    "    </li>\n",
    "    <li>\n",
    "        <b>Basically, telling people more about the data doesn’t work.</b>\n",
    "    </li>\n",
    "</ul>\n"
   ]
  },
  {
   "cell_type": "markdown",
   "metadata": {
    "slideshow": {
     "slide_type": "slide"
    }
   },
   "source": [
    "## So how do people understand science?  \n",
    "Risk Perception\n",
    "<ul>\n",
    "    <li>\n",
    "        <b><font color=\"red\">Risk perception</font></b> refers to the degree to which a phenomenon is seen as having adverse effects (nuclear power, GMO’s, vaccinations, etc.). \n",
    "    </li>\n",
    "    <li>\n",
    "Two major factors here: there is the risk itself, and there is the person interpreting the risk\n",
    "    </li>\n",
    "</ul>\n",
    "\n",
    "\n",
    "<center><font style=\"color:blue;\">[INSERT INTERACTIVE UNIT 1: Factors of risk perception HERE]</font></center>\n",
    "\n",
    "\n",
    "Motivated Reasoning\n",
    "<ul>\n",
    "    <li>\n",
    "Humans evaluate new information based on their pre-existing worldviews \n",
    "    </li>\n",
    "    <li>\n",
    "When new information contradicts one’s worldview, more likely to reject the science\n",
    "    </li>\n",
    "</ul>\n",
    "\n",
    "Reference Groups \n",
    "<ul>\n",
    "    <li>\n",
    "A reference group is a group of people to whom an individual compares themselves\n",
    "    </li>\n",
    "    <li>\n",
    "The opinions of thought leaders in one’s reference group is a strong predictor of science interpretation\n",
    "    </li>\n",
    "</ul>\n"
   ]
  },
  {
   "cell_type": "markdown",
   "metadata": {
    "slideshow": {
     "slide_type": "slide"
    }
   },
   "source": [
    "## The Lay Public and Science Literacy\n",
    "If it’s not a lack of information, how does the public reason about scientific data?\n",
    "<ol>\n",
    "    <li>\n",
    "Have scientific predictions come true?\n",
    "    </li> \n",
    "    <li>\n",
    "Have scientists consulted other types of available knowledge?\n",
    "    </li> \n",
    "    <li>\n",
    "Do scientists admit when they are wrong?\n",
    "    </li> \n",
    "    <li>\n",
    "What are the social and institutional connections of scientists?\n",
    "    </li> \n",
    "    <li>\n",
    "How do findings line up with perceived reality (e.g., heat waves and climate change)?\n",
    "    </li> \n",
    "</ol>\n",
    "\n",
    "\n",
    "<b>Bottom line?</b> <font style=\"color:red;\">Many factors influence how an individual interprets science, from the topic to the characteristics of the Individual. How the general public understands and perceives science is based on factors other than science communication. </font>\n"
   ]
  },
  {
   "cell_type": "markdown",
   "metadata": {
    "slideshow": {
     "slide_type": "slide"
    }
   },
   "source": [
    "## “Above all else, show the data”\n",
    "Okay, audiences are complicated! Now what?\n",
    "   ### Information Design\n",
    "   <ul>\n",
    "    <li>\n",
    "       Designing information to communicate in ways that are <font style=\"color:red;\">efficient</font>, <font style=\"color:red;\">clear</font>, and <font style=\"color:red;\">honest</font>.\n",
    "        <ul>\n",
    "            <li>\n",
    "                Often it means <font style=\"color:red;\">carving up information</font> and <font style=\"color:red;\">packaging it for particular audiences.</font>\n",
    "            </li>\n",
    "        </ul>\n",
    "    </li>\n",
    "    <li>\n",
    "       Less about aesthetics, and more about clarity (though there is always room for creativity). \n",
    "    </li>\n",
    "    <li>\n",
    "       Cartography is a type of information design, as are charts, tables, and other visualizations.\n",
    "    </li>\n",
    "   </ul>\n",
    "   \n",
    "   ### Data Ink Ratio\n",
    "   <ul>\n",
    "    <li>\n",
    "Information design should strive to communicate the most amount of information with the least amount of ink (Tufte 2001)\n",
    "    </li>\n",
    "    <li>\n",
    "“Chart junk” is ink that does not add information; this should not be confused with aesthetics \n",
    "    </li>\n",
    "   </ul>\n",
    "\n",
    "Watch a video in the next slide to learn more about the Data to Ink Ratio. "
   ]
  },
  {
   "cell_type": "code",
   "execution_count": null,
   "metadata": {
    "hide_input": true,
    "slideshow": {
     "slide_type": "-"
    },
    "tags": [
     "Hide",
     "Init"
    ]
   },
   "outputs": [],
   "source": [
    "from IPython.display import YouTubeVideo\n",
    "\n",
    "YouTubeVideo('JIMUzJzqaA8', width=800,height=480)\n",
    "  "
   ]
  },
  {
   "cell_type": "markdown",
   "metadata": {
    "slideshow": {
     "slide_type": "slide"
    }
   },
   "source": [
    "\n",
    "<table>\n",
    "    <tr style=\"background: #fff; text-align: left; border:solid\">\n",
    "        <td style=\"width: 40%;background: #fff; text-align: left;border:solid\">\n",
    "<img src=\"supplementary/tufte.jpg\" width=\"50%\">\n",
    "        </td>\n",
    "        <td style=\"width: 60%; background: #fff; text-align: left; vertical-align: top;font-size: 23px;border:solid\"> \n",
    "            <b>Edward Tufte</b> is a statistician and well-known for his influence on the world of information design. He is best known for the “data-ink” ratio, his use of small multiples and sparklines, and his vicious critique of PowerPoint.<br>\n",
    "Learn more on his website: <a href = https://www.edwardtufte.com/tufte> https://www.edwardtufte.com/tufte </a>\n",
    "    </td>\n",
    "    </tr>\n",
    "</table>\n",
    "\n",
    "For example…\n",
    "<ul>\n",
    "    <li>\n",
    "Look at the images below. On the left, there is a great amount of ink not conveying information. The right uses much less ink to convey the same information\n",
    "    </li>\n",
    "</ul>\n"
   ]
  },
  {
   "cell_type": "markdown",
   "metadata": {
    "slideshow": {
     "slide_type": "slide"
    }
   },
   "source": [
    "\n",
    "<table style=\"width:60%\">\n",
    "    <tr style=\"background: #fff; text-align: left; border:solid;\">\n",
    "        <td style=\"background: #fff; text-align: left;border:solid\">\n",
    "            <center><img src=\"supplementary/monster.jpg\"></center>\n",
    "        </td>\n",
    "        <td style=\"background: #fff; text-align: left; vertical-align: top;border:solid\"> \n",
    "           <center><img src=\"supplementary/monster_inkless.jpg\"></center>\n",
    "    </td>\n",
    "    </tr>\n",
    "</table>\n",
    "\n",
    "What additional ink could be eliminated from the figure on the right? \n"
   ]
  },
  {
   "cell_type": "code",
   "execution_count": null,
   "metadata": {
    "hide_input": false,
    "slideshow": {
     "slide_type": "-"
    },
    "tags": [
     "Init",
     "Hide"
    ]
   },
   "outputs": [],
   "source": [
    "tarea1 = Textarea(\n",
    "            value='',\n",
    "            placeholder='Type your answer here',\n",
    "            description='',\n",
    "            disabled=False,\n",
    "            layout=Layout( height='100px', min_height='100px', width='500px')\n",
    "            )\n",
    "\n",
    "\n",
    "display(tarea1)\n",
    "\n",
    "hourofci.SubmitBtn2(tarea1)"
   ]
  },
  {
   "cell_type": "markdown",
   "metadata": {
    "slideshow": {
     "slide_type": "slide"
    }
   },
   "source": [
    "**Answer:** The bars could be make into vertical lines; the tickmarks could be white; the box around the outside of the chart could be eliminated.\n",
    "\n"
   ]
  },
  {
   "cell_type": "markdown",
   "metadata": {
    "slideshow": {
     "slide_type": "slide"
    }
   },
   "source": [
    "## Now it’s your turn!\n",
    "\n",
    "Look at the chart below. Click on the components that violate the data-ink ratio. What ink doesn’t communicate additional information?\n",
    "\n",
    "<center><font style=\"color:blue;\">INSERT INTERACTIVE UNIT 2: Erase non-data ink HERE]</font></center>\n"
   ]
  },
  {
   "cell_type": "code",
   "execution_count": null,
   "metadata": {
    "slideshow": {
     "slide_type": "skip"
    },
    "tags": [
     "Hide",
     "Init"
    ]
   },
   "outputs": [],
   "source": [
    "# %%html\n",
    "# <iframe src = \"https://xkcd.com/simplewriter\" width=\"100%\" height=\"500\"></iframe>\n"
   ]
  },
  {
   "cell_type": "markdown",
   "metadata": {
    "slideshow": {
     "slide_type": "slide"
    }
   },
   "source": [
    "## Color\n",
    "<ul>\n",
    "    <li>\n",
    "Color is a critical component of effective information design, especially in cartography\n",
    "    </li>\n",
    "    <li>\n",
    "First and foremost, color should mirror the data being presented   \n",
    "    </li>\n",
    "</ul>\n",
    "\n",
    "**Sequentials**\n",
    "\n",
    "<img src=\"supplementary/color.png\" width=400px>\n",
    "\n",
    "\n",
    "**Note:** While the rainbow color scheme is generally culturally understood to be linear, it is qualitative!\n",
    "<ul>\n",
    "    <li>\n",
    "Color can be used for persuasion: red signals stop, green means go\n",
    "    </li>\n",
    "</ul>\t"
   ]
  },
  {
   "cell_type": "markdown",
   "metadata": {
    "slideshow": {
     "slide_type": "slide"
    }
   },
   "source": [
    "## Colorblindness \n",
    "\n",
    "\n",
    "<ul>\n",
    "    <li>\n",
    "       Colorblindness affects 7% of men \n",
    "    </li>\n",
    "    <li>\n",
    "        Effects how we design maps\n",
    "    </li>\n",
    "    <li>\n",
    "        Primarily confusion between red and green, but it’s more complicated than that…\n",
    "    </li>\n",
    "</ul>\t\n",
    "\n",
    ">Red/green color blindness is not simply a problem with confusing red and green. It also causes problems with an unlimited pairing of colors that fall on the confusion line. For example problems can occur distinguishing between blue-green and pink or blue-green and purple. Color-blind individuals may not be able to distinguish between olive-colored and rust-colored socks, while they could distinguish between bright green and olive socks, rust and red socks or rust and bright green socks. <br>$\\qquad$ $\\qquad$ $\\qquad$ $\\qquad$ $\\qquad$-Cynthia Brewer in Dempsey 2011"
   ]
  },
  {
   "cell_type": "markdown",
   "metadata": {
    "slideshow": {
     "slide_type": "slide"
    }
   },
   "source": [
    "## Colorblindness\n",
    "\n",
    "<table>\n",
    "    <tr style=\"background: #fff; text-align: left; vertical-align:\">\n",
    "        <td style=\"width: 50%; background: #fff; text-align: left;\"> \n",
    "            <h2>The map presented to a general audience</h2>\n",
    "           <img src=\"supplementary/map_l.png\" width=300>\n",
    "        </td>\n",
    "        <td>\n",
    "        </td>\n",
    "        <td style=\"width: 50%; background: #fff; text-align: left;\">\n",
    "            <h2>The same map to one with colorblindness</h2>\n",
    "            <img src=\"supplementary/map_r.png\" width=300>\n",
    "        </td>\n",
    "    </tr>\n",
    "</table>\n",
    "\n",
    "\n"
   ]
  },
  {
   "cell_type": "markdown",
   "metadata": {
    "slideshow": {
     "slide_type": "slide"
    }
   },
   "source": [
    "## Colorblindness\n",
    "\n",
    "<ul>\n",
    "    <li>\n",
    "       This image demonstrates the different ways color can be perceived\n",
    "    </li>\n",
    "</ul>\t\n",
    "\n",
    "<center><img src=\"supplementary/blind.jpg\" width=700></center>"
   ]
  },
  {
   "cell_type": "markdown",
   "metadata": {
    "slideshow": {
     "slide_type": "slide"
    }
   },
   "source": [
    "## Visualizing for Biodiversity: Applying what we’ve learned\n",
    "Cyberinfrastructure and visualization; More data, more collaboration, more quickly\n",
    "\n",
    "#### Scenario\n",
    "<ul>\n",
    "    <li>\n",
    "You are a data analyst presenting [biodiversity data?] to [Senate? House?] for [?]\n",
    "    </li>\n",
    "</ul>\n",
    "\n",
    "#### Think about what we have learned\n",
    "<ul>\n",
    "    <li>\n",
    "Different audiences interpret science differently\n",
    "    </li>\n",
    "    <li>\n",
    "All ink should maximize information\n",
    "    </li>\n",
    "    <li>\n",
    "Color schemes and colorblindness\n",
    "    </li>\n",
    "</ul>\n",
    "\n",
    "Based on your interpretation of the data, how would you make the following science communication decisions?\n",
    "\n",
    "<center><font style=\"color:blue;\">[INSERT INTERACTIVE UNIT 3: Visualizing Biodiversity HERE]</font></center>\n"
   ]
  },
  {
   "cell_type": "markdown",
   "metadata": {
    "hide_input": false,
    "slideshow": {
     "slide_type": "slide"
    }
   },
   "source": [
    "\n",
    "\n",
    "<font size=\"+1\"><a style=\"background-color:blue;color:white;padding:12px;margin:10px;font-weight:bold;\" href=\"ic-3.ipynb\">Click here to go to the next notebook.</a></font>"
   ]
  }
 ],
 "metadata": {
  "celltoolbar": "Edit Metadata",
  "kernelspec": {
   "display_name": "Python 3 (ipykernel)",
   "language": "python",
   "name": "python3"
  },
  "language_info": {
   "codemirror_mode": {
    "name": "ipython",
    "version": 3
   },
   "file_extension": ".py",
   "mimetype": "text/x-python",
   "name": "python",
   "nbconvert_exporter": "python",
   "pygments_lexer": "ipython3",
   "version": "3.8.1"
  },
  "rise": {
   "autolaunch": true,
   "overlay": "<div class='hciheader'></div><div class='hcifooter'></div>",
   "scroll": true
  }
 },
 "nbformat": 4,
 "nbformat_minor": 4
}
