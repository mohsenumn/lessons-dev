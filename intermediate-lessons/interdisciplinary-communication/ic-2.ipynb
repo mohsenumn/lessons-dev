{
 "cells": [
  {
   "cell_type": "markdown",
   "metadata": {
    "hide_input": true,
    "slideshow": {
     "slide_type": "slide"
    }
   },
   "source": [
    "# Intermediate Interdisciplinary Communication\n",
    "## Introduction to Science Communication \n",
    "### Segment 1 of 4\n",
    "\n",
    "*Lesson Developer: Jennifer Bernstein, bernstjm@usc.edu*"
   ]
  },
  {
   "cell_type": "markdown",
   "metadata": {
    "slideshow": {
     "slide_type": "slide"
    }
   },
   "source": [
    "## Thank you for helping our study\n",
    "\n",
    "\n",
    "<a href=\"#/slide-1-0\" class=\"navigate-right\" style=\"background-color:blue;color:white;padding:8px;margin:2px;font-weight:bold;\">Continue with the lesson</a>\n",
    "\n",
    "Throughout this lesson you will see reminders, like the one below, to ensure that all participants understand that they are in a voluntary research study.\n",
    "\n",
    "### Reminder\n",
    "\n",
    "<font size=\"+1\">\n",
    "\n",
    "By continuing with this lesson you are granting your permission to take part in this research study for the Hour of Cyberinfrastructure: Developing Cyber Literacy for GIScience project. In this study, you will be learning about cyberinfrastructure and related concepts using a web-based platform that will take approximately one hour per lesson. Participation in this study is voluntary.\n",
    "\n",
    "Participants in this research must be 18 years or older. If you are under the age of 18 then please exit this webpage or navigate to another website such as the Hour of Code at https://hourofcode.com, which is designed for K-12 students.\n",
    "\n",
    "If you are not interested in participating please exit the browser or navigate to this website: http://www.umn.edu. Your participation is voluntary and you are free to stop the lesson at any time.\n",
    "\n",
    "For the full description please navigate to this website: <a href=\"../../gateway-lesson/gateway/gateway-1.ipynb\">Gateway Lesson Research Study Permission</a>.\n",
    "\n",
    "</font>"
   ]
  },
  {
   "cell_type": "code",
   "execution_count": null,
   "metadata": {
    "hide_input": true,
    "init_cell": true,
    "slideshow": {
     "slide_type": "skip"
    },
    "tags": [
     "Hide"
    ]
   },
   "outputs": [],
   "source": [
    "# This code cell starts the necessary setup for Hour of CI lesson notebooks.\n",
    "# First, it enables users to hide and unhide code by producing a 'Toggle raw code' button below.\n",
    "# Second, it imports the hourofci package, which is necessary for lessons and interactive Jupyter Widgets.\n",
    "# Third, it helps hide/control other aspects of Jupyter Notebooks to improve the user experience\n",
    "# This is an initialization cell\n",
    "# It is not displayed because the Slide Type is 'Skip'\n",
    "\n",
    "from IPython.display import HTML, IFrame, Javascript, display\n",
    "from ipywidgets import interactive\n",
    "import ipywidgets as widgets\n",
    "from ipywidgets import Layout, Textarea, HBox, VBox\n",
    "\n",
    "import getpass # This library allows us to get the username (User agent string)\n",
    "\n",
    "# import package for hourofci project\n",
    "import sys\n",
    "sys.path.append('../../supplementary') # relative path (may change depending on the location of the lesson notebook)\n",
    "import hourofci\n",
    "\n",
    "import warnings\n",
    "warnings.filterwarnings('ignore') # Hide warnings\n",
    "\n",
    "# load javascript to initialize/hide cells, get user agent string, and hide output indicator\n",
    "# hide code by introducing a toggle button \"Toggle raw code\"\n",
    "# HTML(''' \n",
    "#     <script type=\"text/javascript\" src=\\\"../../supplementary/js/custom.js\\\"></script>\n",
    "    \n",
    "#     <input id=\"toggle_code\" type=\"button\" value=\"Toggle raw code\">\n",
    "# ''')\n",
    "\n",
    "HTML(''' \n",
    "    <script type=\"text/javascript\" src=\\\"../../supplementary/js/custom.js\\\"></script>\n",
    "    \n",
    "    <style>\n",
    "        .output_prompt{opacity:0;}\n",
    "    </style>\n",
    "    \n",
    "    <input id=\"toggle_code\" type=\"button\" value=\"Toggle raw code\">\n",
    "''')\n"
   ]
  },
  {
   "cell_type": "markdown",
   "metadata": {
    "slideshow": {
     "slide_type": "slide"
    }
   },
   "source": [
    "## Science Communications is one facet of the more general domain of Interdisciplinary Communications\n",
    "\n",
    "So first, let's review... \n",
    "\n",
    "### What IS Interdisciplinary Communications? And why does it matter?\n",
    "*\tWell, it’s complicated! The term is essentially unsettled because it relies on the term “disciplinary”, which is also unsettled\n",
    "*\tThat said, interdisciplinary communication (IC) is the use of communication tools to facilitate integration between different subject areas\n",
    "</p>\n",
    "\n",
    "### Why does IC matter in the context of Cyberinfrastructure (CI)?\n",
    "*\tThrough data-sharing, CI supports interdisciplinary problem solving (social, environmental, economic, etc.)\n",
    "*\tWith CI’s increase in data speed and accessibility, it’s even more important for there to be clear communication between users, managers, analysts, and the general public\n",
    "*\tThe type of problem solving enabled by CI needs IC to maximize its potential\n"
   ]
  },
  {
   "cell_type": "markdown",
   "metadata": {
    "slideshow": {
     "slide_type": "slide"
    }
   },
   "source": [
    "## Science Communication \n",
    "This lesson covers science communication, a particular type of interdisciplinary communication \n",
    "\n",
    "After completing this lesson, you will be able to:\n",
    "* Articulate the importance of science communication and some theories underlying the field.\n",
    "* State the demographic and psychological factors that predict how science information is interpreted and acted upon.\n",
    "* Explain the idea of information design and use the data-ink ratio concept to improve visualizations.\n",
    "* Explore biodiversity data and apply appropriate information design techniques for clear communication, tailoring design techniques to the target audience.\n"
   ]
  },
  {
   "cell_type": "markdown",
   "metadata": {
    "slideshow": {
     "slide_type": "slide"
    }
   },
   "source": [
    "<center><img src=\"supplementary/USGS_1836.jpg\" width=\"50%\"> <small>Image of \"Gentlemen engaged in geological pursuits, 1836\" from the <a href = https://pubs.usgs.gov/circ/c1050/before.htm> USGS.</small></a></center>\n",
    "\n",
    "Science can be understood as the process of distinguishing the possible from the actual. \n",
    "\n",
    "Millions upon millions of decisions are contingent on scientific findings. \n",
    "\n",
    "The communication of these findings to decision makers and the general public is the bridge that turns research into action. "
   ]
  },
  {
   "cell_type": "markdown",
   "metadata": {
    "slideshow": {
     "slide_type": "slide"
    }
   },
   "source": [
    "Cyberinfrastructure provides unprecedented opportunities for more effective scientific communication due to the increased volume of available data. \n",
    "\n",
    "In addition, there are more capabilities for interdisciplinary communication, services like real-time analytics and scalability, and improved visualization tools. \n",
    "\n",
    "But, as it has been said, with great power comes great responsibility. \n",
    "\n",
    "Effectively communicating findings to a target audience and having the audience be receptive to those findings is at the core of science communication. With cyberinfrastructure, the possibilities are more and thus must be taken seriously."
   ]
  },
  {
   "cell_type": "markdown",
   "metadata": {
    "slideshow": {
     "slide_type": "slide"
    }
   },
   "source": [
    "Science communication is \"The use of appropriate skills, media, activities, and dialogue to produce one or more of the following <font style=\"color:red;\"><b>personal responses</b></font> to science: \n",
    "    \n",
    "<ul>\n",
    "    <li>\n",
    "<font style=\"color:red;\">Awareness</font>, including familiarity with new aspects of science;\n",
    "    </li>\n",
    "    <li>\n",
    "        <font style=\"color:red;\">Enjoyment</font> or other affective responses, e.g. appreciating science as entertainment or art; \n",
    "    </li>\n",
    "    <li>\n",
    "        <font style=\"color:red;\">Interest</font>, as evidenced by voluntary involvement with science or its communication; \n",
    "    </li>\n",
    "    <li>\n",
    "        <font style=\"color:red;\">Opinions</font>, the forming, reforming, or confirming of science-related attitudes; \n",
    "    </li>\n",
    "    <li>\n",
    "        <font style=\"color:red;\">Understanding</font> of science, its content, processes, and social factors. \n",
    "   </li> </ul></p>    \n",
    "Science communication may involve science practitioners, mediators, and other members of the general public, either peer-to-peer or between groups” [1].   \n",
    "\n",
    "\n",
    "<font style=\"font-size:17px;\">[1] Burns, T. W., O'Connor, D. J., & Stocklmayer, S. M. (2003). Science communication: a contemporary definition. Public understanding of science, 12(2), 183-202.</font>\n"
   ]
  },
  {
   "cell_type": "markdown",
   "metadata": {
    "slideshow": {
     "slide_type": "slide"
    }
   },
   "source": [
    "## Science communication emerged as a field in the United States in the 1970’s \n",
    "\n",
    "In the 1970’s, scientists were puzzled as to why the public thought nuclear energy was dangerous. \n",
    "\n",
    "Despite carefully vetted scientific data and reputable messengers, the general public saw nuclear power as risky and fossil fuels as safe, even though it had been clearly shown that nuclear is one of the safest forms of energy when compared to air pollution from fossil fuels. \n",
    "\n",
    "<center><img src=\"supplementary/powerplant_pixabay.jpg\" width=\"30%\"> <small><a href = \"https://pixabay.com/photos/power-plant-coal-outdoors-navaho-84094\">Image</a> of a coal fired powerplant from <a href = https://pixabay.com/service/terms/> Pixabay.</small></a></center>\n",
    "\n",
    "Scientists came to realize that communicating the findings of their data was a field unto itself."
   ]
  },
  {
   "cell_type": "markdown",
   "metadata": {
    "slideshow": {
     "slide_type": "slide"
    }
   },
   "source": [
    "There is a now great deal of social science research on science communication that can assist data scientists, analysts, and others as to why there is often a discrepancy between what scientists attempt to communicate and how it is received by a particular audience. \n",
    "\n",
    "To give you a taste of this expanding field, let's take a closer look at a few of the foundations of scientific communication.\n"
   ]
  },
  {
   "cell_type": "markdown",
   "metadata": {
    "hide_input": false,
    "slideshow": {
     "slide_type": "-"
    }
   },
   "source": [
    "\n",
    "\n",
    "<font size=\"+1\"><a style=\"background-color:blue;color:white;padding:12px;margin:10px;font-weight:bold;\" href=\"ic-3.ipynb\">Click here to go to the next notebook.</a></font>"
   ]
  }
 ],
 "metadata": {
  "celltoolbar": "Slideshow",
  "kernelspec": {
   "display_name": "Python 3 (ipykernel)",
   "language": "python",
   "name": "python3"
  },
  "language_info": {
   "codemirror_mode": {
    "name": "ipython",
    "version": 3
   },
   "file_extension": ".py",
   "mimetype": "text/x-python",
   "name": "python",
   "nbconvert_exporter": "python",
   "pygments_lexer": "ipython3",
   "version": "3.7.16"
  },
  "rise": {
   "autolaunch": true,
   "overlay": "<div class='hciheader'></div><div class='hcifooter'></div>",
   "scroll": true
  }
 },
 "nbformat": 4,
 "nbformat_minor": 4
}
