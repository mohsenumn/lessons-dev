{
 "cells": [
  {
   "cell_type": "markdown",
   "metadata": {
    "hide_input": true,
    "slideshow": {
     "slide_type": "slide"
    }
   },
   "source": [
    "# Intermediate Interdisciplinary Communication\n",
    "## Introduction to Science Communication \n",
    "### Segment 2 of 4\n",
    "## Some underlying theories\n",
    "\n",
    "*Lesson Developer: Jennifer Bernstein, bernstjm@usc.edu*"
   ]
  },
  {
   "cell_type": "markdown",
   "metadata": {
    "slideshow": {
     "slide_type": "slide"
    }
   },
   "source": [
    "## Thank you for helping our study\n",
    "\n",
    "\n",
    "<a href=\"#/slide-1-0\" class=\"navigate-right\" style=\"background-color:blue;color:white;padding:8px;margin:2px;font-weight:bold;\">Continue with the lesson</a>\n",
    "\n",
    "Throughout this lesson you will see reminders, like the one below, to ensure that all participants understand that they are in a voluntary research study.\n",
    "\n",
    "### Reminder\n",
    "\n",
    "<font size=\"+1\">\n",
    "\n",
    "By continuing with this lesson you are granting your permission to take part in this research study for the Hour of Cyberinfrastructure: Developing Cyber Literacy for GIScience project. In this study, you will be learning about cyberinfrastructure and related concepts using a web-based platform that will take approximately one hour per lesson. Participation in this study is voluntary.\n",
    "\n",
    "Participants in this research must be 18 years or older. If you are under the age of 18 then please exit this webpage or navigate to another website such as the Hour of Code at https://hourofcode.com, which is designed for K-12 students.\n",
    "\n",
    "If you are not interested in participating please exit the browser or navigate to this website: http://www.umn.edu. Your participation is voluntary and you are free to stop the lesson at any time.\n",
    "\n",
    "For the full description please navigate to this website: <a href=\"../../gateway-lesson/gateway/gateway-1.ipynb\">Gateway Lesson Research Study Permission</a>.\n",
    "\n",
    "</font>"
   ]
  },
  {
   "cell_type": "code",
   "execution_count": null,
   "metadata": {
    "hide_input": true,
    "init_cell": true,
    "slideshow": {
     "slide_type": "skip"
    },
    "tags": [
     "Hide"
    ]
   },
   "outputs": [],
   "source": [
    "# This code cell starts the necessary setup for Hour of CI lesson notebooks.\n",
    "# First, it enables users to hide and unhide code by producing a 'Toggle raw code' button below.\n",
    "# Second, it imports the hourofci package, which is necessary for lessons and interactive Jupyter Widgets.\n",
    "# Third, it helps hide/control other aspects of Jupyter Notebooks to improve the user experience\n",
    "# This is an initialization cell\n",
    "# It is not displayed because the Slide Type is 'Skip'\n",
    "\n",
    "from IPython.display import HTML, IFrame, Javascript, display\n",
    "from ipywidgets import interactive\n",
    "import ipywidgets as widgets\n",
    "from ipywidgets import Layout, Textarea, HBox, VBox\n",
    "\n",
    "import getpass # This library allows us to get the username (User agent string)\n",
    "\n",
    "# import package for hourofci project\n",
    "import sys\n",
    "sys.path.append('../../supplementary') # relative path (may change depending on the location of the lesson notebook)\n",
    "import hourofci\n",
    "\n",
    "import warnings\n",
    "warnings.filterwarnings('ignore') # Hide warnings\n",
    "\n",
    "# load javascript to initialize/hide cells, get user agent string, and hide output indicator\n",
    "# hide code by introducing a toggle button \"Toggle raw code\"\n",
    "# HTML(''' \n",
    "#     <script type=\"text/javascript\" src=\\\"../../supplementary/js/custom.js\\\"></script>\n",
    "    \n",
    "#     <input id=\"toggle_code\" type=\"button\" value=\"Toggle raw code\">\n",
    "# ''')\n",
    "\n",
    "HTML(''' \n",
    "    <script type=\"text/javascript\" src=\\\"../../supplementary/js/custom.js\\\"></script>\n",
    "    \n",
    "    <style>\n",
    "        .output_prompt{opacity:0;}\n",
    "    </style>\n",
    "    \n",
    "    <input id=\"toggle_code\" type=\"button\" value=\"Toggle raw code\">\n",
    "''')\n"
   ]
  },
  {
   "cell_type": "markdown",
   "metadata": {
    "slideshow": {
     "slide_type": "slide"
    }
   },
   "source": [
    "### The deficit model of scientific communication\n",
    "\n",
    "Initially, researchers settled on the <i>deficit model</i> of science communition which is the idea that <font style=\"color:red;\">the public does not understand or act on scientific knowledge because they do not have enough information. </font>\n",
    "\n",
    "The Deficit Model depends on the concept that the absorption of scientific information will occur simply through a one-way transmission of facts from scientists to their audience.\n",
    "\n",
    "Science communication was simply seen as a form of information transmission. The idea was that the facts speak for themselves; findings will be interpreted the same by all groups."
   ]
  },
  {
   "cell_type": "markdown",
   "metadata": {
    "slideshow": {
     "slide_type": "fragment"
    }
   },
   "source": [
    "## That isn’t true."
   ]
  },
  {
   "cell_type": "markdown",
   "metadata": {
    "slideshow": {
     "slide_type": "slide"
    }
   },
   "source": [
    "The deficit model <font style=\"color:red;\"><b>has been widely debunked.</b></font> \n",
    "### Why?\n",
    "\n",
    "It assumes a one-way means of communication, and is condescending towards audiences.\n",
    "\n",
    "More information does not change people’s understanding or acceptance of science. \n",
    "\n",
    "The strongest predictors of acceptance are not scientific accuracy or comprehension. Rather they are\n",
    "<ul>\n",
    "<li>Political partisanship \n",
    "<li>Religious identity \n",
    "<li>Demographics (race and gender, in particular)\n",
    "</ul>\n",
    "\n",
    "<b>Basically, telling people more about the data doesn’t work.</b>"
   ]
  },
  {
   "cell_type": "markdown",
   "metadata": {
    "slideshow": {
     "slide_type": "slide"
    }
   },
   "source": [
    "## So how do people understand science?  \n",
    "Risk Perception plays a major role.\n",
    "<ul>\n",
    "    <li>\n",
    "        <b><font color=\"red\">Risk perception</font></b> refers to the degree to which a phenomenon (think nuclear power, GMO’s, vaccinations, etc.) is seen as having adverse effects. \n",
    "    </li>\n",
    "    <li>\n",
    "Two major factors are in play here: there is the risk itself, and there is the person interpreting the risk\n",
    "    </li>\n",
    "</ul>\n",
    "\n",
    "\n"
   ]
  },
  {
   "cell_type": "markdown",
   "metadata": {
    "slideshow": {
     "slide_type": "-"
    }
   },
   "source": [
    "Which of the following would you guess would increase perception of a particular risk, and by how much?\n"
   ]
  },
  {
   "cell_type": "code",
   "execution_count": null,
   "metadata": {
    "hide_input": true,
    "slideshow": {
     "slide_type": "-"
    },
    "tags": [
     "Init",
     "Hide"
    ]
   },
   "outputs": [],
   "source": [
    "\n",
    "check1 = widgets.Checkbox(\n",
    "    value=False,\n",
    "    description='A great deal',\n",
    "    disabled=False\n",
    ")\n",
    "check2 = widgets.Checkbox(\n",
    "    value=False,\n",
    "    description='Some',\n",
    "    disabled=False\n",
    ")\n",
    "check3 = widgets.Checkbox(\n",
    "    value=False,\n",
    "    description='Not at all',\n",
    "    disabled=False\n",
    ")\n",
    "\n",
    "check4 = widgets.Checkbox(\n",
    "    value=False,\n",
    "    description='Observability ',\n",
    "    disabled=False\n",
    ")\n",
    "check5 = widgets.Checkbox(\n",
    "    value=False,\n",
    "    description='Degree of catastrophic consequences',\n",
    "    disabled=False\n",
    ")\n",
    "\n",
    "check6 = widgets.Checkbox(\n",
    "    value=False,\n",
    "    description='Voluntariness of exposure',\n",
    "    disabled=False\n",
    ")\n",
    "check7 = widgets.Checkbox(\n",
    "    value=False,\n",
    "    description='Recentness',\n",
    "    disabled=False\n",
    ")\n",
    "check8 = widgets.Checkbox(\n",
    "    value=False,\n",
    "    description='Degree of proximate exposure',\n",
    "    disabled=False\n",
    ")\n",
    "\n",
    "check1.style = {'description_width': '0px'}\n",
    "check2.style = {'description_width': '0px'}\n",
    "check3.style = {'description_width': '0px'}\n",
    "check4.style = {'description_width': '0px'}\n",
    "check5.style = {'description_width': '0px'}\n",
    "check6.style = {'description_width': '0px'}\n",
    "check7.style = {'description_width': '0px'}\n",
    "check8.style = {'description_width': '0px'}\n",
    "\n",
    "box_layout1 = Layout(display='flex',\n",
    "                    border='solid',\n",
    "                    width='40%',\n",
    "                    description_width= '0px')\n",
    "box_layout2 = Layout(display='flex',\n",
    "                    border='solid',\n",
    "                    width='40%')\n",
    "\n",
    "# Submit button\n",
    "button1 = widgets.Button(\n",
    "    description = 'Submit',\n",
    "    disabled = False,\n",
    "    button_style = '',\n",
    "    icon = 'check'\n",
    ")\n",
    "\n",
    "vb1 = VBox((check1, check2, check3), layout=box_layout1)\n",
    "vb2 = VBox((check4, check5, check6, check7, check8), layout=box_layout2)\n",
    "hb1 = HBox((vb2, vb1))\n",
    "# Output\n",
    "output1 = widgets.Output()\n",
    "\n",
    "display(hb1, button1, output1)\n",
    "\n",
    "# Output function\n",
    "def out(b):\n",
    "    with output1:\n",
    "        output1.clear_output()\n",
    "        if (check1.value and check4.value and check5.value and check6.value and check7.value and check8.value and not check3.value and not check2.value):\n",
    "            print(\"Correct! All affect risk perception a great deal.\")\n",
    "        else:\n",
    "            print(\"Not quite! All affect risk perception a great deal.\")\n",
    "\n",
    "# Handle click event\n",
    "button1.on_click(out)\n"
   ]
  },
  {
   "cell_type": "markdown",
   "metadata": {
    "slideshow": {
     "slide_type": "slide"
    }
   },
   "source": [
    "Which demographic groups do you think have the lowest level of risk perception?\n"
   ]
  },
  {
   "cell_type": "code",
   "execution_count": null,
   "metadata": {
    "hide_input": false,
    "scrolled": true,
    "slideshow": {
     "slide_type": "-"
    },
    "tags": [
     "Init",
     "Hide"
    ]
   },
   "outputs": [],
   "source": [
    "o1='Men, identify as white'\n",
    "o2='Women, identify as white'\n",
    "o3=\"Men, identify as non-white\"\n",
    "o4=\"Women, identify as non-white\"\n",
    "\n",
    "widget21 = widgets.RadioButtons(\n",
    "    options = [o1, o2, o3, o4],\n",
    "    description = ' ', style={'description_width': 'initial'},\n",
    "    layout = Layout(width='100%'),\n",
    "    value = None\n",
    ")\n",
    "\n",
    "ans = 'Men, who identify as white perceive the lowest levels of risk. The other demographic groups tend to perceive risk similarly.'\n",
    "def out2():\n",
    "    return print(ans)\n",
    "\n",
    "display(widget21)\n",
    "\n",
    "hourofci.SubmitBtn2(widget21, out2)"
   ]
  },
  {
   "cell_type": "markdown",
   "metadata": {
    "slideshow": {
     "slide_type": "slide"
    }
   },
   "source": [
    "Which types of prior beliefs affects people’s acceptance of science, and by how much?"
   ]
  },
  {
   "cell_type": "code",
   "execution_count": null,
   "metadata": {
    "hide_input": false,
    "scrolled": true,
    "slideshow": {
     "slide_type": "-"
    },
    "tags": [
     "Init",
     "Hide"
    ]
   },
   "outputs": [],
   "source": [
    "    \n",
    "check11 = widgets.Checkbox(\n",
    "    value=False,\n",
    "    description='A great deal',\n",
    "    disabled=False\n",
    ")\n",
    "check12 = widgets.Checkbox(\n",
    "    value=False,\n",
    "    description='Some',\n",
    "    disabled=False\n",
    ")\n",
    "check13 = widgets.Checkbox(\n",
    "    value=False,\n",
    "    description='Not at all',\n",
    "    disabled=False\n",
    ")\n",
    "\n",
    "check14 = widgets.Checkbox(\n",
    "    value=False,\n",
    "    description='Scientific reasoning ability',\n",
    "    disabled=False\n",
    ")\n",
    "check15 = widgets.Checkbox(\n",
    "    value=False,\n",
    "    description='Science skepticism',\n",
    "    disabled=False\n",
    ")\n",
    "\n",
    "check16 = widgets.Checkbox(\n",
    "    value=False,\n",
    "    description='Anxiety',\n",
    "    disabled=False\n",
    ")\n",
    "\n",
    "check11.style = {'description_width': '0px'}\n",
    "check12.style = {'description_width': '0px'}\n",
    "check13.style = {'description_width': '0px'}\n",
    "check14.style = {'description_width': '0px'}\n",
    "check15.style = {'description_width': '0px'}\n",
    "check16.style = {'description_width': '0px'}\n",
    "\n",
    "\n",
    "box_layout11 = Layout(display='flex',\n",
    "                    border='solid',\n",
    "                    width='20%',\n",
    "                    description_width= '0px')\n",
    "box_layout12 = Layout(display='flex',\n",
    "                    border='solid',\n",
    "                    width='40%')\n",
    "\n",
    "# Submit button\n",
    "button11 = widgets.Button(\n",
    "    description = 'Submit',\n",
    "    disabled = False,\n",
    "    button_style = '',\n",
    "    icon = 'check'\n",
    ")\n",
    "\n",
    "vb11 = VBox((check11, check12, check13), layout=box_layout11)\n",
    "vb12 = VBox((check14, check15, check16), layout=box_layout12)\n",
    "hb11 = HBox((vb12, vb11))\n",
    "# Output\n",
    "output11 = widgets.Output()\n",
    "\n",
    "display(hb11, button11, output11)\n",
    "\n",
    "# Output function\n",
    "def out1(b):\n",
    "    with output11:\n",
    "        output11.clear_output()\n",
    "        if (check11.value and check14.value and check15.value and not check16.value and not check13.value and not check12.value):\n",
    "            print(\"Correct! All a great deal except anxiety, which is “some.”\")\n",
    "        else:\n",
    "            print(\"Not quite! All a great deal except anxiety, which is “some.”\")\n",
    "\n",
    "# Handle click event\n",
    "button11.on_click(out1)\n"
   ]
  },
  {
   "cell_type": "markdown",
   "metadata": {
    "slideshow": {
     "slide_type": "slide"
    }
   },
   "source": [
    "Therefore, when communicating findings, one critical variable for scientists to understand is the diversity of their audience. \n",
    "\n",
    "* What is generally referred to as the “public” is in-fact comprised of sub-groups, including as decision-makers, the general public, the attentive public, and science practitioners. \n",
    "\n",
    "* It’s been well-documented that demographics like gender and race influence the perception of environmental risk. \n",
    "\n",
    "* Other studies have shown that individuals cue their responses to a scientific issue after checking in with the attitudes of their peer group. \n",
    "\n",
    "Other phenomena that affect how one interprets science include color-blindness, audio and visual capacity, and learning style.\n",
    "\n",
    "Even more, with the emergence of citizen science and participatory mapping, the line between scientist and audience has become increasingly blurry. Understanding one’s audience should inform communication strategies."
   ]
  },
  {
   "cell_type": "markdown",
   "metadata": {
    "slideshow": {
     "slide_type": "slide"
    }
   },
   "source": [
    "## So how do people understand science?  \n",
    "\n",
    "\n",
    "Motivated Reasoning\n",
    "<ul>\n",
    "    <li>\n",
    "Humans evaluate new information based on their pre-existing worldviews \n",
    "    </li>\n",
    "    <li>\n",
    "When new information contradicts one’s worldview, it is more likely the science will be rejected.\n",
    "    </li>\n",
    "</ul>\n",
    "\n",
    "Reference Groups \n",
    "<ul>\n",
    "    <li>\n",
    "A reference group is a group of people to whom an individual compares themselves\n",
    "    </li>\n",
    "    <li>\n",
    "The opinions of thought leaders in one’s reference group is a strong predictor of science interpretation\n",
    "    </li>\n",
    "</ul>\n"
   ]
  },
  {
   "cell_type": "markdown",
   "metadata": {
    "slideshow": {
     "slide_type": "slide"
    }
   },
   "source": [
    "## The Lay Public and Science Literacy\n",
    "If it’s not a lack of information, how does the public reason about the reliability of scientific data?\n",
    "<ol>\n",
    "    <li>\n",
    "Have scientific predictions come true?\n",
    "    </li> \n",
    "    <li>\n",
    "Have scientists consulted other types of available knowledge?\n",
    "    </li> \n",
    "    <li>\n",
    "Do scientists admit when they are wrong?\n",
    "    </li> \n",
    "    <li>\n",
    "What are the social and institutional connections of scientists?\n",
    "    </li> \n",
    "    <li>\n",
    "How do findings line up with perceived reality (e.g., heat waves and climate change)?\n",
    "    </li> \n",
    "</ol>\n",
    "\n",
    "\n",
    "<b>Bottom line?</b> <font style=\"color:red;\">Many factors influence how an individual interprets science, from the topic to the characteristics of the Individual. How the general public understands and perceives science is based on factors other than science communication. </font>\n"
   ]
  },
  {
   "cell_type": "markdown",
   "metadata": {
    "slideshow": {
     "slide_type": "slide"
    }
   },
   "source": [
    "Now that we've briefly explored some aspects that impact successful science communication in general, it's time to turn to a topic which is more closely aligned with GIScience and cyberinfrastructure. Information design!\n",
    "\n"
   ]
  },
  {
   "cell_type": "markdown",
   "metadata": {
    "hide_input": false,
    "slideshow": {
     "slide_type": "-"
    }
   },
   "source": [
    "\n",
    "\n",
    "<font size=\"+1\"><a style=\"background-color:blue;color:white;padding:12px;margin:10px;font-weight:bold;\" href=\"ic-4.ipynb\">Click here to go to the next notebook.</a></font>"
   ]
  }
 ],
 "metadata": {
  "celltoolbar": "Slideshow",
  "kernelspec": {
   "display_name": "Python 3 (ipykernel)",
   "language": "python",
   "name": "python3"
  },
  "language_info": {
   "codemirror_mode": {
    "name": "ipython",
    "version": 3
   },
   "file_extension": ".py",
   "mimetype": "text/x-python",
   "name": "python",
   "nbconvert_exporter": "python",
   "pygments_lexer": "ipython3",
   "version": "3.7.16"
  },
  "rise": {
   "autolaunch": true,
   "overlay": "<div class='hciheader'></div><div class='hcifooter'></div>",
   "scroll": true
  }
 },
 "nbformat": 4,
 "nbformat_minor": 4
}
