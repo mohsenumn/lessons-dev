{
 "cells": [
  {
   "cell_type": "markdown",
   "id": "1ad5ada8",
   "metadata": {
    "slideshow": {
     "slide_type": "slide"
    }
   },
   "source": [
    "## Introduction to Big Data\n",
    "### Segment 2 of 5\n",
    "\n",
    "# Spatial Big Data (Variety)\n",
    "\n",
    "*Lesson Developer: Jayakrishnan Ajayakumar, jxa421@case.edu*\n"
   ]
  },
  {
   "cell_type": "code",
   "execution_count": null,
   "id": "d39ee940",
   "metadata": {
    "hide_input": false,
    "init_cell": true,
    "slideshow": {
     "slide_type": "skip"
    },
    "tags": [
     "Hide"
    ]
   },
   "outputs": [],
   "source": [
    "# This code cell starts the necessary setup for Hour of CI lesson notebooks.\n",
    "# First, it enables users to hide and unhide code by producing a 'Toggle raw code' button below.\n",
    "# Second, it imports the hourofci package, which is necessary for lessons and interactive Jupyter Widgets.\n",
    "# Third, it helps hide/control other aspects of Jupyter Notebooks to improve the user experience\n",
    "# This is an initialization cell\n",
    "# It is not displayed because the Slide Type is 'Skip'\n",
    "\n",
    "from IPython.display import HTML, IFrame, Javascript, display\n",
    "from ipywidgets import interactive\n",
    "import ipywidgets as widgets\n",
    "from ipywidgets import Layout\n",
    "import pandas as pd\n",
    "import queue\n",
    "import threading\n",
    "import time\n",
    "import getpass # This library allows us to get the username (User agent string)\n",
    "\n",
    "# import package for hourofci project\n",
    "import sys\n",
    "sys.path.append('../../supplementary') # relative path (may change depending on the location of the lesson notebook)\n",
    "import hourofci\n",
    "\n",
    "import warnings\n",
    "warnings.filterwarnings('ignore') # Hide warnings\n",
    "\n",
    "# load javascript to initialize/hide cells, get user agent string, and hide output indicator\n",
    "# hide code by introducing a toggle button \"Toggle raw code\"\n",
    "# HTML(''' \n",
    "#     <script type=\"text/javascript\" src=\\\"../../supplementary/js/custom.js\\\"></script>\n",
    "    \n",
    "#     <input id=\"toggle_code\" type=\"button\" value=\"Toggle raw code\">\n",
    "# ''')\n",
    "\n",
    "HTML(''' \n",
    "    <script type=\"text/javascript\" src=\\\"../../supplementary/js/custom.js\\\"></script>\n",
    "    \n",
    "    <style>\n",
    "        .output_prompt{opacity:0;}\n",
    "    </style>\n",
    "    \n",
    "    <input id=\"toggle_code\" type=\"button\" value=\"Toggle raw code\">\n",
    "''')\n",
    "\n"
   ]
  },
  {
   "cell_type": "markdown",
   "id": "afaa00c6",
   "metadata": {
    "slideshow": {
     "slide_type": "slide"
    }
   },
   "source": [
    "## Reminder\n",
    "<a href=\"#/slide-2-0\" class=\"navigate-right\" style=\"background-color:blue;color:white;padding:8px;margin:2px;font-weight:bold;\">Continue with the lesson</a>\n",
    "\n",
    "<br>\n",
    "</br>\n",
    "<font size=\"+1\">\n",
    "\n",
    "By continuing with this lesson you are granting your permission to take part in this research study for the Hour of Cyberinfrastructure: Developing Cyber Literacy for GIScience project. In this study, you will be learning about cyberinfrastructure and related concepts using a web-based platform that will take approximately one hour per lesson. Participation in this study is voluntary.\n",
    "\n",
    "Participants in this research must be 18 years or older. If you are under the age of 18 then please exit this webpage or navigate to another website such as the Hour of Code at https://hourofcode.com, which is designed for K-12 students.\n",
    "\n",
    "If you are not interested in participating please exit the browser or navigate to this website: http://www.umn.edu. Your participation is voluntary and you are free to stop the lesson at any time.\n",
    "\n",
    "For the full description please navigate to this website: <a href=\"../../gateway-lesson/gateway/gateway-1.ipynb\">Gateway Lesson Research Study Permission</a>.\n",
    "\n",
    "</font>"
   ]
  },
  {
   "cell_type": "markdown",
   "id": "dbbc0a69",
   "metadata": {
    "slideshow": {
     "slide_type": "slide"
    }
   },
   "source": [
    "![variety](supplementary/images/variety.jpg)\n",
    "There are many sources of spatial data including sensors, social media platforms, satellite and remote sensing, gps enbaled devices, that generates spatial data at various spatial and temporal scales. Making sense of spatial data that is being ingested from various sources at various granularities and frequencies can be an arduous task. In order to show the variety attribute of Spatial Big Data we provide a small experiment."
   ]
  },
  {
   "cell_type": "markdown",
   "id": "3a3d53dc",
   "metadata": {
    "slideshow": {
     "slide_type": "slide"
    }
   },
   "source": [
    "## Experiment (Snow storm warning!!!)\n",
    "![snow_storm](supplementary/images/snow_storm.jpg)"
   ]
  },
  {
   "cell_type": "markdown",
   "id": "2258ff17",
   "metadata": {
    "slideshow": {
     "slide_type": "slide"
    }
   },
   "source": [
    "In this experiment, we will again use our good old taxi GPS data. However, along with the taxi data we will also use live snow depth data, which provides snow depth data (in inches) for every second. The snow depth data is a raster, which consists of a matrix of cells (or pixels) organized into rows and columns (or a grid) where each cell contains a value representing information, such as snow depth. \n",
    "![raster_examples](supplementary/images/raster_examples.png)\n",
    "\n",
    "Let's first do some warmup with raster data. We use the library called rasterio to read a raster file."
   ]
  },
  {
   "cell_type": "code",
   "execution_count": null,
   "id": "ebb4e040",
   "metadata": {
    "slideshow": {
     "slide_type": "slide"
    }
   },
   "outputs": [],
   "source": [
    "import rasterio"
   ]
  },
  {
   "cell_type": "code",
   "execution_count": null,
   "id": "5a197a98",
   "metadata": {},
   "outputs": [],
   "source": [
    "rasterSample = rasterio.open('supplementary/data/nyc_snow_depth_data/1.tif')"
   ]
  },
  {
   "cell_type": "code",
   "execution_count": null,
   "id": "d659dd31",
   "metadata": {},
   "outputs": [],
   "source": [
    "print(rasterSample.width)\n",
    "print(rasterSample.height)\n",
    "print(rasterSample.crs)"
   ]
  },
  {
   "cell_type": "markdown",
   "id": "58b12fa4",
   "metadata": {
    "slideshow": {
     "slide_type": "slide"
    }
   },
   "source": [
    "We can even plot this raster file"
   ]
  },
  {
   "cell_type": "code",
   "execution_count": null,
   "id": "f3666e1d",
   "metadata": {},
   "outputs": [],
   "source": [
    "from rasterio.plot import show\n",
    "show(rasterSample,cmap='Reds');"
   ]
  },
  {
   "cell_type": "markdown",
   "id": "df091d6a",
   "metadata": {
    "slideshow": {
     "slide_type": "slide"
    }
   },
   "source": [
    "An increase in intensity represents an increase in value (in our case snow depth).\n",
    "\n",
    "The values are stored as a multidimensional array in the raster file. Let's examine the values"
   ]
  },
  {
   "cell_type": "code",
   "execution_count": null,
   "id": "a48e9232",
   "metadata": {},
   "outputs": [],
   "source": [
    "data = rasterSample.read(1)\n",
    "print(data.shape)\n",
    "#print (data)"
   ]
  },
  {
   "cell_type": "markdown",
   "id": "9750e588",
   "metadata": {
    "slideshow": {
     "slide_type": "slide"
    }
   },
   "source": [
    "As you can see data is a multidimensional array with 13 rows and 17 columns. If you print the array you will see a large number of same value (-99999). This value is a special marker called \"No Data\". You can in fact check the \"No Data\" value for a raster from the raster dataset object."
   ]
  },
  {
   "cell_type": "code",
   "execution_count": null,
   "id": "575dd4f9",
   "metadata": {},
   "outputs": [],
   "source": [
    "rasterSample.nodata"
   ]
  },
  {
   "cell_type": "markdown",
   "id": "3226d1f2",
   "metadata": {
    "slideshow": {
     "slide_type": "slide"
    }
   },
   "source": [
    "As you can see the \"No Data\" value is indeed -99999. No data value indicates that there is no recorded value in that particular raster cell. In our plot, the No Data values are represented in white color."
   ]
  },
  {
   "cell_type": "markdown",
   "id": "0587ff18",
   "metadata": {},
   "source": [
    "In order to represent the raster data on our live and interactive map, we have created a set of polygons (rectangles) that have the same extents as the raster and each polygon represents a grid cell. Let us look at the grid geometric grid data."
   ]
  },
  {
   "cell_type": "code",
   "execution_count": null,
   "id": "67b16afc",
   "metadata": {
    "slideshow": {
     "slide_type": "slide"
    }
   },
   "outputs": [],
   "source": [
    "import geopandas as gpd\n",
    "weatherGrid = gpd.read_file(r'supplementary/data/nyc_grid/nyc_grid.shp')\n",
    "weatherGrid"
   ]
  },
  {
   "cell_type": "markdown",
   "id": "df108f43",
   "metadata": {
    "slideshow": {
     "slide_type": "slide"
    }
   },
   "source": [
    "Let's see the plot for the grid."
   ]
  },
  {
   "cell_type": "code",
   "execution_count": null,
   "id": "e53787b5",
   "metadata": {},
   "outputs": [],
   "source": [
    "weatherGrid.plot(facecolor=\"none\", edgecolor=\"black\");"
   ]
  },
  {
   "cell_type": "markdown",
   "id": "88395775",
   "metadata": {
    "slideshow": {
     "slide_type": "slide"
    }
   },
   "source": [
    "As the grid is of the same dimensions as the raster, there is a one-to-one mapping between the raster and the raster. For example, the grid cell with id 1 is the same as the top left corner cell of the raster. And since the grid is a collection of geometries and kind of geometrical operations (such as how many taxis are currently with in a particular grid cell) can be performed on the grid. \n",
    "\n",
    "Let us look at an experiment. In this experiment, we will have our good-old taxis running for an hour through every nook and corner of NYC. For every second there will be a snow depth update from the weather station and the update will be a raster file. The snow depth value will be categorized into four classes\n",
    "\n",
    "1) Less than 4 inches -- No warning (No color)\n",
    "\n",
    "2) 4 to 8 inches -- Level 1 (Drive Cautiously) (Yellow color)\n",
    "\n",
    "3) 8 to 12 inches -- Level 2 (Extreme Caution) (Orange color)\n",
    "\n",
    "4) 12 inches and above -- Level 3 (Don't Drive) (Red color)\n",
    "\n",
    "Based on the current position, the taxis will get warnings and their background color will change to match the warning (for No Warning the color would remain as green).\n",
    "\n",
    "Without further delay, let us get into the implementation"
   ]
  },
  {
   "cell_type": "code",
   "execution_count": null,
   "id": "fa215888",
   "metadata": {},
   "outputs": [],
   "source": [
    "import pandas as pd\n",
    "import queue\n",
    "import threading\n",
    "import time\n",
    "import geopandas as gpd\n",
    "import json\n",
    "from scipy.spatial import cKDTree\n",
    "import numpy as np\n",
    "import rasterio"
   ]
  },
  {
   "cell_type": "code",
   "execution_count": null,
   "id": "e267541f",
   "metadata": {
    "hide_input": true,
    "slideshow": {
     "slide_type": "-"
    },
    "tags": [
     "Hide",
     "Init"
    ]
   },
   "outputs": [],
   "source": [
    "class GPSThread(threading.Thread):\n",
    "    # we will use two queues, one for pushing the GPS data and other to recieve any message from main thread\n",
    "    def __init__(self, dataFrame,status):\n",
    "        threading.Thread.__init__(self)\n",
    "        self.dataFrame = dataFrame\n",
    "        self.status = status\n",
    "    def run(self):\n",
    "        #load the data file\n",
    "        data = pd.read_parquet(r'supplementary/data/taxi1hr_gps.parquet')\n",
    "        #create an index based on seconds \n",
    "        data.set_index('sec',inplace=True)\n",
    "        #now we need to loop through the dataset\n",
    "        for sec in range(data.index.min(),data.index.max()):\n",
    "            #kill switch is a message in the message queue\n",
    "            if self.status[0]==0:\n",
    "                break\n",
    "            dat = data.loc[sec]\n",
    "            gpsDat = dat[['id','lng','lat']].to_json(orient='records')\n",
    "            self.dataFrame.loc[sec] = gpsDat\n",
    "            #after one iteration sleep for a second......\n",
    "            time.sleep(1)\n",
    "            #remove data that is older than 5 minutes seconds with respect to current time\n",
    "            #self.dataFrame.drop(self.dataFrame.index[self.dataFrame.index<(sec-300)],inplace=True)\n",
    "        #if simulation is over put a pill in the outQueue\n",
    "        self.status[0] = 2\n",
    "        \n",
    "class WeatherThread(threading.Thread):\n",
    "    def __init__(self, dataFrame,status):\n",
    "        threading.Thread.__init__(self)\n",
    "        self.dataFrame = dataFrame\n",
    "        self.status = status\n",
    "    def run(self):\n",
    "        #load the data file\n",
    "        weatherDataFolder = r'supplementary/data/nyc_snow_depth_data'\n",
    "        #now we need to loop through the dataset\n",
    "        for sec in range(0,3600):\n",
    "            #kill switch is a message in the message queue\n",
    "            if self.status[0]==0:\n",
    "                break\n",
    "            self.dataFrame.loc[sec] = weatherDataFolder+'/'+str((sec//100))+'.tif'\n",
    "            #after one iteration sleep for a second......\n",
    "            time.sleep(1)\n",
    "            #remove data that is older than 5 minutes seconds with respect to current time\n",
    "            #self.dataFrame.drop(self.dataFrame.index[self.dataFrame.index<(sec-300)],inplace=True)\n",
    "\n",
    "gpsData = None\n",
    "status = [-1]\n",
    "weatherGrid = gpd.read_file(r'supplementary/data/nyc_grid/nyc_grid.shp')[['id','geometry']]\n",
    "weatherGrid['id'] = weatherGrid['id'].astype(int)\n",
    "weatherRawData = pd.DataFrame(columns = ['sec','data'])\n",
    "weatherDict = None\n",
    "warningSnowDepth = 4\n",
    "def start():\n",
    "    global gpsData\n",
    "    global status\n",
    "    global weatherRawData\n",
    "    global weatherDict\n",
    "    gpsData = pd.DataFrame(columns = ['sec','data'])\n",
    "    gpsData.set_index('sec',inplace=True)\n",
    "    weatherRawData = pd.DataFrame(columns = ['sec','data'])\n",
    "    weatherRawData.set_index('sec',inplace=True)\n",
    "    weatherDict = {}\n",
    "    status[0] = 1\n",
    "    #startup threads\n",
    "    gpsThread = GPSThread(gpsData,status)\n",
    "    gpsThread.start()\n",
    "    weatherThread = WeatherThread(weatherRawData,status)\n",
    "    weatherThread.start()\n",
    "    #small delay for the thread to startup\n",
    "    return \"started\"\n",
    "    \n",
    "def getGPSData(sec):\n",
    "    if sec in gpsData.index:\n",
    "        currentData = pd.read_json(gpsData.loc[sec].data)\n",
    "        currentData['sD'] = np.zeros(len(currentData))\n",
    "        if sec in weatherDict and not isinstance(weatherDict[sec], str):\n",
    "            warningGrids = weatherDict[sec]\n",
    "            currentDataGeo = gpd.GeoDataFrame(currentData['id'],geometry = gpd.points_from_xy(currentData.lng,currentData.lat),crs='EPSG:4326')\n",
    "            wGrid = weatherGrid.merge(warningGrids,on='id')\n",
    "            matches = currentDataGeo.sjoin(wGrid,predicate=\"within\")\n",
    "            currentData.loc[currentData.id.isin(matches.id_left),\"sD\"] = matches.snowDepth\n",
    "        return currentData.to_json(orient=\"records\")+\">>>currentGPSTime:\"+str(max(gpsData.index))\n",
    "    return \"No Data\"  \n",
    "\n",
    "def getStatus():\n",
    "    global status\n",
    "    if status[0] == 2 or status[0] == 0:\n",
    "        return \"sim over\"\n",
    "    return \"running\"\n",
    "\n",
    "def stop():\n",
    "    global status\n",
    "    status[0] = 0\n",
    "    return \"stopping\"\n",
    "\n",
    "def getWeatherData(sec):\n",
    "    if sec in weatherRawData.index:\n",
    "        weatherGridData = rasterio.open(weatherRawData.loc[sec].data).read(1)\n",
    "        warning = np.where(weatherGridData>=warningSnowDepth)\n",
    "        if len(warning[0])!=0:\n",
    "            matchingIds = warning[0]+1+((warning[1])*weatherGridData.shape[0])\n",
    "            weatherDict[sec] = pd.DataFrame({'id':matchingIds,'snowDepth':weatherGridData[warning]})\n",
    "            return weatherDict[sec].to_json(orient='records')\n",
    "        else:\n",
    "            weatherDict[sec] = \"No Warnings\"\n",
    "            return weatherDict[sec]\n",
    "    else:\n",
    "        return \"No Data\"\n",
    "\n",
    "def getGrid():\n",
    "    return weatherGrid.to_json()\n",
    "        "
   ]
  },
  {
   "cell_type": "code",
   "execution_count": null,
   "id": "1984fbed",
   "metadata": {
    "hide_input": true,
    "slideshow": {
     "slide_type": "slide"
    },
    "tags": [
     "Hide",
     "Init"
    ]
   },
   "outputs": [],
   "source": [
    "%%html\n",
    "<link rel=\"stylesheet\" href=\"https://unpkg.com/leaflet@1.8.0/dist/leaflet.css\"/>\n",
    "<link rel=\"stylesheet\" href=\"https://cdnjs.cloudflare.com/ajax/libs/leaflet.draw/1.0.4/leaflet.draw.css\"/>\n",
    "<div id=\"main\">\n",
    "    <div id=\"mapandcontrols\">\n",
    "        <div id=\"map\"></div>\n",
    "        <div id=\"controls\">\n",
    "            <button id=\"start_button\" class =\"controlbuttons\" onclick = \"run()\">Start Simulation</button>\n",
    "            <button id=\"stop_button\" class =\"controlbuttons\" onclick = \"stop()\" disabled>Stop Simulation</button>\n",
    "            <span id=\"active_cars\" class =\"controlbuttons\">Active Cars:0</span>\n",
    "            <span id=\"gpstime\" class =\"controlbuttons\">GPSTime:0</span>\n",
    "            <span id=\"realgpstime\" class =\"controlbuttons\">RealGPSTime:0</span>\n",
    "        </div>\n",
    "    </div>\n",
    "</div>\n",
    "\n",
    "<style>\n",
    "#main { height: 500px;width:800px; }\n",
    "#mapandcontrols { height: 100%;width:65%;float:left}\n",
    "#map { height:75%;width:100%; }\n",
    "#controls { height: 20%;margin-top:4%; }\n",
    ".maxwidth{width:100%;}\n",
    ".maxheight{height:100%;}\n",
    ".halfwidth{width:50%;}\n",
    ".halfheight{height:50%;}\n",
    ".controlbuttons{float:left;margin:1%;}\n",
    "\n",
    "</style>\n",
    "<script>\n",
    "    require.config({\n",
    "        paths: {\n",
    "            d3: 'https://d3js.org/d3.v7.min',\n",
    "            L: 'https://unpkg.com/leaflet@1.8.0/dist/leaflet'\n",
    "        }\n",
    "    });\n",
    "    var map,tooltip,datInterval, current,weatherCurrent, weatherInterval, statusInterval,pathCreator,warnings = new Map(),currentlyProcessing = new Set();\n",
    "    var projectPoint = function(x, y) {\n",
    "        const point = map.latLngToLayerPoint(new L.LatLng(y, x));\n",
    "        this.stream.point(point.x, point.y)\n",
    "    }\n",
    "    require(['d3'], function(d3) {\n",
    "        const projection = d3.geoTransform({point: projectPoint})\n",
    "        pathCreator = d3.geoPath().projection(projection)\n",
    "    });\n",
    "    \n",
    "    function drawGrid(){\n",
    "        IPython.notebook.kernel.execute(\n",
    "            \"getGrid()\", \n",
    "            {\n",
    "                iopub: {\n",
    "                    output: function(response) {\n",
    "                        require(['d3'], function(d3) {\n",
    "                            var dataString = response.content.data['text/plain'];\n",
    "                            var data = JSON.parse(dataString.slice(1, dataString.length - 1));\n",
    "                            d3.select('#gridFrame')\n",
    "                                .selectAll(\"path\")\n",
    "                                .data(data.features, d => d.properties.id)\n",
    "                                .join(\n",
    "                                    enter => enter.append('path')\n",
    "                                    .attr('fill-opacity', 0)\n",
    "                                    .style('fill','none')\n",
    "                                    .style(\"pointer-events\", \"auto\")\n",
    "                                    .attr('stroke', 'grey')\n",
    "                                    .attr('stroke-width', 0.3)\n",
    "                                    .attr('d', pathCreator)\n",
    "                                    .selection()\n",
    "                                )\n",
    "                        });\n",
    "                    }\n",
    "                }\n",
    "            },\n",
    "            {\n",
    "                silent: false, \n",
    "                store_history: false, \n",
    "                stop_on_error: true\n",
    "            }\n",
    "        );\n",
    "    }\n",
    "\n",
    "    function cleanup(){\n",
    "        clearInterval(statusInterval);\n",
    "        clearInterval(datInterval);\n",
    "        clearInterval(weatherInterval);\n",
    "        current = 0;\n",
    "        weatherCurrent = 0;\n",
    "        warnings = new Map();\n",
    "        currentlyProcessing = new Set();\n",
    "        require(['d3'], function(d3) {\n",
    "            d3.select(\"#gpsFrame\").selectAll(\"circle\").remove();\n",
    "            d3.select(\"#gridFrame\").selectAll(\"path\").remove();\n",
    "            document.getElementById(\"start_button\").disabled = false;\n",
    "            document.getElementById(\"stop_button\").disabled = true;\n",
    "            document.getElementById(\"active_cars\").innerText = \"Active Cars:0\";\n",
    "            document.getElementById(\"gpstime\").innerText = \"GPSTime:0\";\n",
    "            document.getElementById(\"realgpstime\").innerText = \"RealGPSTime:0\";\n",
    "        });\n",
    "    }\n",
    "    \n",
    "    function getStatus(){\n",
    "        IPython.notebook.kernel.execute(\n",
    "            \"getStatus()\", \n",
    "            {\n",
    "                iopub: {\n",
    "                    output: function(response) {\n",
    "                        var dataString = response.content.data['text/plain'];\n",
    "                        if (dataString.includes(\"sim over\")){\n",
    "                            console.log('Time to clean up everything');\n",
    "                            cleanup();\n",
    "                        }\n",
    "                    }\n",
    "                }\n",
    "            },\n",
    "            {\n",
    "                silent: false, \n",
    "                store_history: false, \n",
    "                stop_on_error: true\n",
    "            }\n",
    "        );    \n",
    "    }\n",
    "\n",
    "    function fetchGPSData() {\n",
    "        if (currentlyProcessing.has(current))\n",
    "            return;\n",
    "        currentlyProcessing.add(current);\n",
    "        IPython.notebook.kernel.execute(\n",
    "            \"getGPSData(\" + current + \")\", {\n",
    "                iopub: {\n",
    "                    output: function(response) {\n",
    "                        // Print the return value of the Python code to the console\n",
    "                        var dataString = response.content.data['text/plain'];\n",
    "                        if (!(dataString.includes(\"sim over\") || dataString.includes(\"No Data\"))) {\n",
    "                            require(['d3'], function(d3) {\n",
    "                                var sections = dataString.split(\">>>\");\n",
    "                                var data = JSON.parse(sections[0].slice(1, sections[0].length));\n",
    "                                document.getElementById(\"active_cars\").innerText = \"Active Cars: \" + data.length;\n",
    "                                d3.select(\"#gpsFrame\")\n",
    "                                    .selectAll(\"circle\")\n",
    "                                    .data(data, d => d.id)\n",
    "                                    .join(\n",
    "                                        enter => enter.append('circle')\n",
    "                                        .attr(\"cx\", d => map.latLngToLayerPoint([d.lat, d.lng]).x)\n",
    "                                        .attr(\"cy\", d => map.latLngToLayerPoint([d.lat, d.lng]).y)\n",
    "                                        .attr(\"r\", 2)\n",
    "                                        .attr(\"stroke-width\", 0.4)\n",
    "                                        .attr(\"fill-opacity\", 0.3)\n",
    "                                        .style(\"fill\",function(d){\n",
    "                                            if(d.sD>=4 && d.sD<8)\n",
    "                                                return \"yellow\";\n",
    "                                            else if(d.sD>=8 && d.sD<12){\n",
    "                                                return \"orange\";\n",
    "                                            }\n",
    "                                            else if(d.sD>12)\n",
    "                                                return \"red\";\n",
    "                                            else \n",
    "                                                return \"green\"\n",
    "                                        })\n",
    "                                        .selection(),\n",
    "\n",
    "                                        update => update\n",
    "                                        .attr(\"cx\", d => map.latLngToLayerPoint([d.lat, d.lng]).x)\n",
    "                                        .attr(\"cy\", d => map.latLngToLayerPoint([d.lat, d.lng]).y)\n",
    "                                        .style(\"fill\",function(d){\n",
    "                                            if(d.sD>=4 && d.sD<8)\n",
    "                                                return \"yellow\";\n",
    "                                            else if(d.sD>=8 && d.sD<12)\n",
    "                                                return \"orange\"\n",
    "                                            else if(d.sD>12){\n",
    "                                                return \"red\";\n",
    "                                            }\n",
    "                                            else \n",
    "                                                return \"green\"\n",
    "                                        })\n",
    "                                        .selection(),\n",
    "\n",
    "                                        exit => exit\n",
    "                                        .remove()\n",
    "                                    )\n",
    "                                document.getElementById(\"gpstime\").innerText = \"GPSTime: \" + current;\n",
    "                                document.getElementById(\"realgpstime\").innerText = \"RealGPSTime: \" + sections[1].replace(\"'\",\"\").split(\":\")[1];\n",
    "                                current += 1;\n",
    "                            });\n",
    "                        }\n",
    "                        else if(dataString.includes(\"No Data\")){\n",
    "                            currentlyProcessing.delete(current);\n",
    "                        }\n",
    "                    }\n",
    "                }\n",
    "            }, {\n",
    "                silent: false,\n",
    "                store_history: false,\n",
    "                stop_on_error: true\n",
    "            }\n",
    "        );\n",
    "    }\n",
    "\n",
    "    \n",
    "    function fetchWeatherData(){\n",
    "        IPython.notebook.kernel.execute(\n",
    "            \"getWeatherData(\" + weatherCurrent + \")\", \n",
    "            {\n",
    "                iopub: {\n",
    "                    output: function(response) {\n",
    "                        require(['d3'], function(d3) {\n",
    "                            var dataString = response.content.data['text/plain'];\n",
    "                            warnings = new Map();\n",
    "                            if (!(dataString.includes(\"sim over\") || dataString.includes(\"No Data\") || dataString.includes(\"No Warnings\"))) {\n",
    "                                var data = JSON.parse(dataString.slice(1, dataString.length - 1));\n",
    "                                data.forEach(function(d){\n",
    "                                    warnings.set(parseInt(d.id),parseFloat(d.snowDepth));\n",
    "                                });\n",
    "                                d3.select('#gridFrame')\n",
    "                                    .selectAll(\"path\")\n",
    "                                    .attr('fill-opacity', function(d){\n",
    "                                        if(warnings.has(d.properties.id))\n",
    "                                            return 0.3;\n",
    "                                        else\n",
    "                                            return 0;\n",
    "                                    })\n",
    "                                    .style('fill',function(d){\n",
    "                                        if(warnings.has(d.properties.id)){\n",
    "                                            snowDepth = warnings.get(d.properties.id);\n",
    "                                            if(snowDepth>=4 && snowDepth<8)\n",
    "                                                return \"yellow\";\n",
    "                                            else if(snowDepth>=8 && snowDepth<12){\n",
    "                                                return \"orange\";\n",
    "                                            }\n",
    "                                            else if(snowDepth>12)\n",
    "                                                return \"red\";\n",
    "                                            else \n",
    "                                                return \"none\"\n",
    "                                        }  \n",
    "                                        else\n",
    "                                            return \"none\";\n",
    "                                    });\n",
    "                                weatherCurrent+=1\n",
    "                            }\n",
    "                            else if(dataString.includes(\"No Warnings\")){\n",
    "                                d3.select('#gridFrame')\n",
    "                                    .selectAll(\"path\")\n",
    "                                    .attr('fill-opacity',0)\n",
    "                                    .style('fill','none');\n",
    "                                weatherCurrent+=1\n",
    "                            }\n",
    "                        });\n",
    "                    }\n",
    "                }\n",
    "            },\n",
    "            {\n",
    "                silent: false, \n",
    "                store_history: false, \n",
    "                stop_on_error: true\n",
    "            }\n",
    "        );\n",
    "    }\n",
    "\n",
    "    function update() {\n",
    "        require(['d3'], function(d3) {\n",
    "            d3.selectAll(\"circle\")\n",
    "                .attr(\"cx\",d => map.latLngToLayerPoint([d.lat, d.lng]).x)\n",
    "                .attr(\"cy\", d => map.latLngToLayerPoint([d.lat, d.lng]).y);\n",
    "            d3.select('#gridFrame').selectAll(\"path\")\n",
    "                .attr('d', pathCreator);\n",
    "        });\n",
    "    }\n",
    "\n",
    "    function stop() {\n",
    "        IPython.notebook.kernel.execute(\n",
    "            \"stop()\", {\n",
    "                iopub: {\n",
    "                    output: function(response) {}\n",
    "                }\n",
    "            }, {\n",
    "                silent: false,\n",
    "                store_history: false,\n",
    "                stop_on_error: true\n",
    "            }\n",
    "        )\n",
    "    }\n",
    "\n",
    "    function run() {\n",
    "        current = 0;\n",
    "        weatherCurrent = 0;\n",
    "        IPython.notebook.kernel.execute(\n",
    "            \"start()\", {\n",
    "                iopub: {\n",
    "                    output: function(response) {\n",
    "                        statusInterval = setInterval(getStatus, 500);\n",
    "                        weatherInterval = setInterval(fetchWeatherData, 900);\n",
    "                        datInterval = setInterval(fetchGPSData, 1000);\n",
    "                        drawGrid();\n",
    "                        //disable the start button\n",
    "                        document.getElementById(\"start_button\").disabled = true;\n",
    "                        document.getElementById(\"stop_button\").disabled = false;\n",
    "                    }\n",
    "                }\n",
    "            }, {\n",
    "                silent: false,\n",
    "                store_history: false,\n",
    "                stop_on_error: true\n",
    "            }\n",
    "        )\n",
    "    }\n",
    "\n",
    "    require(['d3','L'], function(d3, L) {\n",
    "        map = L\n",
    "            .map('map')\n",
    "            .setView([40.763231753511604, -73.98383956127027], 10); // center position + zoom\n",
    "\n",
    "        // Add a tile to the map = a background. Comes from OpenStreetmap\n",
    "        L.tileLayer('https://tile.openstreetmap.org/{z}/{x}/{y}.png', {\n",
    "            maxZoom: 19,\n",
    "            attribution: '© OpenStreetMap'\n",
    "        }).addTo(map);\n",
    "        // Add a svg layer to the map\n",
    "        L.svg().addTo(map);\n",
    "        map.on(\"moveend\", update)\n",
    "        d3.select(\"#map\").select(\"svg\").append(\"g\").attr(\"id\", \"gpsFrame\");\n",
    "        d3.select(\"#map\").select(\"svg\").append(\"g\").attr(\"id\", \"gridFrame\");\n",
    "    });\n",
    "    \n",
    "</script>"
   ]
  },
  {
   "cell_type": "markdown",
   "id": "c0e9743b",
   "metadata": {},
   "source": [
    "So let's see the important sections of the code."
   ]
  },
  {
   "cell_type": "markdown",
   "id": "742aa0bd",
   "metadata": {},
   "source": [
    "```python\n",
    "def getWeatherData(sec):\n",
    "    if sec in weatherRawData.index:\n",
    "        weatherGridData = rasterio.open(weatherRawData.loc[sec].data).read(1)\n",
    "        warning = np.where(weatherGridData>=warningSnowDepth)\n",
    "        if len(warning[0])!=0:\n",
    "            matchingIds = warning[0]+1+((warning[1])*weatherGridData.shape[0])\n",
    "            weatherDict[sec] = pd.DataFrame({'id':matchingIds,'snowDepth':weatherGridData[warning]})\n",
    "            return weatherDict[sec].to_json(orient='records')\n",
    "        else:\n",
    "            weatherDict[sec] = \"No Warnings\"\n",
    "            return weatherDict[sec]\n",
    "    else:\n",
    "        return \"No Data\"\n",
    "```\n",
    "\n",
    "The getWeatherData function pulls the snow depth file and reads the data as a multidimensional array\n",
    "\n",
    "<code>weatherGridData = rasterio.open(weatherRawData.loc[sec].data).read(1)</code>\n",
    "\n",
    "where <code>weatherRawData.loc[sec].data</code> gives you the filename.\n",
    "\n",
    "Now we need to extract out those grids that are having snow depth values greater than 4. We can achieve this through the numpy where method.\n",
    "\n",
    "<code>warning = np.where(weatherGridData>=warningSnowDepth)</code>\n",
    "\n",
    "Let's see a quick example with np.where"
   ]
  },
  {
   "cell_type": "code",
   "execution_count": null,
   "id": "22b233bb",
   "metadata": {},
   "outputs": [],
   "source": [
    "import numpy as np\n",
    "array = np.asarray([10,5,6,23,34,2,1])\n",
    "np.where(array>5)"
   ]
  },
  {
   "cell_type": "markdown",
   "id": "d61f68cb",
   "metadata": {},
   "source": [
    "You need to notice that np.where gives the indices where the value is greater than 5. If you want to print these values"
   ]
  },
  {
   "cell_type": "code",
   "execution_count": null,
   "id": "b23cf0b3",
   "metadata": {},
   "outputs": [],
   "source": [
    "array[np.where(array>5)]"
   ]
  },
  {
   "cell_type": "markdown",
   "id": "678b37ce",
   "metadata": {},
   "source": [
    "Then we need retrieve the matching id's (for our geometrical grid) based on the indices\n",
    "\n",
    "<code>matchingIds = warning[0]+1+((warning[1])*weatherGridData.shape[0])</code>\n",
    "\n",
    "Once we calculated the matching id's we store the id's and corresponding values to a dataframe\n",
    "\n",
    "<code>weatherDict[sec] = pd.DataFrame({'id':matchingIds,'snowDepth':weatherGridData[warning]})</code>\n",
    "\n",
    "The next important section of the code is assigning snow depth values and warnings to taxis.\n",
    "\n",
    "```python\n",
    "def getGPSData(sec):\n",
    "    if sec in gpsData.index:\n",
    "        currentData = pd.read_json(gpsData.loc[sec].data)\n",
    "        currentData['sD'] = np.zeros(len(currentData))\n",
    "        if sec in weatherDict and not isinstance(weatherDict[sec], str):\n",
    "            warningGrids = weatherDict[sec]\n",
    "            currentDataGeo = gpd.GeoDataFrame(currentData['id'],geometry = gpd.points_from_xy(currentData.lng,currentData.lat),crs='EPSG:4326')\n",
    "            wGrid = weatherGrid.merge(warningGrids,on='id')\n",
    "            matches = currentDataGeo.sjoin(wGrid,predicate=\"within\")\n",
    "            currentData.loc[currentData.id.isin(matches.id_left),\"sD\"] = matches.snowDepth\n",
    "        return currentData.to_json(orient=\"records\")+\">>>currentGPSTime:\"+str(max(gpsData.index))\n",
    "    return \"No Data\"  \n",
    "```\n",
    "\n",
    "Here <code> currentData</code> contains the GPS data for a particular second for the taxis. \n",
    "\n",
    "Then we add a new attribute to our currentData dataframe and initialize it with zero. This attribute will carry the snow depth value. \n",
    "\n",
    "<code>currentData['sD'] = np.zeros(len(currentData))</code>\n",
    "\n",
    "We retrieve the grid cells that have snow depth value greater than 4 that we have previously calculated. \n",
    "\n",
    "<code>warningGrids = weatherDict[sec]</code>\n",
    "\n",
    "Then we create a GeoDataFrame for our currentData\n",
    "\n",
    "<code>currentDataGeo = gpd.GeoDataFrame(currentData['id'],geometry = gpd.points_from_xy(currentData.lng,currentData.lat),crs='EPSG:4326')</code>\n",
    "\n",
    "Now this is the critical section\n",
    "\n",
    "<code>matches = currentDataGeo.sjoin(wGrid,predicate=\"within\")</code>\n",
    "\n",
    "Here we are using the sjoin method to check which taxi's are within a grid. This operation is called spatial join. We have already seen spatial joins in earlier chapters, however we will have a small diagrammatic illustration.\n",
    "\n",
    "![sample_sjoin](supplementary/images/sample_sjoin.jpg)\n",
    "\n",
    "And finally using the spatially merged dataset, we can assign snow depth value to each of the taxi records\n",
    "\n",
    "<code>currentData.loc[currentData.id.isin(matches.id_left),\"sD\"] = matches.snowDepth</code>\n",
    "\n",
    "So that wraps up our session on Spatial Big Data (Variety)"
   ]
  },
  {
   "cell_type": "markdown",
   "id": "18b14353",
   "metadata": {},
   "source": [
    "<font size=\"+1\"><a style=\"background-color:blue;color:white;padding:12px;margin:10px;font-weight:bold;\" \n",
    "href=\"bigdata-4.ipynb\">Click here to go to the next notebook.</a></font>"
   ]
  }
 ],
 "metadata": {
  "celltoolbar": "Edit Metadata",
  "kernelspec": {
   "display_name": "Python 3 (ipykernel)",
   "language": "python",
   "name": "python3"
  },
  "language_info": {
   "codemirror_mode": {
    "name": "ipython",
    "version": 3
   },
   "file_extension": ".py",
   "mimetype": "text/x-python",
   "name": "python",
   "nbconvert_exporter": "python",
   "pygments_lexer": "ipython3",
   "version": "3.8.1"
  },
  "rise": {
   "autolaunch": false,
   "overlay": "<div class='hciheader'></div><div class='hcifooter'></div>",
   "scroll": true
  }
 },
 "nbformat": 4,
 "nbformat_minor": 5
}
