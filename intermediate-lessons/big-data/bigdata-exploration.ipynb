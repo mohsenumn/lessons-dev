{
 "cells": [
  {
   "cell_type": "markdown",
   "id": "756bed5c",
   "metadata": {},
   "source": [
    "## Introduction to Big Data\n",
    "### Segment 5 of 5\n",
    "\n",
    "# Exploration\n",
    "\n",
    "*Lesson Developer: Jayakrishnan Ajayakumar, jxa421@case.edu*"
   ]
  },
  {
   "cell_type": "code",
   "execution_count": null,
   "id": "188c9238",
   "metadata": {
    "hide_input": true,
    "init_cell": true,
    "slideshow": {
     "slide_type": "skip"
    },
    "tags": [
     "Hide"
    ]
   },
   "outputs": [],
   "source": [
    "# This code cell starts the necessary setup for Hour of CI lesson notebooks.\n",
    "# First, it enables users to hide and unhide code by producing a 'Toggle raw code' button below.\n",
    "# Second, it imports the hourofci package, which is necessary for lessons and interactive Jupyter Widgets.\n",
    "# Third, it helps hide/control other aspects of Jupyter Notebooks to improve the user experience\n",
    "# This is an initialization cell\n",
    "# It is not displayed because the Slide Type is 'Skip'\n",
    "\n",
    "from IPython.display import HTML, IFrame, Javascript, display\n",
    "from ipywidgets import interactive\n",
    "import ipywidgets as widgets\n",
    "from ipywidgets import Layout\n",
    "import pandas as pd\n",
    "import queue\n",
    "import threading\n",
    "import time\n",
    "import getpass # This library allows us to get the username (User agent string)\n",
    "\n",
    "# import package for hourofci project\n",
    "import sys\n",
    "sys.path.append('../../supplementary') # relative path (may change depending on the location of the lesson notebook)\n",
    "import hourofci\n",
    "\n",
    "# load javascript to initialize/hide cells, get user agent string, and hide output indicator\n",
    "# hide code by introducing a toggle button \"Toggle raw code\"\n",
    "HTML(''' \n",
    "    <script type=\"text/javascript\" src=\\\"../../supplementary/js/custom.js\\\"></script>\n",
    "    \n",
    "    <style>\n",
    "        .output_prompt{opacity:0;}\n",
    "    </style>\n",
    "    \n",
    "    <input id=\"toggle_code\" type=\"button\" value=\"Toggle raw code\">\n",
    "''')"
   ]
  },
  {
   "cell_type": "markdown",
   "id": "80a396bf",
   "metadata": {},
   "source": [
    "## Reminder\n",
    "<a href=\"#/slide-2-0\" class=\"navigate-right\" style=\"background-color:blue;color:white;padding:8px;margin:2px;font-weight:bold;\">Continue with the lesson</a>\n",
    "\n",
    "<br>\n",
    "</br>\n",
    "<font size=\"+1\">\n",
    "\n",
    "By continuing with this lesson you are granting your permission to take part in this research study for the Hour of Cyberinfrastructure: Developing Cyber Literacy for GIScience project. In this study, you will be learning about cyberinfrastructure and related concepts using a web-based platform that will take approximately one hour per lesson. Participation in this study is voluntary.\n",
    "\n",
    "Participants in this research must be 18 years or older. If you are under the age of 18 then please exit this webpage or navigate to another website such as the Hour of Code at https://hourofcode.com, which is designed for K-12 students.\n",
    "\n",
    "If you are not interested in participating please exit the browser or navigate to this website: http://www.umn.edu. Your participation is voluntary and you are free to stop the lesson at any time.\n",
    "\n",
    "For the full description please navigate to this website: <a href=\"../../gateway-lesson/gateway/gateway-1.ipynb\">Gateway Lesson Research Study Permission</a>.\n",
    "\n",
    "</font>"
   ]
  },
  {
   "cell_type": "markdown",
   "id": "ba7eb042",
   "metadata": {},
   "source": [
    "## Solving the congestion!\n",
    "\n",
    "From our previous experiment, we saw that our naive implementation of distance-based search is not capable of handling the volume and velocity of SBD in a real-world scenario. The reason is that for the naive implementation there are many unnecessary distance calculations. An illustration is provided below\n",
    "\n",
    "\n",
    "<img src=\"supplementary/images/less_congestion.jpg\" width=50%>\n",
    "The red lines indicate un-necessary distance calculations. If our scan radius is 200m and we are checking whether a point that is 10,000m is within the scan radius then it is an un-necessary calculation. So how can we avoid such calculations? \n",
    "\n",
    "Enter another tree, <span STYLE=\"font-size:18.0pt;color:black\">KD-Tree</span>, which is optimized for neighbor lookups. \n",
    "\n",
    "Again we won't go into the details of KD-Tree as it would need a strong background in Tree based algorithms. An illustration is shown below. \n",
    "\n",
    "<img src=\"supplementary/images/kd_tree_illustration.jpg\" width=50%>\n",
    "\n",
    "Luckily we do have a KD-Tree implementation in Python from the Scipy library (free and open-source Python library used for scientific computing and technical computing)\n",
    "\n",
    "You can import the KD-Tree implementation from scipy library using the following import statement \n",
    "<code>from scipy.spatial import cKDTree</code>. Let us first look at a small example using KD-Tree"
   ]
  },
  {
   "cell_type": "code",
   "execution_count": null,
   "id": "97fc33fd",
   "metadata": {},
   "outputs": [],
   "source": [
    "import geopandas as gpd\n",
    "from scipy.spatial import cKDTree\n",
    "import pandas as pd\n",
    "import numpy as np"
   ]
  },
  {
   "cell_type": "code",
   "execution_count": null,
   "id": "98aa626c",
   "metadata": {},
   "outputs": [],
   "source": [
    "#lets create a dataframe of some cities in USA\n",
    "cityFrame = pd.DataFrame([['New York City',40.712778,-74.006111],\\\n",
    "['Los Angeles',34.05,-118.25],['Chicago',41.881944, -87.627778],['Houston',29.762778, -95.383056],\\\n",
    "['Phoenix',33.448333, -112.073889],['Philadelphia',39.952778, -75.163611],['San Antonio',29.425, -98.493889],\\\n",
    "['San Diego',32.715, -117.1625],['Dallas',32.779167, -96.808889],['San Jose',37.336111, -121.890556]],columns=['City','latitude','longitude'])\n",
    "cityFrame"
   ]
  },
  {
   "cell_type": "markdown",
   "id": "0df8c7ba",
   "metadata": {},
   "source": [
    "Convert this to a geodataframe"
   ]
  },
  {
   "cell_type": "code",
   "execution_count": null,
   "id": "f0e58bc8",
   "metadata": {},
   "outputs": [],
   "source": [
    "cityGeoData = gpd.GeoDataFrame(cityFrame['City'],geometry=gpd.points_from_xy(cityFrame.longitude,cityFrame.latitude),crs='EPSG:4326')\n",
    "cityGeoData.plot();"
   ]
  },
  {
   "cell_type": "markdown",
   "id": "3e5322a3",
   "metadata": {},
   "source": [
    "Since we want to do distance based queries, it would be beneficial to convert the geographic coordinates to projected coordinates"
   ]
  },
  {
   "cell_type": "code",
   "execution_count": null,
   "id": "e30116d2",
   "metadata": {},
   "outputs": [],
   "source": [
    "cityGeoData = cityGeoData.to_crs('EPSG:9822')"
   ]
  },
  {
   "cell_type": "markdown",
   "id": "ee45a77e",
   "metadata": {},
   "source": [
    "Now we need to create a KD-Tree using the coordinates in this form [[lon1,lat1],[lon2,lat2]....]. So lets extract the coordinates in this form the geodataframe. We will use numpy to achieve this"
   ]
  },
  {
   "cell_type": "code",
   "execution_count": null,
   "id": "f6dc3f9a",
   "metadata": {},
   "outputs": [],
   "source": [
    "coordinates = np.dstack((cityGeoData.geometry.x,cityGeoData.geometry.y))[0]\n",
    "coordinates"
   ]
  },
  {
   "cell_type": "markdown",
   "id": "5e283cfc",
   "metadata": {},
   "source": [
    "Now we can create our KD tree from this set of coordinates"
   ]
  },
  {
   "cell_type": "code",
   "execution_count": null,
   "id": "8b22cf6f",
   "metadata": {},
   "outputs": [],
   "source": [
    "cityTree = cKDTree(coordinates);"
   ]
  },
  {
   "cell_type": "markdown",
   "id": "08d0b463",
   "metadata": {},
   "source": [
    "Now we can start to query this tree for neighbors. Let us create a target geodataframe containing locations to search for and then extract out the coordinates. You have to make sure that the projection matches,"
   ]
  },
  {
   "cell_type": "code",
   "execution_count": null,
   "id": "258a76c8",
   "metadata": {},
   "outputs": [],
   "source": [
    "targetPlacesFrame = pd.DataFrame([['My Home',41.50161178703802, -81.59157919814577]],columns=['Location','latitude','longitude'])\n",
    "targetGeoData = gpd.GeoDataFrame(targetPlacesFrame['Location'],geometry=gpd.points_from_xy(targetPlacesFrame.longitude,targetPlacesFrame.latitude),crs='EPSG:4326')\n",
    "targetGeoData = targetGeoData.to_crs('EPSG:9822')\n",
    "targetCoordinates = np.dstack((targetGeoData.geometry.x,targetGeoData.geometry.y))[0]\n",
    "targetCoordinates"
   ]
  },
  {
   "cell_type": "markdown",
   "id": "26f26c54",
   "metadata": {},
   "source": [
    "Now we can query the tree, for example find the closest city from the target location (in this case the target location is in Cleveland)"
   ]
  },
  {
   "cell_type": "code",
   "execution_count": null,
   "id": "48533ffe",
   "metadata": {},
   "outputs": [],
   "source": [
    "cityTree.query(targetCoordinates)"
   ]
  },
  {
   "cell_type": "markdown",
   "id": "199def39",
   "metadata": {},
   "source": [
    "The query methods return a tuple of two array, the first array contains the distance and the second array contains the corresponding index of the tree. We can just print the results like this"
   ]
  },
  {
   "cell_type": "code",
   "execution_count": null,
   "id": "8b9b82aa",
   "metadata": {},
   "outputs": [],
   "source": [
    "closest = cityTree.query(targetCoordinates)\n",
    "print ('The closest city is ',cityGeoData.loc[closest[1][0]].City,'and is ',closest[0][0],'meters away')"
   ]
  },
  {
   "cell_type": "markdown",
   "id": "466e099a",
   "metadata": {},
   "source": [
    "You can also query for multiple neighbors. For example, find two closest cities"
   ]
  },
  {
   "cell_type": "code",
   "execution_count": null,
   "id": "8c23c6c0",
   "metadata": {},
   "outputs": [],
   "source": [
    "closest = cityTree.query(targetCoordinates,k=2)\n",
    "print ('The closest cities are ',cityGeoData.loc[closest[1][0]].City.values)"
   ]
  },
  {
   "cell_type": "markdown",
   "id": "b97162b8",
   "metadata": {},
   "source": [
    "We can also query based on distance. For example, find 3 nearest cities that are within 200 miles (200*1600m) of the target location"
   ]
  },
  {
   "cell_type": "code",
   "execution_count": null,
   "id": "cf75ccc9",
   "metadata": {},
   "outputs": [],
   "source": [
    "closest = cityTree.query(targetCoordinates,k=3,distance_upper_bound=200*1600)\n",
    "#We have to remove non-matches\n",
    "matchingIds = closest[1][0][closest[1][0]!=len(cityGeoData)]\n",
    "print ('The closest cities are ',cityGeoData.loc[matchingIds].City.values)"
   ]
  },
  {
   "cell_type": "markdown",
   "id": "1676fdf5",
   "metadata": {},
   "source": [
    "So there is not even a single city that is within 200 miles from the target location. Let us try 1500 miles"
   ]
  },
  {
   "cell_type": "code",
   "execution_count": null,
   "id": "694fb197",
   "metadata": {},
   "outputs": [],
   "source": [
    "closest = cityTree.query(targetCoordinates,k=3,distance_upper_bound=1500*1600)\n",
    "#We have to remove non-matches\n",
    "matchingIds = closest[1][0][closest[1][0]!=len(cityGeoData)]\n",
    "print ('The closest cities are ',cityGeoData.loc[matchingIds].City.values)"
   ]
  },
  {
   "cell_type": "markdown",
   "id": "c61dd9be",
   "metadata": {},
   "source": [
    "We can also query with multiple target locations."
   ]
  },
  {
   "cell_type": "code",
   "execution_count": null,
   "id": "2208093d",
   "metadata": {},
   "outputs": [],
   "source": [
    "targetPlacesFrame = pd.DataFrame([['Earth Quake Location 1',33.96762282324769, -118.3389937350672],\\\n",
    "                    ['Earth Quake Location 2',34.01222880117181, -118.28794093440929],\\\n",
    "                    ['Earth Quake Location 3',29.420108950140303, -98.4839186031248]],columns=['Location','latitude','longitude'])\n",
    "targetGeoData = gpd.GeoDataFrame(targetPlacesFrame['Location'],geometry=gpd.points_from_xy(targetPlacesFrame.longitude,targetPlacesFrame.latitude),crs='EPSG:4326')\n",
    "targetGeoData = targetGeoData.to_crs('EPSG:9822')\n",
    "targetCoordinates = np.dstack((targetGeoData.geometry.x,targetGeoData.geometry.y))[0]\n",
    "targetCoordinates"
   ]
  },
  {
   "cell_type": "markdown",
   "id": "25374e33",
   "metadata": {},
   "source": [
    "Query the three locations for the nearest neighbor"
   ]
  },
  {
   "cell_type": "code",
   "execution_count": null,
   "id": "f2765d2f",
   "metadata": {},
   "outputs": [],
   "source": [
    "nearest = cityTree.query(targetCoordinates,k=1)\n",
    "for i,row in targetPlacesFrame.iterrows():\n",
    "    print ('Nearest city to ',row.Location,'is',cityGeoData.loc[nearest[1][i]].City,' and it is',nearest[0][i],'meters away.')"
   ]
  },
  {
   "cell_type": "markdown",
   "id": "b214b721",
   "metadata": {},
   "source": [
    "Another method that you can use is query_ball_point, which finds all neighbors within a specific distance from the target points. Let us try that out. Find all neighbors within 100 miles from the target location"
   ]
  },
  {
   "cell_type": "code",
   "execution_count": null,
   "id": "3832bad6",
   "metadata": {},
   "outputs": [],
   "source": [
    "nearest = cityTree.query_ball_point(targetCoordinates,100*1600)\n",
    "nearest"
   ]
  },
  {
   "cell_type": "markdown",
   "id": "69e75e28",
   "metadata": {},
   "source": [
    "This returns an array of list objects with each list corresponding to neighbors of each target location. If there is no neighbors then it will be an empty list. "
   ]
  },
  {
   "cell_type": "code",
   "execution_count": null,
   "id": "38d2175a",
   "metadata": {},
   "outputs": [],
   "source": [
    "#neighbor with in 2 miles\n",
    "nearest = cityTree.query_ball_point(targetCoordinates,2*1600)\n",
    "nearest"
   ]
  },
  {
   "cell_type": "markdown",
   "id": "08fd8444",
   "metadata": {},
   "source": [
    "Now this query_ball_point results can be used to alter our question, which is even more powerful, how many target locations within x miles from the neighbors. Let us try that out. The question here is how many target locations within 100 miles of each city. The target location could be anything. It could location of earthquakes, Walmart, McDonalds etc."
   ]
  },
  {
   "cell_type": "code",
   "execution_count": null,
   "id": "b7e17d38",
   "metadata": {},
   "outputs": [],
   "source": [
    "#neighbor with in 100 miles\n",
    "nearest = cityTree.query_ball_point(targetCoordinates,100*1600)\n",
    "nearest"
   ]
  },
  {
   "cell_type": "markdown",
   "id": "dbdfa57a",
   "metadata": {},
   "source": [
    "Now you can join the results together to a single list"
   ]
  },
  {
   "cell_type": "code",
   "execution_count": null,
   "id": "61f9919a",
   "metadata": {},
   "outputs": [],
   "source": [
    "results = np.concatenate(nearest)\n",
    "results"
   ]
  },
  {
   "cell_type": "markdown",
   "id": "eac8acd5",
   "metadata": {},
   "source": [
    "Now there are many ways to assign it back to the City dataframe. The easiest is to first create a frequency count of the results. Then we need to create a new column in the city dataframe and based on the frequency count keys (which is index in the city dataframe) assign the values. Let us see that as step-by-step"
   ]
  },
  {
   "cell_type": "code",
   "execution_count": null,
   "id": "77a82ea4",
   "metadata": {},
   "outputs": [],
   "source": [
    "from collections import Counter\n",
    "cityCounter = Counter(results)\n",
    "cityCounter"
   ]
  },
  {
   "cell_type": "markdown",
   "id": "f04f48ea",
   "metadata": {},
   "source": [
    "As you can see, it creates a Counter object (which is a modified version of Dict) which stores the frequency. Now we can create a new column in the cities geodataframe."
   ]
  },
  {
   "cell_type": "code",
   "execution_count": null,
   "id": "f2243418",
   "metadata": {},
   "outputs": [],
   "source": [
    "cityGeoData['counts'] = 0\n",
    "cityGeoData"
   ]
  },
  {
   "cell_type": "markdown",
   "id": "1c4137ec",
   "metadata": {},
   "source": [
    "Now we just need to modify the counts based on index"
   ]
  },
  {
   "cell_type": "code",
   "execution_count": null,
   "id": "9238bb06",
   "metadata": {},
   "outputs": [],
   "source": [
    "cityGeoData.loc[list(cityCounter.keys()),'counts'] = list(cityCounter.values())\n",
    "cityGeoData"
   ]
  },
  {
   "cell_type": "markdown",
   "id": "14d76d08",
   "metadata": {},
   "source": [
    "So Los Angeles have two target locations with in 100 miles and San Antonio has 1. \n",
    "\n",
    "Now let's try this out in some real data so that we can gauge the performance.\n",
    "\n",
    "For this small test we are going to use our city data and the earthquake data for the past 5 years (https://earthquake.usgs.gov/) \n",
    "\n",
    "First, load the city data"
   ]
  },
  {
   "cell_type": "code",
   "execution_count": null,
   "id": "a1191159",
   "metadata": {},
   "outputs": [],
   "source": [
    "cities = gpd.read_file(r'supplementary/data/USA_Major_Cities/USA_Major_Cities.shp').to_crs('EPSG:9822')\n",
    "print (cities.shape)\n",
    "cities.head()"
   ]
  },
  {
   "cell_type": "markdown",
   "id": "b7e909fe",
   "metadata": {},
   "source": [
    "So we have 3,886 cities. Now let's load the earthquake data. "
   ]
  },
  {
   "cell_type": "code",
   "execution_count": null,
   "id": "e5ff7d77",
   "metadata": {},
   "outputs": [],
   "source": [
    "eqData  = pd.read_csv(r'supplementary/data/eq_data_from_2016.csv')\n",
    "print (eqData.shape)\n",
    "eqData.head()"
   ]
  },
  {
   "cell_type": "markdown",
   "id": "03eb9474",
   "metadata": {},
   "source": [
    "So there are 17,907 records. Now convert this to a geodataframe"
   ]
  },
  {
   "cell_type": "code",
   "execution_count": null,
   "id": "94d93455",
   "metadata": {
    "scrolled": true
   },
   "outputs": [],
   "source": [
    "eqGeo  = gpd.GeoDataFrame(eqData,geometry = gpd.points_from_xy(eqData.longitude,eqData.latitude),crs='EPSG:4326').to_crs('EPSG:9822')"
   ]
  },
  {
   "cell_type": "markdown",
   "id": "dc81a745",
   "metadata": {},
   "source": [
    "Now we will create the tree. We will create tree, using cities as the source. Let us see how much time it takes to create a tree"
   ]
  },
  {
   "cell_type": "code",
   "execution_count": null,
   "id": "b6477abc",
   "metadata": {},
   "outputs": [],
   "source": [
    "%%timeit\n",
    "cityTree = cKDTree(np.dstack((cities.geometry.x,cities.geometry.y))[0])"
   ]
  },
  {
   "cell_type": "markdown",
   "id": "9610b82d",
   "metadata": {},
   "source": [
    "It just took only 1.54ms (.001 seconds) to create the tree. So that's really fast. Now let’s see the heavyweight operation. Our goal is to find out how many earthquakes within 30 miles from city."
   ]
  },
  {
   "cell_type": "code",
   "execution_count": null,
   "id": "c14bc9ad",
   "metadata": {},
   "outputs": [],
   "source": [
    "%%timeit\n",
    "nearest = cityTree.query_ball_point(np.dstack((eqGeo.geometry.x,eqGeo.geometry.y))[0],30*1600)"
   ]
  },
  {
   "cell_type": "markdown",
   "id": "40619b43",
   "metadata": {},
   "source": [
    "It just took 10.8 ms (.01s) to get all the neighbors. Now it’s just packing them together. Let us add a eqCount column in our city geodataframe"
   ]
  },
  {
   "cell_type": "code",
   "execution_count": null,
   "id": "668fb9ef",
   "metadata": {},
   "outputs": [],
   "source": [
    "cities['eqCount'] = 0"
   ]
  },
  {
   "cell_type": "markdown",
   "id": "52b8cfbd",
   "metadata": {},
   "source": [
    "Now we will do the frequency counter and will update the eqCount"
   ]
  },
  {
   "cell_type": "code",
   "execution_count": null,
   "id": "2eaad9ec",
   "metadata": {},
   "outputs": [],
   "source": [
    "%%timeit\n",
    "cityCounter=Counter(np.concatenate(nearest))\n",
    "cities.loc[list(cityCounter.keys()),'eqCount'] = list(cityCounter.values())"
   ]
  },
  {
   "cell_type": "markdown",
   "id": "b044985a",
   "metadata": {},
   "source": [
    "That’s just 314 micro seconds which is (.000314 seconds). So let’s run the entire program."
   ]
  },
  {
   "cell_type": "code",
   "execution_count": null,
   "id": "a18dd733",
   "metadata": {},
   "outputs": [],
   "source": [
    "%%timeit\n",
    "cityTree = cKDTree(np.dstack((cities.geometry.x,cities.geometry.y))[0])\n",
    "nearest = cityTree.query_ball_point(np.dstack((eqGeo.geometry.x,eqGeo.geometry.y))[0],30*1600)\n",
    "cities['eqCount'] = 0\n",
    "cityCounter=Counter(np.concatenate(nearest))\n",
    "cities.loc[list(cityCounter.keys()),'eqCount'] = list(cityCounter.values())"
   ]
  },
  {
   "cell_type": "markdown",
   "id": "612d444d",
   "metadata": {},
   "source": [
    "Just 63.6 (.0636 seconds) microseconds to run the entire program (including the creation of tree). That is fast considering the fact that a naive implementation will lead to\n",
    "\n",
    "3886 * 17907 = 66,062,000!! Calculations.\n",
    "\n",
    "Ok now we will see the modified version of our previous experiment with traffic signals. Notice the traffic time"
   ]
  },
  {
   "cell_type": "code",
   "execution_count": null,
   "id": "39b73449",
   "metadata": {},
   "outputs": [],
   "source": [
    "import pandas as pd\n",
    "import queue\n",
    "import threading\n",
    "import time\n",
    "import geopandas as gpd\n",
    "import json\n",
    "from scipy.spatial import cKDTree\n",
    "import numpy as np\n",
    "import pandas as pd"
   ]
  },
  {
   "cell_type": "code",
   "execution_count": null,
   "id": "254bf953",
   "metadata": {
    "hide_input": true,
    "slideshow": {
     "slide_type": "-"
    },
    "tags": [
     "Hide",
     "Init"
    ]
   },
   "outputs": [],
   "source": [
    "class GPSThread(threading.Thread):\n",
    "    # we will use two queues, one for pushing the GPS data and other to recieve any message from main thread\n",
    "    def __init__(self, dataFrame,status):\n",
    "        threading.Thread.__init__(self)\n",
    "        self.dataFrame = dataFrame\n",
    "        self.status = status\n",
    "    def run(self):\n",
    "        #load the data file\n",
    "        data = pd.read_parquet(r'supplementary/data/taxi1hr_gps.parquet')\n",
    "        #create an index based on seconds \n",
    "        data.set_index('sec',inplace=True)\n",
    "        #now we need to loop through the dataset\n",
    "        for sec in range(data.index.min(),data.index.max()):\n",
    "            #kill switch is a message in the message queue\n",
    "            if self.status[0]==0:\n",
    "                break\n",
    "            dat = data.loc[sec]\n",
    "            gpsDat = dat[['id','lng','lat']].to_json(orient='records')\n",
    "            self.dataFrame.loc[sec] = gpsDat\n",
    "            #after one iteration sleep for a second......\n",
    "            time.sleep(1)\n",
    "            #remove data that is older than 5 minutes seconds with respect to current time\n",
    "            #self.dataFrame.drop(self.dataFrame.index[self.dataFrame.index<(sec-300)],inplace=True)\n",
    "        #if simulation is over put a pill in the outQueue\n",
    "        self.status[0] = 2\n",
    "        \n",
    "class TrafficThread(threading.Thread):\n",
    "    # we will use two queues, one for pushing the GPS data and other to recieve any message from main thread\n",
    "    def __init__(self, gpsDataFrame,resultsDict,status,params):\n",
    "        threading.Thread.__init__(self)\n",
    "        self.gpsDataFrame = gpsDataFrame\n",
    "        self.resultsDict = resultsDict\n",
    "        self.status = status\n",
    "        self.tree = None\n",
    "        self.params = params\n",
    "    #function to calculate nearest neighbour for a GeoDataframe with a given distance (a very poor implementation)\n",
    "    def findNearestNeighbors(self,data,distance=100):\n",
    "        out = pd.DataFrame({'id':np.arange(len(self.tree.data),dtype=np.int16)})\n",
    "        results = self.tree.query_ball_point(np.dstack((data.geometry.x,data.geometry.y))[0],distance+.0001)\n",
    "        index,counts = np.unique(np.concatenate(results),return_counts=True)\n",
    "        countData = pd.DataFrame({'id':index,'counts':counts})\n",
    "        out = out.merge(countData,on='id',how='left').fillna(0)\n",
    "        return out.counts.values\n",
    "    \n",
    "    def run(self):\n",
    "        processed = []\n",
    "        #load the traffic signals \n",
    "        data = gpd.read_file(r'supplementary/data/nyc__traffic_signals/nyc__traffic_signals.shp')\n",
    "        outframe = pd.DataFrame({'id':data.id,'lat':data.geometry.y,'lng':data.geometry.x,'counts':[0]*len(data)})\n",
    "        #we need to project the data for distance calculations\n",
    "        data_projected = data.to_crs('EPSG:32618')\n",
    "        #initialize a tree\n",
    "        self.tree = cKDTree(np.dstack((data_projected.geometry.x,data_projected.geometry.y))[0])\n",
    "        #Now we will monitor the gpsDataFrame continuosly for changes\n",
    "        while True:\n",
    "            if self.status[0]==0 or self.status[0]==2:\n",
    "                break\n",
    "            #avoid dirtyread problem by making a copy\n",
    "            currentFrame = self.gpsDataFrame.copy()\n",
    "            #retreive the earliest element not processed from gpsDataFrame\n",
    "            toProcess = currentFrame.loc[~currentFrame.index.isin(processed)]\n",
    "            if len(toProcess)>0:\n",
    "                currentGPS = toProcess.iloc[0]\n",
    "                currentGPSData = pd.read_json(currentGPS.data)\n",
    "                #we need to convert to GeoDataFrame and project the data for distance calculation\n",
    "                currentGPSProjected = gpd.GeoDataFrame(currentGPSData['id'],geometry=gpd.points_from_xy(currentGPSData.lng,currentGPSData.lat),crs='EPSG:4326').to_crs('EPSG:32618')\n",
    "                #now perform the nearest neighbor caclulation and add it to result dict\n",
    "                #TODO, the result will be signals with id and count\n",
    "                nearestNeighbors = self.findNearestNeighbors(currentGPSProjected,self.params['monitorDistance'])\n",
    "                newData = outframe[['id','lat','lng']].assign(counts=nearestNeighbors)\n",
    "                self.resultsDict[currentGPS.name] = newData.loc[newData.counts>=self.params['warningCount']]\n",
    "                processed.append(currentGPS.name)\n",
    "                \n",
    "\n",
    "gpsData = None\n",
    "trafficResults = None\n",
    "status = [-1]\n",
    "trafficParams = None\n",
    "def start():\n",
    "    global gpsData\n",
    "    global trafficResults\n",
    "    global status\n",
    "    global trafficParams\n",
    "    gpsData = pd.DataFrame(columns = ['sec','data'])\n",
    "    gpsData.set_index('sec',inplace=True)\n",
    "    trafficResults = {}\n",
    "    status[0] = 1\n",
    "    trafficParams = {'monitorDistance':500,'warningCount':2}\n",
    "    #startup threads\n",
    "    gpsThread = GPSThread(gpsData,status)\n",
    "    gpsThread.start()\n",
    "    trafficThread = TrafficThread(gpsData,trafficResults,status,trafficParams)\n",
    "    trafficThread.start()\n",
    "    #small delay for the thread to startup\n",
    "    time.sleep(.5)\n",
    "    #gpsThread.join()\n",
    "    #trafficThread.join()\n",
    "    return \"started\"\n",
    "\n",
    "def modifyTrafficParams(param):\n",
    "    global trafficParams\n",
    "    trafficParams['monitorDistance'] = float(param['monitorDistance'])\n",
    "    trafficParams['warningCount'] = int(param['warningCount'])\n",
    "    return json.dumps(trafficParams)\n",
    "    \n",
    "def getGPSData(sec):\n",
    "    if sec in gpsData.index:\n",
    "        return gpsData.loc[sec].data+\">>>currentGPSTime:\"+str(max(gpsData.index))\n",
    "    return \"No Data\" \n",
    "\n",
    "def getTrafficData(sec):\n",
    "    if sec in trafficResults:\n",
    "        return trafficResults.pop(sec).to_json(orient=\"records\")\n",
    "    return \"No Data\" \n",
    "\n",
    "def getStatus():\n",
    "    global status\n",
    "    if status[0] == 2 or status[0] == 0:\n",
    "        return \"sim over\"\n",
    "    return \"running\"\n",
    "\n",
    "def stop():\n",
    "    global status\n",
    "    status[0] = 0\n",
    "    cleanup()\n",
    "    return \"stopping\"         \n"
   ]
  },
  {
   "cell_type": "code",
   "execution_count": null,
   "id": "0f7874c6",
   "metadata": {
    "hide_input": true,
    "slideshow": {
     "slide_type": "-"
    },
    "tags": [
     "Hide",
     "Init"
    ]
   },
   "outputs": [],
   "source": [
    "%%html\n",
    "<link rel=\"stylesheet\" href=\"https://unpkg.com/leaflet@1.8.0/dist/leaflet.css\"/>\n",
    "<div id=\"main\">\n",
    "    <div id=\"mapandcontrols\">\n",
    "        <div id=\"map\"></div>\n",
    "        <div id=\"controls\">\n",
    "            <button id=\"start_button\" class =\"controlbuttons\" onclick = \"run()\">Start Simulation</button>\n",
    "            <button id=\"stop_button\" class =\"controlbuttons\" onclick = \"stop()\" disabled>Stop Simulation</button>\n",
    "            <span id=\"active_cars\" class =\"controlbuttons\">Active Cars:0</span>\n",
    "            <span id=\"gpstime\" class =\"controlbuttons\">GPSTime:0</span>\n",
    "            <span id=\"traffictime\" class =\"controlbuttons\">TrafficTime:0</span>\n",
    "            <span id=\"realgpstime\" class =\"controlbuttons\">RealGPSTime:0</span>\n",
    "        </div>\n",
    "    </div>\n",
    "    <div id=\"params\">\n",
    "        <div class = \"maxwidth\" style=\"height:10%;\">\n",
    "            <span class=\"controlbuttons\" style=\"width:50%\">Scan Radius (m):</span>\n",
    "            <input type=\"text\" id=\"scanrad\" class=\"controlbuttons \" style=\"width:30%\" value=\"200\">\n",
    "        </div>\n",
    "        <div class = \"maxwidth\" style=\"height:10%;\">\n",
    "            <span class=\"controlbuttons\" style=\"width:55%\">Warning Car Count:</span>\n",
    "            <select id=\"warncount\" class=\"controlbuttons \" style=\"width:25%\"></select>\n",
    "        </div>\n",
    "    </div>\n",
    "</div>\n",
    "<style>\n",
    "#main { height: 500px;width:800px; }\n",
    "#mapandcontrols { height: 100%;width:65%;float:left}\n",
    "#params { height: 100%;width:30%;float:left;margin-left:2%;}\n",
    "#map { height:75%;width:100%; }\n",
    "#controls { height: 20%;margin-top:4%; }\n",
    ".maxwidth{width:100%;}\n",
    ".maxheight{height:100%;}\n",
    ".halfwidth{width:50%;}\n",
    ".halfheight{height:50%;}\n",
    ".controlbuttons{float:left;margin:1%;}\n",
    "</style>\n",
    "<script>\n",
    "    var map, datInterval, current, currentTraffic, trafficDatInterval, statusInterval;\n",
    "    require.config({\n",
    "        paths: {\n",
    "            d3: 'https://d3js.org/d3.v7.min',\n",
    "            L: 'https://unpkg.com/leaflet@1.8.0/dist/leaflet'\n",
    "        }\n",
    "    });\n",
    "    \n",
    "    function updateParams(){\n",
    "        require(['d3'], function(d3) {\n",
    "            var warningCount = d3.select('#warncount').property('value');\n",
    "            var scanRadius = d3.select('#scanrad').property('value');\n",
    "        \n",
    "            paramObj = JSON.stringify({'monitorDistance':scanRadius,'warningCount':warningCount});\n",
    "            IPython.notebook.kernel.execute(\n",
    "                \"modifyTrafficParams(\"+paramObj+\")\", \n",
    "                {\n",
    "                    iopub: {\n",
    "                        output: function(response) {\n",
    "                            var dataString = response.content.data['text/plain'];\n",
    "                        }\n",
    "                    }\n",
    "                },\n",
    "                {\n",
    "                    silent: false, \n",
    "                    store_history: false, \n",
    "                    stop_on_error: true\n",
    "                }\n",
    "            );\n",
    "        });\n",
    "    }\n",
    "    \n",
    "    function cleanup(){\n",
    "        clearInterval(statusInterval)\n",
    "        clearInterval(datInterval)\n",
    "        clearInterval(trafficDatInterval)\n",
    "        currentTraffic = 0;\n",
    "        current = 0;\n",
    "        require(['d3'], function(d3) {\n",
    "            d3.select(\"#trafficFrame\").selectAll(\"circle\").remove();\n",
    "            d3.select(\"#gpsFrame\").selectAll(\"circle\").remove();\n",
    "            d3.select('#warncount').property('value',20);\n",
    "            d3.select('#scanrad').property('value',200);\n",
    "            document.getElementById(\"start_button\").disabled = false;\n",
    "            document.getElementById(\"stop_button\").disabled = true;\n",
    "            document.getElementById(\"active_cars\").innerText = \"Active Cars:0\";\n",
    "            document.getElementById(\"traffictime\").innerText = \"TrafficTime:0\";\n",
    "            document.getElementById(\"gpstime\").innerText = \"GPSTime:0\";\n",
    "            document.getElementById(\"realgpstime\").innerText = \"RealGPSTime:0\";\n",
    "            document.getElementById(\"warncount\").disabled = false;\n",
    "            document.getElementById(\"scanrad\").disabled = false;\n",
    "        });\n",
    "    }\n",
    "    \n",
    "    function getStatus(){\n",
    "        IPython.notebook.kernel.execute(\n",
    "            \"getStatus()\", \n",
    "            {\n",
    "                iopub: {\n",
    "                    output: function(response) {\n",
    "                        var dataString = response.content.data['text/plain'];\n",
    "                        if (dataString.includes(\"sim over\")){\n",
    "                            console.log('Time to clean up everything');\n",
    "                            cleanup();\n",
    "                        }\n",
    "                    }\n",
    "                }\n",
    "            },\n",
    "            {\n",
    "                silent: false, \n",
    "                store_history: false, \n",
    "                stop_on_error: true\n",
    "            }\n",
    "        );    \n",
    "    }\n",
    "\n",
    "    function fetchTrafficData() {\n",
    "        //first check whether the points have been loaded. If points are not loaded we need to retry\n",
    "        require(['d3'], function(d3) {\n",
    "            //if points are already loaded then we just need to update the traffic signals based on counts\n",
    "            IPython.notebook.kernel.execute(\n",
    "                \"getTrafficData(\" + currentTraffic + \")\", {\n",
    "                    iopub: {\n",
    "                        output: function(response) {\n",
    "                            // Print the return value of the Python code to the console\n",
    "                            var dataString = response.content.data['text/plain'];\n",
    "                            if (!(dataString.includes(\"sim over\") || dataString.includes(\"No Data\"))) {\n",
    "                                var data = JSON.parse(dataString.slice(1, dataString.length - 1));\n",
    "                                d3.select(\"#trafficFrame\")\n",
    "                                    .selectAll(\"circle\")\n",
    "                                    .data(data, d => d.id)\n",
    "                                    .join(\n",
    "                                        enter => enter.append('circle')\n",
    "                                        .attr(\"cx\", d => map.latLngToLayerPoint([d.lat, d.lng]).x)\n",
    "                                        .attr(\"cy\", d => map.latLngToLayerPoint([d.lat, d.lng]).y)\n",
    "                                        .attr(\"r\", 1)\n",
    "                                        .style(\"fill\", \"red\")\n",
    "                                        .attr(\"stroke\", \"red\")\n",
    "                                        .attr(\"stroke-width\", 1)\n",
    "                                        .attr(\"fill-opacity\", 1)\n",
    "                                        .attr(\"opacity\", 1)\n",
    "                                        .transition()\n",
    "                                        .duration(500)\n",
    "                                        .attr(\"r\", 5)\n",
    "                                        .selection(),\n",
    "                                        \n",
    "                                        update => update\n",
    "                                        .attr(\"r\", 1)\n",
    "                                        .transition()\n",
    "                                        .duration(500)\n",
    "                                        .attr(\"r\", 5)\n",
    "                                        .selection(),\n",
    "                                        \n",
    "                                        exit => exit\n",
    "                                        .remove()\n",
    "                                    )\n",
    "                                document.getElementById(\"traffictime\").innerText = \"TrafficTime: \" + currentTraffic;\n",
    "                                currentTraffic += 1;\n",
    "                            }\n",
    "                        }\n",
    "                    }\n",
    "                }, {\n",
    "                    silent: false,\n",
    "                    store_history: false,\n",
    "                    stop_on_error: true\n",
    "                }\n",
    "            );\n",
    "        });\n",
    "    }\n",
    "\n",
    "    function fetchGPSData() {\n",
    "        IPython.notebook.kernel.execute(\n",
    "            \"getGPSData(\" + current + \")\", {\n",
    "                iopub: {\n",
    "                    output: function(response) {\n",
    "                        \n",
    "                        // Print the return value of the Python code to the console\n",
    "                        var dataString = response.content.data['text/plain'];\n",
    "                        if (!(dataString.includes(\"sim over\") || dataString.includes(\"No Data\"))) {\n",
    "                            require(['d3'], function(d3) {\n",
    "                                var sections = dataString.split(\">>>\");\n",
    "                                var data = JSON.parse(sections[0].slice(1, sections[0].length));\n",
    "                                document.getElementById(\"active_cars\").innerText = \"Active Cars: \" + data.length;\n",
    "                                d3.select(\"#gpsFrame\")\n",
    "                                    .selectAll(\"circle\")\n",
    "                                    .data(data, d => d.id)\n",
    "                                    .join(\n",
    "                                        enter => enter.append('circle')\n",
    "                                        .attr(\"cx\", d => map.latLngToLayerPoint([d.lat, d.lng]).x)\n",
    "                                        .attr(\"cy\", d => map.latLngToLayerPoint([d.lat, d.lng]).y)\n",
    "                                        .attr(\"r\", 2)\n",
    "                                        .attr(\"stroke\", \"green\")\n",
    "                                        .attr(\"stroke-width\", 0.4)\n",
    "                                        .attr(\"fill-opacity\", 0.3)\n",
    "                                        .style(\"fill\", \"green\")\n",
    "                                        .selection(),\n",
    "\n",
    "                                        update => update\n",
    "                                        .attr(\"cx\", d => map.latLngToLayerPoint([d.lat, d.lng]).x)\n",
    "                                        .attr(\"cy\", d => map.latLngToLayerPoint([d.lat, d.lng]).y)\n",
    "                                        .selection(),\n",
    "\n",
    "                                        exit => exit\n",
    "                                        .remove()\n",
    "                                    )\n",
    "                                document.getElementById(\"gpstime\").innerText = \"GPSTime: \" + current;\n",
    "                                document.getElementById(\"realgpstime\").innerText = \"RealGPSTime: \" + sections[1].replace(\"'\",\"\").split(\":\")[1];\n",
    "                                current += 1;\n",
    "                            });\n",
    "                        }\n",
    "                    }\n",
    "                }\n",
    "            }, {\n",
    "                silent: false,\n",
    "                store_history: false,\n",
    "                stop_on_error: true\n",
    "            }\n",
    "        );\n",
    "    }\n",
    "\n",
    "    function update() {\n",
    "        require(['d3'], function(d3) {\n",
    "            d3.selectAll(\"circle\")\n",
    "                .attr(\"cx\", d => map.latLngToLayerPoint([d.lat, d.lng]).x)\n",
    "                .attr(\"cy\", d => map.latLngToLayerPoint([d.lat, d.lng]).y)\n",
    "        });\n",
    "    }\n",
    "\n",
    "    function stop() {\n",
    "        IPython.notebook.kernel.execute(\n",
    "            \"stop()\", {\n",
    "                iopub: {\n",
    "                    output: function(response) {}\n",
    "                }\n",
    "            }, {\n",
    "                silent: false,\n",
    "                store_history: false,\n",
    "                stop_on_error: true\n",
    "            }\n",
    "        )\n",
    "    }\n",
    "\n",
    "    function run() {\n",
    "        current = 0;\n",
    "        currentTraffic = 0;\n",
    "        IPython.notebook.kernel.execute(\n",
    "            \"start()\", {\n",
    "                iopub: {\n",
    "                    output: function(response) {\n",
    "                        statusInterval = setInterval(getStatus, 500);\n",
    "                        datInterval = setInterval(fetchGPSData, 500);\n",
    "                        trafficDatInterval = setInterval(fetchTrafficData, 1000);\n",
    "                        //disable the start button\n",
    "                        document.getElementById(\"start_button\").disabled = true;\n",
    "                        document.getElementById(\"stop_button\").disabled = false;\n",
    "                        document.getElementById(\"warncount\").disabled = true;\n",
    "                        document.getElementById(\"scanrad\").disabled = true;\n",
    "                        updateParams();\n",
    "                    }\n",
    "                }\n",
    "            }, {\n",
    "                silent: false,\n",
    "                store_history: false,\n",
    "                stop_on_error: true\n",
    "            }\n",
    "        )\n",
    "    }\n",
    "\n",
    "    require(['d3', 'L'], function(d3, L) {\n",
    "        map = L\n",
    "            .map('map')\n",
    "            .setView([40.763231753511604, -73.98383956127027], 10); // center position + zoom\n",
    "\n",
    "        // Add a tile to the map = a background. Comes from OpenStreetmap\n",
    "        L.tileLayer('https://tile.openstreetmap.org/{z}/{x}/{y}.png', {\n",
    "            maxZoom: 19,\n",
    "            attribution: '© OpenStreetMap'\n",
    "        }).addTo(map);\n",
    "        // Add a svg layer to the map\n",
    "        L.svg().addTo(map);\n",
    "        map.on(\"moveend\", update)\n",
    "        d3.select(\"#map\").select(\"svg\").append(\"g\").attr(\"id\", \"gpsFrame\");\n",
    "        d3.select(\"#map\").select(\"svg\").append(\"g\").attr(\"id\", \"trafficFrame\");\n",
    "        var carcount = [];\n",
    "        for(i=1;i<=1000;i++)\n",
    "            carcount.push(i);\n",
    "        d3.select('#warncount').selectAll('option').data(carcount).enter().append('option').property('value',function(d){return d;}).text(function(d){return d;});\n",
    "        d3.select('#warncount').property('value',20);\n",
    "    });\n",
    "    \n",
    "    \n",
    "</script>"
   ]
  },
  {
   "cell_type": "markdown",
   "id": "a01a824a",
   "metadata": {},
   "source": [
    "Now check the traffic time. You can clearly see that it matches with the GPS time, indicating that the scanning process is working in tandem with the GPS data. Now why don't you see any warnings? Because this is a stringent criteria. 20 Taxis should be within 200 meter of a traffic pole to generate warning. It might take a while before the condition is met. What you can try instead is to increase the scan radius and reduce the Car count. \n",
    "\n",
    "The key section of the code is \n",
    "```python\n",
    "def findNearestNeighbors(self,data,distance=100):\n",
    "    out = pd.DataFrame({'id':np.arange(len(self.tree.data),dtype=np.int16)})\n",
    "    results = self.tree.query_ball_point(np.dstack((data.geometry.x,data.geometry.y))[0],distance+.0001)\n",
    "    index,counts = np.unique(np.concatenate(results),return_counts=True)\n",
    "    countData = pd.DataFrame({'id':index,'counts':counts})\n",
    "    out = out.merge(countData,on='id',how='left').fillna(0)\n",
    "    return out.counts.values\n",
    "```\n",
    "\n",
    "Which is similar to our previous examples in this section."
   ]
  },
  {
   "cell_type": "markdown",
   "id": "a37324d6",
   "metadata": {},
   "source": [
    "So again we see that \n",
    "><span STYLE=\"font-size:18.0pt;color:black\">\"With efficient Algorithms we can tackle the Volume and Velocity challenges of Spatial Big Data\" </span>."
   ]
  },
  {
   "cell_type": "markdown",
   "id": "6a039a96",
   "metadata": {},
   "source": [
    "# Congratulations!\n",
    "\n",
    "\n",
    "**You have finished an Hour of CI!**\n",
    "\n",
    "\n",
    "But, before you go ... \n",
    "\n",
    "1. Please fill out a very brief questionnaire to provide feedback and help us improve the Hour of CI lessons. It is fast and your feedback is very important to let us know what you learned and how we can improve the lessons in the future.\n",
    "2. If you would like a certificate, then please type your name below and click \"Create Certificate\" and you will be presented with a PDF certificate.\n",
    "\n",
    "<font size=\"+1\"><a style=\"background-color:blue;color:white;padding:12px;margin:10px;font-weight:bold;\" href=\"https://forms.gle/JUUBm76rLB8iYppN7\">Take the questionnaire and provide feedback</a></font>"
   ]
  },
  {
   "cell_type": "code",
   "execution_count": null,
   "id": "f0327cc7",
   "metadata": {
    "hide_input": true,
    "slideshow": {
     "slide_type": "-"
    },
    "tags": [
     "Hide",
     "Init"
    ]
   },
   "outputs": [],
   "source": [
    "\n",
    "# This code cell loads the Interact Textbox that will ask users for their name\n",
    "# Once they click \"Create Certificate\" then it will add their name to the certificate template\n",
    "# And present them a PDF certificate\n",
    "from PIL import Image\n",
    "from PIL import ImageFont\n",
    "from PIL import ImageDraw\n",
    "\n",
    "from ipywidgets import interact\n",
    "\n",
    "def make_cert(learner_name, lesson_name):\n",
    "    cert_filename = 'hourofci_certificate.pdf'\n",
    "\n",
    "    img = Image.open(\"../../supplementary/hci-certificate-template.jpg\")\n",
    "    draw = ImageDraw.Draw(img)\n",
    "\n",
    "    cert_font   = ImageFont.truetype('../../supplementary/cruft.ttf', 150)\n",
    "    cert_fontsm = ImageFont.truetype('../../supplementary/cruft.ttf', 80)\n",
    "    \n",
    "    _,_,w,h = cert_font.getbbox(learner_name)  \n",
    "    draw.text( xy = (1650-w/2,1100-h/2), text = learner_name, fill=(0,0,0),font=cert_font)\n",
    "    \n",
    "    _,_,w,h = cert_fontsm.getbbox(lesson_name)\n",
    "    draw.text( xy = (1650-w/2,1100-h/2 + 750), text = lesson_name, fill=(0,0,0),font=cert_fontsm)\n",
    "    \n",
    "    img.save(cert_filename, \"PDF\", resolution=100.0)   \n",
    "    return cert_filename\n",
    "\n",
    "\n",
    "interact_cert=interact.options(manual=True, manual_name=\"Create Certificate\")\n",
    "\n",
    "@interact_cert(name=\"Your Name\")\n",
    "def f(name):\n",
    "    print(\"Congratulations\",name)\n",
    "    filename = make_cert(name, 'Intermediate Big Data')\n",
    "    print(\"Download your certificate by clicking the link below.\")\n",
    "    \n",
    "    \n",
    "    "
   ]
  },
  {
   "cell_type": "markdown",
   "id": "f2ef24b5",
   "metadata": {},
   "source": [
    "<font size=\"+1\"><a style=\"background-color:blue;color:white;padding:12px;margin:10px;font-weight:bold;\" href=\"hourofci_certificate.pdf?download=1\" download=\"hourofci_certificate.pdf\">Download your certificate</a></font>\n",
    "\n"
   ]
  }
 ],
 "metadata": {
  "celltoolbar": "Edit Metadata",
  "kernelspec": {
   "display_name": "Python 3 (ipykernel)",
   "language": "python",
   "name": "python3"
  },
  "language_info": {
   "codemirror_mode": {
    "name": "ipython",
    "version": 3
   },
   "file_extension": ".py",
   "mimetype": "text/x-python",
   "name": "python",
   "nbconvert_exporter": "python",
   "pygments_lexer": "ipython3",
   "version": "3.8.1"
  }
 },
 "nbformat": 4,
 "nbformat_minor": 5
}
