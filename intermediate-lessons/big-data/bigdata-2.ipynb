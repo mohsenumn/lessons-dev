{
 "cells": [
  {
   "cell_type": "markdown",
   "metadata": {
    "hide_input": true,
    "slideshow": {
     "slide_type": "slide"
    }
   },
   "source": [
    "## Introduction to Big Data\n",
    "### Segment 1 of 5\n",
    "# Spatial Big Data = Spatial + Big Data\n",
    "\n",
    "*Lesson Developer: Jayakrishnan Ajayakumar, jxa421@case.edu*\n"
   ]
  },
  {
   "cell_type": "markdown",
   "metadata": {
    "slideshow": {
     "slide_type": "slide"
    }
   },
   "source": [
    "## Thank you for helping our study\n",
    "\n",
    "\n",
    "<a href=\"#/slide-1-0\" class=\"navigate-right\" style=\"background-color:blue;color:white;padding:8px;margin:2px;font-weight:bold;\">Continue with the lesson</a>\n",
    "\n",
    "Throughout this lesson you will see reminders, like the one below, to ensure that all participants understand that they are in a voluntary research study.\n",
    "\n",
    "### Reminder\n",
    "\n",
    "<font size=\"+1\">\n",
    "\n",
    "By continuing with this lesson you are granting your permission to take part in this research study for the Hour of Cyberinfrastructure: Developing Cyber Literacy for GIScience project. In this study, you will be learning about cyberinfrastructure and related concepts using a web-based platform that will take approximately one hour per lesson. Participation in this study is voluntary.\n",
    "\n",
    "Participants in this research must be 18 years or older. If you are under the age of 18 then please exit this webpage or navigate to another website such as the Hour of Code at https://hourofcode.com, which is designed for K-12 students.\n",
    "\n",
    "If you are not interested in participating please exit the browser or navigate to this website: http://www.umn.edu. Your participation is voluntary and you are free to stop the lesson at any time.\n",
    "\n",
    "For the full description please navigate to this website: <a href=\"../../gateway-lesson/gateway/gateway-1.ipynb\">Gateway Lesson Research Study Permission</a>.\n",
    "\n",
    "</font>"
   ]
  },
  {
   "cell_type": "code",
   "execution_count": 1,
   "metadata": {
    "hide_input": false,
    "init_cell": true,
    "slideshow": {
     "slide_type": "skip"
    },
    "tags": [
     "Hide"
    ]
   },
   "outputs": [
    {
     "data": {
      "text/html": [
       " \n",
       "    <script type=\"text/javascript\" src=\"../../supplementary/js/custom.js\"></script>\n",
       "    \n",
       "    <style>\n",
       "        .output_prompt{opacity:0;}\n",
       "    </style>\n",
       "    \n",
       "    <input id=\"toggle_code\" type=\"button\" value=\"Toggle raw code\">\n"
      ],
      "text/plain": [
       "<IPython.core.display.HTML object>"
      ]
     },
     "execution_count": 1,
     "metadata": {},
     "output_type": "execute_result"
    }
   ],
   "source": [
    "# This code cell starts the necessary setup for Hour of CI lesson notebooks.\n",
    "# First, it enables users to hide and unhide code by producing a 'Toggle raw code' button below.\n",
    "# Second, it imports the hourofci package, which is necessary for lessons and interactive Jupyter Widgets.\n",
    "# Third, it helps hide/control other aspects of Jupyter Notebooks to improve the user experience\n",
    "# This is an initialization cell\n",
    "# It is not displayed because the Slide Type is 'Skip'\n",
    "\n",
    "from IPython.display import HTML, IFrame, Javascript, display\n",
    "from ipywidgets import interactive\n",
    "import ipywidgets as widgets\n",
    "from ipywidgets import Layout\n",
    "\n",
    "import getpass # This library allows us to get the username (User agent string)\n",
    "\n",
    "# import package for hourofci project\n",
    "import sys\n",
    "sys.path.append('../../supplementary') # relative path (may change depending on the location of the lesson notebook)\n",
    "import hourofci\n",
    "\n",
    "import warnings\n",
    "warnings.filterwarnings('ignore') # Hide warnings\n",
    "\n",
    "# load javascript to initialize/hide cells, get user agent string, and hide output indicator\n",
    "# hide code by introducing a toggle button \"Toggle raw code\"\n",
    "# HTML(''' \n",
    "#     <script type=\"text/javascript\" src=\\\"../../supplementary/js/custom.js\\\"></script>\n",
    "    \n",
    "#     <input id=\"toggle_code\" type=\"button\" value=\"Toggle raw code\">\n",
    "# ''')\n",
    "\n",
    "HTML(''' \n",
    "    <script type=\"text/javascript\" src=\\\"../../supplementary/js/custom.js\\\"></script>\n",
    "    \n",
    "    <style>\n",
    "        .output_prompt{opacity:0;}\n",
    "    </style>\n",
    "    \n",
    "    <input id=\"toggle_code\" type=\"button\" value=\"Toggle raw code\">\n",
    "''')\n"
   ]
  },
  {
   "cell_type": "markdown",
   "metadata": {
    "slideshow": {
     "slide_type": "slide"
    }
   },
   "source": [
    "## What is Data?\n",
    ">**Data** are **collected observations or measurements** represented as **text, numbers, or multimedia**"
   ]
  },
  {
   "cell_type": "markdown",
   "metadata": {
    "slideshow": {
     "slide_type": "slide"
    }
   },
   "source": [
    "So is this Data??\n",
    "\n",
    "<span STYLE=\"font-size:14.0pt;color:blue\">1971 </span><span STYLE=\"font-size:14.0pt;color:red\">1996 </span><span STYLE=\"font-size:14.0pt;color:orange\">2021</span>\n",
    "\n",
    "What about this??\n",
    "<span STYLE=\"font-size:14.0pt;color:blue\">(-81.345,45.78) </span><span STYLE=\"font-size:14.0pt;color:red\">(-81.32,45.46) </span><span STYLE=\"font-size:14.0pt;color:orange\">(-81.32,45.46)</span>\n",
    "\n",
    "Or this??\n",
    "<span STYLE=\"font-size:14.0pt;color:blue\">Cleveland </span><span STYLE=\"font-size:14.0pt;color:red\">Chicago </span><span STYLE=\"font-size:14.0pt;color:orange\">Minneapolis</span>\n",
    "\n",
    "Or this??\n",
    "<img src=\"supplementary/images/monalisa.jpg\" width=400>\n",
    "\n"
   ]
  },
  {
   "cell_type": "markdown",
   "metadata": {
    "slideshow": {
     "slide_type": "slide"
    }
   },
   "source": [
    "What about this? Is this data?"
   ]
  },
  {
   "cell_type": "code",
   "execution_count": null,
   "metadata": {},
   "outputs": [],
   "source": [
    "from IPython.lib.display import YouTubeVideo\n",
    "YouTubeVideo('tPEE9ZwTmy0')"
   ]
  },
  {
   "cell_type": "markdown",
   "metadata": {
    "slideshow": {
     "slide_type": "slide"
    }
   },
   "source": [
    "We do know that the first example is a set of dates, the second example is a set of locations, the third example is name of three cities, the fourth example is an image and the fifth example is a video. This is not evident to us without background **information or context** (for example a person from outside US might not know about the three cities). But these are still valid examples of data or in simple terms **\"Raw Data\"**. "
   ]
  },
  {
   "cell_type": "markdown",
   "metadata": {
    "slideshow": {
     "slide_type": "slide"
    }
   },
   "source": [
    "## What is Big Data?\n",
    "\n",
    "A formal definition of big data is yet unknown because for that we need to define <span STYLE=\"font-size:24.0pt;color:black\">\"Big\"</span>.\n",
    "\n",
    "Unfortunately, <span STYLE=\"font-size:24.0pt;color:black\">What is \"Big\"?</span> doesn't have a single and simple answer as it is <span STYLE=\"font-size:24.0pt;color:black\">highly subjective</span>. \n",
    "\n",
    "For example if you are using this vintage IBM PC (1970) with <span STYLE=\"font-size:18.0pt;color:black\">16KiloBytes (KB) memory and 160KB</span> storage capacity\n",
    "\n",
    "<img src=\"supplementary/images/IBM_PC-IMG_7271_(transparent).png\" width=400>\n",
    "\n",
    "Then even an image file of size in few MegaBytes (MB) might seem to be in the Big Data realm. \n",
    "\n",
    "\n"
   ]
  },
  {
   "cell_type": "markdown",
   "metadata": {
    "slideshow": {
     "slide_type": "slide"
    }
   },
   "source": [
    "Similarly if you are using one of the cutting edge supercomputer (Fugakku) with 4.85 pebibytes (PiB) of memory (341 billion times more than IBM PC) and 150 petabytes (PB) of storage (937 billion times more than IBM PC), then even your entire movie collection (assuming a movie is 1.6 gigabytes (GB) in size, and you have 10,000 movies in your collection, the total storage will be 16,000GB which is only .001% of the storage space for Fugakku) will be in the realm of Small Data. \n",
    "\n",
    "<center><img src=\"supplementary/images/Fugakku.jpg\" width=400></center>"
   ]
  },
  {
   "cell_type": "markdown",
   "metadata": {
    "slideshow": {
     "slide_type": "slide"
    }
   },
   "source": [
    "So <span STYLE=\"font-size:24.0pt;color:black\">Big</span> in Big Data is <span STYLE=\"font-size:24.0pt;color:black\">Context dependent.</span>\n",
    "\n",
    "There are many approximate definitions for Big Data, lets adopt the one by Edd Dumbill (a technologist writer)\n",
    "\n",
    "><span STYLE=\"font-size:24.0pt;color:black\"> Big data</span> is <span STYLE=\"font-size:24.0pt;color:black\">data</span> that <span STYLE=\"font-size:24.0pt;color:black\">exceeds the processing capacity</span> of\n",
    "<span STYLE=\"font-size:24.0pt;color:black\">conventional database systems</span>. The data is <span STYLE=\"font-size:24.0pt;color:red\">too big (volume),\n",
    "moves too fast (velocity), or doesn’t fit the structures (variety) </span> of your\n",
    "database architectures.\n",
    "\n",
    "Based on this definition we can say that there are three distinct characteristics for Big Data"
   ]
  },
  {
   "cell_type": "markdown",
   "metadata": {
    "slideshow": {
     "slide_type": "slide"
    }
   },
   "source": [
    "### Volume\n",
    "\n",
    "Big data is about Volume which can reach unprecedented heights. The volume of data generally refers to the size of datasets that need to be stored, processed, and analyzed. The sheer volume of the data requires distinct and different processing technologies than traditional storage and processing capabilities. It can be collected passively. \n",
    "\n",
    "Let's look into some mind-boggling numbers!\n",
    "\n",
    "\n",
    "\n"
   ]
  },
  {
   "cell_type": "markdown",
   "metadata": {
    "slideshow": {
     "slide_type": "slide"
    }
   },
   "source": [
    "1. NASA’s current Earth science data archive is around <span STYLE=\"font-size:15.0pt;color:black\">40 petabytes</span> (20,000 2TB hard drives)\n",
    "\n",
    "<center><img src=\"supplementary/images/nasa.jpg\" width=400></center>\n",
    "\n"
   ]
  },
  {
   "cell_type": "markdown",
   "metadata": {
    "slideshow": {
     "slide_type": "slide"
    }
   },
   "source": [
    "2. The social media giant Instagram has more than <span STYLE=\"font-size:15.0pt;color:black\">50 billion</span> pictures and videos in their storage servers. \n",
    "\n",
    "<center><img src=\"supplementary/images/instagram.jpg\" width=400></center>\n",
    "\n"
   ]
  },
  {
   "cell_type": "markdown",
   "metadata": {
    "slideshow": {
     "slide_type": "slide"
    }
   },
   "source": [
    "3. It is predicted that the world's data will grow to <span STYLE=\"font-size:15.0pt;color:black\">175 zettabytes (ZB) in 2025 </span> (87 billion times larger than your 2TB hard disk). \n",
    "\n",
    "<center><img src=\"supplementary/images/world.png\" width=400></center>\n",
    "\n"
   ]
  },
  {
   "cell_type": "markdown",
   "metadata": {
    "slideshow": {
     "slide_type": "slide"
    }
   },
   "source": [
    "But Big Data is not just about large volumes of digital data, but it is also about the <span STYLE=\"font-size:15.0pt;color:black\">rate</span> at which the data is generated."
   ]
  },
  {
   "cell_type": "markdown",
   "metadata": {
    "slideshow": {
     "slide_type": "slide"
    }
   },
   "source": [
    "### Velocity\n",
    "\n",
    "Velocity refers to the <span STYLE=\"font-size:15.0pt;color:black\">speed</span> at which data is entered into a system and must be processed. Velocity essentially measures how fast the data is coming in. The graphic below captures the data footprint that is being generated all over the world in every minute.\n",
    "\n",
    "<center><img src=\"supplementary/images/everyminute.jpg\" width=400></center>\n",
    "\n",
    "These numbers are astounding. Let's look at more examples!\n",
    "\n",
    "\n"
   ]
  },
  {
   "cell_type": "markdown",
   "metadata": {
    "slideshow": {
     "slide_type": "slide"
    }
   },
   "source": [
    "1. Walmart (the retail giant) handles more than <span STYLE=\"font-size:15.0pt;color:black\">1 million customer transactions every hour</span> which accounts for <span STYLE=\"font-size:15.0pt;color:black\">2.5 PB</span> (if your new hard disk is 2TB, then its equivalent of 1250 hard disks) of data\n",
    "\n",
    "<center><img src=\"supplementary/images/wlamart.jfif\" width=400></center>\n",
    "\n"
   ]
  },
  {
   "cell_type": "markdown",
   "metadata": {
    "slideshow": {
     "slide_type": "slide"
    }
   },
   "source": [
    "2. Facebook users upload more than <span STYLE=\"font-size:15.0pt;color:black\">900 million photos a day</span>. \n",
    "\n",
    "<center><img src=\"supplementary/images/fb_storage.jpg\" width=400></center>\n",
    "\n",
    "\n"
   ]
  },
  {
   "cell_type": "markdown",
   "metadata": {
    "slideshow": {
     "slide_type": "slide"
    }
   },
   "source": [
    "3. Another example to show the sheer rate at which data is generated\n",
    "\n",
    "<center><img src=\"supplementary/images/world_data_day.jpg\" width=400></center>\n",
    "\n"
   ]
  },
  {
   "cell_type": "markdown",
   "metadata": {
    "slideshow": {
     "slide_type": "slide"
    }
   },
   "source": [
    "But big data is not only about large volume and velocity data, it is also about the **heterogeneous** nature of the data that is being generated from various devices.\n"
   ]
  },
  {
   "cell_type": "markdown",
   "metadata": {
    "slideshow": {
     "slide_type": "slide"
    }
   },
   "source": [
    "### Variety\n",
    "\n",
    "Big Data comes from a great variety of sources and generally is one out of three types:\n",
    "\n"
   ]
  },
  {
   "cell_type": "markdown",
   "metadata": {
    "slideshow": {
     "slide_type": "slide"
    }
   },
   "source": [
    "1. #### Structured\n",
    "\n",
    "Structured data is data that adheres to a **pre-defined data model** and is therefore straightforward to analyze.\n",
    "\n",
    "<center><img src=\"supplementary/images/structured.jpg\" width=400></center>\n",
    "\n"
   ]
  },
  {
   "cell_type": "markdown",
   "metadata": {
    "slideshow": {
     "slide_type": "slide"
    }
   },
   "source": [
    "2. #### Unstructured\n",
    "\n",
    "Unstructured data is information that either **does not have a predefined data model or is not organized in a pre-defined manner**. \n",
    "\n",
    "<center><img src=\"supplementary/images/unstructured.png\" width=400></center>\n",
    "\n",
    "\n"
   ]
  },
  {
   "cell_type": "markdown",
   "metadata": {
    "slideshow": {
     "slide_type": "slide"
    }
   },
   "source": [
    "3. #### Semi-structured\n",
    "\n",
    "Semi-structured data is a form of structured data that **does not conform with the formal structure of data models** associated with relational databases or other forms of data tables, but nonetheless **contain tags or other markers to separate semantic elements and enforce hierarchies of records and fields within the data**.\n",
    "\n",
    "<center><img src=\"supplementary/images/semi-structured.png\" width=400></center>\n",
    "\n",
    "\n"
   ]
  },
  {
   "cell_type": "markdown",
   "metadata": {
    "slideshow": {
     "slide_type": "slide"
    }
   },
   "source": [
    "## What is Spatial Data?\n",
    "\n",
    "<center><img src=\"supplementary/images/spatial_data.png\" width=400></center>\n",
    "\n",
    "Let's see a formal definition\n",
    "\n",
    ">**Spatial data** is information that **describes objects, events or other features with a location on or near the surface of the earth**. Spatial data typically combines **location information (usually <span STYLE=\"font-size:15.0pt;color:black\">coordinates</span> on the earth)** and **<span STYLE=\"font-size:15.0pt;color:black\">attribute</span> information (the characteristics of the object, event or phenomena concerned)** with temporal information (the time or life span at which the location and attributes exist). \n",
    "\n",
    "\n",
    "\n"
   ]
  },
  {
   "cell_type": "markdown",
   "metadata": {
    "slideshow": {
     "slide_type": "slide"
    }
   },
   "source": [
    "### What are Coordinates?\n",
    "\n",
    ">**Coordinates** are numbers which determine the **position of a point or a shape in a particular space (a map or a graph)**.\n",
    "\n",
    "<center><img src=\"supplementary/images/pointdata.png\" width=400></center>\n",
    "\n",
    "\n",
    "\n"
   ]
  },
  {
   "cell_type": "markdown",
   "metadata": {
    "slideshow": {
     "slide_type": "slide"
    }
   },
   "source": [
    "### What are Attributes?\n",
    "\n",
    ">**Attribute** data describes the **characteristics of a geographical feature** while spatial data describes the absolute and relative location of geographic features.\n",
    "\n",
    "<center><img src=\"supplementary/images/attributes.png\" width=400></center>\n",
    "\n",
    "\n"
   ]
  },
  {
   "cell_type": "markdown",
   "metadata": {
    "slideshow": {
     "slide_type": "slide"
    }
   },
   "source": [
    "## What are types of Spatial Data?\n",
    "\n",
    "### Vector Data\n",
    "\n",
    ">Vector data represents **geographic data symbolized as points, lines, or polygons**.\n",
    "\n",
    "\n"
   ]
  },
  {
   "cell_type": "markdown",
   "metadata": {
    "slideshow": {
     "slide_type": "slide"
    }
   },
   "source": [
    "#### Points\n",
    "\n",
    ">Points use **single coordinate pair to define its location**.\n",
    "\n",
    "<center><img src=\"supplementary/images/points.png\" width=400></center>\n",
    "\n",
    "\n"
   ]
  },
  {
   "cell_type": "markdown",
   "metadata": {
    "slideshow": {
     "slide_type": "slide"
    }
   },
   "source": [
    "#### Lines\n",
    "\n",
    ">Line (or arc) data is used to **represent linear features**. You can think of lines as a **collection of point data that is not enclosed**.\n",
    "\n",
    "<center><img src=\"supplementary/images/lines.png\" width=400></center>\n",
    "\n",
    "\n"
   ]
  },
  {
   "cell_type": "markdown",
   "metadata": {
    "slideshow": {
     "slide_type": "slide"
    }
   },
   "source": [
    "#### Polygons\n",
    "\n",
    ">Polygons are used to **represent areas**. You can think of it as a **collection of lines that is enclosed**.\n",
    "\n",
    "<center><img src=\"supplementary/images/polygons.png\" width=400></center>\n",
    "\n",
    "\n"
   ]
  },
  {
   "cell_type": "markdown",
   "metadata": {
    "slideshow": {
     "slide_type": "slide"
    }
   },
   "source": [
    "### Raster Data\n",
    "\n",
    ">Raster data consists of **pixels of values** and it is used to represent continuous phenomenon such as elevation, snow depth, temperature etc.\n",
    "\n",
    "\n",
    "<center><img src=\"supplementary/images/raster_grid.png\" width=400></center>\n",
    "\n",
    "\n"
   ]
  },
  {
   "cell_type": "markdown",
   "metadata": {
    "slideshow": {
     "slide_type": "slide"
    }
   },
   "source": [
    "## What is Spatial Big Data (Spatial + Big Data)?\n",
    "\n",
    "You would have guessed it.......It is basically **Big Data that has locational information embedded in it**. But again we are looking for some concrete definitions. And similar to what we have described about Big Data, **\"whether spatial data is Big depends on the context\"**.\n",
    "\n",
    ">**Spatial Big Data** are simply **instances of spatial data (vector/raster)** that exhibit at least **one of the 3V's of Big Data: Volume, Velocity and Variety**. \n",
    "\n",
    "Let's look at some concrete examples!\n",
    "\n",
    "\n"
   ]
  },
  {
   "cell_type": "markdown",
   "metadata": {
    "slideshow": {
     "slide_type": "slide"
    }
   },
   "source": [
    "1. Mapping all social media check-ins for a day. \n",
    "\n",
    "For example <span STYLE=\"font-size:15.0pt;color:black\">foursquare alone has 8 million check-ins per day</span>.\n",
    "\n",
    "<center><img src=\"supplementary/images/check-in.jpg\" width=400></center>\n",
    "\n",
    "\n",
    "\n"
   ]
  },
  {
   "cell_type": "markdown",
   "metadata": {
    "slideshow": {
     "slide_type": "slide"
    }
   },
   "source": [
    "2. Real time monitoring of moving objects (automobiles)\n",
    "\n",
    "<center><img src=\"supplementary/images/tracking.jpg\" width=400></center>\n",
    "\n",
    "According to 2016 census there are <span STYLE=\"font-size:15.0pt;color:black\">115 million cars and trucks</span> hitting American streets everyday. \n",
    "\n",
    "Now if we assume that the <span STYLE=\"font-size:15.0pt;color:black\">average trip time is 2 hours and the GPS frequency is 1 coordinate/sec</span>\n",
    "\n",
    "Then just for one day we have \n",
    "\n",
    "<span STYLE=\"font-size:15.0pt;color:black\"> 115,000,000 x 2 x 3600 = 828,000,000,000!!  or 828 billion GPS coordinates generated per day</span>\n",
    "\n",
    "Now imagine tracking and making sense of that much data!!!\n",
    "\n"
   ]
  },
  {
   "cell_type": "markdown",
   "metadata": {
    "slideshow": {
     "slide_type": "slide"
    }
   },
   "source": [
    "3. Real time tracking of mobile phones.\n",
    "\n",
    "An interesting article about mobile phone tracking and privacy concerns\n",
    "\n"
   ]
  },
  {
   "cell_type": "code",
   "execution_count": 2,
   "metadata": {
    "hide_input": false,
    "slideshow": {
     "slide_type": "-"
    },
    "tags": [
     "Hide",
     "Init"
    ]
   },
   "outputs": [
    {
     "data": {
      "text/html": [
       "\n",
       "        <iframe\n",
       "            width=\"700\"\n",
       "            height=\"350\"\n",
       "            src=\"https://www.nytimes.com/interactive/2019/12/19/opinion/location-tracking-cell-phone.html\"\n",
       "            frameborder=\"0\"\n",
       "            allowfullscreen\n",
       "            \n",
       "        ></iframe>\n",
       "        "
      ],
      "text/plain": [
       "<IPython.lib.display.IFrame at 0x7f93f22eb610>"
      ]
     },
     "execution_count": 2,
     "metadata": {},
     "output_type": "execute_result"
    }
   ],
   "source": [
    "IFrame('https://www.nytimes.com/interactive/2019/12/19/opinion/location-tracking-cell-phone.html', width=700, height=350)\n",
    "\n"
   ]
  },
  {
   "cell_type": "markdown",
   "metadata": {
    "slideshow": {
     "slide_type": "slide"
    }
   },
   "source": [
    "There are about <span STYLE=\"font-size:15.0pt;color:black\"> 294 million smart phone users in US </span> and it is now known that big tech giants such as Google (Android) and Apple are continuously tracking location of the users.\n",
    "\n",
    "If we do a rough estimate, <span STYLE=\"font-size:15.0pt;color:black\"> 294 million smart phones can generate 294,000,000 x 24 x 3600  ~ 25 Trillion points!!! in a single day</span>\n",
    "\n",
    "These few examples show that we are indeed living in a <span STYLE=\"font-size:15.0pt;color:black\">Spatial Data Deluge!!!</span>.\n"
   ]
  },
  {
   "cell_type": "markdown",
   "metadata": {
    "slideshow": {
     "slide_type": "slide"
    }
   },
   "source": [
    "### Sources of Spatial Big Data?\n",
    " \n",
    "1. GPS-enabled devices\n",
    "<!-- <center><img src=\"supplementary/images/gps_enabled_device.jpeg\" width=400></center> -->\n",
    "\n",
    "2. Satellite remote sensing\n",
    "<!-- <center><img src=\"supplementary/images/remote_sensing.jpg\" width=400></center> -->\n",
    "\n",
    "3. Aerial surveying\n",
    "<!-- <center><img src=\"supplementary/images/aerial.jpg\" width=400></center> -->\n",
    "\n",
    "4. Lidar\n",
    "<!-- <center><img src=\"supplementary/images/lidar.jpg\" width=400></center> -->\n",
    "\n",
    "5. Digital cameras\n",
    "<!-- <center><img src=\"supplementary/images/cameras.webp\" width=400></center> -->\n",
    "\n",
    "6. Location of readings of RFID\n",
    "<!-- <center><img src=\"supplementary/images/rfid.jpg\" width=400></center> -->\n",
    "\n",
    "7. Internet of things (IoT)\n",
    "<!-- <center><img src=\"supplementary/images/IoT.jpg\" width=400></center> -->\n",
    "And more!"
   ]
  },
  {
   "cell_type": "markdown",
   "metadata": {
    "slideshow": {
     "slide_type": "slide"
    }
   },
   "source": [
    "### Societal Application of Spatial Big Data?\n",
    "\n",
    "1. Urban Ethnography\n",
    "\n",
    "For example a group of researchers from Carnegie Mellon’s Mobile Commerce Lab used <span STYLE=\"font-size:15.0pt;color:black\">18 million Foursquare check-ins to generate a map of every-day experiences of real people</span>.\n",
    "You can read more about it\n",
    "\n",
    "<center><img src=\"supplementary/images/unstructured.png\" width=400></center>\n",
    "\n",
    "\n"
   ]
  },
  {
   "cell_type": "code",
   "execution_count": 3,
   "metadata": {
    "hide_input": false,
    "slideshow": {
     "slide_type": "-"
    },
    "tags": [
     "Hide",
     "Init"
    ]
   },
   "outputs": [
    {
     "data": {
      "text/html": [
       "\n",
       "        <iframe\n",
       "            width=\"700\"\n",
       "            height=\"350\"\n",
       "            src=\"https://www.wired.com/wiredinsider/2012/04/how-social-media-helps-us-understand-cities/\"\n",
       "            frameborder=\"0\"\n",
       "            allowfullscreen\n",
       "            \n",
       "        ></iframe>\n",
       "        "
      ],
      "text/plain": [
       "<IPython.lib.display.IFrame at 0x7f93f22eb3d0>"
      ]
     },
     "execution_count": 3,
     "metadata": {},
     "output_type": "execute_result"
    }
   ],
   "source": [
    "\n",
    "IFrame('https://www.wired.com/wiredinsider/2012/04/how-social-media-helps-us-understand-cities/', width=700, height=350)\n"
   ]
  },
  {
   "cell_type": "markdown",
   "metadata": {
    "slideshow": {
     "slide_type": "slide"
    }
   },
   "source": [
    "2. Transportation (Next-Generation Vehicles and Engines Design)\n",
    "\n",
    "SBD generated from GPS devices attached to vehicles can be used to identify hotspots of congested route segments that may help drivers to avoid congestions as well as help officials plan road network modifications. An example of GPS locations is shown below (Evans MR, Oliver D, Shekhar S, Harvey F (2012))\n",
    "\n",
    "<center><img src=\"supplementary/images/congestion.webp\" width=400></center>\n",
    "\n",
    "\n"
   ]
  },
  {
   "cell_type": "markdown",
   "metadata": {
    "slideshow": {
     "slide_type": "slide"
    }
   },
   "source": [
    "3. Urban Traffic \n",
    "\n",
    "An example where SBD can be helpful is <span STYLE=\"font-size:15.0pt;color:black\">\"Eco-Routing\"</span>. This technology <span STYLE=\"font-size:15.0pt;color:black\">minimizes\n",
    "fuel consumption rather than travel time or travel distance</span>. For this purpose, eco-routing tries to find a route that <span STYLE=\"font-size:15.0pt;color:black\">avoids congestion, idling at red lights, turns and elevation changes</span>. You can read more about the system here"
   ]
  },
  {
   "cell_type": "code",
   "execution_count": 4,
   "metadata": {
    "hide_input": false,
    "slideshow": {
     "slide_type": "-"
    },
    "tags": [
     "Hide",
     "Init"
    ]
   },
   "outputs": [
    {
     "data": {
      "text/html": [
       "\n",
       "        <iframe\n",
       "            width=\"700\"\n",
       "            height=\"350\"\n",
       "            src=\"https://blog.google/products/maps/3-new-ways-navigate-more-sustainably-maps/\"\n",
       "            frameborder=\"0\"\n",
       "            allowfullscreen\n",
       "            \n",
       "        ></iframe>\n",
       "        "
      ],
      "text/plain": [
       "<IPython.lib.display.IFrame at 0x7f93f22eb9d0>"
      ]
     },
     "execution_count": 4,
     "metadata": {},
     "output_type": "execute_result"
    }
   ],
   "source": [
    "IFrame('https://blog.google/products/maps/3-new-ways-navigate-more-sustainably-maps/', width=700, height=350)\n"
   ]
  },
  {
   "cell_type": "markdown",
   "metadata": {
    "slideshow": {
     "slide_type": "slide"
    }
   },
   "source": [
    "4. Emergency Management (Emergency and Disaster Response)\n",
    "\n",
    "Disaster response agencies are <span STYLE=\"font-size:15.0pt;color:black\">leveraging geosocial media and Volunteered Geographic Information (VGI) such as tweets, check-ins, Waze, and traffic reports</span>. An example is the Peta Jakarta project through which citizens can tweet the reporting of floods particularly in the Monsoon season in the city of Jakarta,Indonesia. PetaJakarta harnesses the power of social media to gather, sort, and display information about flooding for Jakarta residents in real time. More details about the project can be found here"
   ]
  },
  {
   "cell_type": "code",
   "execution_count": 5,
   "metadata": {
    "hide_input": false,
    "slideshow": {
     "slide_type": "-"
    },
    "tags": [
     "Hide",
     "Init"
    ]
   },
   "outputs": [
    {
     "data": {
      "text/html": [
       "\n",
       "        <iframe\n",
       "            width=\"700\"\n",
       "            height=\"350\"\n",
       "            src=\"https://petajakarta.org/banjir/en/index.html\"\n",
       "            frameborder=\"0\"\n",
       "            allowfullscreen\n",
       "            \n",
       "        ></iframe>\n",
       "        "
      ],
      "text/plain": [
       "<IPython.lib.display.IFrame at 0x7f93f22ebb50>"
      ]
     },
     "execution_count": 5,
     "metadata": {},
     "output_type": "execute_result"
    }
   ],
   "source": [
    "IFrame('https://petajakarta.org/banjir/en/index.html', width=700, height=350)\n"
   ]
  },
  {
   "cell_type": "markdown",
   "metadata": {
    "slideshow": {
     "slide_type": "slide"
    }
   },
   "source": [
    "5. Public Health\n",
    "\n",
    "A very relevant and timely example is the early <span STYLE=\"font-size:15.0pt;color:black\">detection of Covid-19 outbreak by BlueDot, a Canadian firm specializing in automated infectious disease surveillance</span>. They achieved this using machine learning and natural language processing techniques to sift through news reports in 65 languages, forum and blog posts, airline ticketing data, animal disease networks, etc., to pick up indications and news of unusual, unfolding events and possible disease outbreaks. You can read more about it in this article\n"
   ]
  },
  {
   "cell_type": "code",
   "execution_count": 6,
   "metadata": {
    "hide_input": false,
    "slideshow": {
     "slide_type": "-"
    },
    "tags": [
     "Hide",
     "Init"
    ]
   },
   "outputs": [
    {
     "data": {
      "text/html": [
       "\n",
       "        <iframe\n",
       "            width=\"700\"\n",
       "            height=\"350\"\n",
       "            src=\"https://www.safe.com/blog/2020/10/bluedot-leverages-data-integration-predict-covid-19-spread/\"\n",
       "            frameborder=\"0\"\n",
       "            allowfullscreen\n",
       "            \n",
       "        ></iframe>\n",
       "        "
      ],
      "text/plain": [
       "<IPython.lib.display.IFrame at 0x7f93f22eb130>"
      ]
     },
     "execution_count": 6,
     "metadata": {},
     "output_type": "execute_result"
    }
   ],
   "source": [
    "\n",
    "IFrame('https://www.safe.com/blog/2020/10/bluedot-leverages-data-integration-predict-covid-19-spread/', width=700, height=350)\n",
    "\n"
   ]
  },
  {
   "cell_type": "markdown",
   "metadata": {
    "slideshow": {
     "slide_type": "slide"
    }
   },
   "source": [
    "6. Wildlife tracking\n",
    "\n",
    "Recent advances in wildlife tracking techniques enabled large-scale collection of SBD. These large sources of SBD can be used to study how animals use their environment, interact with one another, and respond to environmental and anthropogenic change—details that were previously impossible to explore. As an example \"MoveBank\" a free, online database of animal tracking data hosted by the Max Planck Institute of Animal Behavior has around 2.4 billion tracking locations and 3.1 billion sensor records in its database. \n",
    "\n"
   ]
  },
  {
   "cell_type": "code",
   "execution_count": 7,
   "metadata": {
    "hide_input": false,
    "slideshow": {
     "slide_type": "-"
    },
    "tags": [
     "Hide",
     "Init"
    ]
   },
   "outputs": [
    {
     "data": {
      "text/html": [
       "\n",
       "        <iframe\n",
       "            width=\"700\"\n",
       "            height=\"350\"\n",
       "            src=\"https://phys.org/news/2022-02-big-data-tracking-technologies-uncover-wildlife.html\"\n",
       "            frameborder=\"0\"\n",
       "            allowfullscreen\n",
       "            \n",
       "        ></iframe>\n",
       "        "
      ],
      "text/plain": [
       "<IPython.lib.display.IFrame at 0x7f93f230f070>"
      ]
     },
     "execution_count": 7,
     "metadata": {},
     "output_type": "execute_result"
    }
   ],
   "source": [
    "IFrame('https://phys.org/news/2022-02-big-data-tracking-technologies-uncover-wildlife.html', width=700, height=350)\n"
   ]
  },
  {
   "cell_type": "markdown",
   "metadata": {
    "slideshow": {
     "slide_type": "slide"
    }
   },
   "source": [
    "7. Climate Science\n",
    "\n",
    "<span STYLE=\"font-size:15.0pt;color:black\">Data driven approaches</span> hold significant potential for application in environmental sciences due to the <span STYLE=\"font-size:15.0pt;color:black\">availability of tremendous amounts of climate and ecosystem data from satellite and ground-based sensors, observational records for atmospheric, oceanic, and terrestrial processes, and physics-based climate model simulations</span>.\n"
   ]
  },
  {
   "cell_type": "markdown",
   "metadata": {
    "slideshow": {
     "slide_type": "slide"
    }
   },
   "source": [
    "8. Marketing/Advertising/Business\n",
    "\n",
    "An interesting example from retail on using SBD for predictive analysis\n",
    "\n",
    "Hurricane Frances was approaching Florida’s Atlantic coast across the Caribbean in August 2004. Linda M. Dillman, Walmart’s chief information officer, asked her staff to predict what would happen soon based on what had happened when Hurricane Charley landed several weeks ago. <span STYLE=\"font-size:15.0pt;color:black\"> By analyzing the transaction records stored in Walmart’s data warehouse, the company could predict which items were bought just before or after an event (i.e., a hurricane) at a **specific region**</span>. <span STYLE=\"font-size:15.0pt;color:black\">Surprisingly that item was **strawberry PopTart**!!!</span>\n",
    "\n",
    "\n",
    "<center><img src=\"supplementary/images/walmartpoptart.jpg\" width=400></center>\n",
    "\n",
    "\n"
   ]
  },
  {
   "cell_type": "markdown",
   "metadata": {
    "slideshow": {
     "slide_type": "slide"
    }
   },
   "source": [
    "### Differentiating Big Data and Spatial Big Data\n",
    "\n",
    "#### In terms of Data\n",
    "\n",
    "Big Data | Spatial Big Data |\n",
    "-------|-------| \n",
    "Google search terms| Check-ins, Geo-located tweets and posts | \n",
    "Clicks on web-page elements|GPS tracks from all sensors\n",
    "Facebook posts|Climate observations and projections\n",
    "\n",
    "#### In terms of Data Types\n",
    "\n",
    "Big Data | Spatial Big Data |\n",
    "-------|-------| \n",
    "Text Keywords| GPS Traces | \n",
    "Web logs|Temporally-detailed roadmaps\n",
    "\n",
    "#### In terms of Computational Paradigms\n",
    "Big Data | Spatial Big Data |\n",
    "-------|-------| \n",
    "Hadoop| Spatial Hadoop, GIS on Hadoop | \n",
    "Hashing, Big Table|Geo-Hashing, Spatial Partitioning\n",
    "\n",
    "\n"
   ]
  },
  {
   "cell_type": "markdown",
   "metadata": {
    "slideshow": {
     "slide_type": "slide"
    }
   },
   "source": [
    "### Challenges of Spatial Big Data\n",
    "\n",
    "1. <span STYLE=\"font-size:15.0pt;color:black\">Unacceptable response time</span> owing to the <span STYLE=\"font-size:15.0pt;color:black\">volume of data</span>. This in turn results in bad user-experience. It is important to make geospatial big data accessible to end users so that it can be used to make real world decisions. \n",
    "\n",
    "<center><img src=\"supplementary/images/slow.webp\" width=400></center>\n",
    "\n",
    "\n"
   ]
  },
  {
   "cell_type": "markdown",
   "metadata": {
    "slideshow": {
     "slide_type": "slide"
    }
   },
   "source": [
    "2. <span STYLE=\"font-size:15.0pt;color:black\">Frequent data loss, system failures due to high velocity</span>. Users may experience\n",
    "frequent data loss due to <span STYLE=\"font-size:15.0pt;color:black\">high data velocity</span> relative to the <span STYLE=\"font-size:15.0pt;color:black\">data ingest capacity of the computational platform</span>\n",
    "\n",
    "<center><img src=\"supplementary/images/data-loss.webp\" width=400></center>\n",
    "\n",
    "\n"
   ]
  },
  {
   "cell_type": "markdown",
   "metadata": {
    "slideshow": {
     "slide_type": "slide"
    }
   },
   "source": [
    "3. <span STYLE=\"font-size:15.0pt;color:black\">Large human effort to combine multiple sources of data (variety)</span>. For example mapping of post-disaster situation on the ground requires combining social media data as well as official data in various spatial scales.\n",
    "\n",
    "4. <span STYLE=\"font-size:15.0pt;color:black\">The increasing volume and varying format (variety) </span> of collected geospatial big data presents <span STYLE=\"font-size:15.0pt;color:black\">challenges in storing, managing, processing, analyzing, visualizing and verifying the quality of data</span>.\n",
    "\n",
    "\n"
   ]
  },
  {
   "cell_type": "markdown",
   "metadata": {
    "slideshow": {
     "slide_type": "slide"
    }
   },
   "source": [
    "Now that you got an overall view about SBD, we will move to the specifics. In the next chapter we will look into the volume aspect of SBD (we are going to get our hands dirty!!!). We will look at some of the challenges due to large volume of SBD, and will try to find solutions for them. \n",
    "\n"
   ]
  },
  {
   "cell_type": "markdown",
   "metadata": {
    "hide_input": false,
    "slideshow": {
     "slide_type": "slide"
    }
   },
   "source": [
    "\n",
    "\n",
    "<font size=\"+1\"><a style=\"background-color:blue;color:white;padding:12px;margin:10px;font-weight:bold;\" href=\"bigdata-3.ipynb\">Click here to go to the next notebook.</a></font>"
   ]
  }
 ],
 "metadata": {
  "celltoolbar": "Slideshow",
  "kernelspec": {
   "display_name": "Python 3 (ipykernel)",
   "language": "python",
   "name": "python3"
  },
  "language_info": {
   "codemirror_mode": {
    "name": "ipython",
    "version": 3
   },
   "file_extension": ".py",
   "mimetype": "text/x-python",
   "name": "python",
   "nbconvert_exporter": "python",
   "pygments_lexer": "ipython3",
   "version": "3.8.1"
  },
  "rise": {
   "autolaunch": true,
   "overlay": "<div class='hciheader'></div><div class='hcifooter'></div>",
   "scroll": true
  }
 },
 "nbformat": 4,
 "nbformat_minor": 4
}
