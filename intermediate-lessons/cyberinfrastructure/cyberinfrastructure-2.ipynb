{
 "cells": [
  {
   "cell_type": "markdown",
   "metadata": {
    "hide_input": true,
    "slideshow": {
     "slide_type": "slide"
    }
   },
   "source": [
    "## Introduction to Cyberinfrastructure\n",
    "### Part 1 of 5\n",
    "\n",
    "#### In this section we will introduce the command line and why it is a useful tool for cyberinfrastructure (and more!).\n",
    "\n",
    "[picture of command line, arrow, fancy computer, arrow, dollar signs]\n",
    "\n",
    "<table style=\"background-color:#FFFFFF;\">\n",
    "    <tr style=\"background-color:#FFFFFF;\">\n",
    "        <td width=300>\n",
    "            <img src=\"supplementary/cmd.png\"/>\n",
    "        </td>\n",
    "        <td width=100>\n",
    "            <img src=\"supplementary/rightarrow.png\"/>\n",
    "        </td>\n",
    "        <td>\n",
    "            <img src=\"supplementary/fancy_comp.jpeg\"/>\n",
    "        </td>\n",
    "        <td width=100>\n",
    "            <img src=\"supplementary/rightarrow.png\"/>\n",
    "        </td>\n",
    "        <td>\n",
    "            <img src=\"supplementary/dollar.jpg\"/>\n",
    "        </td>\n",
    "    </tr>\n",
    "</table>               \n"
   ]
  },
  {
   "cell_type": "markdown",
   "metadata": {
    "slideshow": {
     "slide_type": "slide"
    }
   },
   "source": [
    "## Thank you for helping our study\n",
    "\n",
    "\n",
    "<a href=\"#/slide-1-0\" class=\"navigate-right\" style=\"background-color:blue;color:white;padding:8px;margin:2px;font-weight:bold;\">Continue with the lesson</a>\n",
    "\n",
    "Throughout this lesson you will see reminders, like the one below, to ensure that all participants understand that they are in a voluntary research study.\n",
    "\n",
    "### Reminder\n",
    "\n",
    "<font size=\"+1\">\n",
    "\n",
    "By continuing with this lesson you are granting your permission to take part in this research study for the Hour of Cyberinfrastructure: Developing Cyber Literacy for GIScience project. In this study, you will be learning about cyberinfrastructure and related concepts using a web-based platform that will take approximately one hour per lesson. Participation in this study is voluntary.\n",
    "\n",
    "Participants in this research must be 18 years or older. If you are under the age of 18 then please exit this webpage or navigate to another website such as the Hour of Code at https://hourofcode.com, which is designed for K-12 students.\n",
    "\n",
    "If you are not interested in participating please exit the browser or navigate to this website: http://www.umn.edu. Your participation is voluntary and you are free to stop the lesson at any time.\n",
    "\n",
    "For the full description please navigate to this website: <a href=\"../../gateway-lesson/gateway/gateway-1.ipynb\">Gateway Lesson Research Study Permission</a>.\n",
    "\n",
    "</font>"
   ]
  },
  {
   "cell_type": "code",
   "execution_count": 45,
   "metadata": {
    "hide_input": false,
    "init_cell": true,
    "slideshow": {
     "slide_type": "skip"
    },
    "tags": [
     "Hide"
    ]
   },
   "outputs": [
    {
     "data": {
      "text/html": [
       " \n",
       "    <script type=\"text/javascript\" src=\"../../supplementary/js/custom.js\"></script>\n",
       "    \n",
       "    <style>\n",
       "        .output_prompt{opacity:0;}\n",
       "    </style>\n",
       "    \n",
       "    <input id=\"toggle_code\" type=\"button\" value=\"Toggle raw code\">\n"
      ],
      "text/plain": [
       "<IPython.core.display.HTML object>"
      ]
     },
     "execution_count": 45,
     "metadata": {},
     "output_type": "execute_result"
    }
   ],
   "source": [
    "# This code cell starts the necessary setup for Hour of CI lesson notebooks.\n",
    "# First, it enables users to hide and unhide code by producing a 'Toggle raw code' button below.\n",
    "# Second, it imports the hourofci package, which is necessary for lessons and interactive Jupyter Widgets.\n",
    "# Third, it helps hide/control other aspects of Jupyter Notebooks to improve the user experience\n",
    "# This is an initialization cell\n",
    "# It is not displayed because the Slide Type is 'Skip'\n",
    "\n",
    "from IPython.display import HTML, IFrame, Javascript, display, clear_output\n",
    "from ipywidgets import interactive, Textarea, HBox, Button, Layout\n",
    "import ipywidgets as widgets\n",
    "from ipywidgets import Layout\n",
    "\n",
    "import getpass # This library allows us to get the username (User agent string)\n",
    "\n",
    "# import package for hourofci project\n",
    "import sys\n",
    "sys.path.append('../../supplementary') # relative path (may change depending on the location of the lesson notebook)\n",
    "import hourofci\n",
    "\n",
    "import warnings\n",
    "warnings.filterwarnings('ignore') # Hide warnings\n",
    "\n",
    "# load javascript to initialize/hide cells, get user agent string, and hide output indicator\n",
    "# hide code by introducing a toggle button \"Toggle raw code\"\n",
    "# HTML(''' \n",
    "#     <script type=\"text/javascript\" src=\\\"../../supplementary/js/custom.js\\\"></script>\n",
    "    \n",
    "#     <input id=\"toggle_code\" type=\"button\" value=\"Toggle raw code\">\n",
    "# ''')\n",
    "\n",
    "HTML(''' \n",
    "    <script type=\"text/javascript\" src=\\\"../../supplementary/js/custom.js\\\"></script>\n",
    "    \n",
    "    <style>\n",
    "        .output_prompt{opacity:0;}\n",
    "    </style>\n",
    "    \n",
    "    <input id=\"toggle_code\" type=\"button\" value=\"Toggle raw code\">\n",
    "''')\n"
   ]
  },
  {
   "cell_type": "markdown",
   "metadata": {
    "slideshow": {
     "slide_type": "slide"
    }
   },
   "source": [
    "The Command line in 30 seconds\n",
    "What is a command line? \n",
    "\n",
    "A command line is a linear order that you give to your computer!\n",
    "\n",
    "* Note: a command line can also be called a command prompt, a shell, a terminal… (but we’ll cover that more a bit later)\n",
    "\n",
    "[Diagram - Command Line, with a fancy bracket under each word - arrow to definitions - command - an authoritative order, line - a long narrow band]\n",
    "\n",
    "<p style=\"color:red;\">Mohsen's comment: I don't get this diagram right</p>\n"
   ]
  },
  {
   "cell_type": "markdown",
   "metadata": {
    "slideshow": {
     "slide_type": "slide"
    }
   },
   "source": [
    "## A little history…\n",
    "\n",
    "What was your first computer? Click on it and see the lifetime period of it! "
   ]
  },
  {
   "cell_type": "code",
   "execution_count": 56,
   "metadata": {
    "hide_input": false,
    "scrolled": true,
    "slideshow": {
     "slide_type": "-"
    },
    "tags": [
     "Init",
     "Hide"
    ]
   },
   "outputs": [
    {
     "data": {
      "text/html": [
       "<style>\n",
       ".output_wrapper, .output {\n",
       "    height:auto !important;\n",
       "    max-height:900px;\n",
       "}\n",
       ".output_scroll {\n",
       "    box-shadow:none !important;\n",
       "    webkit-box-shadow:none !important;\n",
       "}\n",
       "</style>\n",
       "<iframe src=\"supplementary/timeline2.html\", width=800, height=600, allowfullscreen></iframe>\n"
      ],
      "text/plain": [
       "<IPython.core.display.HTML object>"
      ]
     },
     "metadata": {},
     "output_type": "display_data"
    }
   ],
   "source": [
    "%%html\n",
    "<style>\n",
    ".output_wrapper, .output {\n",
    "    height:auto !important;\n",
    "    max-height:900px;\n",
    "}\n",
    ".output_scroll {\n",
    "    box-shadow:none !important;\n",
    "    webkit-box-shadow:none !important;\n",
    "}\n",
    "</style>\n",
    "<iframe src=\"supplementary/timeline2.html\", width=800, height=600, allowfullscreen></iframe>\n"
   ]
  },
  {
   "cell_type": "markdown",
   "metadata": {
    "slideshow": {
     "slide_type": "slide"
    }
   },
   "source": [
    "Below is the timeline of the computers and devices. Use the zoom and next buttons to explore. "
   ]
  },
  {
   "cell_type": "code",
   "execution_count": 57,
   "metadata": {
    "hide_input": false,
    "scrolled": false,
    "slideshow": {
     "slide_type": "-"
    },
    "tags": [
     "Init",
     "Hide"
    ]
   },
   "outputs": [
    {
     "data": {
      "text/html": [
       "<iframe src=\"supplementary/timeline.html\", width=900, height=620, allowfullscreen></iframe>\n",
       "\n"
      ],
      "text/plain": [
       "<IPython.core.display.HTML object>"
      ]
     },
     "metadata": {},
     "output_type": "display_data"
    }
   ],
   "source": [
    "%%html\n",
    "<iframe src=\"supplementary/timeline.html\", width=900, height=620, allowfullscreen></iframe>\n",
    "\n"
   ]
  },
  {
   "cell_type": "markdown",
   "metadata": {
    "slideshow": {
     "slide_type": "slide"
    }
   },
   "source": [
    "## Input Devices\n",
    "In order to use a computer you have to feed it information using an input device. Traditionally, this was accomplished using punch cards, tapes, and keyboards, however now many input options are available.\n",
    "\n",
    "Here are a few examples of input devices - which ones have you used?\n",
    "\n",
    "<table style=\"background-color:#FFFFFF;\">\n",
    "    <tr style=\"background-color:#FFFFFF;\">\n",
    "        <td width=200>\n",
    "            <img src=\"supplementary/joystick.png\"/>\n",
    "        </td>\n",
    "        <td width=200>\n",
    "            <img src=\"supplementary/touchscreen.png\"/>\n",
    "        </td>\n",
    "        <td width=200>\n",
    "            <img src=\"supplementary/airplane_cockpit.jpg\"/>\n",
    "        </td>\n",
    "        <td width=200>\n",
    "            <img src=\"supplementary/trackpad.png\"/>\n",
    "        </td>\n",
    "        <td width=200>\n",
    "            <img src=\"supplementary/punch_card.jpg\"/>\n",
    "        </td>\n",
    "    </tr>\n",
    "    <tr style=\"background-color:#FFFFFF;\">\n",
    "        <td width=200>\n",
    "            <img src=\"supplementary/mouse.jpeg\"/>\n",
    "        </td>\n",
    "        <td width=200>\n",
    "            <img src=\"supplementary/steering_wheel.jpg\"/>\n",
    "        </td>\n",
    "        <td width=200>\n",
    "            <img src=\"supplementary/keyboard.jpeg\"/>\n",
    "        </td>\n",
    "        <td width=200>\n",
    "            <img src=\"supplementary/scanner.png\"/>\n",
    "        </td>\n",
    "        <td width=200>\n",
    "            <img src=\"supplementary/microphone.jpg\"/>\n",
    "        </td>\n",
    "    </tr>\n",
    "</table>   \n"
   ]
  },
  {
   "cell_type": "markdown",
   "metadata": {
    "slideshow": {
     "slide_type": "slide"
    }
   },
   "source": [
    "## A little history… part 2\n",
    "\n",
    "But providing input is only half of the equation! A computer needs to recognize the input, figure out the correct action to take based on the input, and provide some sort of output. The overall system of gathering input and providing output is called a user interface. In other words, a user interface is a way that you, a user, can interact with a machine, in this case, a computer! The command line is an example of a user interface.\n",
    "\n",
    "Here are a few examples of user interfaces - which ones have you used?\n",
    "<table style=\"background-color:#FFFFFF;\">\n",
    "    <tr style=\"background-color:#FFFFFF;\">\n",
    "        <td width=200>\n",
    "            <img src=\"supplementary/punch_card.jpg\"/>\n",
    "        </td>\n",
    "        <td width=200>\n",
    "            <img src=\"supplementary/cmd.png\"/>\n",
    "        </td>\n",
    "        <td width=200>\n",
    "            <img src=\"supplementary/gui.png\"/>\n",
    "        </td>\n",
    "        <td width=200>\n",
    "            <img src=\"supplementary/voice.jpg\"/>\n",
    "        </td>\n",
    "    </tr>\n",
    "</table>  \n",
    "\n",
    "<p style=\"color:red;\">Mohsen's comment: If the images are not correct, provide me alternatives.</p>\n"
   ]
  },
  {
   "cell_type": "markdown",
   "metadata": {
    "slideshow": {
     "slide_type": "slide"
    }
   },
   "source": [
    "## A little history… part 3\n",
    "\n",
    "With so many interface options, why are we going old school? \n",
    "\n",
    "A command line once was a key method for controlling computers. Now, a command line can both support intensive “behind the scenes” interaction on your current machine, while at the same time still being a primary tool for interacting with some computational resources, such as high performance computers.\n",
    "\n",
    "<center><table style=\"background-color:#FFFFFF;\">\n",
    "    <tr style=\"background-color:#FFFFFF;\">\n",
    "        <td width=300>\n",
    "            <img src=\"supplementary/cmd_old.png\"/>\n",
    "        </td>\n",
    "        <td width=300>\n",
    "            <img src=\"supplementary/cmd.png\"/>\n",
    "        </td>\n",
    "        <td width=300>\n",
    "            <img src=\"supplementary/cmd_linux.png\"/>\n",
    "        </td>\n",
    "        <td width=300>\n",
    "            <img src=\"supplementary/cmd_modern.png\"/>\n",
    "        </td>\n",
    "    </tr>\n",
    "</table>  \n",
    "\n",
    "\n",
    "<center><img width=600 src=\"supplementary/cmd_example.jpg\"/>"
   ]
  },
  {
   "cell_type": "markdown",
   "metadata": {
    "slideshow": {
     "slide_type": "slide"
    }
   },
   "source": [
    "## What is it good for\n",
    "\n",
    "Generally, knowing how to use a computer, tablet, or smartphone can help with certain tasks, such as:\n",
    "<ul>\n",
    "    <li>\n",
    "        Drafting and editing a long text document\n",
    "    </li>\n",
    "    <li>\n",
    "Reviewing and sorting photos\n",
    "    </li>\n",
    "    <li>\n",
    "Searching for content\n",
    "    </li>\n",
    "</ul>\n",
    "\n",
    "However, how do you tackle really big or more complicated tasks that are repetitive even with a computer? Such as:\n",
    "<ul>\n",
    "    <li>\n",
    "        Change 1,000 file names based on a complex pattern\n",
    "    </li>\n",
    "    <li>\n",
    "        Search through recipe files to find all desserts that include apples that take fewer than 3 steps to prepare\n",
    "    </li>\n",
    "</ul>\n",
    "\n",
    "\n",
    "\n",
    "The command line can be used to automate repetitive processes and combine smaller subtasks, making repetitive tasks even easier! Although some of these tasks may be suited for specialized software, such as a database program, the command line is a general purpose tool that can handle a variety of categories of tasks.\n",
    "\n",
    "[picture of a computer or tablet - with some pictures related to the above - word processor, image browser, text file, handwritten recipe card…]\n",
    "\n",
    "<p style=\"color:red;\">Mohsen's comment: Please provide appropriate images</p>\n",
    "\n",
    "\n"
   ]
  },
  {
   "cell_type": "markdown",
   "metadata": {
    "slideshow": {
     "slide_type": "slide"
    }
   },
   "source": [
    "## What is it good for (part 2)\n",
    "\n",
    "The command line really shines when dealing with complex, repetitive work! \n",
    "<br>Here are a few examples of common tasks that a command line is often used for:\n",
    "<ul>\n",
    "    <li>\n",
    "Installing a program and all of the program’s dependencies\n",
    "    </li>\n",
    "    <li>\n",
    "Reviewing system information and logs\n",
    "    </li>\n",
    "    <li>\n",
    "Connecting with remote computing systems\n",
    "    </li>\n",
    "</ul>\n",
    "    \n"
   ]
  },
  {
   "cell_type": "markdown",
   "metadata": {
    "slideshow": {
     "slide_type": "slide"
    }
   },
   "source": [
    "# Quiz\n",
    "\n",
    "### Wielding the Command Line\n",
    "\n",
    "Now that you have learned about what a command line can do, take a look at the following task list and think whether a command line might help make the task easier.\n",
    "\n"
   ]
  },
  {
   "cell_type": "markdown",
   "metadata": {
    "slideshow": {
     "slide_type": "slide"
    }
   },
   "source": [
    "### Task 1:\n",
    "You and your best friend have downloaded all your (500+) vacation pictures into one folder. Your cameras each save images with a different filename pattern but include the same information in the filename. You would like to rename one set of images to use the same pattern for all of the pictures for easier sorting.\n"
   ]
  },
  {
   "cell_type": "code",
   "execution_count": 58,
   "metadata": {
    "hide_input": false,
    "slideshow": {
     "slide_type": "-"
    },
    "tags": [
     "Init",
     "Hide"
    ]
   },
   "outputs": [
    {
     "data": {
      "application/vnd.jupyter.widget-view+json": {
       "model_id": "",
       "version_major": 2,
       "version_minor": 0
      },
      "text/plain": [
       "RadioButtons(description=' ', layout=Layout(width='100%'), options=('Yes', 'No'), style=DescriptionStyle(descr…"
      ]
     },
     "metadata": {},
     "output_type": "display_data"
    },
    {
     "data": {
      "application/vnd.jupyter.widget-view+json": {
       "model_id": "",
       "version_major": 2,
       "version_minor": 0
      },
      "text/plain": [
       "Button(description='Submit', icon='check', layout=Layout(height='auto', width='auto'), style=ButtonStyle())"
      ]
     },
     "metadata": {},
     "output_type": "display_data"
    },
    {
     "data": {
      "application/vnd.jupyter.widget-view+json": {
       "model_id": "",
       "version_major": 2,
       "version_minor": 0
      },
      "text/plain": [
       "Output()"
      ]
     },
     "metadata": {},
     "output_type": "display_data"
    }
   ],
   "source": [
    "widget1 = widgets.RadioButtons(\n",
    "    options = ['Yes', 'No'],\n",
    "    description = ' ', style={'description_width': 'initial'},\n",
    "    layout = Layout(width='100%'),\n",
    "    value = None\n",
    ")\n",
    "\n",
    "display(widget1)\n",
    "\n",
    "hourofci.SubmitBtn2(widget1)"
   ]
  },
  {
   "cell_type": "markdown",
   "metadata": {
    "slideshow": {
     "slide_type": "slide"
    }
   },
   "source": [
    "### Task 1 - answer\n",
    "\n",
    "Yes! This might be a good choice for a command line! You have a lot of files and a simple process for converting one file name to the other type. You could save a lot of time with the command line!\n"
   ]
  },
  {
   "cell_type": "markdown",
   "metadata": {
    "slideshow": {
     "slide_type": "slide"
    }
   },
   "source": [
    "### Task 2:\n",
    "\n",
    "Your classmate wants to rename 2-3 of their class project files with a new project title. \n"
   ]
  },
  {
   "cell_type": "code",
   "execution_count": 59,
   "metadata": {
    "hide_input": false,
    "slideshow": {
     "slide_type": "-"
    },
    "tags": [
     "Init",
     "Hide"
    ]
   },
   "outputs": [
    {
     "data": {
      "application/vnd.jupyter.widget-view+json": {
       "model_id": "",
       "version_major": 2,
       "version_minor": 0
      },
      "text/plain": [
       "RadioButtons(description=' ', layout=Layout(width='100%'), options=('Yes', 'No'), style=DescriptionStyle(descr…"
      ]
     },
     "metadata": {},
     "output_type": "display_data"
    },
    {
     "data": {
      "application/vnd.jupyter.widget-view+json": {
       "model_id": "",
       "version_major": 2,
       "version_minor": 0
      },
      "text/plain": [
       "Button(description='Submit', icon='check', layout=Layout(height='auto', width='auto'), style=ButtonStyle())"
      ]
     },
     "metadata": {},
     "output_type": "display_data"
    },
    {
     "data": {
      "application/vnd.jupyter.widget-view+json": {
       "model_id": "",
       "version_major": 2,
       "version_minor": 0
      },
      "text/plain": [
       "Output()"
      ]
     },
     "metadata": {},
     "output_type": "display_data"
    }
   ],
   "source": [
    "widget1 = widgets.RadioButtons(\n",
    "    options = ['Yes', 'No'],\n",
    "    description = ' ', style={'description_width': 'initial'},\n",
    "    layout = Layout(width='100%'),\n",
    "    value = None\n",
    ")\n",
    "\n",
    "display(widget1)\n",
    "\n",
    "hourofci.SubmitBtn2(widget1)"
   ]
  },
  {
   "cell_type": "markdown",
   "metadata": {
    "slideshow": {
     "slide_type": "slide"
    }
   },
   "source": [
    "### Task 2 - answer\n",
    "No! This might not be a good choice for a command line because they can manually rename a small number of files pretty fast already.\n"
   ]
  },
  {
   "cell_type": "markdown",
   "metadata": {
    "slideshow": {
     "slide_type": "slide"
    }
   },
   "source": [
    "### Task 3:\n",
    "A researcher has over 10,000 project files and wants to copy over only the ones containing a certain sequence of characters in the first line and that are more than a year old to a different computer.\n"
   ]
  },
  {
   "cell_type": "code",
   "execution_count": 60,
   "metadata": {
    "hide_input": false,
    "slideshow": {
     "slide_type": "-"
    },
    "tags": [
     "Init",
     "Hide"
    ]
   },
   "outputs": [
    {
     "data": {
      "application/vnd.jupyter.widget-view+json": {
       "model_id": "",
       "version_major": 2,
       "version_minor": 0
      },
      "text/plain": [
       "RadioButtons(description=' ', layout=Layout(width='100%'), options=('Yes', 'No'), style=DescriptionStyle(descr…"
      ]
     },
     "metadata": {},
     "output_type": "display_data"
    },
    {
     "data": {
      "application/vnd.jupyter.widget-view+json": {
       "model_id": "",
       "version_major": 2,
       "version_minor": 0
      },
      "text/plain": [
       "Button(description='Submit', icon='check', layout=Layout(height='auto', width='auto'), style=ButtonStyle())"
      ]
     },
     "metadata": {},
     "output_type": "display_data"
    },
    {
     "data": {
      "application/vnd.jupyter.widget-view+json": {
       "model_id": "",
       "version_major": 2,
       "version_minor": 0
      },
      "text/plain": [
       "Output()"
      ]
     },
     "metadata": {},
     "output_type": "display_data"
    }
   ],
   "source": [
    "widget1 = widgets.RadioButtons(\n",
    "    options = ['Yes', 'No'],\n",
    "    description = ' ', style={'description_width': 'initial'},\n",
    "    layout = Layout(width='100%'),\n",
    "    value = None\n",
    ")\n",
    "\n",
    "display(widget1)\n",
    "\n",
    "hourofci.SubmitBtn2(widget1)"
   ]
  },
  {
   "cell_type": "markdown",
   "metadata": {
    "slideshow": {
     "slide_type": "slide"
    }
   },
   "source": [
    "### Task 3 - answer\n",
    "\n",
    "Yes! This might be a good choice for a command line! It would take a very long time to manually check and move all the files!\n"
   ]
  },
  {
   "cell_type": "markdown",
   "metadata": {
    "slideshow": {
     "slide_type": "slide"
    }
   },
   "source": [
    "## Wrapup\n",
    "\n",
    "We’ve now seen some types of problems a command line can help with… let’s see how we can actually access the command line!\n"
   ]
  },
  {
   "cell_type": "markdown",
   "metadata": {
    "hide_input": false,
    "slideshow": {
     "slide_type": "slide"
    }
   },
   "source": [
    "\n",
    "\n",
    "<font size=\"+1\"><a style=\"background-color:blue;color:white;padding:12px;margin:10px;font-weight:bold;\" href=\"cyberinfrastructure-3.ipynb\">Click here to go to the next notebook.</a></font>"
   ]
  }
 ],
 "metadata": {
  "celltoolbar": "Slideshow",
  "kernelspec": {
   "display_name": "Python 3",
   "language": "python",
   "name": "python3"
  },
  "language_info": {
   "codemirror_mode": {
    "name": "ipython",
    "version": 3
   },
   "file_extension": ".py",
   "mimetype": "text/x-python",
   "name": "python",
   "nbconvert_exporter": "python",
   "pygments_lexer": "ipython3",
   "version": "3.8.1"
  },
  "rise": {
   "autolaunch": true,
   "overlay": "<div class='hciheader'></div><div class='hcifooter'></div>",
   "scroll": true
  }
 },
 "nbformat": 4,
 "nbformat_minor": 4
}
