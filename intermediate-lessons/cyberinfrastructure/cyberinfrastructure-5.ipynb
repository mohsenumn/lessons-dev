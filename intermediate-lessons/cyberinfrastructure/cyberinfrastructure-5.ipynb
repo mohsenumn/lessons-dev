{
 "cells": [
  {
   "cell_type": "markdown",
   "metadata": {
    "slideshow": {
     "slide_type": "slide"
    }
   },
   "source": [
    "## Cyberinfrastructure\n",
    "\n",
    "### Part 4 of 5\n",
    "# Discovering the file system"
   ]
  },
  {
   "cell_type": "markdown",
   "metadata": {
    "slideshow": {
     "slide_type": "slide"
    }
   },
   "source": [
    "## Reminder\n",
    "<a href=\"#/slide-2-0\" class=\"navigate-right\" style=\"background-color:blue;color:white;padding:8px;margin:2px;font-weight:bold;\">Continue with the lesson</a>\n",
    "\n",
    "<br>\n",
    "</br>\n",
    "<font size=\"+1\">\n",
    "\n",
    "By continuing with this lesson you are granting your permission to take part in this research study for the Hour of Cyberinfrastructure: Developing Cyber Literacy for GIScience project. In this study, you will be learning about cyberinfrastructure and related concepts using a web-based platform that will take approximately one hour per lesson. Participation in this study is voluntary.\n",
    "\n",
    "Participants in this research must be 18 years or older. If you are under the age of 18 then please exit this webpage or navigate to another website such as the Hour of Code at https://hourofcode.com, which is designed for K-12 students.\n",
    "\n",
    "If you are not interested in participating please exit the browser or navigate to this website: http://www.umn.edu. Your participation is voluntary and you are free to stop the lesson at any time.\n",
    "\n",
    "For the full description please navigate to this website: <a href=\"../../gateway-lesson/gateway/gateway-1.ipynb\">Gateway Lesson Research Study Permission</a>.\n",
    "\n",
    "</font>"
   ]
  },
  {
   "cell_type": "code",
   "execution_count": null,
   "metadata": {
    "hide_input": true,
    "init_cell": true,
    "slideshow": {
     "slide_type": "skip"
    },
    "tags": [
     "Hide"
    ]
   },
   "outputs": [],
   "source": [
    "# This code cell starts the necessary setup for Hour of CI lesson notebooks.\n",
    "# First, it enables users to hide and unhide code by producing a 'Toggle raw code' button below.\n",
    "# Second, it imports the hourofci package, which is necessary for lessons and interactive Jupyter Widgets.\n",
    "# Third, it helps hide/control other aspects of Jupyter Notebooks to improve the user experience\n",
    "# This is an initialization cell\n",
    "# It is not displayed because the Slide Type is 'Skip'\n",
    "\n",
    "from IPython.display import HTML, IFrame, Javascript, display\n",
    "from ipywidgets import interactive\n",
    "import ipywidgets as widgets\n",
    "from ipywidgets import Layout\n",
    "\n",
    "import getpass # This library allows us to get the username (User agent string)\n",
    "\n",
    "# import package for hourofci project\n",
    "import sys\n",
    "sys.path.append('../../supplementary') # relative path (may change depending on the location of the lesson notebook)\n",
    "import hourofci\n",
    "\n",
    "# load javascript to initialize/hide cells, get user agent string, and hide output indicator\n",
    "# hide code by introducing a toggle button \"Toggle raw code\"\n",
    "HTML(''' \n",
    "    <script type=\"text/javascript\" src=\\\"../../supplementary/js/custom.js\\\"></script>\n",
    "    \n",
    "    <style>\n",
    "        .output_prompt{opacity:0;}\n",
    "    </style>\n",
    "    \n",
    "    <input id=\"toggle_code\" type=\"button\" value=\"Toggle raw code\">\n",
    "''')"
   ]
  },
  {
   "cell_type": "markdown",
   "metadata": {
    "slideshow": {
     "slide_type": "slide"
    }
   },
   "source": [
    "## Introduction\n",
    "Great job on learning your first commands! <br>\n",
    "So far the commands you have learned have been self contained or simply report back info. But you can do much more! For any type of advanced command line use you will need to make use of the file system/directory structure. A file system structure is the way that all the files on the computer are organized. Files are placed in a hierarchical system of folders. Note that another name for a file folder is a directory. \n",
    "\n",
    "[image of a directory structure - folders with arrows to files and subfolders (have image start at / root)]\n",
    "<center><img width=\"600px\" src=\"supplementary/leaf.png\"></center>\n",
    "<p style=\"color:red;\">Mohsen's comment: Please provide an appropriate image</p>"
   ]
  },
  {
   "cell_type": "markdown",
   "metadata": {
    "slideshow": {
     "slide_type": "slide"
    }
   },
   "source": [
    "## Navigating the filesystem\n",
    "If you use a graphic user interface, you may be familiar with using folders to organize files and using a mouse to click on different folders. However, with the command line it’s slightly different: \n",
    "\n",
    "<table style=\"background-color:#FFFFFF;text-align:center;\">\n",
    "    <tr style=\"background-color:#FFFFFF; font-family:monospace; font-size:20px;\">\n",
    "        <td>\n",
    "            [image of a directory structure, image of a series of folder icons]\n",
    "<p style=\"color:red;\">Mohsen's comment: Please provide an appropriate image</p>\n",
    "        </td>\n",
    "        <td>    \n",
    "            <center><img width=\"400px\" src=\"supplementary/current_dir.jpeg\"></center>\n",
    "        </td>\n",
    "        <td> \n",
    "            <center><img width=\"600px\" src=\"supplementary/leaf.png\"></center>\n",
    "        </td>\n",
    "    </tr>\n",
    "    <tr style=\"background-color:#FFFFFF;\">\n",
    "        <td style=\"text-align:center;\">\n",
    "            you need to navigate between folders using text commands.\n",
    "        </td>\n",
    "        <td style=\"text-align:center;\">\n",
    "            The command line lives in a single folder/directory at a time. Often this folder will be shown before the prompt so you remember where you currently are located! \n",
    "        </td>\n",
    "        <td style=\"text-align:center;\">\n",
    "            Because the file system is hierarchical, each directory has a path which is a list of all the folders between the directory and the root directory. \n",
    "        </td>\n",
    "    </tr>\n",
    "</table> \n"
   ]
  },
  {
   "cell_type": "markdown",
   "metadata": {
    "slideshow": {
     "slide_type": "slide"
    }
   },
   "source": [
    "### Learning about the current location\n",
    "Here are some important commands for navigating the file system. Read each command and try to guess what it might do before looking at its description! Remember a folder is commonly called a directory.\n",
    "\n",
    "<font style=\"background-color:#FFFFFF; font-family:monospace; font-size:20px;\">pwd</font>\n",
    "\n",
    "`pwd` stands for “print working directory”. This command will tell you the full path where the command line is currently located.\n",
    "\n",
    "<font style=\"font-family:monospace; font-size:16px; color:red;\">ls</font> <br> \n",
    "<font style=\"font-family:monospace; font-size:16px; color:red;\">ls</font> <font style=\"font-family:monospace; font-size:16px; color:green;\">-l</font><br> \n",
    "<font style=\"font-family:monospace; font-size:16px; color:red;\">ls</font> <font style=\"font-family:monospace; font-size:16px; color:green;\">-R</font>\n",
    "\n",
    "These commands will list the names of all the files in the current directory. The `-l` option will provide more information about the files. The `-R`  option will also show information on files in any subdirectories.\n"
   ]
  },
  {
   "cell_type": "markdown",
   "metadata": {
    "slideshow": {
     "slide_type": "slide"
    }
   },
   "source": [
    "### Moving within the file system\n",
    "<font style=\"background-color:#FFFFFF; font-family:monospace; font-size:20px;\">cd</font>\n",
    "\n",
    "`cd` is one of the most important commands for navigating the file system.\n",
    "\n",
    "<font style=\"font-family:monospace; font-size:16px; color:red;\">cd</font> <font style=\"font-family:monospace; font-size:16px; color:blue;\">mydir</font> <br> <font style=\"font-family:monospace; font-size:16px; color:red;\">cd</font> <font style=\"font-family:monospace; font-size:16px; color:blue;\">/my/full/path</font><br> <font style=\"font-family:monospace; font-size:16px; color:red;\">cd</font> <font style=\"font-family:monospace; font-size:16px; color:blue;\">/</font><br> <font style=\"font-family:monospace; font-size:16px; color:red;\">cd</font> <font style=\"font-family:monospace; font-size:16px; color:blue;\">~</font><br> <font style=\"font-family:monospace; font-size:16px; color:red;\">cd</font> <font style=\"font-family:monospace; font-size:16px; color:blue;\">..</font>\n",
    "\n",
    "\n",
    "`cd` stands for “change directory”. This command will change the command line location to the specified directory (mydir) only if mydir is a directory within the current directory. However, if you specify a full path you can jump to a non-adjacent directory. <br>\n",
    "`/` and `~` are special shortcuts that tell the command line to jump to the root directory and the home directory respectively. `..` is a shortcut to jump to the parent folder of the current folder (i.e. the folder above the current folder).\n"
   ]
  },
  {
   "cell_type": "markdown",
   "metadata": {
    "slideshow": {
     "slide_type": "slide"
    }
   },
   "source": [
    "### Thinking\n",
    "Consider these questions as you go forward: \n",
    "<ul>\n",
    "    <li>\n",
    "Why are strengths and weaknesses of different types of directory structures? \n",
    "    </li>\n",
    "    <li>\n",
    "How do you store your own local or remote files? \n",
    "    </li>\n",
    "    <li>\n",
    "What steps do you take to find a file if you have forgotten exactly where it is located? \n",
    "    </li>\n",
    "    <li>\n",
    "How might your file structure make things easier or harder to navigate with the command line?\n",
    "    </li>\n",
    "</ul>\n"
   ]
  },
  {
   "cell_type": "markdown",
   "metadata": {
    "slideshow": {
     "slide_type": "slide"
    }
   },
   "source": [
    "## Wrapup\n",
    "Awesome! You now have a solid handle on how files are stored and how to navigate the file system with the command line! Now on to our last bit of new content, where we learn how to make changes to files and folders!\n"
   ]
  },
  {
   "cell_type": "markdown",
   "metadata": {
    "slideshow": {
     "slide_type": "-"
    }
   },
   "source": [
    "\n",
    "\n",
    "<font size=\"+1\"><a style=\"background-color:blue;color:white;padding:12px;margin:10px;font-weight:bold;\" \n",
    "href=\"cyberinfrastructure-6.ipynb\">Click here to go to the next notebook.</a></font>"
   ]
  }
 ],
 "metadata": {
  "celltoolbar": "Edit Metadata",
  "kernelspec": {
   "display_name": "Python 3",
   "language": "python",
   "name": "python3"
  },
  "language_info": {
   "codemirror_mode": {
    "name": "ipython",
    "version": 3
   },
   "file_extension": ".py",
   "mimetype": "text/x-python",
   "name": "python",
   "nbconvert_exporter": "python",
   "pygments_lexer": "ipython3",
   "version": "3.8.1"
  },
  "rise": {
   "autolaunch": true,
   "overlay": "<div class='hciheader'></div><div class='hcifooter'></div>",
   "scroll": true
  }
 },
 "nbformat": 4,
 "nbformat_minor": 4
}
