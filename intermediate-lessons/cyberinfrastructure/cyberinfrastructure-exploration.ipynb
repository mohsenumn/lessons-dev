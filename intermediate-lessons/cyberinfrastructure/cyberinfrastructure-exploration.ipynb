{
 "cells": [
  {
   "cell_type": "markdown",
   "metadata": {
    "slideshow": {
     "slide_type": "slide"
    }
   },
   "source": [
    "## Cyberinfrastructure\n",
    "\n",
    "# Interactive exploration!"
   ]
  },
  {
   "cell_type": "code",
   "execution_count": null,
   "metadata": {
    "hide_input": true,
    "init_cell": true,
    "slideshow": {
     "slide_type": "skip"
    },
    "tags": [
     "Hide"
    ]
   },
   "outputs": [],
   "source": [
    "# This code cell starts the necessary setup for Hour of CI lesson notebooks.\n",
    "# First, it enables users to hide and unhide code by producing a 'Toggle raw code' button below.\n",
    "# Second, it imports the hourofci package, which is necessary for lessons and interactive Jupyter Widgets.\n",
    "# Third, it helps hide/control other aspects of Jupyter Notebooks to improve the user experience\n",
    "# This is an initialization cell\n",
    "# It is not displayed because the Slide Type is 'Skip'\n",
    "\n",
    "from IPython.display import HTML, IFrame, Javascript, display\n",
    "from ipywidgets import interactive\n",
    "import ipywidgets as widgets\n",
    "from ipywidgets import Layout\n",
    "\n",
    "import getpass # This library allows us to get the username (User agent string)\n",
    "\n",
    "# import package for hourofci project\n",
    "import sys\n",
    "sys.path.append('../../supplementary') # relative path (may change depending on the location of the lesson notebook)\n",
    "import hourofci\n",
    "\n",
    "# load javascript to initialize/hide cells, get user agent string, and hide output indicator\n",
    "# hide code by introducing a toggle button \"Toggle raw code\"\n",
    "HTML(''' \n",
    "    <script type=\"text/javascript\" src=\\\"../../supplementary/js/custom.js\\\"></script>\n",
    "    \n",
    "    <style>\n",
    "        .output_prompt{opacity:0;}\n",
    "    </style>\n",
    "    \n",
    "    <input id=\"toggle_code\" type=\"button\" value=\"Toggle raw code\">\n",
    "''')"
   ]
  },
  {
   "cell_type": "markdown",
   "metadata": {
    "slideshow": {
     "slide_type": "slide"
    }
   },
   "source": [
    "## Introduction\n",
    "Wow, you’ve really done a lot! By now you have:\n",
    "<ul>\n",
    "    <li>\n",
    "Learned what type of problems a command line is useful for\n",
    "    </li>\n",
    "    <li>\n",
    "Learned how to recognize a command line\n",
    "    </li>\n",
    "    <li>\n",
    "Learned how to access a command line on your local machine\n",
    "    </li>\n",
    "    <li>\n",
    "Learned commands for displaying system and user info\n",
    "    </li>\n",
    "    <li>\n",
    "Learned commands to navigate the file system\n",
    "    </li>\n",
    "    <li>\n",
    "Learned commands to create, delete, move, and transfer files and folders\n",
    "    </li>\n",
    "</ul>\n",
    "Are you ready to test your memory and command line skills? \n"
   ]
  },
  {
   "cell_type": "markdown",
   "metadata": {
    "slideshow": {
     "slide_type": "slide"
    }
   },
   "source": [
    "## Interactive Game\n",
    "\n",
    "[Game description:\n",
    "See game description page! (https://docs.google.com/document/d/16VaAxS4nqop6L7etgYLK_Ka7UTKhLoZZxMaWE5AeRoU/edit?usp=sharing)\n",
    "]\n",
    "\n",
    "(yet to be developed)"
   ]
  },
  {
   "cell_type": "markdown",
   "metadata": {
    "slideshow": {
     "slide_type": "slide"
    }
   },
   "source": [
    "### Command Line for Cyberinfrastructure\n",
    "There is much more power in the command line than we have been able to cover in this introductory lesson. Here are some further abilities you could check out and just a few of the ways the command line is used in scientific research, cyberinfrastructure, and high performance computing:\n",
    "<ul>\n",
    "    <li>\n",
    "Bash/shell scripting \n",
    "    </li>\n",
    "    <li>\n",
    "Data transfer\n",
    "    </li>\n",
    "    <li>\n",
    "Using APIs\n",
    "    </li>\n",
    "</ul>\n",
    "\n",
    "<a href=\"https://www.nature.com/articles/d41586-021-00263-0\">Link to Nature article </a>\n"
   ]
  },
  {
   "cell_type": "markdown",
   "metadata": {
    "slideshow": {
     "slide_type": "slide"
    }
   },
   "source": [
    "## Final wrapup\n",
    "You now have learned how to use the command line! This is an important step for being able to work with cyberinfrastructure. Try exploring commands that we have not covered in this lesson and remember, deleting on the command line is forever!\n",
    "<br>\n",
    "For more information about the Command Line, check out these resources:\n",
    "<ul>\n",
    "    <li>\n",
    "Shotts, William. The Linux Command Line: A Complete Introduction. 2nd edition. No Starch Press, 2019.\n",
    "    </li>\n",
    "    <li>\n",
    "Janssens, Jeroen. Data Science at the Command Line. 2nd edition. O'Reilly Media, 2021.\n",
    "    </li>\n",
    "</ul>\n",
    "\n",
    "Additionally, many useful tips can be found by searching online.\n",
    "\n",
    "We hope you have enjoyed this lesson. Keep an eye out for more intermediate cyberinfrastructure lessons to learn more about how to use this powerful resource.\n",
    "\n",
    "[HPC picture]\n",
    "\n",
    "<p style=\"color:red;\">Mohsen's comment: Please provide an appropriate image</p>"
   ]
  },
  {
   "cell_type": "markdown",
   "metadata": {
    "slideshow": {
     "slide_type": "slide"
    }
   },
   "source": [
    "### Congratulations! You have finished an Hour of CI!\n",
    "You now have learned how to control the command line! Keep a lookout for command line opportunities in other Hour of CI lessons!\n",
    "\n",
    "But, before you go ... \n",
    "\n",
    "1. Please fill out a very brief questionnaire to tell us what you have learned so far and to provide feedback to help us improve the Hour of CI lessons. It is fast and your feedback is very important to let us know what you learned and how we can improve the lessons in the future.\n",
    "2. If you would like a certificate, then please type your name below and click \"Create Certificate\" and you will be presented with a PDF certificate.\n",
    "\n",
    "\n",
    "<font size=\"+1\"><a style=\"background-color:blue;color:white;padding:12px;margin:10px;font-weight:bold;\" href=\"https://forms.gle/JUUBm76rLB8iYppN7\">Tell us what you learned and provide feedback</a></font>\n",
    "\n"
   ]
  },
  {
   "cell_type": "code",
   "execution_count": null,
   "metadata": {
    "hide_input": false,
    "slideshow": {
     "slide_type": "-"
    },
    "tags": [
     "Hide",
     "Init"
    ]
   },
   "outputs": [],
   "source": [
    "\n",
    "# This code cell loads the Interact Textbox that will ask users for their name\n",
    "# Once they click \"Create Certificate\" then it will add their name to the certificate template\n",
    "# And present them a PDF certificate\n",
    "from PIL import Image\n",
    "from PIL import ImageFont\n",
    "from PIL import ImageDraw\n",
    "\n",
    "from ipywidgets import interact\n",
    "\n",
    "def make_cert(learner_name, lesson_name):\n",
    "    cert_filename = 'hourofci_certificate.pdf'\n",
    "\n",
    "    img = Image.open(\"../../supplementary/hci-certificate-template.jpg\")\n",
    "    draw = ImageDraw.Draw(img)\n",
    "\n",
    "    cert_font   = ImageFont.truetype('../../supplementary/cruft.ttf', 150)\n",
    "    cert_fontsm = ImageFont.truetype('../../supplementary/cruft.ttf', 80)\n",
    "    \n",
    "    _,_,w,h = cert_font.getbbox(learner_name)  \n",
    "    draw.text( xy = (1650-w/2,1100-h/2), text = learner_name, fill=(0,0,0),font=cert_font)\n",
    "    \n",
    "    _,_,w,h = cert_fontsm.getbbox(lesson_name)\n",
    "    draw.text( xy = (1650-w/2,1100-h/2 + 750), text = lesson_name, fill=(0,0,0),font=cert_fontsm)\n",
    "    \n",
    "    img.save(cert_filename, \"PDF\", resolution=100.0)   \n",
    "    return cert_filename\n",
    "\n",
    "\n",
    "interact_cert=interact.options(manual=True, manual_name=\"Create Certificate\")\n",
    "\n",
    "@interact_cert(name=\"Your Name\")\n",
    "def f(name):\n",
    "    print(\"Congratulations\",name)\n",
    "    filename = make_cert(name, 'Intermediate Cyberinfrastructure')\n",
    "    print(\"Download your certificate by clicking the link below.\")\n",
    "    \n",
    "    \n",
    "    "
   ]
  },
  {
   "cell_type": "markdown",
   "metadata": {},
   "source": [
    "<font size=\"+1\"><a style=\"background-color:blue;color:white;padding:12px;margin:10px;font-weight:bold;\" href=\"hourofci_certificate.pdf?download=1\" download=\"hourofci_certificate.pdf\">Download your certificate</a></font>\n",
    "\n"
   ]
  }
 ],
 "metadata": {
  "celltoolbar": "Slideshow",
  "kernelspec": {
   "display_name": "Python 3",
   "language": "python",
   "name": "python3"
  },
  "language_info": {
   "codemirror_mode": {
    "name": "ipython",
    "version": 3
   },
   "file_extension": ".py",
   "mimetype": "text/x-python",
   "name": "python",
   "nbconvert_exporter": "python",
   "pygments_lexer": "ipython3",
   "version": "3.8.1"
  }
 },
 "nbformat": 4,
 "nbformat_minor": 4
}
