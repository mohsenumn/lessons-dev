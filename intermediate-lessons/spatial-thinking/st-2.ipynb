{
 "cells": [
  {
   "cell_type": "markdown",
   "metadata": {
    "hide_input": true,
    "slideshow": {
     "slide_type": "slide"
    }
   },
   "source": [
    "## Intermediate Spatial Thinking\n",
    "### Segment 1 of 4\n",
    "# What is Special about Spatial Thinking?"
   ]
  },
  {
   "cell_type": "markdown",
   "metadata": {
    "slideshow": {
     "slide_type": "slide"
    }
   },
   "source": [
    "## Thank you for helping our study\n",
    "\n",
    "\n",
    "<a href=\"#/slide-1-0\" class=\"navigate-right\" style=\"background-color:blue;color:white;padding:8px;margin:2px;font-weight:bold;\">Continue with the lesson</a>\n",
    "\n",
    "Throughout this lesson you will see reminders, like the one below, to ensure that all participants understand that they are in a voluntary research study.\n",
    "\n",
    "### Reminder\n",
    "\n",
    "<font size=\"+1\">\n",
    "\n",
    "By continuing with this lesson you are granting your permission to take part in this research study for the Hour of Cyberinfrastructure: Developing Cyber Literacy for GIScience project. In this study, you will be learning about cyberinfrastructure and related concepts using a web-based platform that will take approximately one hour per lesson. Participation in this study is voluntary.\n",
    "\n",
    "Participants in this research must be 18 years or older. If you are under the age of 18 then please exit this webpage or navigate to another website such as the Hour of Code at https://hourofcode.com, which is designed for K-12 students.\n",
    "\n",
    "If you are not interested in participating please exit the browser or navigate to this website: http://www.umn.edu. Your participation is voluntary and you are free to stop the lesson at any time.\n",
    "\n",
    "For the full description please navigate to this website: <a href=\"../../gateway-lesson/gateway/gateway-1.ipynb\">Gateway Lesson Research Study Permission</a>.\n",
    "\n",
    "</font>"
   ]
  },
  {
   "cell_type": "code",
   "execution_count": null,
   "metadata": {
    "hide_input": true,
    "init_cell": true,
    "slideshow": {
     "slide_type": "skip"
    },
    "tags": [
     "Hide"
    ]
   },
   "outputs": [],
   "source": [
    "# This code cell starts the necessary setup for Hour of CI lesson notebooks.\n",
    "# First, it enables users to hide and unhide code by producing a 'Toggle raw code' button below.\n",
    "# Second, it imports the hourofci package, which is necessary for lessons and interactive Jupyter Widgets.\n",
    "# Third, it helps hide/control other aspects of Jupyter Notebooks to improve the user experience\n",
    "# This is an initialization cell\n",
    "# It is not displayed because the Slide Type is 'Skip'\n",
    "\n",
    "from IPython.display import HTML, IFrame, Javascript, display, clear_output\n",
    "from ipywidgets import interactive, Textarea, HBox, Button, Layout\n",
    "import ipywidgets as widgets\n",
    "from ipywidgets import Layout\n",
    "\n",
    "import getpass # This library allows us to get the username (User agent string)\n",
    "\n",
    "# import package for hourofci project\n",
    "import sys\n",
    "sys.path.append('../../supplementary') # relative path (may change depending on the location of the lesson notebook)\n",
    "import hourofci\n",
    "\n",
    "import warnings\n",
    "warnings.filterwarnings('ignore') # Hide warnings\n",
    "\n",
    "# load javascript to initialize/hide cells, get user agent string, and hide output indicator\n",
    "# hide code by introducing a toggle button \"Toggle raw code\"\n",
    "# HTML(''' \n",
    "#     <script type=\"text/javascript\" src=\\\"../../supplementary/js/custom.js\\\"></script>\n",
    "    \n",
    "#     <input id=\"toggle_code\" type=\"button\" value=\"Toggle raw code\">\n",
    "# ''')\n",
    "\n",
    "HTML(''' \n",
    "    <script type=\"text/javascript\" src=\\\"../../supplementary/js/custom.js\\\"></script>\n",
    "    \n",
    "    <style>\n",
    "        .output_prompt{opacity:0;}\n",
    "    </style>\n",
    "    \n",
    "    <input id=\"toggle_code\" type=\"button\" value=\"Toggle raw code\">\n",
    "''')\n"
   ]
  },
  {
   "cell_type": "markdown",
   "metadata": {
    "slideshow": {
     "scrolled": true,
     "slide_type": "slide"
    }
   },
   "source": [
    "### What Is Special About Spatial Thinking in Decision Making?\n",
    "\n",
    "<table>\n",
    "    <tr style=\"background: #fff; text-align: left; vertical-align:\">\n",
    "        <td style=\"background: #fff; text-align: left; font-size: 23px;\">\n",
    "We make decisions every day, and most of the time they are based on location! Some decisions are simple and have only short-term effects on our lives such as <i>\"Where will I eat lunch today?\"</i> (unless you meet your favorite scientist during lunch, then it will become a huge life-time event!).\n",
    "</td>\n",
    "     <td style=\"width: 50%; background: #fff; text-align: left; vertical-align: top;\"> <img src='supplementary/s_decision2.png' width=\"500\" height=\"700\" alt='map'></td>\n",
    "    </tr>\n",
    "</table>\n",
    "\n",
    "<table>\n",
    "    <font style=\"background: #fff; text-align: left; font-size: 23px;\">\n",
    "Other decisions such as \"What is the most energy efficient way to go from my home to the campus?\" have a greater and more lasting impact on our environment. So, since we are already having some experience in decision making, shall we learn how we can make it more efficient and more fun?\n",
    "</font>\n",
    "</table>\n"
   ]
  },
  {
   "cell_type": "markdown",
   "metadata": {
    "slideshow": {
     "scrolled": true,
     "slide_type": "slide"
    }
   },
   "source": [
    "## Spatial Thinking\n",
    "\n",
    "<table>\n",
    "    <tr style=\"background: #fff; text-align: left; vertical-align:\">\n",
    "        <td style=\"background: #fff; text-align: left; font-size: 23px;\">\n",
    "           \n",
    "According to the <a href=\"https://www.nap.edu/catalog/11019/learning-to-think-spatially\">National Research Council of the National Academies</a> in the USA, spatial thinking is <b>a collection of cognitive skills.*</b>\n",
    "            \n",
    "These skills combine three spatial aspects: concepts of space, tools of representation, and processes of reasoning.\n",
    "\n",
    "</td>\n",
    "        <td style=\"width: 50%; background: #fff; text-align: left; vertical-align: top;\"> <img src='supplementary/lego.jpg' width=\"300\" alt='map'></td>\n",
    "    </tr>\n",
    "</table>\n",
    "We understand the concepts of spatial dimension, continuity, proximity, and separation from the early years of our lives! Remember the toys that you were playing as a kid where you find the shapes and put them into the right holes?\n",
    "    \n",
    "<b>Understanding the relationships within that play space</b> helped you to find answers and communicate solutions in a simple block game!\n",
    "\n",
    "\n",
    "<small>*National Academies of Sciences, Engineering, and Medicine. 2006. Learning to Think Spatially. Washington, DC: The National Academies Press. https://doi.org/10.17226/11019.\n",
    "   "
   ]
  },
  {
   "cell_type": "markdown",
   "metadata": {
    "slideshow": {
     "scrolled": true,
     "slide_type": "slide"
    }
   },
   "source": [
    "<table>\n",
    "    <tr style=\"background: #fff; text-align: left; vertical-align:\">\n",
    "      <td style=\"background: #fff; text-align: left; font-size: 23px;\">\n",
    "Being good at <b>spatial reasoning</b> as human beings (computers still can't do this!) helps us to recognize, interpret, and understand spatial patterns, distributions, and relationships. <p>Maps are powerful tools to represent these patterns and relationships and help us to develop spatial awareness.</p>\n",
    "          <p>This map, for example, highlights the areas of high road density in the USA.</p>\n",
    "</td>\n",
    "     <td style=\"width: 50%; background: #fff; text-align: left; vertical-align: top;\"> <img src='supplementary/reasoning_map.png' width=\"500\" height=\"700\" alt='map'></td>\n",
    "    </tr>\n",
    "</table>\n"
   ]
  },
  {
   "cell_type": "markdown",
   "metadata": {
    "slideshow": {
     "scrolled": true,
     "slide_type": "slide"
    }
   },
   "source": [
    "# Space, Representation, and Reasoning"
   ]
  },
  {
   "cell_type": "markdown",
   "metadata": {
    "slideshow": {
     "scrolled": true,
     "slide_type": "slide"
    }
   },
   "source": [
    "## Space\n",
    "We describe <b>space</b> with various metrics, such as different measuring units, coordinate systems, number of dimensions, and by identifying patterns, shapes, and configurations. \n",
    "\n",
    "For example, we know there are different ways to calculate the distance between our home and our work. The distance can be based on measurement units (e.g., miles or kilometers), or we might simply define the distance based on the travel time.\n"
   ]
  },
  {
   "cell_type": "markdown",
   "metadata": {
    "slideshow": {
     "scrolled": true,
     "slide_type": "slide"
    }
   },
   "source": [
    "## Representation\n",
    "How things are <b>represented</b> affect how we understand the effect of spaces. Take a look at the two world maps below: the one on the left is drawn using Mercator map projection and the other using equal-area map projection. Do you notice anything peculiar about the size of Africa?\n",
    "<table>\n",
    "    <tr style=\"background: #fff; text-align: left; vertical-align: top;\">\n",
    "        <td style=\"width: 20%; background: #fff; text-align: left; vertical-align: top;\"> <img src='supplementary/rep_right.png' ><center><b>World Map with Mercator Projection</b></center>\n",
    "        </td>\n",
    "        <td style=\"width: 20%; background: #fff; text-align: left; vertical-align: top;\"> <img src='supplementary/rep_left.png'> <center><b>World Map with Equal Earth Map Projection</b></center>\n",
    "        </td>\n",
    "    </tr>\n",
    "</table>\n",
    "\n"
   ]
  },
  {
   "cell_type": "markdown",
   "metadata": {
    "slideshow": {
     "slide_type": "slide"
    }
   },
   "source": [
    "The size of Africa differs noticeably from one map to another. \n",
    "The selected map projection affects the spatial representation."
   ]
  },
  {
   "cell_type": "markdown",
   "metadata": {
    "slideshow": {
     "scrolled": true,
     "slide_type": "slide"
    }
   },
   "source": [
    "<table>\n",
    "    <tr style=\"background: #fff; text-align: left; vertical-align:\">\n",
    "        <td style=\"background: #fff; text-align: left; font-size: 23px;\">Map design has a lot of power in terms of representation. Techniques such as <a href=\"https://en.wikipedia.org/wiki/Visual_hierarchy\">visual hierarchy</a>, <a href=\"https://en.wikipedia.org/wiki/Figure-ground_(cartography)\">figure-ground</a>, and layout affect what you see and how you understand the space. \n",
    "<br/>\n",
    "<br/>\n",
    "Here is an example of figure-ground representation of the Republic of Ireland, where Ireland is seen as the “figure” and the surrounding ocean and land as the “background”.  \n",
    "<br/>\n",
    "<br/>\n",
    "These are all related to how we perceive the space. \n",
    "</td>\n",
    "        <td style=\"width: 50%; background: #fff; text-align: left; vertical-align: top;\"> <img src='supplementary/ireland.png' width=\"700\" height=\"900\" alt='map'></td>\n",
    "    </tr>\n",
    "</table>"
   ]
  },
  {
   "cell_type": "markdown",
   "metadata": {
    "slideshow": {
     "scrolled": true,
     "slide_type": "slide"
    }
   },
   "source": [
    "## Reasoning\n",
    "\n",
    "Finally, thinking spatially requires reasoning such as solving geometric analogies and pattern recognition. Spatial reasoning often uses several representations and several comparisons.\n",
    "\n",
    "Imagine that you are driving from work to home and listening to your favorite radio station. You just heard that there is a traffic accident on your route which will probably result in a delay for your arrival. Do you stay on this route or change to one that avoids the traffic? \n",
    "\n"
   ]
  },
  {
   "cell_type": "code",
   "execution_count": null,
   "metadata": {
    "hide_input": false,
    "scrolled": true,
    "tags": [
     "Hide",
     "Init"
    ]
   },
   "outputs": [],
   "source": [
    "item_layout = Layout(height='90px', min_width='200px',align_items='center',\n",
    "                    border='solid')\n",
    "button1 = Button(description=\"Stay\", layout=item_layout)\n",
    "button2 = Button(description=\"Alternative Route\", layout=item_layout)\n",
    "Box = HBox([button1, button2])\n",
    "b1 = '''\n",
    "Changes can be scary sometimes but not in this situation. \\nTraffic congestions affect your health! Alternative route enables you to detour and \\navoid the accident caused traffic jam, plus it is a spatial decision!\n",
    "'''\n",
    "b2 = '''\n",
    "Great!  You made a spatial decision by selecting another alternative which enables you \\nto detour and avoid the accident caused traffic jam. \n",
    "'''\n",
    "def on_click(b):\n",
    "    clear_output()\n",
    "    display(Box)\n",
    "    if b.description == 'Stay':\n",
    "        return print(b1)\n",
    "    else:\n",
    "        return print(b2)\n",
    "\n",
    "button1.on_click(on_click)\n",
    "button2.on_click(on_click)\n",
    "display(Box)"
   ]
  },
  {
   "cell_type": "markdown",
   "metadata": {
    "slideshow": {
     "scrolled": true,
     "slide_type": "slide"
    }
   },
   "source": [
    "## Let's see if you were paying attention!\n",
    "Which one of the following is an example of spatial reasoning?\n",
    "<table>\n",
    "    <tr style=\"background: #fff; text-align: left; vertical-align:\">\n",
    "        <td style=\"background: #fff; text-align: left; vertical-align: top;\">A: Brooke would like to get a new sofa, and this will result in rearranging the furniture in their home. Brooke needs to evaluate its size first to better plan the new layout.</td>\n",
    "        <td style=\"background: #fff; text-align: left; vertical-align: top;\">B: Dr. Brown has 20 years’ experience in radiology. After examining their patient's X-ray, Dr. Brown can discern a tumor on the patient's brain.</td>\n",
    "    </tr>\n",
    "</table>\n"
   ]
  },
  {
   "cell_type": "code",
   "execution_count": null,
   "metadata": {
    "hide_input": false,
    "tags": [
     "Hide",
     "Init"
    ]
   },
   "outputs": [],
   "source": [
    "widget1 = widgets.RadioButtons(\n",
    "    options = ['A', 'B'],\n",
    "    description = 'Which one is an example of spatial reasoning? ', style={'description_width': 'initial'},\n",
    "    layout = Layout(width='100%'),\n",
    "    value = None\n",
    ")\n",
    "\n",
    "display(widget1)\n",
    "\n",
    "hourofci.SubmitBtn2(widget1)"
   ]
  },
  {
   "cell_type": "markdown",
   "metadata": {
    "slideshow": {
     "slide_type": "slide"
    }
   },
   "source": [
    "### B is an example of reasoning in spatial thinking!\n",
    "<ul>\n",
    "    <li>A is about knowing the space\n",
    "        <ul>\n",
    "            <li>In everyday life, we frequently evaluate the sizes of objects. Understanding size helps us distinguish, compare and evaluate the objects within its environment</li></ul>\n",
    "<li>B requires reasoning\n",
    "    <ul>\n",
    "        <li>Skilled radiologists examine huge volumes of X-rays daily and therefore become very good at recognizing patterns and noticing any peculiarities. Pattern recognition requires spatial reasoning.</li></ul>"
   ]
  },
  {
   "cell_type": "markdown",
   "metadata": {
    "slideshow": {
     "slide_type": "slide"
    }
   },
   "source": [
    "## Let’s start thinking spatially, shall we?\n",
    "\n",
    "Go to the next section to give spatial decision making a try!\n",
    "<bl>\n",
    "</p>\n",
    "\n",
    "<p>\n",
    "<p>\n",
    "<p>\n",
    "<font size=\"+1\"><a style=\"background-color:blue;color:white;padding:12px;margin:10px;font-weight:bold;\" href=\"st-3.ipynb\">Click here to move to the next segment</a></font>"
   ]
  }
 ],
 "metadata": {
  "kernelspec": {
   "display_name": "Python 3 (ipykernel)",
   "language": "python",
   "name": "python3"
  },
  "language_info": {
   "codemirror_mode": {
    "name": "ipython",
    "version": 3
   },
   "file_extension": ".py",
   "mimetype": "text/x-python",
   "name": "python",
   "nbconvert_exporter": "python",
   "pygments_lexer": "ipython3",
   "version": "3.7.16"
  },
  "rise": {
   "autolaunch": true,
   "overlay": "<div class='hciheader'></div><div class='hcifooter'></div>",
   "scroll": true
  }
 },
 "nbformat": 4,
 "nbformat_minor": 4
}
