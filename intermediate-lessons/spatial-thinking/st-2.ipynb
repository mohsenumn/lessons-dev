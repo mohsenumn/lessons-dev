{
 "cells": [
  {
   "cell_type": "markdown",
   "metadata": {
    "hide_input": true,
    "slideshow": {
     "slide_type": "slide"
    }
   },
   "source": [
    "## Introduction to Spatial Thinking\n",
    "### Part 1 of 3\n",
    "# What is Special about Spatial Thinking?"
   ]
  },
  {
   "cell_type": "markdown",
   "metadata": {
    "slideshow": {
     "slide_type": "slide"
    }
   },
   "source": [
    "## Thank you for helping our study\n",
    "\n",
    "\n",
    "<a href=\"#/slide-1-0\" class=\"navigate-right\" style=\"background-color:blue;color:white;padding:8px;margin:2px;font-weight:bold;\">Continue with the lesson</a>\n",
    "\n",
    "Throughout this lesson you will see reminders, like the one below, to ensure that all participants understand that they are in a voluntary research study.\n",
    "\n",
    "### Reminder\n",
    "\n",
    "<font size=\"+1\">\n",
    "\n",
    "By continuing with this lesson you are granting your permission to take part in this research study for the Hour of Cyberinfrastructure: Developing Cyber Literacy for GIScience project. In this study, you will be learning about cyberinfrastructure and related concepts using a web-based platform that will take approximately one hour per lesson. Participation in this study is voluntary.\n",
    "\n",
    "Participants in this research must be 18 years or older. If you are under the age of 18 then please exit this webpage or navigate to another website such as the Hour of Code at https://hourofcode.com, which is designed for K-12 students.\n",
    "\n",
    "If you are not interested in participating please exit the browser or navigate to this website: http://www.umn.edu. Your participation is voluntary and you are free to stop the lesson at any time.\n",
    "\n",
    "For the full description please navigate to this website: <a href=\"../../gateway-lesson/gateway/gateway-1.ipynb\">Gateway Lesson Research Study Permission</a>.\n",
    "\n",
    "</font>"
   ]
  },
  {
   "cell_type": "code",
   "execution_count": null,
   "metadata": {
    "hide_input": true,
    "init_cell": true,
    "slideshow": {
     "slide_type": "skip"
    },
    "tags": [
     "Hide"
    ]
   },
   "outputs": [],
   "source": [
    "# This code cell starts the necessary setup for Hour of CI lesson notebooks.\n",
    "# First, it enables users to hide and unhide code by producing a 'Toggle raw code' button below.\n",
    "# Second, it imports the hourofci package, which is necessary for lessons and interactive Jupyter Widgets.\n",
    "# Third, it helps hide/control other aspects of Jupyter Notebooks to improve the user experience\n",
    "# This is an initialization cell\n",
    "# It is not displayed because the Slide Type is 'Skip'\n",
    "\n",
    "from IPython.display import HTML, IFrame, Javascript, display, clear_output\n",
    "from ipywidgets import interactive, Textarea, HBox, Button, Layout\n",
    "import ipywidgets as widgets\n",
    "from ipywidgets import Layout\n",
    "\n",
    "import getpass # This library allows us to get the username (User agent string)\n",
    "\n",
    "# import package for hourofci project\n",
    "import sys\n",
    "sys.path.append('../../supplementary') # relative path (may change depending on the location of the lesson notebook)\n",
    "import hourofci\n",
    "\n",
    "import warnings\n",
    "warnings.filterwarnings('ignore') # Hide warnings\n",
    "\n",
    "# load javascript to initialize/hide cells, get user agent string, and hide output indicator\n",
    "# hide code by introducing a toggle button \"Toggle raw code\"\n",
    "# HTML(''' \n",
    "#     <script type=\"text/javascript\" src=\\\"../../supplementary/js/custom.js\\\"></script>\n",
    "    \n",
    "#     <input id=\"toggle_code\" type=\"button\" value=\"Toggle raw code\">\n",
    "# ''')\n",
    "\n",
    "HTML(''' \n",
    "    <script type=\"text/javascript\" src=\\\"../../supplementary/js/custom.js\\\"></script>\n",
    "    \n",
    "    <style>\n",
    "        .output_prompt{opacity:0;}\n",
    "    </style>\n",
    "    \n",
    "    <input id=\"toggle_code\" type=\"button\" value=\"Toggle raw code\">\n",
    "''')\n"
   ]
  },
  {
   "cell_type": "markdown",
   "metadata": {
    "slideshow": {
     "scrolled": true,
     "slide_type": "slide"
    }
   },
   "source": [
    "### What Is Special About Spatial Thinking in Decision Making?\n",
    "\n",
    "<table>\n",
    "    <tr style=\"background: #fff; text-align: left; vertical-align:\">\n",
    "        <td style=\"background: #fff; text-align: left; font-size: 23px;\">\n",
    "            We make decisions every day, and most of the time they are based on location! Some decisions are simple and have only short-term effects on our lives such as “Where will I eat lunch today? \" (unless you meet your favorite scientist during lunch, then it will become a huge life-time event!).\n",
    "</td>\n",
    "     <td style=\"width: 50%; background: #fff; text-align: left; vertical-align: top;\"> <img src='supplementary/s_decision2.png' width=\"500\" height=\"700\" alt='map'></td>\n",
    "    </tr>\n",
    "</table>\n",
    "\n",
    "<table>\n",
    "    <font style=\"background: #fff; text-align: left; font-size: 23px;\">\n",
    "Other decisions such as \" What is the most energy efficient way to go from my home to the campus? \" have a greater and more lasting impact on our environment.shape\n",
    "So, since we are already having some experience in decision making, shall we learn how we can make it more efficient and more fun?\n",
    "</font>\n",
    "</table>\n"
   ]
  },
  {
   "cell_type": "markdown",
   "metadata": {
    "slideshow": {
     "scrolled": true,
     "slide_type": "slide"
    }
   },
   "source": [
    "## Spatial Thinking\n",
    "\n",
    "<table>\n",
    "    <tr style=\"background: #fff; text-align: left; vertical-align:\">\n",
    "        <td style=\"background: #fff; text-align: left; font-size: 23px;\">\n",
    "            <ul>\n",
    "    <li>According to the <a href=\"https://www.nap.edu/catalog/11019/learning-to-think-spatially\">National Research Council of the National Academies</a> in the USA, spatial thinking is <b>\"a collection of cognitive skills.\"</b></li>\n",
    "    <li>These skills enable us to <b>understand the space, express the relationships within the space</b>, and <b>process of reasoning.</b></li>\n",
    "</ul>\n",
    "</td>\n",
    "        <td style=\"width: 50%; background: #fff; text-align: left; vertical-align: top;\"> <img src='supplementary/lego.jpg' width=\"300\" alt='map'></td>\n",
    "    </tr>\n",
    "</table>\n",
    "<ul style=\"background: #fff; text-align: left; font-size: 23px;\">\n",
    "     <li>We can understand the dimension, continuity, proximity, and separation since the early ages of our lives! Remember the toys that you were playing as a kid where you find the shapes and put them into the right holes?</li>\n",
    "     <li><b>Understanding the space and expressing the relationships with the space</b> helped you to find answers and communicate solutions in a simple block game!</li>\n",
    "</ul>\n",
    "   "
   ]
  },
  {
   "cell_type": "markdown",
   "metadata": {
    "slideshow": {
     "scrolled": true,
     "slide_type": "slide"
    }
   },
   "source": [
    "<table>\n",
    "    <tr style=\"background: #fff; text-align: left; vertical-align:\">\n",
    "      <td style=\"background: #fff; text-align: left; font-size: 23px;\">\n",
    "We are also good at <b>reasoning</b> as human beings (and this is still the main point computers can't do) and this ability helps us to recognize, interpret, and understand the spatial patterns, distributions, and relationships. Maps are powerful tools to represent these patterns and relationships and help us to develop spatial awareness.\n",
    "</td>\n",
    "     <td style=\"width: 50%; background: #fff; text-align: left; vertical-align: top;\"> <img src='supplementary/reasoning_map.png' width=\"500\" height=\"700\" alt='map'></td>\n",
    "    </tr>\n",
    "</table>\n"
   ]
  },
  {
   "cell_type": "markdown",
   "metadata": {
    "slideshow": {
     "scrolled": true,
     "slide_type": "slide"
    }
   },
   "source": [
    "# Space, Representation, and Reasoning"
   ]
  },
  {
   "cell_type": "markdown",
   "metadata": {
    "slideshow": {
     "scrolled": true,
     "slide_type": "-"
    }
   },
   "source": [
    "## Space\n",
    "We describe <b>space</b> with various metrics, such as different measuring units, coordinate systems, and nature of the space (i.e., number of dimensions, recognizing patterns, shapes, and configurations). \n",
    "\n",
    "For example, we know there are different ways to calculate the distance between our home and our work. The distance can be based on measurement units (e.g., miles or kilometers), or we might simply define the distance based on the travel time.\n"
   ]
  },
  {
   "cell_type": "markdown",
   "metadata": {
    "slideshow": {
     "scrolled": true,
     "slide_type": "slide"
    }
   },
   "source": [
    "## Representation\n",
    "Knowing about <b>representation</b> is linked with understanding the effect of space. If you take a look at two world maps below (one designed using Mercator map projection and one designed using equal-area map projection) ; do you notice anything peculiar about the size of Africa?\n",
    "<table>\n",
    "    <tr style=\"background: #fff; text-align: left; vertical-align: top;\">\n",
    "        <td style=\"width: 20%; background: #fff; text-align: left; vertical-align: top;\"> <img src='supplementary/rep_right.png' >\n",
    "        </td>\n",
    "        <td style=\"width: 20%; background: #fff; text-align: left; vertical-align: top;\"> <img src='supplementary/rep_left.png' >\n",
    "        </td>\n",
    "    </tr>\n",
    "</table>\n",
    "\n"
   ]
  },
  {
   "cell_type": "markdown",
   "metadata": {
    "slideshow": {
     "scrolled": true,
     "slide_type": "slide"
    }
   },
   "source": [
    "<font style=\"background: #fff; text-align: left; font-size: 23px;\">The size of Africa differs noticeably from one map to another.  Selected map projection affects the spatial representation.</font>\n",
    "\n",
    "<table>\n",
    "    <tr style=\"background: #fff; text-align: left; vertical-align:\">\n",
    "        <td style=\"background: #fff; text-align: left; font-size: 23px;\">The size of Africa differs noticeably from one map to another.  Selected map projection affects the spatial representation.\n",
    "<br/>\n",
    "<br/>\n",
    "Map design has a lot of power in terms of representations such as visual hierarchy, figure-ground, proximity, and closure. \n",
    "<br/>\n",
    "<br/>\n",
    "Here is an example of figure-ground representation, where Ireland is seen as the “figure” and the surrounding ocean as the “background”.  \n",
    "<br/>\n",
    "<br/>\n",
    "These are all related to how we perceive the representation within space. \n",
    "</td>\n",
    "        <td style=\"width: 50%; background: #fff; text-align: left; vertical-align: top;\"> <img src='supplementary/ireland.png' width=\"700\" height=\"900\" alt='map'></td>\n",
    "    </tr>\n",
    "</table>"
   ]
  },
  {
   "cell_type": "markdown",
   "metadata": {
    "slideshow": {
     "scrolled": true,
     "slide_type": "slide"
    }
   },
   "source": [
    "## Reasoning\n",
    "\n",
    "Finally, thinking spatially requires reasoning such as solving geometric analogies, developing relativity theory, or pattern recognition. Spatial reasoning often uses several representations and several comparisons.\n",
    "\n",
    "Imagine that you are driving from work to home and listening to your favorite radio station. You just heard that there is a traffic accident on your route which will probably result in a delay for your arrival. Do you stay on this route that avoids the traffic? \n",
    "\n"
   ]
  },
  {
   "cell_type": "code",
   "execution_count": null,
   "metadata": {
    "hide_input": false,
    "tags": [
     "Hide",
     "Init"
    ]
   },
   "outputs": [],
   "source": [
    "item_layout = Layout(height='90px', min_width='200px',align_items='center',\n",
    "                    border='solid')\n",
    "button1 = Button(description=\"Stay\", layout=item_layout)\n",
    "button2 = Button(description=\"Alternative Route\", layout=item_layout)\n",
    "Box = HBox([button1, button2])\n",
    "b1 = '''\n",
    "Changes can be scary sometimes but not in this situation. Traffic congestions affect your health! Alternative route enables you to detour and avoid the accident caused traffic jam, plus it is a spatial decision!\n",
    "'''\n",
    "b2 = '''\n",
    "Great!  You made a spatial decision by selecting another alternative which enables you to detour and avoid the accident caused traffic jam. \n",
    "'''\n",
    "def on_click(b):\n",
    "    clear_output()\n",
    "    display(Box)\n",
    "    if b.description == 'Stay':\n",
    "        return print(b1)\n",
    "    else:\n",
    "        return print(b2)\n",
    "\n",
    "button1.on_click(on_click)\n",
    "button2.on_click(on_click)\n",
    "display(Box)"
   ]
  },
  {
   "cell_type": "markdown",
   "metadata": {},
   "source": [
    "(National Research Council. 2006. Learning to Think Spatially. Washington, DC: The National Academies Press. <a href=\"https://doi.org/10.17226/11019\">https://doi.org/10.17226/11019</a>.)"
   ]
  },
  {
   "cell_type": "markdown",
   "metadata": {
    "slideshow": {
     "scrolled": true,
     "slide_type": "slide"
    }
   },
   "source": [
    "## Assessment 1 \n",
    "Which one of the below is an example of spatial reasoning?\n",
    "<table>\n",
    "    <tr style=\"background: #fff; text-align: left; vertical-align:\">\n",
    "        <td style=\"background: #fff; text-align: left; vertical-align: top;\">A: Brooke would like to get a new sofa, and this will result in rearranging the furniture in their home. Brooke needs to evaluate its size first to better plan the new layout.</td>\n",
    "        <td style=\"background: #fff; text-align: left; vertical-align: top;\">B: Dr. Brown has 20 years’ experience in radiology. After examining their patient's X-ray, Dr. Brown can discern a tumor on the patient's brain.</td>\n",
    "    </tr>\n",
    "</table>\n"
   ]
  },
  {
   "cell_type": "code",
   "execution_count": null,
   "metadata": {
    "hide_input": false,
    "tags": [
     "Hide",
     "Init"
    ]
   },
   "outputs": [],
   "source": [
    "widget1 = widgets.RadioButtons(\n",
    "    options = ['A', 'B'],\n",
    "    description = 'Which one is an example of spatial reasoning? ', style={'description_width': 'initial'},\n",
    "    layout = Layout(width='100%'),\n",
    "    value = None\n",
    ")\n",
    "\n",
    "display(widget1)\n",
    "\n",
    "hourofci.SubmitBtn2(widget1)"
   ]
  },
  {
   "cell_type": "markdown",
   "metadata": {
    "slideshow": {
     "slide_type": "slide"
    }
   },
   "source": [
    "### B is an example of reasoning in spatial thinking!\n",
    "<ul>\n",
    "    <li>A is about knowing the space\n",
    "        <ul>\n",
    "            <li>In everyday life, we evaluate the sizes of objects. Understanding size helps us to knowing about space in spatial thinking to distinguish, compare and evaluate the objects within its environment</li></ul>\n",
    "<li>B requires reasoning\n",
    "    <ul>\n",
    "        <li>Skilled radiologists are seeing huge volumes of X-rays daily and therefore become good at recognizing patterns and notice any peculiarity. Pattern recognition requires spatial reasoning.</li></ul>"
   ]
  },
  {
   "cell_type": "markdown",
   "metadata": {
    "slideshow": {
     "slide_type": "slide"
    }
   },
   "source": [
    "Let’s start thinking spatially, shall we?\n",
    "* Let’s give a spatial decision making a try!\n",
    "\n",
    "<br/>\n",
    "<font size=\"+1\"><a style=\"background-color:blue;color:white;padding:12px;margin:10px;font-weight:bold;\" href=\"st-3.ipynb\">Click here to move to the next segment to learn more!</a></font>"
   ]
  }
 ],
 "metadata": {
  "celltoolbar": "Edit Metadata",
  "kernelspec": {
   "display_name": "Python 3",
   "language": "python",
   "name": "python3"
  },
  "language_info": {
   "codemirror_mode": {
    "name": "ipython",
    "version": 3
   },
   "file_extension": ".py",
   "mimetype": "text/x-python",
   "name": "python",
   "nbconvert_exporter": "python",
   "pygments_lexer": "ipython3",
   "version": "3.8.1"
  },
  "rise": {
   "autolaunch": true,
   "overlay": "<div class='hciheader'></div><div class='hcifooter'></div>",
   "scroll": true
  }
 },
 "nbformat": 4,
 "nbformat_minor": 4
}
