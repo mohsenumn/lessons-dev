{
 "cells": [
  {
   "cell_type": "markdown",
   "metadata": {
    "slideshow": {
     "slide_type": "slide"
    }
   },
   "source": [
    "## Intermediate Spatial Thinking\n",
    "\n",
    "### Segment 3 of 4\n",
    "# A real world example of spatial decision making"
   ]
  },
  {
   "cell_type": "code",
   "execution_count": 8,
   "metadata": {
    "hide_input": true,
    "init_cell": true,
    "slideshow": {
     "slide_type": "skip"
    },
    "tags": [
     "Hide"
    ]
   },
   "outputs": [
    {
     "data": {
      "text/html": [
       " \n",
       "    <script type=\"text/javascript\" src=\"../../supplementary/js/custom.js\"></script>\n",
       "    \n",
       "    <style>\n",
       "        .output_prompt{opacity:0;}\n",
       "    </style>\n",
       "    \n",
       "    <input id=\"toggle_code\" type=\"button\" value=\"Toggle raw code\">\n"
      ],
      "text/plain": [
       "<IPython.core.display.HTML object>"
      ]
     },
     "execution_count": 8,
     "metadata": {},
     "output_type": "execute_result"
    }
   ],
   "source": [
    "# This code cell starts the necessary setup for Hour of CI lesson notebooks.\n",
    "# First, it enables users to hide and unhide code by producing a 'Toggle raw code' button below.\n",
    "# Second, it imports the hourofci package, which is necessary for lessons and interactive Jupyter Widgets.\n",
    "# Third, it helps hide/control other aspects of Jupyter Notebooks to improve the user experience\n",
    "# This is an initialization cell\n",
    "# It is not displayed because the Slide Type is 'Skip'\n",
    "\n",
    "from IPython.display import HTML, IFrame, Javascript, display, clear_output\n",
    "from ipywidgets import interactive, Textarea, HBox, Button, Layout\n",
    "import ipywidgets as widgets\n",
    "from ipywidgets import Layout\n",
    "\n",
    "import getpass # This library allows us to get the username (User agent string)\n",
    "\n",
    "# import package for hourofci project\n",
    "import sys\n",
    "sys.path.append('../../supplementary') # relative path (may change depending on the location of the lesson notebook)\n",
    "import hourofci\n",
    "\n",
    "\n",
    "# load javascript to initialize/hide cells, get user agent string, and hide output indicator\n",
    "# hide code by introducing a toggle button \"Toggle raw code\"\n",
    "HTML(''' \n",
    "    <script type=\"text/javascript\" src=\\\"../../supplementary/js/custom.js\\\"></script>\n",
    "    \n",
    "    <style>\n",
    "        .output_prompt{opacity:0;}\n",
    "    </style>\n",
    "    \n",
    "    <input id=\"toggle_code\" type=\"button\" value=\"Toggle raw code\">\n",
    "''')"
   ]
  },
  {
   "cell_type": "markdown",
   "metadata": {
    "slideshow": {
     "slide_type": "slide"
    }
   },
   "source": [
    "## Reminder\n",
    "<a href=\"#/slide-2-0\" class=\"navigate-right\" style=\"background-color:blue;color:white;padding:8px;margin:2px;font-weight:bold;\">Continue with the lesson</a>\n",
    "\n",
    "<br>\n",
    "</br>\n",
    "<font size=\"+1\">\n",
    "\n",
    "By continuing with this lesson you are granting your permission to take part in this research study for the Hour of Cyberinfrastructure: Developing Cyber Literacy for GIScience project. In this study, you will be learning about cyberinfrastructure and related concepts using a web-based platform that will take approximately one hour per lesson. Participation in this study is voluntary.\n",
    "\n",
    "Participants in this research must be 18 years or older. If you are under the age of 18 then please exit this webpage or navigate to another website such as the Hour of Code at https://hourofcode.com, which is designed for K-12 students.\n",
    "\n",
    "If you are not interested in participating please exit the browser or navigate to this website: http://www.umn.edu. Your participation is voluntary and you are free to stop the lesson at any time.\n",
    "\n",
    "For the full description please navigate to this website: <a href=\"../../gateway-lesson/gateway/gateway-1.ipynb\">Gateway Lesson Research Study Permission</a>.\n",
    "\n",
    "</font>"
   ]
  },
  {
   "cell_type": "markdown",
   "metadata": {
    "slideshow": {
     "slide_type": "slide"
    }
   },
   "source": [
    "## Land Use Suitability example\n",
    "\n",
    "Let's look at a Land Use Suitability example taken from <a href=\"https://link.springer.com/article/10.1007/s00477-018-1535-z\">Şalap-Ayça and Jankowski (2008)</a>*. \n",
    "\n",
    "In the United States, the Conservation Reserve Program (CRP) executes land use evaluation and <b>improves conservation by renting highly erodible cropland</b> or <b>other environmentally sensitive acreage</b> from farmers and ensuring plantation of species that <b>will improve environmental quality</b>.\n",
    "\n",
    "<small>*Şalap-Ayça, S., Jankowski, P. Analysis of the influence of parameter and scale uncertainties on a local multi-criteria land use evaluation model. Stoch Environ Res Risk Assess 32, 2699–2719 (2018). https://doi.org/10.1007/s00477-018-1535-z</small>"
   ]
  },
  {
   "cell_type": "markdown",
   "metadata": {
    "slideshow": {
     "slide_type": "slide"
    }
   },
   "source": [
    "CRP is achieved by a score based system called the <b>Environmental Benefit Index</b>. This index is based on five environmental factors, which are <b>wildlife, water quality, erosion, enduring benefits, and air quality</b>. Each factor can have different levels of preference depending on the decision makers and the decision goal. You can read more about the Environmental Benefit Index criteria on the CRP factsheet <a href=\"https://www.fsa.usda.gov/Assets/USDA-FSA-Public/usdafiles/FactSheets/archived-fact-sheets/crp-56th-ebi-fact-sheet-jan-2021.pdf\">here.</a>\n",
    "\n",
    "<table>\n",
    "    <tr style=\"background: #fff; text-align: left; vertical-align:\">\n",
    "        <td style=\"background: #fff; text-align: left; font-size: 20px;\">\n",
    "After a preference level is assigned to each factor, they are combined into a single overall score. \n",
    "\n",
    "When the <b>overall score</b> is higher than the predetermined threshold value, the land unit is left uncultivated for a specified period. \n",
    "        </td>\n",
    "        <td style=\"width: 70%; background: #fff; text-align: left; vertical-align: top;\"> <img src='supplementary/ebi.png' alt='map'>\n",
    "        </td>\n",
    "   </tr>\n",
    "</table>\n",
    "\n"
   ]
  },
  {
   "cell_type": "markdown",
   "metadata": {
    "slideshow": {
     "slide_type": "slide"
    }
   },
   "source": [
    "Even though the benefits of CRP have been observed for over 30 years, unfortunately due to fiscal limitations, only the most qualified land units are selected for incentive payments. \n",
    "\n",
    "Therefore, the overall objective becomes to define the most qualified areas that will maximize the conservation benefits by considering the multiple factors together with their varying preferences. This makes the EBI a typical example of a multi-criteria decision-making problem. \n",
    "\n",
    "Let's see how we can apply our generic recipe steps on this real case study."
   ]
  },
  {
   "cell_type": "markdown",
   "metadata": {
    "slideshow": {
     "slide_type": "slide"
    }
   },
   "source": [
    "### How many criteria do we have?"
   ]
  },
  {
   "cell_type": "code",
   "execution_count": 9,
   "metadata": {
    "hide_input": true,
    "tags": [
     "Hide",
     "Init"
    ]
   },
   "outputs": [
    {
     "data": {
      "application/vnd.jupyter.widget-view+json": {
       "model_id": "55c63012cd2f473889b45c69a4ec5100",
       "version_major": 2,
       "version_minor": 0
      },
      "text/plain": [
       "RadioButtons(layout=Layout(display='flex', justify_content='flex-start', width='100%'), options=(2, 5, 7), sty…"
      ]
     },
     "metadata": {},
     "output_type": "display_data"
    },
    {
     "data": {
      "application/vnd.jupyter.widget-view+json": {
       "model_id": "1363093da2ae46d09a1f838434bf6623",
       "version_major": 2,
       "version_minor": 0
      },
      "text/plain": [
       "Button(description='Submit', icon='check', layout=Layout(height='auto', width='auto'), style=ButtonStyle())"
      ]
     },
     "metadata": {},
     "output_type": "display_data"
    },
    {
     "data": {
      "application/vnd.jupyter.widget-view+json": {
       "model_id": "3de179a3f14a4df9a74410e07e64c3a5",
       "version_major": 2,
       "version_minor": 0
      },
      "text/plain": [
       "Output()"
      ]
     },
     "metadata": {},
     "output_type": "display_data"
    }
   ],
   "source": [
    "widget1 = widgets.RadioButtons(\n",
    "    options = [2,5,7],\n",
    "    description = '', style={'description_width': 'initial'},\n",
    "    layout = Layout(width='100%',display=\"flex\", justify_content=\"flex-start\"),\n",
    "    value = None\n",
    ")\n",
    "\n",
    "display(widget1)\n",
    "def out1():\n",
    "    return print('There are 5 Environmental Benefit Criteria ; wildlife, water quality, erosion, enduring benefits, air quality.')\n",
    "\n",
    "hourofci.SubmitBtn2(widget1, out1)\n"
   ]
  },
  {
   "cell_type": "markdown",
   "metadata": {
    "slideshow": {
     "slide_type": "-"
    }
   },
   "source": [
    "### What are the alternatives in this problem?\n"
   ]
  },
  {
   "cell_type": "code",
   "execution_count": 10,
   "metadata": {
    "hide_input": true,
    "tags": [
     "Hide",
     "Init"
    ]
   },
   "outputs": [
    {
     "data": {
      "application/vnd.jupyter.widget-view+json": {
       "model_id": "c27876a38c65405499ab8b1e3eee33b7",
       "version_major": 2,
       "version_minor": 0
      },
      "text/plain": [
       "RadioButtons(layout=Layout(display='flex', justify_content='flex-start', width='100%'), options=('EBI Score', …"
      ]
     },
     "metadata": {},
     "output_type": "display_data"
    },
    {
     "data": {
      "application/vnd.jupyter.widget-view+json": {
       "model_id": "6b9be7a60a034f2b836e5611a5a921dd",
       "version_major": 2,
       "version_minor": 0
      },
      "text/plain": [
       "Button(description='Submit', icon='check', layout=Layout(height='auto', width='auto'), style=ButtonStyle())"
      ]
     },
     "metadata": {},
     "output_type": "display_data"
    },
    {
     "data": {
      "application/vnd.jupyter.widget-view+json": {
       "model_id": "180b78d74cdd4883b8688888ecfa6995",
       "version_major": 2,
       "version_minor": 0
      },
      "text/plain": [
       "Output()"
      ]
     },
     "metadata": {},
     "output_type": "display_data"
    }
   ],
   "source": [
    "widget2 = widgets.RadioButtons(\n",
    "    options = ['EBI Score','Parcel of agricultural land units'],\n",
    "    description = '', style={'description_width': 'initial'},\n",
    "    layout = Layout(width='100%',display=\"flex\", justify_content=\"flex-start\"),\n",
    "    value = None\n",
    ")\n",
    "\n",
    "display(widget2)\n",
    "def out2():\n",
    "    return print('Parcels of Land / Agricultural Land units are the alternatives in this spatial problem. We are trying to understand which one is the best alternative among all! EBI Score is the overall score / comparison metric that we are going to use for decision making.')\n",
    " \n",
    "hourofci.SubmitBtn2(widget2, out2)\n",
    "\n"
   ]
  },
  {
   "cell_type": "markdown",
   "metadata": {
    "slideshow": {
     "slide_type": "-"
    }
   },
   "source": [
    "### What is the objective?\n",
    "\n"
   ]
  },
  {
   "cell_type": "code",
   "execution_count": 11,
   "metadata": {
    "hide_input": true,
    "scrolled": false,
    "tags": [
     "Hide",
     "Init"
    ]
   },
   "outputs": [
    {
     "data": {
      "application/vnd.jupyter.widget-view+json": {
       "model_id": "b7d981f4f23a4fafb714ebcfe3003c21",
       "version_major": 2,
       "version_minor": 0
      },
      "text/plain": [
       "RadioButtons(layout=Layout(display='flex', justify_content='flex-start', width='100%'), options=('The higher t…"
      ]
     },
     "metadata": {},
     "output_type": "display_data"
    },
    {
     "data": {
      "application/vnd.jupyter.widget-view+json": {
       "model_id": "f798cd9c5e6242e3b7aa40a2fa0d6093",
       "version_major": 2,
       "version_minor": 0
      },
      "text/plain": [
       "Button(description='Submit', icon='check', layout=Layout(height='auto', width='auto'), style=ButtonStyle())"
      ]
     },
     "metadata": {},
     "output_type": "display_data"
    },
    {
     "data": {
      "application/vnd.jupyter.widget-view+json": {
       "model_id": "cb9fdee56899410892b2b9fab4f56c1c",
       "version_major": 2,
       "version_minor": 0
      },
      "text/plain": [
       "Output()"
      ]
     },
     "metadata": {},
     "output_type": "display_data"
    }
   ],
   "source": [
    "widget3 = widgets.RadioButtons(\n",
    "    options = ['The higher the EBI score, the higher the level of acceptance of the land unit.','The lower the EBI score, the higher the level of acceptance of the land unit.'],\n",
    "    description = '', style={'description_width': 'initial'},\n",
    "    layout = Layout(width='100%',display=\"flex\", justify_content=\"flex-start\"),\n",
    "    value = None\n",
    ")\n",
    "\n",
    "\n",
    "display(widget3)\n",
    "def out3():\n",
    "    return print('The higher the EBI score, the higher the level of acceptance of the land unit. Therefore, our objective is to maximize the EBI score.')\n",
    "\n",
    "hourofci.SubmitBtn2(widget3, out3)\n",
    "\n"
   ]
  },
  {
   "cell_type": "markdown",
   "metadata": {
    "slideshow": {
     "slide_type": "slide"
    }
   },
   "source": [
    "### Recipe Step 1 : Define the set of evaluation criteria (map layers)\n",
    "Evaluation Criteria are:\n",
    "\n",
    "<ol>\n",
    "    <li>\n",
    "Wildlife (N1)\n",
    "    </li>\n",
    "    <li>\n",
    "Water Quality (N2)\n",
    "    </li>\n",
    "    <li>\n",
    "Erosion (N3)\n",
    "    </li>\n",
    "    <li>\n",
    "Enduring Benefits (N4)\n",
    "    </li>\n",
    "    <li>\n",
    "Air quality (N5)\n",
    "    </li>\n",
    "</ol>\n"
   ]
  },
  {
   "cell_type": "markdown",
   "metadata": {
    "slideshow": {
     "slide_type": "slide"
    }
   },
   "source": [
    "Our study area is a region in Southwest Michigan. Run the following code to see the six counties of study area. Feel free to change the zoom level (any interger from 1 to 20) or the county coordinates to zoom to each one of them."
   ]
  },
  {
   "cell_type": "code",
   "execution_count": null,
   "metadata": {
    "scrolled": true
   },
   "outputs": [],
   "source": [
    "Kalamazoo = [42.28859,-85.59085]\n",
    "Van_Burren = [42.259734,-86.017993]\n",
    "Allegan = [42.56750,-86.496409]\n",
    "Barry=[42.601672,-85.324375]\n",
    "Cass=[41.918696,-86.006148]\n",
    "St_Joseph=[42.105986,-86430845]\n",
    "\n",
    "from ipyleaflet import Map, basemaps\n",
    "\n",
    "Map(center = (Kalamazoo[0], Kalamazoo[1]), zoom = 8, min_zoom = 1, max_zoom = 20, \n",
    "    basemap=basemaps.Stamen.Terrain)\n"
   ]
  },
  {
   "cell_type": "markdown",
   "metadata": {
    "slideshow": {
     "slide_type": "slide"
    }
   },
   "source": [
    "### Check the data!\n",
    "\n",
    "Remember the <a href=\"https://www.fsa.usda.gov/Assets/USDA-FSA-Public/usdafiles/FactSheets/archived-fact-sheets/crp-56th-ebi-fact-sheet-jan-2021.pdf\"><b>CRP Fact Sheets?</b></a> That is where our data will be coming from. For each criteria we will use a previously compiled data set derived from publicly accessible data warehouses such as <a href=\"https://www.mrlc.gov/data?f%5B0%5D=category%3Aland%20cover\"> National Land Cover Database (NLCD)</a> and <a href=\"https://data.nal.usda.gov/dataset/gridded-soil-survey-geographic-database-gssurgo\"> Soil Survey Geographic Database </a>\n",
    "\n",
    "For this example, the five criteria map layers have been prepared in advance and are provided as rasters in ASCII files. Cell values indicate the existing quality of each environmental criterion in that location. Values can range from 0 to 100 for wildlife, water quality and erosion, from 0 to 50 for enduring benefits and from 0 to 45 for air quality. The higher the value, the higher the quality.\n",
    "\n",
    "It's good practice to begin by looking at the data you will use. So, next we'll visualize them as rasters and see what they look like, making sure they work as expected and appear to be correct."
   ]
  },
  {
   "cell_type": "markdown",
   "metadata": {
    "slideshow": {
     "slide_type": "slide"
    }
   },
   "source": [
    "We'll begin with the <b>wildlife (N1)</b> layer. Run the cell below. Note how the scale bar shows the range of values in the data."
   ]
  },
  {
   "cell_type": "code",
   "execution_count": null,
   "metadata": {
    "slideshow": {
     "slide_type": "-"
    }
   },
   "outputs": [],
   "source": [
    "import numpy as np\n",
    "import matplotlib.pyplot as plt\n",
    "\n",
    "nArray = np.loadtxt('supplementary/n1.txt', skiprows=6)\n",
    "\n",
    "plt.title('Wildlife')\n",
    "plt.imshow(nArray)\n",
    "plt.colorbar()\n",
    "plt.show()"
   ]
  },
  {
   "cell_type": "markdown",
   "metadata": {
    "slideshow": {
     "slide_type": "slide"
    }
   },
   "source": [
    "Now you can look at all the rest of the data by changing the file name and title in the following code. Here's the list:\n",
    "<ul>\n",
    "    <li>wildlife = n1.txt\n",
    "    <li>water quality = n2.txt\n",
    "    <li>erosion = n3.txt\n",
    "    <li>enduring benefits = n4.txt\n",
    "    <li>air quality = n5.txt\n",
    "</ul>"
   ]
  },
  {
   "cell_type": "code",
   "execution_count": null,
   "metadata": {},
   "outputs": [],
   "source": [
    "nArray = np.loadtxt('supplementary/n5.txt', skiprows=6)\n",
    "plt.title('Erosion')\n",
    "plt.imshow(nArray)\n",
    "plt.colorbar()\n",
    "plt.show()"
   ]
  },
  {
   "cell_type": "markdown",
   "metadata": {
    "slideshow": {
     "slide_type": "slide"
    }
   },
   "source": [
    "As you worked through the set of layers, did you notice anything strange about some of the color ranges? Two of them start at 0 and go up as expected, but three of them seem to start at 0 and go down to way past -8000. What's going on????\n",
    "\n",
    "What you're seeing is some \"no data\" values that have been set to -9999 and that pulls the legend way off. That's not data you want to analyse, so we need to eliminate these values from our analysis. We'll do that in the next step. "
   ]
  },
  {
   "cell_type": "markdown",
   "metadata": {
    "slideshow": {
     "slide_type": "slide"
    }
   },
   "source": [
    "## Recipe Step 2 : Standardize each criterion map layer\n",
    "In order to understand what standardization is and why we need it, let's check the maximum and minimum values of our data. The code below shows how to get the minimum and maximum for a single criterion. We'll start with N2, water quality. "
   ]
  },
  {
   "cell_type": "code",
   "execution_count": null,
   "metadata": {},
   "outputs": [],
   "source": [
    "n2Array = np.loadtxt(\"supplementary/n2.txt\", skiprows=6)\n",
    "\n",
    "n2max = n2Array.max() \n",
    "n2min = n2Array.min()\n",
    "\n",
    "print(\"The maximum of N2 is \" +str(n2max)+ \" and the minimum is \" +str(n2min))"
   ]
  },
  {
   "cell_type": "markdown",
   "metadata": {
    "slideshow": {
     "slide_type": "fragment"
    }
   },
   "source": [
    "Yup, the minimum IS -9999. So, let's do that again after removing the \"no data\" values. "
   ]
  },
  {
   "cell_type": "code",
   "execution_count": null,
   "metadata": {
    "slideshow": {
     "slide_type": "slide"
    }
   },
   "outputs": [],
   "source": [
    "import numpy.ma as ma                                            ### NEW\n",
    "\n",
    "n2Array = np.loadtxt(\"supplementary/n2.txt\", skiprows=6)\n",
    "masked_n2Array = ma.masked_array(n2Array, mask=(n2Array==-9999)) ### UPDATED\n",
    "\n",
    "n2max = masked_n2Array.max() \n",
    "n2min = masked_n2Array.min()\n",
    "\n",
    "print(\"The maximum of N2 is \" +str(n2max)+ \" and the minimum is \"+str(n2min))"
   ]
  },
  {
   "cell_type": "markdown",
   "metadata": {
    "slideshow": {
     "slide_type": "fragment"
    }
   },
   "source": [
    "Good. Now we can write a loop so that you can get all the minimum and maximum values from all 5 criteria all at once."
   ]
  },
  {
   "cell_type": "code",
   "execution_count": null,
   "metadata": {
    "slideshow": {
     "slide_type": "slide"
    }
   },
   "outputs": [],
   "source": [
    "for i in range(1, 6):\n",
    "    nArray = np.loadtxt(\"supplementary/n\"+str(i)+\".txt\", skiprows=6) \n",
    "    masked_nArray = ma.masked_array(nArray, mask=(nArray==-9999)) ### UPDATED\n",
    "    nmax = masked_nArray.max() \n",
    "    nmin = masked_nArray.min() \n",
    "    print(\"Maximum of \"+str(i)+\"th criterion is :\" +str(nmax)+ \" and minimum of \"+str(i)+\"th criterion is : \"+str(nmin))\n"
   ]
  },
  {
   "cell_type": "markdown",
   "metadata": {
    "slideshow": {
     "slide_type": "slide"
    }
   },
   "source": [
    "Now as you have may have noticed we have various maxima. The value of the highest quality in each factor is different from the others. If we just add these up, our our final index value will be meaningless. After all, we can't add apples and oranges right? The criteria need to be <b>standardized</b> in order to make an addition operation. "
   ]
  },
  {
   "cell_type": "markdown",
   "metadata": {
    "slideshow": {
     "slide_type": "slide"
    }
   },
   "source": [
    "The standardization procedure involves <b>transforming the raw data</b> to <b>standardized scores</b>. First, the maximum and minimum value from the raw data layer needs to be determined (luckily we already did that!). Then following rules apply:\n",
    "\n",
    "If we need to <b>minimize</b> the criterion -  we take the difference between <b>maximum value</b> and the <b>cell value</b> and divide it by the <b>range</b> (difference between minimum and maximum)\n",
    "\n",
    "$$\n",
    "standardized value = \\frac{maximum- cell value}{range}\n",
    "$$\n",
    "\n",
    "If we need to <b>maximize</b> the criterion  -  we take the difference between the <b>cell value</b> and <b>minimum value</b> and divide it by the <b>range</b> (difference between minimum and maximum)\n",
    "\n",
    "$$\n",
    "standardized value = \\frac{cell value-minimum}{range}\n",
    "$$\n",
    "\n",
    "\n",
    "The major advantage of this procedure is that the scale of measurement varies precisely between 0 and 1 for each criterion. <b>The worst standardized score is always equal to 0, and the best score equals 1.0.</b>"
   ]
  },
  {
   "cell_type": "markdown",
   "metadata": {
    "slideshow": {
     "slide_type": "slide"
    }
   },
   "source": [
    "Given our analysis, we want to maximize all criteria. So, let's standardize the N1 factor."
   ]
  },
  {
   "cell_type": "code",
   "execution_count": null,
   "metadata": {
    "slideshow": {
     "slide_type": "-"
    }
   },
   "outputs": [],
   "source": [
    "n1Array = np.loadtxt(\"supplementary/n1.txt\", skiprows=6)\n",
    "\n",
    "masked_n1Array = ma.masked_array(n1Array,mask=(n1Array==-9999)) ### UPDATED\n",
    "n1max = masked_n1Array.max() \n",
    "n1min = masked_n1Array.min()\n",
    "\n",
    "nrange = n1max- n1min \n",
    "standardizedn1Array = (masked_n1Array - n1min)/nrange\n",
    "\n",
    "nstdmax = standardizedn1Array.max()\n",
    "nstdmin = standardizedn1Array.min()\n",
    "\n",
    "print(\"Standardized max is: \" +str(nstdmax)+ \" and standardized min is: \"+str(nstdmin))\n"
   ]
  },
  {
   "cell_type": "markdown",
   "metadata": {
    "slideshow": {
     "slide_type": "slide"
    }
   },
   "source": [
    "Now, let's loop that through all 5 factors in one code chunk. At the end of each loop, the standardized layer is stored as stdn#. We'll use these files later. "
   ]
  },
  {
   "cell_type": "code",
   "execution_count": null,
   "metadata": {
    "slideshow": {
     "slide_type": "-"
    }
   },
   "outputs": [],
   "source": [
    "for i in range(1, 6):\n",
    "    nArray = np.loadtxt(\"supplementary/n\"+str(i)+\".txt\", skiprows=6)\n",
    "    masked_nArray = ma.masked_array(nArray, mask=(nArray==-9999)) ### UPDATED\n",
    "    nmax = masked_nArray.max() \n",
    "    nmin = masked_nArray.min()\n",
    "\n",
    "    nrange = nmax- nmin \n",
    "    standardizednArray = (masked_nArray - nmin)/nrange\n",
    "    nstdmax = standardizednArray.max() \n",
    "    nstdmin = standardizednArray.min()\n",
    "    print(\"Standardized max is : \" +str(nstdmax)+ \" and standardized min is : \"+str(nstdmin)) \n",
    "    np. savetxt(\"supplementary/stdn\"+str(i)+\".txt\", standardizednArray, fmt='%1.3f', delimiter=' ')\n"
   ]
  },
  {
   "cell_type": "markdown",
   "metadata": {},
   "source": [
    "Now they are all ranging from 0 to 1 as we would like. Well done! Now we are ready for the next step."
   ]
  },
  {
   "cell_type": "markdown",
   "metadata": {
    "slideshow": {
     "slide_type": "slide"
    }
   },
   "source": [
    "### Recipe Step 3 : Determine the criterion weights to assign to each criterion\n",
    "Criterion weights tell us how relatively important one criterion is over the other. For example, if the decision makers decide that protecting wildlife is the most important among all, then that criterion takes the highest weight. \n",
    "\n",
    "In this analysis, individual criterion weights range from 0 to 1 such that the total of all weights must always equal 1. This is because there is always a trade off between criteria. \n",
    "\n",
    "There are various consensus building tools to decide the weights, such as Analytical Hierarchy Process, Fuzzy Aggregate, Ordered Weighted Average and Outranking/Concordance Methods. Google these terms if you want to know more. \n",
    "\n",
    "For this example, we will proceed with the following weights for each criterion:\n",
    "\n",
    "<center><img src='supplementary/criteriatable.png' width=\"300\" height=\"700\" alt='map'>\n"
   ]
  },
  {
   "cell_type": "markdown",
   "metadata": {
    "slideshow": {
     "slide_type": "slide"
    }
   },
   "source": [
    "By looking at these weights, we can tell that Wildlife, Water Quality, and Air Quality are considered slightly more important than Erosion and Enduring Benefits. Let’s see how we can reflect our preferences."
   ]
  },
  {
   "cell_type": "markdown",
   "metadata": {
    "slideshow": {
     "slide_type": "slide"
    }
   },
   "source": [
    "### Recipe Step 4: Construct the weighted standardized map layers by multiplying standardized map layers with their corresponding weights\n",
    "If you remember, we generated standardized layers and saved them. Now, it is time to construct the weighted standardized map layers. In Multi-Criteria Decision Making literature this method is referred to as <b>Simple Additive Method</b> or <b>Weighted Linear Combination</b>. \n",
    "One advantage of WLC is that the method can easily be implemented within the GIS environment using map algebra operations. And the formula is simple too!\n",
    "<p>\n",
    "\n",
    "<center>\n",
    "$$\n",
    "Weighted \\ standardized \\ layer = \\ criterion \\ weight \\times \\ criterion \\ value\n",
    "$$\n",
    "</center>\n",
    "\n",
    "So, let’s construct the weighted standardized N1 layer."
   ]
  },
  {
   "cell_type": "code",
   "execution_count": null,
   "metadata": {
    "slideshow": {
     "slide_type": "slide"
    }
   },
   "outputs": [],
   "source": [
    "W1 = 0.22 \n",
    "W2 = 0.22 \n",
    "W3 = 0.17 \n",
    "W4 = 0.17 \n",
    "W5 = 0.22\n",
    "C1 = np.loadtxt(\"supplementary/stdn5.txt\") \n",
    "C1 = ma.masked_array(C1, mask=(C1==-9999))  ### UPDATED\n",
    "weighted_std = W1*C1\n",
    "\n",
    "plt.title(\"Weighted Standard Value Map\")\n",
    "plt.imshow(weighted_std)\n",
    "plt.colorbar()\n",
    "plt.show()"
   ]
  },
  {
   "cell_type": "markdown",
   "metadata": {
    "slideshow": {
     "slide_type": "slide"
    }
   },
   "source": [
    "And here's the loop to construct all weighted standardized criteria map layers. Let's also visualize how these weighted surfaces change. Hint: if there is no scroll bar on the right when the maps are displayed, go back one slide and then forward to this. It will show up. "
   ]
  },
  {
   "cell_type": "code",
   "execution_count": null,
   "metadata": {
    "scrolled": true
   },
   "outputs": [],
   "source": [
    "# make the figure with subplots\n",
    "weight_list = [0.22, 0.22, 0.17, 0.17, 0.22]\n",
    "plt.figure(figsize=(20, 20))\n",
    "for i in range(1, len(weight_list)+1):\n",
    "  \n",
    "    C = np.loadtxt(\"supplementary/stdn\"+str(i)+\".txt\") \n",
    "    C = ma.masked_array(C, mask=(C==-9999))  ### UPDATED\n",
    "    weighted_std= weight_list[i-1]*C\n",
    "    plt.title(\"Weighted N\"+str(i-1))\n",
    "    plt.subplot(3,2,i)\n",
    "    plt.imshow(weighted_std)\n",
    "    plt.axis('off')\n",
    "    plt.colorbar()"
   ]
  },
  {
   "cell_type": "markdown",
   "metadata": {
    "slideshow": {
     "slide_type": "slide"
    }
   },
   "source": [
    "### Recipe Step 5: Generate the overall score for each alternative using add overlay operation on the weighted standardized map layers \n",
    "\n",
    "Now it is time to calculate overall scores.  Namely, we need to overlay and see where we have the maximum of all criteria. This operation is another basic algebraic operation: sum! \n",
    "\n",
    "<center>\n",
    "$$\n",
    "Overall \\ Score = \\sum_{}{weight \\times criteria \\ value}\n",
    "$$\n",
    "</center>\n",
    "\n",
    "∑ is a sum operator in mathematics. That means, we need to first multiply criterion value with criterion weight and repeat this for all criteria. Once we have the weighted layers, we need to sum them to get the total score.\n",
    "\n",
    "In the next slide see how we can sum all the weighted standardized layers to get an overall score.\n"
   ]
  },
  {
   "cell_type": "code",
   "execution_count": null,
   "metadata": {
    "scrolled": false,
    "slideshow": {
     "slide_type": "slide"
    }
   },
   "outputs": [],
   "source": [
    "weight_list = [0.22, 0.22, 0.17, 0.17, 0.22] \n",
    "overall = np.empty((1314,1308))\n",
    "\n",
    "for i in range(1, len(weight_list)+1):\n",
    "    C = np.loadtxt(\"supplementary/stdn\"+str(i)+\".txt\") \n",
    "    C = ma.masked_array(C, mask=(C==-9999)) \n",
    "    weighted_std= weight_list[i-1]*C\n",
    "    overall_mask= np.ma.mask_or(weighted_std, overall)\n",
    "    overall = weighted_std +overall                 #UPDATED\n",
    "     \n",
    "\n",
    "overall=overall.round(decimals=2)\n",
    "print(overall.max())\n",
    "ma.MaskedArray.max\n",
    "plt.title(\"Overall Score\")\n",
    "plt.imshow(overall)\n",
    "plt.colorbar()\n",
    "plt.show()\n"
   ]
  },
  {
   "cell_type": "markdown",
   "metadata": {
    "slideshow": {
     "slide_type": "slide"
    }
   },
   "source": [
    "### Recipe Step 6: Rank the alternatives according to their overall score: the highest score is the best alternative\n",
    "The final map seems promising but how are we going to decide which is best? Usually a ranking method is performed to get the optimum. Here since we don’t have a desired number of contiguous cells to select (i.e. the size of desired land units), we will just rank the cell values so that we can visualize where we have higher score clusters."
   ]
  },
  {
   "cell_type": "code",
   "execution_count": null,
   "metadata": {
    "slideshow": {
     "slide_type": "slide"
    }
   },
   "outputs": [],
   "source": [
    "from scipy.stats import rankdata\n",
    "ranked_overall = rankdata(overall, method='dense').reshape(overall.shape)\n",
    "#ranked_overall = rankdata(overall, method='dense', nan_policy='omit').reshape(overall.shape)\n",
    "#this can be uncommented once scipy is updated to 1.10.0\n",
    "plt.title(\"Overall Ranks of Pixels\")\n",
    "plt.imshow(ranked_overall)\n",
    "plt.colorbar()\n",
    "plt.show()\n"
   ]
  },
  {
   "cell_type": "markdown",
   "metadata": {},
   "source": [
    "Look at the legend and note what the maximum value is before going on to the next slide. "
   ]
  },
  {
   "cell_type": "markdown",
   "metadata": {
    "slideshow": {
     "slide_type": "slide"
    }
   },
   "source": [
    "The legend now shows the rank order of the overall scores which ranges from 1 to 152950. The code below gets the maximum rank number, the corresponding overall value of that cell and the location of that call. "
   ]
  },
  {
   "cell_type": "code",
   "execution_count": null,
   "metadata": {
    "scrolled": true
   },
   "outputs": [],
   "source": [
    "print (\"Maximum overall EBI Score is : %5.2f\" %(overall.max()))\n",
    "print(\"The EBI Scores range from \"+str(ranked_overall.min())+\" to \" +str(ranked_overall.max()))\n",
    "print(\"The best cell is located at row \" +str(np.argmax(np.max(ranked_overall, axis=1)))+ \" and column \" +\\\n",
    "     str(np.argmax(np.max(ranked_overall, axis=0))))\n",
    "print(\"And finally that cell's EBI Score is :  %5.2f\" %(overall[np.argmax(np.max(ranked_overall, axis=1))]\\\n",
    "                                                    [np.argmax(np.max(ranked_overall, axis=0))]))"
   ]
  },
  {
   "cell_type": "markdown",
   "metadata": {
    "slideshow": {
     "slide_type": "slide"
    }
   },
   "source": [
    "### Recipe Step 7: If you are satisfied, well-done! \n",
    "\n",
    "Now you can explore your results and see where the best places are. \n",
    "\n",
    "If this analysis were performed on a vector layer, the output might have been a single feature. \n",
    "\n",
    "In this raster analysis, you should start your exploratory analysis by observing where are the best scoring cells. Here, we can see the highest scoring cells are located in the left top corner of our study area. That means we can focus on the agricultural units located there next."
   ]
  },
  {
   "cell_type": "markdown",
   "metadata": {
    "slideshow": {
     "slide_type": "slide"
    }
   },
   "source": [
    "Now, go on to the <font size=\"+1\"><a style=\"background-color:blue;color:white;padding:12px;margin:10px;font-weight:bold;\" \n",
    "href=\"st-exploration.ipynb\">exploration segment</a></font> to try tweaking the code.\n",
    "\n",
    "\n"
   ]
  }
 ],
 "metadata": {
  "kernelspec": {
   "display_name": "Python 3 (ipykernel)",
   "language": "python",
   "name": "python3"
  },
  "language_info": {
   "codemirror_mode": {
    "name": "ipython",
    "version": 3
   },
   "file_extension": ".py",
   "mimetype": "text/x-python",
   "name": "python",
   "nbconvert_exporter": "python",
   "pygments_lexer": "ipython3",
   "version": "3.9.13"
  },
  "rise": {
   "autolaunch": true,
   "overlay": "<div class='hciheader'></div><div class='hcifooter'></div>",
   "scroll": true
  }
 },
 "nbformat": 4,
 "nbformat_minor": 4
}
