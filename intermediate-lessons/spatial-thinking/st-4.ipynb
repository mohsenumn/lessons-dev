{
 "cells": [
  {
   "cell_type": "markdown",
   "metadata": {
    "slideshow": {
     "slide_type": "slide"
    }
   },
   "source": [
    "### Spatial Thinking\n",
    "\n",
    "## Part 3 of 3\n",
    "# ..."
   ]
  },
  {
   "cell_type": "markdown",
   "metadata": {
    "slideshow": {
     "slide_type": "slide"
    }
   },
   "source": [
    "## Reminder\n",
    "<a href=\"#/slide-2-0\" class=\"navigate-right\" style=\"background-color:blue;color:white;padding:8px;margin:2px;font-weight:bold;\">Continue with the lesson</a>\n",
    "\n",
    "<br>\n",
    "</br>\n",
    "<font size=\"+1\">\n",
    "\n",
    "By continuing with this lesson you are granting your permission to take part in this research study for the Hour of Cyberinfrastructure: Developing Cyber Literacy for GIScience project. In this study, you will be learning about cyberinfrastructure and related concepts using a web-based platform that will take approximately one hour per lesson. Participation in this study is voluntary.\n",
    "\n",
    "Participants in this research must be 18 years or older. If you are under the age of 18 then please exit this webpage or navigate to another website such as the Hour of Code at https://hourofcode.com, which is designed for K-12 students.\n",
    "\n",
    "If you are not interested in participating please exit the browser or navigate to this website: http://www.umn.edu. Your participation is voluntary and you are free to stop the lesson at any time.\n",
    "\n",
    "For the full description please navigate to this website: <a href=\"../../gateway-lesson/gateway/gateway-1.ipynb\">Gateway Lesson Research Study Permission</a>.\n",
    "\n",
    "</font>"
   ]
  },
  {
   "cell_type": "code",
   "execution_count": null,
   "metadata": {
    "hide_input": true,
    "init_cell": true,
    "slideshow": {
     "slide_type": "skip"
    },
    "tags": [
     "Hide"
    ]
   },
   "outputs": [],
   "source": [
    "# This code cell starts the necessary setup for Hour of CI lesson notebooks.\n",
    "# First, it enables users to hide and unhide code by producing a 'Toggle raw code' button below.\n",
    "# Second, it imports the hourofci package, which is necessary for lessons and interactive Jupyter Widgets.\n",
    "# Third, it helps hide/control other aspects of Jupyter Notebooks to improve the user experience\n",
    "# This is an initialization cell\n",
    "# It is not displayed because the Slide Type is 'Skip'\n",
    "\n",
    "from IPython.display import HTML, IFrame, Javascript, display\n",
    "from ipywidgets import interactive\n",
    "import ipywidgets as widgets\n",
    "from ipywidgets import Layout\n",
    "import warnings\n",
    "import getpass # This library allows us to get the username (User agent string)\n",
    "\n",
    "# import package for hourofci project\n",
    "import sys\n",
    "sys.path.append('../../supplementary') # relative path (may change depending on the location of the lesson notebook)\n",
    "import hourofci\n",
    "\n",
    "\n",
    "# load javascript to initialize/hide cells, get user agent string, and hide output indicator\n",
    "# hide code by introducing a toggle button \"Toggle raw code\"\n",
    "HTML(''' \n",
    "    <script type=\"text/javascript\" src=\\\"../../supplementary/js/custom.js\\\"></script>\n",
    "    \n",
    "    <style>\n",
    "        .output_prompt{opacity:0;}\n",
    "    </style>\n",
    "    \n",
    "    <input id=\"toggle_code\" type=\"button\" value=\"Toggle raw code\">\n",
    "''')"
   ]
  },
  {
   "cell_type": "markdown",
   "metadata": {
    "slideshow": {
     "slide_type": "slide"
    }
   },
   "source": [
    "## Land-Use Suitability for Conservation Reserve  Program\n",
    "\n",
    "Let's look at a Land Use Suitability example taken from <a href=\"https://link.springer.com/article/10.1007/s00477-018-1535-z\">Şalap-Ayça and Jankowski (2008)</a>. \n",
    "\n",
    "In the United States, the Conservation Reserve Program (CRP) executes land use evaluation and <b>improves conservation by renting highly erodible cropland</b> or <b>other environmentally sensitive acreage</b> from farmers and ensuring plantation of species that <b>will improve environmental quality</b>."
   ]
  },
  {
   "cell_type": "markdown",
   "metadata": {
    "slideshow": {
     "slide_type": "slide"
    }
   },
   "source": [
    "CRP is achieved by a score based system called <b>Environmental Benefit Index</b>. It is based on five environmental factors, which are <b>wildlife,water quality, erosion, enduring benefits, and air quality</b>; and every factor with slightly different levels of preferences. \n",
    "\n",
    "\n",
    "<table>\n",
    "    <tr style=\"background: #fff; text-align: left; vertical-align:\">\n",
    "        <td style=\"background: #fff; text-align: left; font-size: 20px;\">\n",
    "So decision makers come up with different <b>preferences</b> for each criteria and they are combined into a single overall score. \n",
    "\n",
    "When the <b>overall score</b> has higher ranks for the predetermined threshold value for the enrollment period, the land unit is left uncultivated for that term. \n",
    "        </td>\n",
    "        <td style=\"width: 70%; background: #fff; text-align: left; vertical-align: top;\"> <img src='supplementary/ebi.png' alt='map'>\n",
    "        </td>\n",
    "   </tr>\n",
    "</table>\n",
    "\n"
   ]
  },
  {
   "cell_type": "markdown",
   "metadata": {
    "slideshow": {
     "slide_type": "slide"
    }
   },
   "source": [
    "Even though the benefits of CRP have been observed for over 30 years, unfortunately due to fiscal limitations, only the most qualified land units are selected for incentive payments. \n",
    "\n",
    "Therefore, the overall objective becomes to define the most qualified areas that will maximize the conservation benefits by considering the multiple factors together with their varying preferences; which makes the EBI a typical example of a multi-criteria decision-making problem. \n",
    "\n",
    "Let's see how we can apply our generic recipe steps on this real case study.\n",
    "\n",
    "Şalap-Ayça, S., Jankowski, P. Analysis of the influence of parameter and scale uncertainties on a local multi-criteria land use evaluation model. Stoch Environ Res Risk Assess 32, 2699–2719 (2018). https://doi.org/10.1007/s00477-018-1535-z.\n",
    "\n"
   ]
  },
  {
   "cell_type": "markdown",
   "metadata": {
    "slideshow": {
     "slide_type": "slide"
    }
   },
   "source": [
    "### How many criteria do we have?"
   ]
  },
  {
   "cell_type": "code",
   "execution_count": null,
   "metadata": {
    "hide_input": false,
    "tags": [
     "Hide",
     "Init"
    ]
   },
   "outputs": [],
   "source": [
    "widget1 = widgets.RadioButtons(\n",
    "    options = [2,5,7],\n",
    "    description = '', style={'description_width': 'initial'},\n",
    "    layout = Layout(width='100%',display=\"flex\", justify_content=\"flex-start\"),\n",
    "    value = None\n",
    ")\n",
    "\n",
    "display(widget1)\n",
    "def out():\n",
    "    return print('There are five criteria in our problem!')\n",
    "\n",
    "hourofci.SubmitBtn2(widget1, out)\n"
   ]
  },
  {
   "cell_type": "markdown",
   "metadata": {
    "slideshow": {
     "slide_type": "-"
    }
   },
   "source": [
    "### What are the alternatives in this problem?\n",
    "Answer : Parcels of Land / Agricultural Land units\n"
   ]
  },
  {
   "cell_type": "code",
   "execution_count": null,
   "metadata": {
    "hide_input": false,
    "tags": [
     "Hide",
     "Init"
    ]
   },
   "outputs": [],
   "source": [
    "widget2 = widgets.RadioButtons(\n",
    "    options = ['Option1','Parcels of Land / Agricultural Land units','Option3'],\n",
    "    description = '', style={'description_width': 'initial'},\n",
    "    layout = Layout(width='100%',display=\"flex\", justify_content=\"flex-start\"),\n",
    "    value = None\n",
    ")\n",
    "\n",
    "display(widget2)\n",
    "def out():\n",
    "    return print('The answer is Parcels of Land / Agricultural Land units')\n",
    "\n",
    "hourofci.SubmitBtn2(widget2, out)\n"
   ]
  },
  {
   "cell_type": "markdown",
   "metadata": {},
   "source": [
    "### What is the objective?\n",
    "\n"
   ]
  },
  {
   "cell_type": "code",
   "execution_count": null,
   "metadata": {
    "hide_input": false,
    "tags": [
     "Hide",
     "Init"
    ]
   },
   "outputs": [],
   "source": [
    "widget3 = widgets.RadioButtons(\n",
    "    options = ['The higher the EBI score, the higher the level of acceptance of the land unit.','Option2','Option3'],\n",
    "    description = '', style={'description_width': 'initial'},\n",
    "    layout = Layout(width='100%',display=\"flex\", justify_content=\"flex-start\"),\n",
    "    value = None\n",
    ")\n",
    "\n",
    "display(widget3)\n",
    "def out():\n",
    "    return print('The higher the EBI score, the higher the level of acceptance of the land unit.')\n",
    "\n",
    "hourofci.SubmitBtn2(widget3, out)\n"
   ]
  },
  {
   "cell_type": "markdown",
   "metadata": {
    "slideshow": {
     "slide_type": "slide"
    }
   },
   "source": [
    "### Recipe Step 1 : Define the set of evaluation criteria (map layers)\n",
    "Evaluation Criteria are:\n",
    "\n",
    "<ol>\n",
    "    <li>\n",
    "Wildlife\n",
    "    </li>\n",
    "    <li>\n",
    "Water Quality\n",
    "    </li>\n",
    "    <li>\n",
    "Erosion\n",
    "    </li>\n",
    "    <li>\n",
    "Enduring Benefits\n",
    "    </li>\n",
    "    <li>\n",
    "Air quality\n",
    "    </li>\n",
    "</ol>\n",
    "\n",
    "And for this example, let’s assume that all these layers are given as an ASCII file for us. Let’s visualize them and see what they look like.\n"
   ]
  },
  {
   "cell_type": "code",
   "execution_count": null,
   "metadata": {},
   "outputs": [],
   "source": [
    "import numpy as np\n",
    "import matplotlib.pyplot as plt\n",
    "\n",
    "nArray = np.loadtxt('supplementary/n1.txt', skiprows=6)\n",
    "\n",
    "plt.title('Wildlife')\n",
    "\n",
    "plt.imshow(nArray)\n",
    "plt.show()"
   ]
  },
  {
   "cell_type": "markdown",
   "metadata": {
    "slideshow": {
     "slide_type": "slide"
    }
   },
   "source": [
    "Can you change the file name to n5.txt so that you can check the Air Quality layer?"
   ]
  },
  {
   "cell_type": "code",
   "execution_count": null,
   "metadata": {},
   "outputs": [],
   "source": [
    "nArray = np.loadtxt('supplementary/n5.txt', skiprows=6)\n",
    "\n",
    "plt.title('Air Quality')\n",
    "\n",
    "plt.imshow(nArray)\n",
    "plt.show()"
   ]
  },
  {
   "cell_type": "markdown",
   "metadata": {},
   "source": [
    "Great! So we have all our criteria layers. Let’s move to the next step."
   ]
  },
  {
   "cell_type": "markdown",
   "metadata": {
    "slideshow": {
     "slide_type": "slide"
    }
   },
   "source": [
    "## Recipe Step 2 : Standardize each criterion map layer\n",
    "In order to understand what standardization is and why we need it, let's check the maximum and minimum values of each layer.\n",
    "\n",
    "For a single criterion notice how we can get minimum and maximum. Also, we have some no data values in this raster which is assigned as -9999. We are using the numpy mask function to eliminate -9999 becoming the minimum value.\n"
   ]
  },
  {
   "cell_type": "code",
   "execution_count": null,
   "metadata": {},
   "outputs": [],
   "source": [
    "n1Array = np.loadtxt(\"supplementary/n1.txt\", skiprows=6)\n",
    "masked_n1Array = np.ma.array(n1Array, mask=(n1Array==-9999)) \n",
    "\n",
    "n1max = masked_n1Array.max() \n",
    "n1min = masked_n1Array.min()\n",
    "\n",
    "print(\"Maximum of Wildlife criterion is :\" +str(n1max)+ \" and minimum of Wildlife criterion is : \"+str(n1min))\n"
   ]
  },
  {
   "cell_type": "markdown",
   "metadata": {},
   "source": [
    "Can you write a loop so that you can get all the minimum and maximum values from 5 criteria?\n",
    "\n",
    "We have done it for you in the next slide!"
   ]
  },
  {
   "cell_type": "code",
   "execution_count": null,
   "metadata": {
    "slideshow": {
     "slide_type": "slide"
    }
   },
   "outputs": [],
   "source": [
    "for i in range(1, 6):\n",
    "    nArray = np.loadtxt(\"supplementary/n\"+str(i)+\".txt\", skiprows=6) \n",
    "    masked_nArray = np.ma.array(nArray, mask=(nArray==-9999)) \n",
    "    nmax = masked_nArray.max() \n",
    "    nmin = masked_nArray.min() \n",
    "    print(\"Maximum of \"+str(i)+\"th criterion is :\" +str(nmax)+ \" and minimum of \"+str(i)+\"th criterion is : \"+str(nmin))\n"
   ]
  },
  {
   "cell_type": "markdown",
   "metadata": {},
   "source": [
    "Nice job!  Now as you have noticed we have various maxima. Namely when we say the maximum wildlife for a pixel, it is not the same value for air quality. After all, we can't add apples and oranges right? The criteria need to be standardized in order to make a further addition operation. "
   ]
  },
  {
   "cell_type": "markdown",
   "metadata": {
    "slideshow": {
     "slide_type": "slide"
    }
   },
   "source": [
    "The standardization procedure involves <b>transforming the raw data</b> to <b>standardized scores</b>. First, the maximum and minimum value from the raw data layer needs to be determined (luckily we already did that!). Then following rules apply:\n",
    "\n",
    "If we need to <b>minimize</b> the criterion  -  we take the difference between <b>maximum value</b> and the <b>cell value</b> and divide it by the <b>range</b> (difference between minimum and maximum).\n",
    "\n",
    "$$\n",
    "standardized value = \\frac{maximum- cell value}{range}\n",
    "$$\n",
    "\n",
    "If we need to <b>maximize</b> the criterion  -  we take the difference between the <b>cell value</b> and <b>minimum value</b> and divide it by the <b>range</b> (difference between minimum and maximum).\n",
    "\n",
    "$$\n",
    "standardized value = \\frac{cell value-minimum}{range}\n",
    "$$\n",
    "\n",
    "\n",
    "The major advantage of this procedure is that the scale of measurement varies precisely between 0 and 1 for each criterion. <b>The worst standardized score is always equal to 0, and the best score equals 1.0.</b>"
   ]
  },
  {
   "cell_type": "code",
   "execution_count": null,
   "metadata": {
    "slideshow": {
     "slide_type": "slide"
    }
   },
   "outputs": [],
   "source": [
    "n1Array = np.loadtxt(\"supplementary/n1.txt\", skiprows=6)\n",
    "\n",
    "masked_n1Array = np.ma.array(n1Array,mask=(n1Array==-9999)) \n",
    "n1max = masked_n1Array.max() \n",
    "n1min = masked_n1Array.min()\n",
    "\n",
    "nrange = n1max- n1min \n",
    "standardizedn1Array = (masked_n1Array - n1min)/nrange\n",
    "\n",
    "nstdmax = standardizedn1Array.max()\n",
    "nstdmin = standardizedn1Array.min()\n",
    "\n",
    "print(\"Standardized max is: \" +str(nstdmax)+ \" and standardized min is: \"+str(nstdmin))\n"
   ]
  },
  {
   "cell_type": "markdown",
   "metadata": {},
   "source": [
    "Can you write a loop so that you can standardize and save all standardized criteria values?\n",
    "\n",
    "We have done it for you in the next slide!"
   ]
  },
  {
   "cell_type": "code",
   "execution_count": null,
   "metadata": {
    "slideshow": {
     "slide_type": "slide"
    }
   },
   "outputs": [],
   "source": [
    "for i in range(1, 6):\n",
    "    nArray = np.loadtxt(\"supplementary/n\"+str(i)+\".txt\", skiprows=6)\n",
    "    masked_nArray = np.ma.array(nArray, mask=(nArray==-9999))\n",
    "    nmax = masked_nArray.max() \n",
    "    nmin = masked_nArray.min()\n",
    "\n",
    "    nrange = nmax- nmin \n",
    "    standardizednArray = (masked_nArray - nmin)/nrange\n",
    "    nstdmax = standardizednArray.max() \n",
    "    nstdmin = standardizednArray.min()\n",
    "    print(\"Standardized max is : \" +str(nstdmax)+ \" and standardized min is : \"+str(nstdmin)) \n",
    "    np. savetxt(\"supplementary/stdn\"+str(i)+\".txt\", standardizednArray, fmt='%1.3f', delimiter=' ')\n"
   ]
  },
  {
   "cell_type": "markdown",
   "metadata": {},
   "source": [
    "Well done! Now we are ready for the next step."
   ]
  },
  {
   "cell_type": "markdown",
   "metadata": {
    "slideshow": {
     "slide_type": "slide"
    }
   },
   "source": [
    "### Recipe Step 3 : Define the criterion weights (a.k.a relative importance) assigned to each criterion map\n",
    "Criterion weights tell us how relatively important one criterion is over the other. For example, if the decision makers consensus that the protecting wildlife is the most important among all, then that criterion takes the highest weight. Criteria weights range from 0 to 1 and no matter how we distribute our preference among criteria the weight sum always equals to 1. And this is because there is always a trade off between criteria. If you are preferring something over another, then the rate of the latter one would be inversely proportional.\n",
    "\n",
    "There are various consensus building tools to decide the weights (e.g. Analytical Hierarchy Process, Fuzzy Aggregate, Ordered Weighted Average, Outranking/Concordance Methods) however for this example we will proceed with the following weights for each criterion:\n",
    "\n",
    "<center><img src='supplementary/criteriatable.png' width=\"300\" height=\"700\" alt='map'>\n"
   ]
  },
  {
   "cell_type": "markdown",
   "metadata": {
    "slideshow": {
     "slide_type": "slide"
    }
   },
   "source": [
    "By looking at these weights, we can tell Wildlife , Water Quality, and Air Quality are considered slightly more important than Erosion and Enduring Benefits. Let’s see how we can reflect our preferences."
   ]
  },
  {
   "cell_type": "markdown",
   "metadata": {
    "slideshow": {
     "slide_type": "slide"
    }
   },
   "source": [
    "### Recipe Step 4: Construct the weighted standardized map layers - which means multiplying standardized map layers with their corresponding weights\n",
    "If you remember, we generated standardized layers and saved them. Now, it is time to construct the weighted standardized map layers. In Multi-Criteria Decision Making literature this method is referred to as <b>Simple Additive Method</b> or <b>Weighted Linear Combination</b>. \n",
    "One advantage of WLC is that the method can easily be implemented within the GIS environment using map algebra operations. And the formula is simple too!\n",
    "\n",
    "$$\n",
    "Weighted \\ standardized \\ layer = criterion \\ weight \\times criterion \\ value\n",
    "$$\n",
    "\n",
    "Let’s see how we can construct weighted standardized layers.\n"
   ]
  },
  {
   "cell_type": "code",
   "execution_count": null,
   "metadata": {},
   "outputs": [],
   "source": [
    "W1 = 0.22 \n",
    "W2 = 0.22 \n",
    "W3 = 0.17 \n",
    "W4 = 0.17 \n",
    "W5 = 0.22\n",
    "C1 = np.loadtxt(\"supplementary/stdn1.txt\") \n",
    "C1 = np.ma.array(C1, mask=(C1==-9999)) \n",
    "weighted_std = W1*C1"
   ]
  },
  {
   "cell_type": "markdown",
   "metadata": {
    "slideshow": {
     "slide_type": "slide"
    }
   },
   "source": [
    "Now it’s your turn to write a loop so that you can construct all weighted standardized criteria map layers."
   ]
  },
  {
   "cell_type": "code",
   "execution_count": null,
   "metadata": {},
   "outputs": [],
   "source": [
    "weight_list = [0.22, 0.22, 0.17, 0.17, 0.22]\n",
    "for i in range(1, len(weight_list)+1):\n",
    "    C = np.loadtxt(\"supplementary/stdn\"+str(i)+\".txt\") \n",
    "    C = np.ma.array(C, mask=(C==-9999)) \n",
    "    weighted_std= weight_list[i-1]*C\n"
   ]
  },
  {
   "cell_type": "markdown",
   "metadata": {
    "slideshow": {
     "slide_type": "slide"
    }
   },
   "source": [
    "### Recipe Step 5: Generate the overall score for each alternative using add overlay operation on the weighted standardized map layers \n",
    "\n",
    "Now it is time to calculate overall scores.  Namely, we need to overlay and see where we have the maximum of all criteria. This operation is another basic algebraic operation - sum! \n",
    "\n",
    "$$\n",
    "Overall \\ Score = \\sum_{}{weight \\times criteria \\ value}\n",
    "$$\n",
    "\n",
    "∑ is a sum operator in mathematics. That means, we need to first multiply criterion value with criterion weight and repeat this for all criteria. Once we have the weighted layers, we need to sum them to get the total score.\n",
    "\n",
    "In the next slide see how we can sum all the weighted standardized layers to get an overall score.\n"
   ]
  },
  {
   "cell_type": "code",
   "execution_count": null,
   "metadata": {
    "slideshow": {
     "slide_type": "slide"
    }
   },
   "outputs": [],
   "source": [
    "weight_list = [0.22, 0.22, 0.17, 0.17, 0.22] \n",
    "overall = np.empty((1314,1308))\n",
    "for i in range(1, len(weight_list)+1):\n",
    "    C = np.loadtxt(\"supplementary/stdn\"+str(i)+\".txt\") \n",
    "    C = np.ma.array(C, mask=(C==-9999)) \n",
    "    weighted_std= weight_list[i-1]*C\n",
    "    overall= weighted_std +overall\n",
    "plt.title(\"Overall Score\")\n",
    "plt.imshow(overall)\n",
    "plt.show()"
   ]
  },
  {
   "cell_type": "markdown",
   "metadata": {
    "slideshow": {
     "slide_type": "slide"
    }
   },
   "source": [
    "### Recipe Step 6: Rank the alternatives according to their overall score - the highest score is the best alternative\n",
    "Final map seems promising but how are we going to decide which is best? Usually a ranking method is performed to get the optimum. Here since we don’t have a specific number of cells / size of land units to select, we will just rank the cell values so that we can visualize where we have higher score clusters.\n"
   ]
  },
  {
   "cell_type": "code",
   "execution_count": null,
   "metadata": {},
   "outputs": [],
   "source": [
    "from scipy.stats import rankdata\n",
    "ranked_overall = rankdata(overall, method='dense').reshape(overall.shape)\n",
    "plt.title(\"Overall Ranked\")\n",
    "plt.imshow(ranked_overall)\n",
    "plt.show()\n",
    "print(\" The best cell is located at row: \" +str(np.argmax(np.max(overall, axis=1)))+ \" and column\" +str(np.argmax(np.max(overall, axis=0))))\n"
   ]
  },
  {
   "cell_type": "markdown",
   "metadata": {
    "slideshow": {
     "slide_type": "slide"
    }
   },
   "source": [
    "### Recipe Step 7: If you are satisfied, well-done! \n",
    "If this analysis were performed on a vector layer, the output might have been a single feature. In a raster cell you might be interested in multiple cells. In order to perform such analysis you should start your exploratory analysis by observing the best scoring cells.  Here, we can see the highest scoring cells are located in the right top corner of our study area so that we can focus on the agricultural units located there next EBI period.\n"
   ]
  },
  {
   "cell_type": "code",
   "execution_count": null,
   "metadata": {},
   "outputs": [],
   "source": [
    "import matplotlib.pyplot as plt \n",
    "import numpy as np\n",
    "\n",
    "ax = plt.subplot() \n",
    "im = ax.imshow(ranked_overall/(1314*1308))\n",
    "\n",
    "plt.colorbar(im)\n",
    "plt.show()\n"
   ]
  },
  {
   "cell_type": "markdown",
   "metadata": {
    "slideshow": {
     "slide_type": "slide"
    }
   },
   "source": [
    "Congratulations!\n",
    "\n",
    "<font style=\"color:red\">\n",
    "    A final statement is needed here to wrap up the lesson\n",
    "    </font>"
   ]
  },
  {
   "cell_type": "code",
   "execution_count": null,
   "metadata": {
    "hide_input": true,
    "slideshow": {
     "slide_type": "-"
    },
    "tags": [
     "Hide",
     "Init"
    ]
   },
   "outputs": [],
   "source": [
    "\n",
    "# This code cell loads the Interact Textbox that will ask users for their name\n",
    "# Once they click \"Create Certificate\" then it will add their name to the certificate template\n",
    "# And present them a PDF certificate\n",
    "from PIL import Image\n",
    "from PIL import ImageFont\n",
    "from PIL import ImageDraw\n",
    "\n",
    "from ipywidgets import interact\n",
    "\n",
    "def make_cert(learner_name, lesson_name):\n",
    "    cert_filename = 'hourofci_certificate.pdf'\n",
    "\n",
    "    img = Image.open(\"../../supplementary/hci-certificate-template.jpg\")\n",
    "    draw = ImageDraw.Draw(img)\n",
    "\n",
    "    cert_font   = ImageFont.truetype('../../supplementary/cruft.ttf', 150)\n",
    "    cert_fontsm = ImageFont.truetype('../../supplementary/cruft.ttf', 80)\n",
    "    \n",
    "    _,_,w,h = cert_font.getbbox(learner_name)  \n",
    "    draw.text( xy = (1650-w/2,1100-h/2), text = learner_name, fill=(0,0,0),font=cert_font)\n",
    "    \n",
    "    _,_,w,h = cert_fontsm.getbbox(lesson_name)\n",
    "    draw.text( xy = (1650-w/2,1100-h/2 + 750), text = lesson_name, fill=(0,0,0),font=cert_fontsm)\n",
    "    \n",
    "    img.save(cert_filename, \"PDF\", resolution=100.0)   \n",
    "    return cert_filename\n",
    "\n",
    "\n",
    "interact_cert=interact.options(manual=True, manual_name=\"Create Certificate\")\n",
    "\n",
    "@interact_cert(name=\"Your Name\")\n",
    "def f(name):\n",
    "    print(\"Congratulations\",name)\n",
    "    filename = make_cert(name, 'Intermediate Spatial Thinking')\n",
    "    print(\"Download your certificate by clicking the link below.\")\n",
    "    \n",
    "    \n",
    "    "
   ]
  },
  {
   "cell_type": "markdown",
   "metadata": {
    "slideshow": {
     "slide_type": "slide"
    }
   },
   "source": [
    "\n",
    "<font size=\"+1\"><a style=\"background-color:blue;color:white;padding:12px;margin:10px;font-weight:bold;\" href=\"hourofci_certificate.pdf?download=1\" download=\"hourofci_certificate.pdf\">Download your certificate</a></font>\n",
    "\n"
   ]
  }
 ],
 "metadata": {
  "celltoolbar": "Edit Metadata",
  "kernelspec": {
   "display_name": "Python 3",
   "language": "python",
   "name": "python3"
  },
  "language_info": {
   "codemirror_mode": {
    "name": "ipython",
    "version": 3
   },
   "file_extension": ".py",
   "mimetype": "text/x-python",
   "name": "python",
   "nbconvert_exporter": "python",
   "pygments_lexer": "ipython3",
   "version": "3.8.1"
  },
  "rise": {
   "autolaunch": true,
   "overlay": "<div class='hciheader'></div><div class='hcifooter'></div>",
   "scroll": true
  }
 },
 "nbformat": 4,
 "nbformat_minor": 4
}
