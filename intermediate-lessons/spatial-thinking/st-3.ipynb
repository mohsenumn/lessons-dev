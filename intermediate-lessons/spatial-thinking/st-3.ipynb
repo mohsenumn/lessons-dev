{
 "cells": [
  {
   "cell_type": "markdown",
   "metadata": {
    "slideshow": {
     "slide_type": "slide"
    }
   },
   "source": [
    "## Intermediate Spatial Thinking\n",
    "\n",
    "### Segment 2 of 4\n",
    "# Spatial Decision Making"
   ]
  },
  {
   "cell_type": "markdown",
   "metadata": {
    "slideshow": {
     "slide_type": "slide"
    }
   },
   "source": [
    "## Reminder\n",
    "<a href=\"#/slide-2-0\" class=\"navigate-right\" style=\"background-color:blue;color:white;padding:8px;margin:2px;font-weight:bold;\">Continue with the lesson</a>\n",
    "\n",
    "<br>\n",
    "</br>\n",
    "<font size=\"+1\">\n",
    "\n",
    "By continuing with this lesson you are granting your permission to take part in this research study for the Hour of Cyberinfrastructure: Developing Cyber Literacy for GIScience project. In this study, you will be learning about cyberinfrastructure and related concepts using a web-based platform that will take approximately one hour per lesson. Participation in this study is voluntary.\n",
    "\n",
    "Participants in this research must be 18 years or older. If you are under the age of 18 then please exit this webpage or navigate to another website such as the Hour of Code at https://hourofcode.com, which is designed for K-12 students.\n",
    "\n",
    "If you are not interested in participating please exit the browser or navigate to this website: http://www.umn.edu. Your participation is voluntary and you are free to stop the lesson at any time.\n",
    "\n",
    "For the full description please navigate to this website: <a href=\"../../gateway-lesson/gateway/gateway-1.ipynb\">Gateway Lesson Research Study Permission</a>.\n",
    "\n",
    "</font>"
   ]
  },
  {
   "cell_type": "code",
   "execution_count": null,
   "metadata": {
    "hide_input": true,
    "init_cell": true,
    "slideshow": {
     "slide_type": "skip"
    },
    "tags": [
     "Hide"
    ]
   },
   "outputs": [],
   "source": [
    "# This code cell starts the necessary setup for Hour of CI lesson notebooks.\n",
    "# First, it enables users to hide and unhide code by producing a 'Toggle raw code' button below.\n",
    "# Second, it imports the hourofci package, which is necessary for lessons and interactive Jupyter Widgets.\n",
    "# Third, it helps hide/control other aspects of Jupyter Notebooks to improve the user experience\n",
    "# This is an initialization cell\n",
    "# It is not displayed because the Slide Type is 'Skip'\n",
    "\n",
    "from IPython.display import HTML, IFrame, Javascript, display, clear_output\n",
    "from ipywidgets import interactive, Textarea, HBox, Button, Layout\n",
    "import ipywidgets as widgets\n",
    "from ipywidgets import Layout\n",
    "\n",
    "import getpass # This library allows us to get the username (User agent string)\n",
    "\n",
    "# import package for hourofci project\n",
    "import sys\n",
    "sys.path.append('../../supplementary') # relative path (may change depending on the location of the lesson notebook)\n",
    "import hourofci\n",
    "\n",
    "\n",
    "# load javascript to initialize/hide cells, get user agent string, and hide output indicator\n",
    "# hide code by introducing a toggle button \"Toggle raw code\"\n",
    "HTML(''' \n",
    "    <script type=\"text/javascript\" src=\\\"../../supplementary/js/custom.js\\\"></script>\n",
    "    \n",
    "    <style>\n",
    "        .output_prompt{opacity:0;}\n",
    "    </style>\n",
    "    \n",
    "    <input id=\"toggle_code\" type=\"button\" value=\"Toggle raw code\">\n",
    "''')"
   ]
  },
  {
   "cell_type": "markdown",
   "metadata": {
    "slideshow": {
     "slide_type": "slide"
    }
   },
   "source": [
    "## Spatial Decision Making\n",
    "Now that you know something about the components of spatial thinking, let's see how we can use these abilities to solve spatial decision problems. \n",
    "\n",
    "Any decision problem with a <b>spatial component</b> can be considered a <b>spatial decision making problem</b>. Sometimes a spatial problem is obvious because the final output is a spatial entity, but sometimes the intermediate steps make it a spatial decision.\n",
    "\n",
    "Some very common examples of spatial decision-making problems are land use suitability, site selection and plan evaluation. \n",
    "<ul>\n",
    "<li>In a land suitability example, the goal may be to identify the best spatial pattern, for example, urban area, agriculture or forest. \n",
    "\n",
    "<li>In a site selection case, a facility might be looking forward to finding the best location for the next site to investigate. \n",
    "</ul>\n",
    "<p>\n",
    "In this lesson, we focus on decision problems where we have several criteria that must all be addressed by the solution. \n",
    "\n",
    "We call this <b>multiple criteria decision making</b>.\n"
   ]
  },
  {
   "cell_type": "markdown",
   "metadata": {
    "slideshow": {
     "slide_type": "slide"
    }
   },
   "source": [
    "The origins of analytical multiple criteria decision making can be traced back to the 18th century, although they weren't solving spatial problems back then.</p>\n",
    "    \n",
    "<table>\n",
    "    <tr style=\"background: #fff; text-align: left; vertical-align:\">\n",
    "        <td style=\"background: #fff; text-align: left; font-size: 23px;\">Benjamin Franklin used a simple <i>pro et contra</i> paper system (that's Latin for <i>“for and against”</i>) for deciding important issues; on one side he wrote motives that favored a positive decision, on the other side he noted those that supported a contrary decision. By striking out the motives on each side that cancelled each other out, he could determine the final decision.Therefore, each decision making, whether spatial or not, needs a weighting mechanism. \n",
    "<p>\n",
    " \n",
    "In the 1960s, with advances in computer-based mathematical programming and GIS, spatial thinking began to provide a practical approach for spatial decision making and planning.\n",
    "</td>\n",
    "        <td style=\"width: 50%; background: #fff; text-align: left; vertical-align: top;\"> <img src='supplementary/prosncons.png' width=\"700\" height=\"900\" alt='map'></td>\n",
    "    </tr>\n",
    "</table>"
   ]
  },
  {
   "cell_type": "markdown",
   "metadata": {
    "slideshow": {
     "slide_type": "slide"
    }
   },
   "source": [
    "## Characteristics of Multiple Criteria Spatial Decision Making Problems\n",
    "\n",
    "What makes spatial decision making unique?"
   ]
  },
  {
   "cell_type": "markdown",
   "metadata": {
    "slideshow": {
     "slide_type": "slide"
    }
   },
   "source": [
    "\n",
    "\n",
    "## Spatially Explicit\n",
    "\n",
    "All spatial decision making problems are spatially explicit.\n",
    "\n",
    "Michael Goodchild, in his  “Issues in spatially explicit modeling” paper, suggests that there are four important characteristics of <b>spatially explicit</b> decision making:\n",
    "<ol>\n",
    "    <li>Change in the ranking of decision alternatives is directly related to change in the spatial pattern of the criteria.\n",
    "    </li>\n",
    "    <li>Decision alternatives can be geographically defined - not just “what\" alternatives exists but also “where” they exist.\n",
    "    </li>\n",
    "    <li>Spatial concepts such as location, distance, contiguity, connectivity, adjacency, or direction should exist.\n",
    "    </li>\n",
    "    <li>Output of the decision outcome should be represented spatially.\n",
    "    </li>\n",
    "</ol>\n",
    "<p>\n",
    "    <p>\n",
    "<small><i>Goodchild, M.F. (2001). Issues in spatially explicit modeling. In D.C. Parker, T. Berger, S.M. Manson (Eds.), Agent-Based Models of Land-Use and Land-Cover Change (pp. 13–16). Proceedings of an International Workshop, October 4–7, Irvine, California, USA. as reported in Malczewski, Jacek, and Claus Rinner (2015). Multicriteria decision analysis in geographic information science. Vol. 1. New York: Springer</i>\n"
   ]
  },
  {
   "cell_type": "markdown",
   "metadata": {
    "slideshow": {
     "slide_type": "slide"
    }
   },
   "source": [
    "## Hierarchical Structure of a Decision Problem\n",
    "<p style=\"background: #fff; text-align: left; font-size: 23px;\">In order to make a spatial decision, we first need to identify our <b>goal</b> or <b>goals</b>. A decision goal specifies one or more <b>objectives</b> to achieve, such as the number of <b>sites</b> or <b>regions</b> to be selected. The goal also defines the phenomenon that is going to be modeled. Finally, our goal also identifies the <b>purpose of spatial analysis.</b></p> \n",
    "<table>\n",
    "    <tr style=\"background: #fff; text-align: left; vertical-align:\">\n",
    "        <td style=\"background: #fff; text-align: left; font-size: 23px;\">\n",
    "Some examples of spatial decision making goals are:\n",
    "<ul>\n",
    "<li>identify the best site for a hazardous waste disposal facility</li>\n",
    "<li>find the shortest transportation route</li>\n",
    "<li>determine the best spatial pattern for an animal habitat.</li>\n",
    "</ul>\n",
    "         \n",
    "As seen in this figure, each objective is often connected with several <b>attributes (criteria)</b>. \n",
    "</td>\n",
    "        <td style=\"width: 50%; background: #fff; text-align: left; vertical-align: top;\"> <img src='supplementary/hierarchy.png' width=\"700\" height=\"900\" alt='map'></td>\n",
    "    </tr>\n",
    "</table>"
   ]
  },
  {
   "cell_type": "markdown",
   "metadata": {
    "slideshow": {
     "slide_type": "slide"
    }
   },
   "source": [
    "## A spatial decision problem - The Bike Docking Example\n",
    "\n",
    "<table>\n",
    "    <tr style=\"background: #fff; text-align: left; vertical-align:\">\n",
    "        <td style=\"background: #fff; text-align: left; font-size: 23px;\">\n",
    "Let’s assume Boston municipality has decided to improve its accessibility to green transportation by adding more shared bike docking stations. They have 100 possible locations around the city and the Municipal Council will fund the five top ranking locations. How can the Metropolitan Transportation Agency choose these best locations?            \n",
    "<p>           \n",
    "We begin by stating the goal. What is the phenomenon being modeled and the purpose of the analysis?\n",
    "      </td>\n",
    "      <td style=\"width: 50%; background: #fff; text-align: left; vertical-align: top;\"> <img src='supplementary/bike.jpg' width=\"700\" height=\"900\" alt='map'>\n",
    " </td>    \n",
    " </tr>\n",
    "</table>  \n",
    " <small><a href=\"https://www.flickr.com/photos/80824546@N00/27877729998\">DUBLIN BIKES DOCKING STATION 69 [GRAND CANAL QUAY]-138897</a>\" by <a href=\"https://www.flickr.com/photos/80824546@N00\">infomatique</a> is licensed under <a href=\"https://creativecommons.org/licenses/by-sa/2.0/?ref=openverse\">CC BY-SA 2.0</a>.</small>  \n"
   ]
  },
  {
   "cell_type": "code",
   "execution_count": null,
   "metadata": {
    "hide_input": false,
    "init_cell": true,
    "slideshow": {
     "slide_type": "-"
    },
    "tags": [
     "Hide",
     "Init"
    ]
   },
   "outputs": [],
   "source": [
    "t1 = widgets.Text(\n",
    "    placeholder = \"\",\n",
    "    description = \"Answer:\",\n",
    "    value=None,\n",
    "    disabled=False\n",
    ")\n",
    "\n",
    "# Display widget\n",
    "display(t1)\n",
    "\n",
    "# Output function\n",
    "def out1():\n",
    "    print(\"Your answer: \" + t1.value)\n",
    "\n",
    "# Submit button\n",
    "# hourofci.SubmitBtn(user_agent, lesson, lesson_level, \"2C\", t1, out1)\n",
    "hourofci.SubmitBtn2(t1, out1)"
   ]
  },
  {
   "cell_type": "markdown",
   "metadata": {
    "slideshow": {
     "slide_type": "-"
    }
   },
   "source": [
    "Go to the next page to check your answer."
   ]
  },
  {
   "cell_type": "markdown",
   "metadata": {
    "slideshow": {
     "slide_type": "slide"
    }
   },
   "source": [
    "In this example:\n",
    "<ul>\n",
    "    <li>\n",
    "The <b>phenomena</b> are the <b>new bike docking stations</b>.\n",
    "    </li>\n",
    "    <li>\n",
    "The <b>number of sites</b> to be located is <b>5</b>.\n",
    "    </li>\n",
    "    <li>\n",
    "The <b>purpose of this study</b> is to <b>improve public access by supporting green transportation.</b>\n",
    "    </li>\n",
    "</ul>"
   ]
  },
  {
   "cell_type": "markdown",
   "metadata": {
    "slideshow": {
     "slide_type": "slide"
    }
   },
   "source": [
    "### Mirror, mirror on the wall, which one is the best decision of all?\n",
    "<p> \n",
    "How can we achieve this goal? As decision makers we are surrounded with a large number of <b>decision alternatives</b> (evaluated based on a set of criteria) and we might have <b>different preferences (weights)</b> for each alternative. \n",
    "If we continue with the bike docking station example, we might try to find sites close to existing public transportation. Maybe a biker would like to travel a distance that they can’t bike and at some point they may want to switch to the bus. Also, density and availability of bike routes is important to consider. So, in this case we have two criteria:</p> \n",
    "<ul>\n",
    "    <li>\n",
    "Proximity to existing public transport\n",
    "    </li>\n",
    "    <li>\n",
    "Density and availability of bike routes \n",
    "    </li>\n",
    "</ul>\n",
    "\n",
    "These alternatives are evaluated on the basis of  <b>multiple criteria</b>. Some of the criteria may be  <b>qualitative</b> while others may be  <b>quantitative</b>. \n",
    "\n",
    "\n"
   ]
  },
  {
   "cell_type": "markdown",
   "metadata": {
    "slideshow": {
     "slide_type": "slide"
    }
   },
   "source": [
    "## Another spatial decision problem - The Waste Disposal Example \n",
    "    \n",
    "(based on Gómez‐Delgado and Tarantola (2006) which can be found at: URL: http://dx.doi.org/10.1080/13658810600607709)\n",
    "\n",
    "Sustainable planning of a hazardous waste disposal facility is a complex task involving a multitude of engineering, economic, social, environmental, and political aspects. In Spain, preliminary site screening for landfill sites is regulated by the European, national, and regional legislations and engineering guidelines on hazardous-waste management.  According to these regulations landfill sites cannot be located:\n",
    "<ul>\n",
    "    <li>\n",
    "close to urban centers, \n",
    "    </li>\n",
    "    <li>\n",
    "close to potentially crowded places such as schools, hospitals, or commercial centers \n",
    "    </li>\n",
    "</ul>\n",
    "\n",
    "Moreover, due to potential conflicts between local authorities, candidate land parcels should be linked to a single municipality.  \n",
    "\n",
    "Additionally, some environmental and economic factors also play an important role in the decision making process. For example, the optimal soils for a landfill facility are clay and gypsum deposits to minimize leakage into underground water and surrounding land. \n",
    "\n",
    "Also, land suitability decreases as slope increases. At a 15% slope, land is not suitable since the landfill design, construction, and operation will be so expansive. \n",
    "\n",
    "And last, estimated expropriation costs considered in the analysis depend on land use and vegetation coverage. \n"
   ]
  },
  {
   "cell_type": "markdown",
   "metadata": {
    "slideshow": {
     "slide_type": "slide"
    }
   },
   "source": [
    "So, how many objectives do we have for this land suitability problem? Enter your guess here:\n"
   ]
  },
  {
   "cell_type": "code",
   "execution_count": null,
   "metadata": {
    "hide_input": true,
    "init_cell": true,
    "slideshow": {
     "slide_type": "-"
    },
    "tags": [
     "Hide",
     "Init"
    ]
   },
   "outputs": [],
   "source": [
    "t2 = widgets.Text(\n",
    "    placeholder = \"\",\n",
    "    description = \"Number:\",\n",
    "    value=None,\n",
    "    disabled=False\n",
    ")\n",
    "\n",
    "# Display widget\n",
    "display(t2)\n",
    "\n",
    "# Output function\n",
    "def out2():\n",
    "    print(\"Your answer: \" + t2.value)\n",
    "\n",
    "# Submit button\n",
    "# hourofci.SubmitBtn(user_agent, lesson, lesson_level, \"2C\", t1, out1)\n",
    "hourofci.SubmitBtn2(t2, out2)"
   ]
  },
  {
   "cell_type": "markdown",
   "metadata": {
    "slideshow": {
     "slide_type": "-"
    }
   },
   "source": [
    "Go to the next page to check your answer."
   ]
  },
  {
   "cell_type": "markdown",
   "metadata": {
    "slideshow": {
     "slide_type": "slide"
    }
   },
   "source": [
    "<table>\n",
    "    <tr style=\"background: #fff; text-align: left; vertical-align:\">\n",
    "        <td style=\"background: #fff; text-align: left; font-size: 23px;\">\n",
    "            <b>The answer</b> is 6.\n",
    "<ol>\n",
    "    <li>\n",
    "Maximize distance from populated areas\n",
    "    </li>\n",
    "    <li>\n",
    "Maximize distance from schools, hospitals, commercial centers\n",
    "    </li>\n",
    "    <li>\n",
    "Minimize municipality  overlay\n",
    "    </li>\n",
    "    <li>\n",
    "Minimize soil permeability\n",
    "    </li>\n",
    "    <li>\n",
    "Minimize slope\n",
    "    </li>\n",
    "    <li>\n",
    "Minimize development cost\n",
    "    </li>\n",
    "</ol>\n",
    "        </td>\n",
    "        <td style=\"width: 50%; background: #fff; text-align: left; vertical-align: top;\"> <img src='supplementary/hierarchy2.png' width=\"700\" height=\"900\" alt='map'></td>\n",
    "    </tr>\n",
    "</table>\n",
    "<p style=\"background: #fff; text-align: left; font-size: 23px;\">As you may have noticed, some of the objectives maximize the criterion and some require minimizing it.  Now let’s see how we achieve this!</p> \n"
   ]
  },
  {
   "cell_type": "markdown",
   "metadata": {
    "slideshow": {
     "slide_type": "slide"
    }
   },
   "source": [
    "## One Recipe to cook them all!\n",
    "\n",
    "So the question becomes, how are we going to solve our spatial decision-making problems?         \n",
    "<br/><br/>\n",
    "Luckily, no matter how complex our alternatives, how many alternatives that we are dealing with, or how many decision makers will be involved in, the generic recipe is the same for all spatial decision making problems. \n",
    "<br/><br/>     \n",
    "Let's see the instructions and then see the recipe in action afterwards.\n",
    "\n",
    "\n",
    "\n",
    "\n"
   ]
  },
  {
   "cell_type": "markdown",
   "metadata": {
    "slideshow": {
     "slide_type": "slide"
    }
   },
   "source": [
    "## Steps\n",
    "\n",
    "<ol>\n",
    "    <li>\n",
    "        Define the set of evaluation criteria (map layers).</li>\n",
    "    <li>\n",
    "        Standardize each criterion (map layer).</li>\n",
    "    <li>\n",
    "       Define the criterion weights (a.k.a relative importance) assigned to each criterion map.</li>\n",
    "    <li>\n",
    "        Construct the weighted standardized map layers - which means multiplying standardized map layers with their corresponding weights.</li>\n",
    "    <li>\n",
    "        Generate the overall score for each alternative using add overlay operation on the weighted standardized map layers </li>\n",
    "    <li>\n",
    "        Rank the alternatives according to their overall score - the highest score is the best alternative </li> \n",
    "    <li>\n",
    "        If you are satisfied, well-done! You can now implement your best solution!</li> \n",
    "</ol>\n",
    "\n",
    "\n",
    "\n",
    "Now, let's see examples for each step in the upcoming slides.\n",
    "\n"
   ]
  },
  {
   "cell_type": "markdown",
   "metadata": {
    "slideshow": {
     "slide_type": "slide"
    }
   },
   "source": [
    "\n",
    "In the next section we are going to have a Land-Use Suitability example to see the Spatial Decision Making recipe in action!\n",
    "\n",
    "Click the button below to move forward.\n",
    "\n"
   ]
  },
  {
   "cell_type": "markdown",
   "metadata": {
    "slideshow": {
     "slide_type": "-"
    }
   },
   "source": [
    "\n",
    "\n",
    "<font size=\"+1\"><a style=\"background-color:blue;color:white;padding:12px;margin:10px;font-weight:bold;\" \n",
    "href=\"st-4.ipynb\">Click here to go to the next segment</a></font>"
   ]
  }
 ],
 "metadata": {
  "celltoolbar": "Edit Metadata",
  "kernelspec": {
   "display_name": "Python 3 (ipykernel)",
   "language": "python",
   "name": "python3"
  },
  "language_info": {
   "codemirror_mode": {
    "name": "ipython",
    "version": 3
   },
   "file_extension": ".py",
   "mimetype": "text/x-python",
   "name": "python",
   "nbconvert_exporter": "python",
   "pygments_lexer": "ipython3",
   "version": "3.7.16"
  },
  "rise": {
   "autolaunch": true,
   "overlay": "<div class='hciheader'></div><div class='hcifooter'></div>",
   "scroll": true
  }
 },
 "nbformat": 4,
 "nbformat_minor": 4
}
