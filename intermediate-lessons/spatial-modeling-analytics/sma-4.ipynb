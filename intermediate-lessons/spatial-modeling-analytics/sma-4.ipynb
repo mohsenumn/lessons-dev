{
 "cells": [
  {
   "cell_type": "markdown",
   "metadata": {
    "slideshow": {
     "slide_type": "slide"
    }
   },
   "source": [
    "### Spatial Modeling and Analytics\n",
    "\n",
    "## Segment 3 of 5\n",
    "# Spatial Data Frames"
   ]
  },
  {
   "cell_type": "markdown",
   "metadata": {
    "slideshow": {
     "slide_type": "slide"
    }
   },
   "source": [
    "## Reminder\n",
    "<a href=\"#/slide-2-0\" class=\"navigate-right\" style=\"background-color:blue;color:white;padding:8px;margin:2px;font-weight:bold;\">Continue with the lesson</a>\n",
    "\n",
    "<br>\n",
    "</br>\n",
    "<font size=\"+1\">\n",
    "\n",
    "By continuing with this lesson you are granting your permission to take part in this research study for the Hour of Cyberinfrastructure: Developing Cyber Literacy for GIScience project. In this study, you will be learning about cyberinfrastructure and related concepts using a web-based platform that will take approximately one hour per lesson. Participation in this study is voluntary.\n",
    "\n",
    "Participants in this research must be 18 years or older. If you are under the age of 18 then please exit this webpage or navigate to another website such as the Hour of Code at https://hourofcode.com, which is designed for K-12 students.\n",
    "\n",
    "If you are not interested in participating please exit the browser or navigate to this website: http://www.umn.edu. Your participation is voluntary and you are free to stop the lesson at any time.\n",
    "\n",
    "For the full description please navigate to this website: <a href=\"../../gateway-lesson/gateway/gateway-1.ipynb\">Gateway Lesson Research Study Permission</a>.\n",
    "\n",
    "</font>"
   ]
  },
  {
   "cell_type": "code",
   "execution_count": null,
   "metadata": {
    "hide_input": true,
    "init_cell": true,
    "slideshow": {
     "slide_type": "skip"
    },
    "tags": [
     "Hide"
    ]
   },
   "outputs": [],
   "source": [
    "# This code cell starts the necessary setup for Hour of CI lesson notebooks.\n",
    "# First, it enables users to hide and unhide code by producing a 'Toggle raw code' button below.\n",
    "# Second, it imports the hourofci package, which is necessary for lessons and interactive Jupyter Widgets.\n",
    "# Third, it helps hide/control other aspects of Jupyter Notebooks to improve the user experience\n",
    "# This is an initialization cell\n",
    "# It is not displayed because the Slide Type is 'Skip'\n",
    "\n",
    "from IPython.display import HTML, IFrame, Javascript, display\n",
    "from ipywidgets import interactive\n",
    "import ipywidgets as widgets\n",
    "from ipywidgets import Layout\n",
    "import warnings\n",
    "import getpass # This library allows us to get the username (User agent string)\n",
    "\n",
    "# import package for hourofci project\n",
    "import sys\n",
    "sys.path.append('../../supplementary') # relative path (may change depending on the location of the lesson notebook)\n",
    "import hourofci\n",
    "\n",
    "\n",
    "# load javascript to initialize/hide cells, get user agent string, and hide output indicator\n",
    "# hide code by introducing a toggle button \"Toggle raw code\"\n",
    "HTML(''' \n",
    "    <script type=\"text/javascript\" src=\\\"../../supplementary/js/custom.js\\\"></script>\n",
    "    \n",
    "    <style>\n",
    "        .output_prompt{opacity:0;}\n",
    "    </style>\n",
    "    \n",
    "    <input id=\"toggle_code\" type=\"button\" value=\"Toggle raw code\">\n",
    "''')"
   ]
  },
  {
   "cell_type": "code",
   "execution_count": null,
   "metadata": {
    "hide_input": true,
    "init_cell": true,
    "slideshow": {
     "slide_type": "skip"
    },
    "tags": [
     "Hide"
    ]
   },
   "outputs": [],
   "source": [
    "%load_ext rpy2.ipython"
   ]
  },
  {
   "cell_type": "markdown",
   "metadata": {
    "slideshow": {
     "slide_type": "slide"
    }
   },
   "source": [
    "## Spatial R Data Types\n",
    "\n",
    "<ul>\n",
    "    <li>\n",
    "        Vector Data\n",
    "    </li>\n",
    "    <ul>\n",
    "        <li>\n",
    "    sf, sp packages\n",
    "        </li>\n",
    "        <li>\n",
    "    Represent spatial information efficiently\n",
    "        </li>\n",
    "        <li>\n",
    "    Accepted by most packages that require spatial data frames\n",
    "        </li>\n",
    "    </ul>\n",
    "    <li>\n",
    "Raster Data\n",
    "    </li>\n",
    "    <ul>\n",
    "        <li>\n",
    "    raster package\n",
    "        </li>\n",
    "    </ul>\n",
    "</ul>"
   ]
  },
  {
   "cell_type": "markdown",
   "metadata": {
    "slideshow": {
     "slide_type": "slide"
    }
   },
   "source": [
    "## Closer Look at a Raster Data Frame\n",
    "Let’s take a look at a raster object in R\n",
    "\n",
    "```r\n",
    "class      : RasterBrick \n",
    "dimensions : 9545, 9340, 89150300, 3  (nrow, ncol, ncell, nlayers)\n",
    "resolution : 30, 30  (x, y)\n",
    "extent     : -2210387, -1930187, 1556342, 1842692  (xmin, xmax, ymin, ymax)\n",
    "crs        : NA \n",
    "source     : memory\n",
    "names      : Band_1, Band_2, Band_3 \n",
    "min values :      0,      0,      0 \n",
    "max values :  65535,  65535,  65535 \n",
    "```"
   ]
  },
  {
   "cell_type": "markdown",
   "metadata": {
    "slideshow": {
     "slide_type": "slide"
    }
   },
   "source": [
    "## Spatial Vectors in R - sf\n",
    "\n",
    "\n",
    "\n",
    "\n",
    "\n",
    "<ul>\n",
    "    <li>\n",
    "The newer spatial vector representation in R\n",
    "    </li>\n",
    "    <li>\n",
    "Uses the simple features (sf) standard of OGC (Open Geospatial Consortium)\n",
    "    </li>\n",
    "    <li>\n",
    "Simple Features are:\n",
    "    </li>\n",
    "    <ol>\n",
    "        <li>\n",
    "            Point\n",
    "        </li>\n",
    "        <li>\n",
    "Polygon\n",
    "        </li>\n",
    "        <li>\n",
    "Linestring\n",
    "        </li>\n",
    "        <li>\n",
    "Multipoint\n",
    "        </li>\n",
    "        <li>\n",
    "            Multipolygon\n",
    "        </li>\n",
    "        <li>\n",
    "Multilinestring\n",
    "        </li>\n",
    "        <li>\n",
    "   Geometrycollection\n",
    "        </li>\n",
    "    </ol>\n",
    "</ul>\n",
    "    \n",
    "    \n",
    "    \n",
    "    "
   ]
  },
  {
   "cell_type": "markdown",
   "metadata": {
    "slideshow": {
     "slide_type": "slide"
    }
   },
   "source": [
    "## Raster Data Representation in R\n",
    "\n",
    "\n",
    "\n",
    "\n",
    "\n",
    "\n",
    "\n",
    "<ul>\n",
    "    <li>\n",
    "Raster Info + Attributes (data values per band)\n",
    "    </li>\n",
    "    <li>\n",
    "Raster Info\n",
    "    </li>\n",
    "    <ul>\n",
    "        <li>\n",
    "           nrows : Number of rows\n",
    "        </li>\n",
    "        <li>\n",
    "ncols: Number of columns\n",
    "        </li>\n",
    "        <li>\n",
    "nbands: Number of bands\n",
    "        </li>\n",
    "        <li>\n",
    "Extent: Spatial extent\n",
    "        </li>\n",
    "        <li>\n",
    "Projection: Projection information\n",
    "        </li>\n",
    "    </ul>\n",
    "</ul>\n"
   ]
  },
  {
   "cell_type": "markdown",
   "metadata": {
    "slideshow": {
     "slide_type": "slide"
    }
   },
   "source": [
    "## Raster Data Representation in R\n",
    "\n",
    "* Types of raster objects\n",
    "<ol>\n",
    "    <li>\n",
    "RasterLayer: Single variable (band) rasters<br>\n",
    "        <img src ='supplementary/red.png' width=53>\n",
    "    </li>\n",
    "    <li>\n",
    "RasterStack: Multi variable (band) rasters. Data can reside in different files on disk. Preferred for flexibility.<br>\n",
    "        <img src ='supplementary/on_disk1.png' width=130>\n",
    "    </li>\n",
    "    <li>\n",
    "RasterBrick: Multi variable (band) rasters. Data has to be from a single file on disk. Preferred for performance.<br>\n",
    "        <img src ='supplementary/on_disk2.png' width=130>\n",
    "    </li>\n",
    "</ol>\n"
   ]
  },
  {
   "cell_type": "markdown",
   "metadata": {
    "slideshow": {
     "slide_type": "slide"
    }
   },
   "source": [
    "## A Closer Look at a Raster Data Frame\n",
    "\n",
    "* Due to data-volume, R displays only header information on rasters\n",
    "\n",
    "```r\n",
    "class      : RasterBrick \n",
    "dimensions : 9545, 9340, 89150300, 3  (nrow, ncol, ncell, nlayers)\n",
    "resolution : 30, 30  (x, y)\n",
    "extent     : -2210387, -1930187, 1556342, 1842692  (xmin, xmax, ymin, ymax)\n",
    "crs        : NA \n",
    "source     : memory\n",
    "names      : Band_1, Band_2, Band_3 \n",
    "min values :      0,      0,      0 \n",
    "max values :  65535,  65535,  65535 \n",
    "```\n",
    "\n",
    "* Utility function *values()* can be used to access raster values"
   ]
  },
  {
   "cell_type": "markdown",
   "metadata": {
    "slideshow": {
     "slide_type": "slide"
    }
   },
   "source": [
    "## Spatial Vector Data Representation in R\n",
    "\n",
    "<ul>\n",
    "    <li>\n",
    "        Same pattern: Geometry Info + Attributes\n",
    "    </li>\n",
    "    <li>\n",
    "sf and sp only differ in representing geometry information\n",
    "    </li>\n",
    "    <li>\n",
    "        Once vector data is in sf and sp format\n",
    "    </li>\n",
    "    <ul>\n",
    "        <li>\n",
    "    Spatial operators: join, dissolve, merge, etc.\n",
    "        </li>\n",
    "        <li>\n",
    "    Reprojecting the data (change projection system)\n",
    "        </li>\n",
    "        <li>\n",
    "    Spatially subset the data\n",
    "        </li>\n",
    "    </ul>\n",
    "</ul>\n",
    "\n"
   ]
  },
  {
   "cell_type": "markdown",
   "metadata": {
    "slideshow": {
     "slide_type": "slide"
    }
   },
   "source": [
    "## A Closer Look at a Vector Data Frame\n",
    "* An example sf data frame containing a **polygon** dataset\n",
    "\n",
    "<center><img src = 'supplementary/vector_df.png' width = 100%></center>\n",
    "\n"
   ]
  },
  {
   "cell_type": "markdown",
   "metadata": {
    "slideshow": {
     "slide_type": "slide"
    }
   },
   "source": [
    "## A Closer Look at a Vector Data Frame\n",
    "* An example sf data frame containing a **point** dataset\n",
    "\n",
    "<center><img src = 'supplementary/vector_df2.png' width = 100%></center>\n",
    "\n"
   ]
  },
  {
   "cell_type": "markdown",
   "metadata": {
    "slideshow": {
     "slide_type": "slide"
    }
   },
   "source": [
    "\n",
    "\n",
    "<font size=\"+1\"><a style=\"background-color:blue;color:white;padding:12px;margin:10px;font-weight:bold;\" \n",
    "href=\"sma-5.ipynb\">Click here to go to the next notebook.</a></font>\n"
   ]
  }
 ],
 "metadata": {
  "celltoolbar": "Slideshow",
  "kernelspec": {
   "display_name": "Python 3 (ipykernel)",
   "language": "python",
   "name": "python3"
  },
  "language_info": {
   "codemirror_mode": {
    "name": "ipython",
    "version": 3
   },
   "file_extension": ".py",
   "mimetype": "text/x-python",
   "name": "python",
   "nbconvert_exporter": "python",
   "pygments_lexer": "ipython3",
   "version": "3.8.1"
  },
  "rise": {
   "autolaunch": true,
   "overlay": "<div class='hciheader'></div><div class='hcifooter'></div>",
   "scroll": true
  }
 },
 "nbformat": 4,
 "nbformat_minor": 4
}
