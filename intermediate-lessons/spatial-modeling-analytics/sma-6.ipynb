{
 "cells": [
  {
   "cell_type": "markdown",
   "metadata": {
    "slideshow": {
     "slide_type": "slide"
    }
   },
   "source": [
    "## Spatial Modeling and Analytics\n",
    "\n",
    "### Segment 5 of 5\n",
    "# Connecting R and GIS"
   ]
  },
  {
   "cell_type": "markdown",
   "metadata": {
    "slideshow": {
     "slide_type": "slide"
    }
   },
   "source": [
    "## Reminder\n",
    "<a href=\"#/slide-2-0\" class=\"navigate-right\" style=\"background-color:blue;color:white;padding:8px;margin:2px;font-weight:bold;\">Continue with the lesson</a>\n",
    "\n",
    "<br>\n",
    "</br>\n",
    "<font size=\"+1\">\n",
    "\n",
    "By continuing with this lesson you are granting your permission to take part in this research study for the Hour of Cyberinfrastructure: Developing Cyber Literacy for GIScience project. In this study, you will be learning about cyberinfrastructure and related concepts using a web-based platform that will take approximately one hour per lesson. Participation in this study is voluntary.\n",
    "\n",
    "Participants in this research must be 18 years or older. If you are under the age of 18 then please exit this webpage or navigate to another website such as the Hour of Code at https://hourofcode.com, which is designed for K-12 students.\n",
    "\n",
    "If you are not interested in participating please exit the browser or navigate to this website: http://www.umn.edu. Your participation is voluntary and you are free to stop the lesson at any time.\n",
    "\n",
    "For the full description please navigate to this website: <a href=\"../../gateway-lesson/gateway/gateway-1.ipynb\">Gateway Lesson Research Study Permission</a>.\n",
    "\n",
    "</font>"
   ]
  },
  {
   "cell_type": "code",
   "execution_count": null,
   "metadata": {
    "hide_input": true,
    "init_cell": true,
    "slideshow": {
     "slide_type": "skip"
    },
    "tags": [
     "Hide"
    ]
   },
   "outputs": [],
   "source": [
    "# This code cell starts the necessary setup for Hour of CI lesson notebooks.\n",
    "# First, it enables users to hide and unhide code by producing a 'Toggle raw code' button below.\n",
    "# Second, it imports the hourofci package, which is necessary for lessons and interactive Jupyter Widgets.\n",
    "# Third, it helps hide/control other aspects of Jupyter Notebooks to improve the user experience\n",
    "# This is an initialization cell\n",
    "# It is not displayed because the Slide Type is 'Skip'\n",
    "\n",
    "from IPython.display import HTML, IFrame, Javascript, display\n",
    "from ipywidgets import interactive\n",
    "import ipywidgets as widgets\n",
    "from ipywidgets import Layout\n",
    "\n",
    "import getpass # This library allows us to get the username (User agent string)\n",
    "\n",
    "# import package for hourofci project\n",
    "import sys\n",
    "sys.path.append('../../supplementary') # relative path (may change depending on the location of the lesson notebook)\n",
    "import hourofci\n",
    "\n",
    "# load javascript to initialize/hide cells, get user agent string, and hide output indicator\n",
    "# hide code by introducing a toggle button \"Toggle raw code\"\n",
    "HTML(''' \n",
    "    <script type=\"text/javascript\" src=\\\"../../supplementary/js/custom.js\\\"></script>\n",
    "    \n",
    "    <style>\n",
    "        .output_prompt{opacity:0;}\n",
    "    </style>\n",
    "    \n",
    "    <input id=\"toggle_code\" type=\"button\" value=\"Toggle raw code\">\n",
    "''')"
   ]
  },
  {
   "cell_type": "markdown",
   "metadata": {
    "slideshow": {
     "slide_type": "slide"
    }
   },
   "source": [
    "## GIS integration in R\n",
    "<br>\n",
    "<br>\n",
    "\n",
    "<center><img src = 'supplementary/r_gis_integration.png' width=100%></center>"
   ]
  },
  {
   "cell_type": "markdown",
   "metadata": {
    "slideshow": {
     "slide_type": "slide"
    }
   },
   "source": [
    "## R packages for GIS Integration\n",
    "<ul>\n",
    "    <li>\n",
    "Frequently used GIS integration packages and the associated GIS software (in alphabetical order):\n",
    "    </li>\n",
    "    <ul>\n",
    "        <li>\n",
    "<b>ArcGIS:</b> arcgisbinding\n",
    "        </li>\n",
    "        <ul>\n",
    "            <li>\n",
    "                <a href=https://r.esri.com/assets/arcgisbinding.pdf>Link to Documentation</a>\n",
    "            </li>\n",
    "        </ul>\n",
    "        <li>\n",
    "<b>Google Earth Engine:</b> rgee\n",
    "        </li>\n",
    "        <ul>\n",
    "            <li>\n",
    "                <a href=https://cran.r-project.org/web/packages/rgee/rgee.pdf>Link to Documentation</a>\n",
    "            </li>\n",
    "        </ul>\n",
    "        <li>\n",
    "<b>GRASS:</b> rgrass\n",
    "        </li>\n",
    "        <ul>\n",
    "            <li>\n",
    "                <a href=https://cran.r-project.org/web/packages/rgrass/rgrass.pdf>Link to Documentation</a>\n",
    "            </li>\n",
    "        </ul>\n",
    "        <li>\n",
    "<b>QGIS:</b> qgisprocess\n",
    "        </li>\n",
    "        <ul>\n",
    "            <li>\n",
    "                <a href=https://paleolimbot.github.io/qgisprocess>Link to Documentation</a>\n",
    "            </li>\n",
    "        </ul>\n",
    "        <li>\n",
    "<b>SAGA:</b> RSAGA\n",
    "        </li>\n",
    "        <ul>\n",
    "            <li>\n",
    "                <a href=https://cran.r-project.org/web/packages/RSAGA/RSAGA.pdf>Link to Documentation</a>\n",
    "            </li>\n",
    "        </ul>\n",
    "    </ul> \n",
    "</ul>\n",
    "\n",
    "\n"
   ]
  },
  {
   "cell_type": "markdown",
   "metadata": {
    "slideshow": {
     "slide_type": "slide"
    }
   },
   "source": [
    "## What is in a name? arcgisbinding\n",
    "<ul>\n",
    "    <li>\n",
    "Reading, converting, and writing all vector and raster data types supported in ArcGIS\n",
    "    </li>\n",
    "    <ul>\n",
    "        <li>\n",
    "This includes all OGC types\n",
    "        </li>\n",
    "    </ul>\n",
    "    <li>\n",
    "Integrating R into ArcGIS workflows\n",
    "    </li>\n",
    "    <ul>\n",
    "        <li>\n",
    "As Geoprocessing tools\n",
    "        </li>\n",
    "        <li>\n",
    "As ModelBuilder items\n",
    "        </li>\n",
    "    </ul>\n",
    "    <li>\n",
    "Requires an active ESRI license\n",
    "    </li>\n",
    "    <ul>\n",
    "        <li>\n",
    "ArcGIS Pro or ArcGIS Desktop\n",
    "        </li>\n",
    "    </ul>\n",
    "</ul>\n",
    "\n"
   ]
  },
  {
   "cell_type": "markdown",
   "metadata": {
    "slideshow": {
     "slide_type": "slide"
    }
   },
   "source": [
    "## A Closer Look: *arcgisbinding*\n",
    "\n",
    "<ul>\n",
    "    <li>\n",
    "Represents data as an arc-type R data frame\n",
    "    </li>\n",
    "    <ul>\n",
    "        <li>\n",
    "Intermediate data type used when reading data\n",
    "        </li>\n",
    "    </ul>\n",
    "    <li>\n",
    "Provides GIS data read, conversion and write in R\n",
    "    </li>\n",
    "    <ul>\n",
    "        <li>\n",
    "Data read into R (local and cloud-based)\n",
    "        </li>\n",
    "        <li>\n",
    "Writing Spatial R data frames to open data types and geodatabases\n",
    "        </li>\n",
    "        <li>\n",
    "Converting arc-type to spatial R data frames\n",
    "        </li>\n",
    "    </ul>\n",
    "    <li>\n",
    "R-Script tools: Allow defining Geoprocessing tools with .R backend\n",
    "    </li>\n",
    "    <ul>\n",
    "        <li>\n",
    "Creating tools in ArcGIS Pro with UI elements that execute R scripts\n",
    "        </li>\n",
    "    </ul>\n",
    "    <li>\n",
    "        Executing Geoprocessing tools from R using the R package <i>reticulate</i>\n",
    "    </li>\n",
    "</ul>"
   ]
  },
  {
   "cell_type": "markdown",
   "metadata": {
    "slideshow": {
     "slide_type": "slide"
    }
   },
   "source": [
    "## What is in a name? rgee\n",
    "\n",
    "<ul>\n",
    "    <li>\n",
    "Reading, writing, and converting Earth Engine (EE) tables and rasters\n",
    "    </li>\n",
    "    <ul>\n",
    "        <li>\n",
    "Support for Earth Engine resources, Google Drive, and Google Cloud Storage\n",
    "        </li>\n",
    "    </ul>\n",
    "    <li>\n",
    "Access to Earth Engine functions from R\n",
    "    </li>\n",
    "    <li>\n",
    "Requires per session authentication\n",
    "    </li>\n",
    "</ul>"
   ]
  },
  {
   "cell_type": "markdown",
   "metadata": {
    "slideshow": {
     "slide_type": "slide"
    }
   },
   "source": [
    "## A Closer Look: rgee\n",
    "\n",
    "<ul>\n",
    "    <li>\n",
    "Direct conversion of Earth Engine images, tables to R data frames\n",
    "    </li>\n",
    "    <ul>\n",
    "        <li>\n",
    "Support for sf, raster, and stars\n",
    "        </li>\n",
    "    </ul>\n",
    "    <li>\n",
    "Utility functions for moving data between\n",
    "    </li>\n",
    "    <ul>\n",
    "        <li>\n",
    "Local disk, Earth Engine assets, and Google Cloud Storage\n",
    "        </li>\n",
    "    </ul>\n",
    "    <li>\n",
    "Support for writing spatial R data frames to EE-compliant sources\n",
    "    </li>\n",
    "    <li>\n",
    "It is a CRAN package!\n",
    "    </li>\n",
    "</ul>\n",
    "\n"
   ]
  },
  {
   "cell_type": "markdown",
   "metadata": {
    "slideshow": {
     "slide_type": "slide"
    }
   },
   "source": [
    "## What is in a name? *qgisprocess*\n",
    "\n",
    "<ul>\n",
    "    <li>\n",
    "R integration package for accessing QGIS from R\n",
    "    </li>\n",
    "    <ul>\n",
    "        <li>\n",
    "Experimental support for use of sf and raster objects\n",
    "        </li>\n",
    "    </ul>\n",
    "    <li>\n",
    "Support for calling QGIS functions from R\n",
    "    </li>\n",
    "    <li>\n",
    "Focused towards integrating QGIS functions in R\n",
    "    </li>\n",
    "</ul>\n",
    "\n"
   ]
  },
  {
   "cell_type": "markdown",
   "metadata": {
    "slideshow": {
     "slide_type": "slide"
    }
   },
   "source": [
    "## A Closer Look: *qgisprocess*\n",
    "\n",
    "\n",
    "<ul>\n",
    "    <li>\n",
    "Intended for reinforcing the R analysis ecosystem with QGIS functions\n",
    "    </li>\n",
    "    <li>\n",
    "Used in automating QGIS tasks in R workflows\n",
    "    </li>\n",
    "    <li>\n",
    "Allows executing QGIS Python scripts using reticulate\n",
    "    </li>\n",
    "    <li>\n",
    "It is the latest version that supersedes\n",
    "    </li>\n",
    "    <ul>\n",
    "        <li>\n",
    "RQGIS, RQGIS3\n",
    "        </li>\n",
    "    </ul>\n",
    "</ul>\n",
    "\n"
   ]
  },
  {
   "cell_type": "markdown",
   "metadata": {
    "slideshow": {
     "slide_type": "slide"
    }
   },
   "source": [
    "## What is in a name? RSAGA\n",
    "\n",
    "<ul>\n",
    "    <li>\n",
    "R integration package for accessing SAGA functions from R\n",
    "    </li>\n",
    "    <li>\n",
    "Built with bringing SAGA functions for terrain analysis into R\n",
    "    </li>\n",
    "    <li>\n",
    "Focuses on script automation of SAGA functions in R\n",
    "    </li>\n",
    "</ul>\n",
    "\n"
   ]
  },
  {
   "cell_type": "markdown",
   "metadata": {
    "slideshow": {
     "slide_type": "slide"
    }
   },
   "source": [
    "## A Closer Look: *RSAGA*\n",
    "\n",
    "<ul>\n",
    "    <li>\n",
    "Provides R functions to SAGA backend\n",
    "    </li>\n",
    "    <li>\n",
    "SAGA calls require local ASCII or grid files\n",
    "    </li>\n",
    "    <ul>\n",
    "        <li>\n",
    "No support for spatial R-dataframe input\n",
    "        </li>\n",
    "    </ul>\n",
    "    <li>\n",
    "Enriches spatial R analysis ecosystem via\n",
    "    </li>\n",
    "    <ul>\n",
    "        <li>\n",
    "Raster-based Index calculations\n",
    "        </li>\n",
    "        <li>\n",
    "Specific terrain analysis functions\n",
    "        </li>\n",
    "    </ul>\n",
    "    <li>\n",
    "It is a CRAN package!\n",
    "    </li>\n",
    "</ul>\n",
    "\n"
   ]
  },
  {
   "cell_type": "markdown",
   "metadata": {},
   "source": [
    "# Congratulations!\n",
    "You finished an hour of CI! Insert your name and click below to generate your certificate."
   ]
  },
  {
   "cell_type": "code",
   "execution_count": null,
   "metadata": {
    "hide_input": false,
    "slideshow": {
     "slide_type": "-"
    },
    "tags": [
     "Hide",
     "Init"
    ]
   },
   "outputs": [],
   "source": [
    "\n",
    "# This code cell loads the Interact Textbox that will ask users for their name\n",
    "# Once they click \"Create Certificate\" then it will add their name to the certificate template\n",
    "# And present them a PDF certificate\n",
    "from PIL import Image\n",
    "from PIL import ImageFont\n",
    "from PIL import ImageDraw\n",
    "\n",
    "from ipywidgets import interact\n",
    "\n",
    "def make_cert(learner_name, lesson_name):\n",
    "    cert_filename = 'hourofci_certificate.pdf'\n",
    "\n",
    "    img = Image.open(\"../../supplementary/hci-certificate-template.jpg\")\n",
    "    draw = ImageDraw.Draw(img)\n",
    "\n",
    "    cert_font   = ImageFont.truetype('../../supplementary/cruft.ttf', 150)\n",
    "    cert_fontsm = ImageFont.truetype('../../supplementary/cruft.ttf', 80)\n",
    "    \n",
    "    _,_,w,h = cert_font.getbbox(learner_name)  \n",
    "    draw.text( xy = (1650-w/2,1100-h/2), text = learner_name, fill=(0,0,0),font=cert_font)\n",
    "    \n",
    "    _,_,w,h = cert_fontsm.getbbox(lesson_name)\n",
    "    draw.text( xy = (1650-w/2,1100-h/2 + 750), text = lesson_name, fill=(0,0,0),font=cert_fontsm)\n",
    "    \n",
    "    img.save(cert_filename, \"PDF\", resolution=100.0)   \n",
    "    return cert_filename\n",
    "\n",
    "\n",
    "interact_cert=interact.options(manual=True, manual_name=\"Create Certificate\")\n",
    "\n",
    "@interact_cert(name=\"Your Name\")\n",
    "def f(name):\n",
    "    print(\"Congratulations\",name)\n",
    "    filename = make_cert(name, 'Intermediate Spatial Modeling and Analytics')\n",
    "    print(\"Download your certificate by clicking the link below.\")\n",
    "    \n",
    "    \n",
    "    "
   ]
  },
  {
   "cell_type": "markdown",
   "metadata": {},
   "source": [
    "<font size=\"+1\"><a style=\"background-color:blue;color:white;padding:12px;margin:10px;font-weight:bold;\" href=\"hourofci_certificate.pdf?download=1\" download=\"hourofci_certificate.pdf\">Download your certificate</a></font>\n",
    "\n"
   ]
  }
 ],
 "metadata": {
  "celltoolbar": "Slideshow",
  "kernelspec": {
   "display_name": "R",
   "language": "R",
   "name": "ir"
  },
  "language_info": {
   "codemirror_mode": "r",
   "file_extension": ".r",
   "mimetype": "text/x-r-source",
   "name": "R",
   "pygments_lexer": "r",
   "version": "4.2.2"
  },
  "rise": {
   "autolaunch": true,
   "overlay": "<div class='hciheader'></div><div class='hcifooter'></div>",
   "scroll": true
  }
 },
 "nbformat": 4,
 "nbformat_minor": 4
}
