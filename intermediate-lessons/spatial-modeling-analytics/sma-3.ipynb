{
 "cells": [
  {
   "cell_type": "markdown",
   "metadata": {
    "slideshow": {
     "slide_type": "slide"
    }
   },
   "source": [
    "## Spatial Modeling and Analytics\n",
    "\n",
    "### Segment 2 of 5\n",
    "# Coding in R"
   ]
  },
  {
   "cell_type": "markdown",
   "metadata": {
    "slideshow": {
     "slide_type": "slide"
    }
   },
   "source": [
    "## Reminder\n",
    "<a href=\"#/slide-2-0\" class=\"navigate-right\" style=\"background-color:blue;color:white;padding:8px;margin:2px;font-weight:bold;\">Continue with the lesson</a>\n",
    "\n",
    "<br>\n",
    "</br>\n",
    "<font size=\"+1\">\n",
    "\n",
    "By continuing with this lesson you are granting your permission to take part in this research study for the Hour of Cyberinfrastructure: Developing Cyber Literacy for GIScience project. In this study, you will be learning about cyberinfrastructure and related concepts using a web-based platform that will take approximately one hour per lesson. Participation in this study is voluntary.\n",
    "\n",
    "Participants in this research must be 18 years or older. If you are under the age of 18 then please exit this webpage or navigate to another website such as the Hour of Code at https://hourofcode.com, which is designed for K-12 students.\n",
    "\n",
    "If you are not interested in participating please exit the browser or navigate to this website: http://www.umn.edu. Your participation is voluntary and you are free to stop the lesson at any time.\n",
    "\n",
    "For the full description please navigate to this website: <a href=\"../../gateway-lesson/gateway/gateway-1.ipynb\">Gateway Lesson Research Study Permission</a>.\n",
    "\n",
    "</font>"
   ]
  },
  {
   "cell_type": "code",
   "execution_count": null,
   "metadata": {
    "hide_input": true,
    "init_cell": true,
    "slideshow": {
     "slide_type": "skip"
    },
    "tags": [
     "Hide"
    ]
   },
   "outputs": [],
   "source": [
    "# This code cell starts the necessary setup for Hour of CI lesson notebooks.\n",
    "# First, it enables users to hide and unhide code by producing a 'Toggle raw code' button below.\n",
    "# Second, it imports the hourofci package, which is necessary for lessons and interactive Jupyter Widgets.\n",
    "# Third, it helps hide/control other aspects of Jupyter Notebooks to improve the user experience\n",
    "# This is an initialization cell\n",
    "# It is not displayed because the Slide Type is 'Skip'\n",
    "\n",
    "from IPython.display import HTML, IFrame, Javascript, display\n",
    "from ipywidgets import interactive\n",
    "import ipywidgets as widgets\n",
    "from ipywidgets import Layout\n",
    "\n",
    "import getpass # This library allows us to get the username (User agent string)\n",
    "\n",
    "# import package for hourofci project\n",
    "import sys\n",
    "sys.path.append('../../supplementary') # relative path (may change depending on the location of the lesson notebook)\n",
    "import hourofci\n",
    "\n",
    "\n",
    "# load javascript to initialize/hide cells, get user agent string, and hide output indicator\n",
    "# hide code by introducing a toggle button \"Toggle raw code\"\n",
    "HTML(''' \n",
    "    <script type=\"text/javascript\" src=\\\"../../supplementary/js/custom.js\\\"></script>\n",
    "    \n",
    "    <style>\n",
    "        .output_prompt{opacity:0;}\n",
    "    </style>\n",
    "    \n",
    "    <input id=\"toggle_code\" type=\"button\" value=\"Toggle raw code\">\n",
    "''')"
   ]
  },
  {
   "cell_type": "markdown",
   "metadata": {
    "slideshow": {
     "slide_type": "slide"
    }
   },
   "source": [
    "## How to work with R?\n",
    "\n",
    "<center>\n",
    "    <table style=\"background-color:white;\">\n",
    "        <tr style=\"background-color:white;\">\n",
    "            <td style=\"width:30%;text-align:left;\">\n",
    "                <center><img src = \"supplementary/r_logo.png\" width = 100 height = 100></center>\n",
    "                <ul>\n",
    "                    <li>\n",
    "IDE specifically designed for R\n",
    "                    </li>\n",
    "                    <li>\n",
    "Common choice in R community\n",
    "                    </li>\n",
    "                    <li>\n",
    "Free\n",
    "                    </li>\n",
    "                                        <li>\n",
    "Integrated Visualization\n",
    "                    </li>\n",
    "                                        <li>\n",
    "Support for R Markdown\n",
    "                    </li>\n",
    "                </ul>\n",
    "            </td>\n",
    "            <td style=\"width:30%;text-align:left;\">\n",
    "                <center><img src = \"supplementary/jupyter_logo.png\" width = 50 height = 100></center>\n",
    "                <ul>\n",
    "                    <li>\n",
    "Native support for R notebooks\n",
    "                    </li>\n",
    "                    <li>\n",
    "Interactive analysis\n",
    "                    </li>\n",
    "                    <li>\n",
    "Free\n",
    "                    </li>\n",
    "                </ul>\n",
    "            </td>\n",
    "            <td style=\"width:30%;text-align:left;\">\n",
    "                <center><img src = \"supplementary/vstudio_logo.png\" width = 100 height = 100></center>\n",
    "                <ul>\n",
    "                    <li>\n",
    "Vim and Visual Code are free\n",
    "                    </li>\n",
    "                    <li>\n",
    "Cumbersome to setup for non-developers\n",
    "                    </li>\n",
    "                    <li>\n",
    "Text editor with syntax marking\n",
    "                    </li>\n",
    "                    <li>\n",
    "Useful if working with multiple languages\n",
    "                    </li>\n",
    "                </ul>\n",
    "            </td>\n",
    "        </tr>\n",
    "    </table>\n",
    "</center>"
   ]
  },
  {
   "cell_type": "markdown",
   "metadata": {
    "slideshow": {
     "slide_type": "slide"
    }
   },
   "source": [
    "## Defining R Variables\n",
    "\n",
    "var <- my_fun(input1, input2)\n",
    "\n",
    "Variable var contains the output from my_fun\n",
    "\n",
    "<center><img src = \"supplementary/r_variables.png\" width = 700 ></center>\n",
    "\n",
    "\n"
   ]
  },
  {
   "cell_type": "markdown",
   "metadata": {
    "slideshow": {
     "slide_type": "slide"
    }
   },
   "source": [
    "## R Data Types\n",
    "<ul>\n",
    "    <li>\n",
    "Character – Stores str\n",
    "    </li>\n",
    "    <li>\n",
    "Complex – Stores complex numbers. 5 + 4i \n",
    "    </li>\n",
    "    <li>\n",
    "Integer – Stores integers, numbers without floating points. 2, 5, 100\n",
    "    </li>\n",
    "    <li>\n",
    "Logical – Stores Boolean variables. True, False\n",
    "    </li>\n",
    "    <li>\n",
    "Numeric – Generic container for any number. 2, 3.14\n",
    "    </li>\n",
    "</ul>\n",
    "\n"
   ]
  },
  {
   "cell_type": "markdown",
   "metadata": {
    "slideshow": {
     "slide_type": "slide"
    }
   },
   "source": [
    "## R Data Structures\n",
    "\n",
    "<ul>\n",
    "    <li>\n",
    "Data Frame\n",
    "    </li>\n",
    "    <li>\n",
    "Factor\n",
    "    </li>\n",
    "    <li>\n",
    "List\n",
    "    </li>\n",
    "    <li>\n",
    "Matrix\n",
    "    </li>\n",
    "    <li>\n",
    "Vector (Atomic Vector)\n",
    "    </li>\n",
    "</ul>\n",
    "\n",
    "\n"
   ]
  },
  {
   "cell_type": "markdown",
   "metadata": {
    "slideshow": {
     "slide_type": "slide"
    }
   },
   "source": [
    "## More R Data Structures\n",
    "\n",
    "<center>\n",
    "    <table style=\"background-color:white;\">\n",
    "        <tr style=\"background-color:white;\">\n",
    "            <td style=\"width:50%;text-align:left;\">\n",
    "                <ul>\n",
    "                    <li>\n",
    "                        <b>Homogeneous (Single-Type) Data</b>\n",
    "                    </li>\n",
    "                    <li>\n",
    "Can store one type of data\n",
    "                    </li>\n",
    "                    <li>\n",
    "Array(n-dimensional)\n",
    "                    </li>\n",
    "                    <li>\n",
    "Matrix (2D)\n",
    "                    </li>\n",
    "                    <li>\n",
    "Vector (1D)\n",
    "                    </li>\n",
    "                </ul>\n",
    "            </td>     \n",
    "            <td style=\"width:50%;text-align:left;\">\n",
    "                <ul>\n",
    "                    <li>\n",
    "                        <b>Heterogeneous (Multi-Type) Data</b>\n",
    "                    </li>\n",
    "                    <li>\n",
    "Can store multiple types of data\n",
    "                    </li>\n",
    "                    <li>\n",
    "List\n",
    "                    </li>\n",
    "                    <li>\n",
    "r_list <- (‘geo’, 1.2, ‘e’, obj)\n",
    "                    </li>\n",
    "                    <li>\n",
    "Data Frame<br>\n",
    "                        <center><img src = \"supplementary/dataframe.png\" width = 100 height = 100></center>\n",
    "                    </li>\n",
    "                </ul>\n",
    "            </td>\n",
    "        </tr>\n",
    "    </table>\n",
    "</center>\n"
   ]
  },
  {
   "cell_type": "markdown",
   "metadata": {
    "slideshow": {
     "slide_type": "slide"
    }
   },
   "source": [
    "## Summarizing Data Structures\n",
    "\n",
    "<ul>\n",
    "    <li>\n",
    "Common functions to examine variable, var\n",
    "    </li>\n",
    "    <li>\n",
    "typeof(var)\n",
    "    </li>\n",
    "    <li>\n",
    "length(var)\n",
    "    </li>\n",
    "    <li>\n",
    "class(var)\n",
    "    </li>\n",
    "    <li>\n",
    "dim(var)\n",
    "    </li>\n",
    "</ul>\n",
    "\n",
    "\n"
   ]
  },
  {
   "cell_type": "markdown",
   "metadata": {
    "slideshow": {
     "slide_type": "slide"
    }
   },
   "source": [
    "\n",
    "\n",
    "<font size=\"+1\"><a style=\"background-color:blue;color:white;padding:12px;margin:10px;font-weight:bold;\" \n",
    "href=\"sma-4.ipynb\">Click here to go to the next notebook.</a></font>"
   ]
  }
 ],
 "metadata": {
  "celltoolbar": "Slideshow",
  "kernelspec": {
   "display_name": "R",
   "language": "R",
   "name": "ir"
  },
  "language_info": {
   "codemirror_mode": "r",
   "file_extension": ".r",
   "mimetype": "text/x-r-source",
   "name": "R",
   "pygments_lexer": "r",
   "version": "4.2.2"
  },
  "rise": {
   "autolaunch": true,
   "overlay": "<div class='hciheader'></div><div class='hcifooter'></div>",
   "scroll": true
  }
 },
 "nbformat": 4,
 "nbformat_minor": 4
}
