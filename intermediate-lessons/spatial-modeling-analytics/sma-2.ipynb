{
 "cells": [
  {
   "cell_type": "markdown",
   "metadata": {
    "hide_input": true,
    "slideshow": {
     "slide_type": "slide"
    }
   },
   "source": [
    "## Advanced Lesson on Spatial Modeling and Analytics\n",
    "### Segment 1 of 5\n",
    "# Introduction to R"
   ]
  },
  {
   "cell_type": "markdown",
   "metadata": {
    "slideshow": {
     "slide_type": "slide"
    }
   },
   "source": [
    "## Thank you for helping our study\n",
    "\n",
    "\n",
    "<a href=\"#/slide-1-0\" class=\"navigate-right\" style=\"background-color:blue;color:white;padding:8px;margin:2px;font-weight:bold;\">Continue with the lesson</a>\n",
    "\n",
    "Throughout this lesson you will see reminders, like the one below, to ensure that all participants understand that they are in a voluntary research study.\n",
    "\n",
    "### Reminder\n",
    "\n",
    "<font size=\"+1\">\n",
    "\n",
    "By continuing with this lesson you are granting your permission to take part in this research study for the Hour of Cyberinfrastructure: Developing Cyber Literacy for GIScience project. In this study, you will be learning about cyberinfrastructure and related concepts using a web-based platform that will take approximately one hour per lesson. Participation in this study is voluntary.\n",
    "\n",
    "Participants in this research must be 18 years or older. If you are under the age of 18 then please exit this webpage or navigate to another website such as the Hour of Code at https://hourofcode.com, which is designed for K-12 students.\n",
    "\n",
    "If you are not interested in participating please exit the browser or navigate to this website: http://www.umn.edu. Your participation is voluntary and you are free to stop the lesson at any time.\n",
    "\n",
    "For the full description please navigate to this website: <a href=\"../../gateway-lesson/gateway/gateway-1.ipynb\">Gateway Lesson Research Study Permission</a>.\n",
    "\n",
    "</font>"
   ]
  },
  {
   "cell_type": "code",
   "execution_count": null,
   "metadata": {
    "hide_input": true,
    "init_cell": true,
    "slideshow": {
     "slide_type": "skip"
    },
    "tags": [
     "Hide"
    ]
   },
   "outputs": [],
   "source": [
    "# This code cell starts the necessary setup for Hour of CI lesson notebooks.\n",
    "# First, it enables users to hide and unhide code by producing a 'Toggle raw code' button below.\n",
    "# Second, it imports the hourofci package, which is necessary for lessons and interactive Jupyter Widgets.\n",
    "# Third, it helps hide/control other aspects of Jupyter Notebooks to improve the user experience\n",
    "# This is an initialization cell\n",
    "# It is not displayed because the Slide Type is 'Skip'\n",
    "\n",
    "from IPython.display import HTML, IFrame, Javascript, display\n",
    "from ipywidgets import interactive\n",
    "import ipywidgets as widgets\n",
    "from ipywidgets import Layout\n",
    "\n",
    "import getpass # This library allows us to get the username (User agent string)\n",
    "\n",
    "# import package for hourofci project\n",
    "import sys\n",
    "sys.path.append('../../supplementary') # relative path (may change depending on the location of the lesson notebook)\n",
    "import hourofci\n",
    "\n",
    "import warnings\n",
    "warnings.filterwarnings('ignore') # Hide warnings\n",
    "\n",
    "# load javascript to initialize/hide cells, get user agent string, and hide output indicator\n",
    "# hide code by introducing a toggle button \"Toggle raw code\"\n",
    "# HTML(''' \n",
    "#     <script type=\"text/javascript\" src=\\\"../../supplementary/js/custom.js\\\"></script>\n",
    "    \n",
    "#     <input id=\"toggle_code\" type=\"button\" value=\"Toggle raw code\">\n",
    "# ''')\n",
    "\n",
    "HTML(''' \n",
    "    <script type=\"text/javascript\" src=\\\"../../supplementary/js/custom.js\\\"></script>\n",
    "    \n",
    "    <style>\n",
    "        .output_prompt{opacity:0;}\n",
    "    </style>\n",
    "    \n",
    "    <input id=\"toggle_code\" type=\"button\" value=\"Toggle raw code\">\n",
    "''')\n"
   ]
  },
  {
   "cell_type": "markdown",
   "metadata": {
    "slideshow": {
     "slide_type": "slide"
    }
   },
   "source": [
    "## Comparing R and Python\n",
    "\n",
    "<table>\n",
    "    <tr style=\"background: #fff; text-align: left; vertical-align:\">\n",
    "        <td style=\"background: #fff; text-align: left; font-size: 23px;\">\n",
    "            R serves vast amounts of discipline- specific data science packages\n",
    "<li>\n",
    "Biostatistics\n",
    "    </li>\n",
    "    <li>\n",
    "Geostatistics\n",
    "    </li>\n",
    "    <li>\n",
    "Econometrics\n",
    "    </li>\n",
    "          \n",
    "Python has general purpose data-science libraries\n",
    "<li>\n",
    "Deep Learning (Tensorflow, …)\n",
    "    </li>\n",
    "    <li>\n",
    "Machine Learning (scikit-learn, …)\n",
    "    </li>\n",
    "    <li>\n",
    "Used for analysis & build scalable software\n",
    "    </li>         \n",
    "</td>\n",
    "     <td style=\"width: 50%; background: #fff; text-align: left; vertical-align: top;\"> <img src='supplementary/r_python.png' width=\"500\" height=\"700\" alt='map'>\n",
    "        </td>\n",
    "    </tr>\n",
    "</table>\n",
    "\n",
    "\n",
    "\n",
    "\n",
    "\n",
    "\n",
    "\n",
    "\n"
   ]
  },
  {
   "cell_type": "markdown",
   "metadata": {
    "slideshow": {
     "slide_type": "slide"
    }
   },
   "source": [
    "## Strengths of the R Language\n",
    "\n",
    "<ul>\n",
    "    <li>\n",
    "Breadth of available packages\n",
    "    </li>\n",
    "    <ul>\n",
    "        <li>\n",
    "18595 packages as of September 2022\n",
    "        </li>\n",
    "    </ul>\n",
    "    <li>\n",
    "Discipline-specific data science functionality\n",
    "    </li>\n",
    "    <li>\n",
    "Gentle learning curve\n",
    "    </li>\n",
    "    <li>\n",
    "Analysis ecosystem built for \n",
    "    </li>\n",
    "    <ul>\n",
    "        <li>\n",
    "Statistical analysis\n",
    "        </li>\n",
    "        <li>\n",
    "Open-science\n",
    "        </li>\n",
    "    </ul>\n",
    "</ul>\n",
    "    \n",
    "\n"
   ]
  },
  {
   "cell_type": "markdown",
   "metadata": {
    "slideshow": {
     "slide_type": "slide"
    }
   },
   "source": [
    "## Weaknesses of R Language\n",
    "\n",
    "<ul>\n",
    "    <li>\n",
    "        <b>Speed</b>\n",
    "    </li>\n",
    "    <ul>\n",
    "        <li>\n",
    "R is considerably slower than Python\n",
    "        </li>\n",
    "        <li>\n",
    "Loops are notoriously slow\n",
    "        </li>\n",
    "     </ul>\n",
    "    <li>\n",
    "        <b>Memory</b>\n",
    "    </li>\n",
    "    <ul>\n",
    "        <li>\n",
    "R is a single threaded programming language\n",
    "            <ul>\n",
    "                <li>\n",
    "It utilizes a single CPU at a time\n",
    "                </li>\n",
    "                <li>\n",
    "Packages for multithreading exists\n",
    "                </li>\n",
    "                <ul>\n",
    "                    <li>\n",
    "Not a part of base R\n",
    "                    </li>\n",
    "                </ul>\n",
    "            </ul>\n",
    "         <li>\n",
    "Memory bottlenecks occurs very frequently with medium size (1, 2 GB) data\n",
    "        </li>\n",
    "        <li>\n",
    "Inefficient R code is not as forgiving as Python\n",
    "                </li>\n",
    "                <ul>\n",
    "                    <li>\n",
    "Avoid loops as much as possible!\n",
    "                    </li>\n",
    "                </ul>\n",
    "            </ul>\n",
    "\n",
    "\n"
   ]
  },
  {
   "cell_type": "markdown",
   "metadata": {
    "slideshow": {
     "slide_type": "slide"
    }
   },
   "source": [
    "## CRAN [(The Comprehensive R Archive Network)](https://cran.r-project.org/)\n",
    "\n",
    "<ul>\n",
    "    <li>\n",
    "Network of servers that serve R \n",
    "    </li>\n",
    "    <ul>\n",
    "        <li>\n",
    "Executables, source code and documentation\n",
    "        </li>\n",
    "    </ul>\n",
    "    <li>\n",
    "Body that asserts policy and quality control over R packages\n",
    "    </li>\n",
    "    <ul>\n",
    "        <li>\n",
    "Ensuring new packages are open-source\n",
    "        </li>\n",
    "        <li>\n",
    "Upholding documentation quality\n",
    "        </li>\n",
    "        <li>\n",
    "Making sure every R package in CRAN works!\n",
    "        </li>\n",
    "    </ul>\n",
    "    <li>\n",
    "One-stop-shop for downloading R\n",
    "    </li>\n",
    "</ul>\n",
    "\n",
    "\n"
   ]
  },
  {
   "cell_type": "markdown",
   "metadata": {
    "slideshow": {
     "slide_type": "slide"
    }
   },
   "source": [
    "## The R Ecosystem\n",
    "\n",
    "\n",
    "<center><img src='supplementary/r_eco.png' width=\"500\" height=\"700\" alt='map'></center>\n"
   ]
  },
  {
   "cell_type": "markdown",
   "metadata": {
    "slideshow": {
     "slide_type": "slide"
    }
   },
   "source": [
    "## The R Ecosystem: CRAN\n",
    "\n",
    "<ul>\n",
    "    <li>\n",
    "CRAN hosts the vast majority of R packages and their documentation\n",
    "    </li>\n",
    "    <li>\n",
    "All CRAN packages can be installed simply by:\n",
    "    </li>\n",
    "    <ul>\n",
    "        <li>\n",
    "Install.packages(“package_name”)\n",
    "        </li>\n",
    "    </ul>\n",
    "    <li>\n",
    "Serves an exhaustive <a href= https://cran.r-project.org/web/packages/available_packages_by_name.html>list of all supported packages</a>\n",
    "    </li>\n",
    "</ul>\n",
    "\n"
   ]
  },
  {
   "cell_type": "markdown",
   "metadata": {
    "slideshow": {
     "slide_type": "slide"
    }
   },
   "source": [
    "## The R Ecosystem: Bioconductor\n",
    "<ul>\n",
    "    <li>\n",
    "Serves packages related to bioinformatics\n",
    "    </li>\n",
    "    <ul>\n",
    "        <li>\n",
    "Extensive package list for fields such as genomics\n",
    "        </li>\n",
    "    </ul>\n",
    "    <li>\n",
    "More specific in its scope compared to CRAN\n",
    "    </li>\n",
    "    <li>\n",
    "As of September 2022, serves 2140 packages\n",
    "    </li>\n",
    "    <li>\n",
    "Requires an R package, BiocManager, to install packages\n",
    "    </li>\n",
    "    <ul>\n",
    "        <li>\n",
    "BiocManager::install(“package_name”)\n",
    "        </li>\n",
    "    </ul>\n",
    "</ul>\n",
    "    "
   ]
  },
  {
   "cell_type": "markdown",
   "metadata": {
    "slideshow": {
     "slide_type": "slide"
    }
   },
   "source": [
    "## The R Ecosystem: Bioconductor\n",
    "\n",
    "<ul>\n",
    "    <li>\n",
    "Code not contributed to CRAN or Bioconductor\n",
    "    </li>\n",
    "    <li>\n",
    "It is not peer-reviewed and may not have documentation\n",
    "    </li>\n",
    "    <li>\n",
    "Used frequently for personal or ongoing projects\n",
    "    </li>\n",
    "    <li>\n",
    "An R package, devtools, can be used R packages on GitHub directly\n",
    "    </li>\n",
    "    <ul>\n",
    "        <li>\n",
    "devtools::install_github(“owner_name/repo_name\")\n",
    "        </li>\n",
    "    </ul>\n",
    "</ul>\n",
    "\n"
   ]
  },
  {
   "cell_type": "markdown",
   "metadata": {
    "slideshow": {
     "slide_type": "slide"
    }
   },
   "source": [
    "## R Vignettes\n",
    "\n",
    "<ul>\n",
    "    <li>\n",
    "Long-form description of a package\n",
    "    </li>\n",
    "    <li>\n",
    "It is structured as an academic paper\n",
    "    </li>\n",
    "    <ul>\n",
    "        <li>\n",
    "Introduces method(s) implemented\n",
    "        </li>\n",
    "        <li>\n",
    "Showcases use on sample problems\n",
    "        </li>\n",
    "        <li>\n",
    "Introduces use of function parameters\n",
    "        </li>\n",
    "    </ul>\n",
    "    <li>\n",
    "<a href = https://cran.r-project.org/web/packages/spatstat/vignettes/getstart.pdf>Example vignette:</a>\n",
    "    </li>\n",
    "    <ul>\n",
    "        <li>\n",
    "A vignette for spatstat, a commonly used spatial statistics package\n",
    "        </li>\n",
    "    </ul>\n",
    "</ul>\n",
    "\n",
    "\n",
    "\n",
    "\n",
    "\n",
    "\n"
   ]
  },
  {
   "cell_type": "markdown",
   "metadata": {
    "slideshow": {
     "slide_type": "slide"
    }
   },
   "source": [
    "## Task Views\n",
    "\n",
    "<ul>\n",
    "    <li>\n",
    "List of R packages organized within a theme\n",
    "    </li>\n",
    "    <li>\n",
    "Task views organize R package in terms of common analysis type within a theme\n",
    "    </li>\n",
    "    <li>\n",
    "        <a href = https://cran.r-project.org/web/views/Spatial.html>Analysis of Spatial Data task view</a>\n",
    "    </li>\n",
    "    <ul>\n",
    "        <li>\n",
    "Contains a wide array of R packages\n",
    "        </li>\n",
    "        <li>\n",
    "Groups packages with respect to their use in different stages of spatial analysis\n",
    "        </li>\n",
    "    </ul>\n",
    "</ul>\n",
    "\n"
   ]
  },
  {
   "cell_type": "markdown",
   "metadata": {
    "slideshow": {
     "slide_type": "slide"
    }
   },
   "source": [
    "## R Documentation\n",
    "\n",
    "<ul>\n",
    "    <li>\n",
    "It is a PDF and a live document available for every CRAN package\n",
    "    </li>\n",
    "    <li>\n",
    "PDF version can be found in the CRAN page of a package\n",
    "    </li>\n",
    "     <ul>\n",
    "        <li>\n",
    "            See <a href=https://cran.r-project.org/web/packages/spatstat/index.html>spatstat example</a>\n",
    "        </li>\n",
    "    </ul>\n",
    "    <li>\n",
    "Targeted help about a function can be obtained via the R code:\n",
    "    </li>\n",
    "    <ul>\n",
    "        <li>\n",
    "? function_name\n",
    "        </li>\n",
    "    </ul>\n",
    "    <li>\n",
    "Keyword search for a phrase or concept (use quotes for multiple words)\n",
    "    </li>\n",
    "    <ul>\n",
    "        <li>\n",
    "??\"geographically weighted regression\"\n",
    "        </li>\n",
    "    </ul>\n",
    "</ul>\n"
   ]
  },
  {
   "cell_type": "markdown",
   "metadata": {
    "hide_input": false,
    "slideshow": {
     "slide_type": "slide"
    }
   },
   "source": [
    "\n",
    "\n",
    "<font size=\"+1\"><a style=\"background-color:blue;color:white;padding:12px;margin:10px;font-weight:bold;\" href=\"sma-3.ipynb\">Click here to go to the next notebook.</a></font>"
   ]
  }
 ],
 "metadata": {
  "celltoolbar": "Slideshow",
  "kernelspec": {
   "display_name": "R",
   "language": "R",
   "name": "ir"
  },
  "language_info": {
   "codemirror_mode": "r",
   "file_extension": ".r",
   "mimetype": "text/x-r-source",
   "name": "R",
   "pygments_lexer": "r",
   "version": "4.2.2"
  },
  "rise": {
   "autolaunch": true,
   "overlay": "<div class='hciheader'></div><div class='hcifooter'></div>",
   "scroll": true
  }
 },
 "nbformat": 4,
 "nbformat_minor": 4
}
