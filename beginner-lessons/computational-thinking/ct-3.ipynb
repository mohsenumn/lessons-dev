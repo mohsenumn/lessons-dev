{
 "cells": [
  {
   "cell_type": "markdown",
   "metadata": {
    "slideshow": {
     "slide_type": "slide"
    }
   },
   "source": [
    "# Computational Thinking\n",
    "\n",
    "## Segment 2 of 6\n",
    "\n",
    "<i>Lesson Developers: </i>\n",
    "<ul>\n",
    "    <li>\n",
    "    <i>Aaron Weeden, aweeden@shodor.org</i>\n",
    "    </li>\n",
    "    <li>\n",
    "    <i>Eric Shook, eshook@umn.edu</i>\n",
    "    </li>\n",
    "</ul>\n",
    "\n"
   ]
  },
  {
   "cell_type": "code",
   "execution_count": null,
   "metadata": {
    "hide_input": false,
    "init_cell": true,
    "slideshow": {
     "slide_type": "skip"
    },
    "tags": [
     "Hide"
    ]
   },
   "outputs": [],
   "source": [
    "# This code cell starts the necessary setup for Hour of CI lesson notebooks.\n",
    "# First, it enables users to hide and unhide code by producing a 'Toggle raw code' button below.\n",
    "# Second, it imports the hourofci package, which is necessary for lessons and interactive Jupyter Widgets.\n",
    "# Third, it helps hide/control other aspects of Jupyter Notebooks to improve the user experience\n",
    "# This is an initialization cell\n",
    "# It is not displayed because the Slide Type is 'Skip'\n",
    "\n",
    "from IPython.display import HTML, IFrame, Javascript, display\n",
    "from ipywidgets import interactive\n",
    "import ipywidgets as widgets\n",
    "from ipywidgets import Layout, HBox, VBox\n",
    "\n",
    "import getpass # This library allows us to get the username (User agent string)\n",
    "\n",
    "# import package for hourofci project\n",
    "import sys\n",
    "sys.path.append('../../supplementary') # relative path (may change depending on the location of the lesson notebook)\n",
    "import hourofci\n",
    "\n",
    "# load javascript to initialize/hide cells, get user agent string, and hide output indicator\n",
    "# hide code by introducing a toggle button \"Toggle raw code\"\n",
    "HTML(''' \n",
    "    <script type=\"text/javascript\" src=\\\"../../supplementary/js/custom.js\\\"></script>\n",
    "    \n",
    "    <style>\n",
    "        .output_prompt{opacity:0;}\n",
    "    </style>\n",
    "    \n",
    "    <input id=\"toggle_code\" type=\"button\" value=\"Toggle raw code\">\n",
    "''')"
   ]
  },
  {
   "cell_type": "markdown",
   "metadata": {
    "slideshow": {
     "slide_type": "slide"
    }
   },
   "source": [
    "## Reminder\n",
    "<a href=\"#/slide-2-0\" class=\"navigate-right\" style=\"background-color:blue;color:white;padding:8px;margin:2px;font-weight:bold;\">Continue with the lesson</a>\n",
    "\n",
    "<br>\n",
    "</br>\n",
    "<font size=\"+1\">\n",
    "\n",
    "By continuing with this lesson you are granting your permission to take part in this research study for the Hour of Cyberinfrastructure: Developing Cyber Literacy for GIScience project. In this study, you will be learning about cyberinfrastructure and related concepts using a web-based platform that will take approximately one hour per lesson. Participation in this study is voluntary.\n",
    "\n",
    "Participants in this research must be 18 years or older. If you are under the age of 18 then please exit this webpage or navigate to another website such as the Hour of Code at https://hourofcode.com, which is designed for K-12 students.\n",
    "\n",
    "If you are not interested in participating please exit the browser or navigate to this website: http://www.umn.edu. Your participation is voluntary and you are free to stop the lesson at any time.\n",
    "\n",
    "For the full description please navigate to this website: <a href=\"../../gateway-lesson/gateway/gateway-1.ipynb\">Gateway Lesson Research Study Permission</a>.\n",
    "\n",
    "</font>"
   ]
  },
  {
   "cell_type": "markdown",
   "metadata": {
    "slideshow": {
     "slide_type": "slide"
    }
   },
   "source": [
    "## Let's take a step back.\n",
    "Before we dive into the details of our simulation, let's take a step back to answer the question: What is computational thinking?\n",
    "\n",
    "\n",
    "Click on <a href=\"https://www.bbc.co.uk/bitesize/guides/zp92mp3/revision/1\">this link</a> and read this short overview.\n",
    " \n"
   ]
  },
  {
   "cell_type": "markdown",
   "metadata": {
    "slideshow": {
     "slide_type": "slide"
    }
   },
   "source": [
    "## The 4 cornerstones of computational thinking\n",
    "Mark the 4 cornerstones below."
   ]
  },
  {
   "cell_type": "code",
   "execution_count": null,
   "metadata": {
    "hide_input": false,
    "slideshow": {
     "slide_type": "-"
    },
    "tags": [
     "Init",
     "Hide"
    ]
   },
   "outputs": [],
   "source": [
    "check1 = widgets.Checkbox(\n",
    "    value=False,\n",
    "    description='Decomposition',\n",
    "    disabled=False\n",
    ")\n",
    "check2 = widgets.Checkbox(\n",
    "    value=False,\n",
    "    description='Fire',\n",
    "    disabled=False\n",
    ")\n",
    "check3 = widgets.Checkbox(\n",
    "    value=False,\n",
    "    description='Pattern Recognition',\n",
    "    disabled=False\n",
    ")\n",
    "check4 = widgets.Checkbox(\n",
    "    value=False,\n",
    "    description='Abstraction',\n",
    "    disabled=False\n",
    ")\n",
    "check5 = widgets.Checkbox(\n",
    "    value=False,\n",
    "    description='Technology',\n",
    "    disabled=False\n",
    ")\n",
    "check6 = widgets.Checkbox(\n",
    "    value=False,\n",
    "    description='Algorithms',\n",
    "    disabled=False\n",
    ")\n",
    "# Submit button\n",
    "button1 = widgets.Button(\n",
    "    description = 'Submit',\n",
    "    disabled = False,\n",
    "    button_style = '',\n",
    "    icon = 'check'\n",
    ")\n",
    "\n",
    "# Output\n",
    "output1 = widgets.Output()\n",
    "hb1 = HBox([check1, check3, check2])\n",
    "hb2 = HBox([check4, check5, check6])\n",
    "vb = VBox([hb1, hb2])\n",
    "\n",
    "display(vb, button1, output1)\n",
    "# Output function\n",
    "def out(b):\n",
    "    with output1:\n",
    "        output1.clear_output()\n",
    "        if (check1.value and check3.value and check4.value and check6.value and not check2.value and not check5.value):\n",
    "            print(\"Correct!\")\n",
    "        else:\n",
    "            print(\"Not quite! See the correct answer in the next slide.\")\n",
    "\n",
    "# Handle click event\n",
    "button1.on_click(out)"
   ]
  },
  {
   "cell_type": "markdown",
   "metadata": {
    "slideshow": {
     "slide_type": "slide"
    }
   },
   "source": [
    "## The 4 cornerstones of computational thinking\n",
    "Yes, the four cornerstones are:\n",
    "<ul>\n",
    "    <li>\n",
    "Decomposition\n",
    "    </li>\n",
    "    <li>\n",
    "Pattern Recognition\n",
    "    </li>\n",
    "    <li>\n",
    "Abstraction\n",
    "    </li>\n",
    "    <li>\n",
    "Algorithms\n",
    "    </li>\n",
    "</ul>\n",
    "    \n",
    "\n"
   ]
  },
  {
   "cell_type": "markdown",
   "metadata": {
    "slideshow": {
     "slide_type": "slide"
    }
   },
   "source": [
    "## Let's keep going.\n",
    "\n",
    "Computational thinking requires us to take a complex problem and break it into components. This breakdown allows us to understand what the problem is, how it functions, and how it can be solved. These solutions can then be pieced together so that we, and the computer, can solve the problem.\n",
    "We might breakdown components of a problem in different ways depending on the context. And one very helpful way of understanding a problem is to visualize, or show, what’s going on computationally or procedurally, in graphic form.\n"
   ]
  },
  {
   "cell_type": "markdown",
   "metadata": {
    "slideshow": {
     "slide_type": "slide"
    }
   },
   "source": [
    "## Using color to visualize\n",
    "In the simulation you just saw, your computer showed you pictures of trees to _visualize_ a forest. An example of a different _visualization_ would be to show trees as colors instead of pictures. For example, on the next slide, green squares represent healthy trees, red squares represent burning trees, and black squares represent burnt trees. It is the same _simulation_ you saw before, but now we _visualize_ trees differently."
   ]
  },
  {
   "cell_type": "code",
   "execution_count": null,
   "metadata": {
    "hide_input": true,
    "slideshow": {
     "slide_type": "slide"
    },
    "tags": [
     "Hide",
     "Init",
     "2A"
    ]
   },
   "outputs": [],
   "source": [
    "IFrame(src=\"supplementary/fire-colors.html\", width=350, height=450)\n"
   ]
  },
  {
   "cell_type": "markdown",
   "metadata": {
    "slideshow": {
     "slide_type": "slide"
    }
   },
   "source": [
    "This visualization allows us to present the data in a generalized way. This visualization might be easier to follow, process, analyze, or share, or have other advantages. Taking into account how computation is perceived is an important part of the entirety of the computation process!\n",
    "  \n",
    "Breaking down a computational problem into simpler components is essential in thinking computationally. Why worry about the details of a tree when a color suffices? Or even simpler, a number?"
   ]
  },
  {
   "cell_type": "markdown",
   "metadata": {
    "slideshow": {
     "slide_type": "slide"
    }
   },
   "source": [
    "### Which is the simplest?"
   ]
  },
  {
   "cell_type": "code",
   "execution_count": null,
   "metadata": {
    "hide_input": false,
    "slideshow": {
     "slide_type": "-"
    },
    "tags": [
     "Init",
     "Hide"
    ]
   },
   "outputs": [],
   "source": [
    "o1='An image of a tree'\n",
    "o2='A green colored box'\n",
    "o3='A number'\n",
    "\n",
    "widget1 = widgets.RadioButtons(\n",
    "    options = [o1, o2, o3],\n",
    "    description = '', style={'description_width': 'initial'},\n",
    "    layout = Layout(width='100%'),\n",
    "    value = None\n",
    ")\n",
    "\n",
    "display(widget1)\n",
    "\n",
    "hourofci.SubmitBtn2(widget1)\n"
   ]
  },
  {
   "cell_type": "markdown",
   "metadata": {
    "slideshow": {
     "slide_type": "slide"
    }
   },
   "source": [
    "## Abstraction\n",
    "A number is the simplest. It is simpler than a green colored box and an image of a tree. So let's make it really simple.\n"
   ]
  },
  {
   "cell_type": "markdown",
   "metadata": {
    "slideshow": {
     "slide_type": "slide"
    }
   },
   "source": [
    "<font size=\"+1\"><a style=\"background-color:blue;color:white;padding:12px;margin:10px;font-weight:bold;\" \n",
    "href=\"ct-4.ipynb\">Continue the journey: Next Example</a></font>"
   ]
  }
 ],
 "metadata": {
  "celltoolbar": "Edit Metadata",
  "kernelspec": {
   "display_name": "Python 3 (ipykernel)",
   "language": "python",
   "name": "python3"
  },
  "language_info": {
   "codemirror_mode": {
    "name": "ipython",
    "version": 3
   },
   "file_extension": ".py",
   "mimetype": "text/x-python",
   "name": "python",
   "nbconvert_exporter": "python",
   "pygments_lexer": "ipython3",
   "version": "3.8.1"
  },
  "rise": {
   "autolaunch": true,
   "overlay": "<div class='hciheader'></div><div class='hcifooter'></div>",
   "scroll": true
  }
 },
 "nbformat": 4,
 "nbformat_minor": 4
}
