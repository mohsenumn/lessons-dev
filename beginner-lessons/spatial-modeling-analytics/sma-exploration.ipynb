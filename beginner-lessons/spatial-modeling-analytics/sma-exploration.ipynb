{
 "cells": [
  {
   "cell_type": "markdown",
   "id": "9419ee6a",
   "metadata": {
    "slideshow": {
     "slide_type": "slide"
    }
   },
   "source": [
    "## Spatial Modeling and Analytics\n",
    "### Segment 5 of 5\n",
    "# Exploration\n",
    "># A Simple Site Selection Example\n",
    "\n",
    "<i>Lesson Developers: </i>\n",
    "<ul>\n",
    "    <li>\n",
    "    <i>Karen Kemp (kakemp@usc.edu)</i>\n",
    "    </li>\n",
    "    <li>\n",
    "    <i>Nafiseh Haghtalab (haghtala@msu.edu)</i>\n",
    "    </li>\n",
    "    <li>\n",
    "    <i>Mohsen Ahmadkhani (ahmad178@umn.edu)</i>\n",
    "    </li>\n",
    "    <li>\n",
    "    <i>Joshua Levitt</i>\n",
    "    </li>\n",
    "</ul>"
   ]
  },
  {
   "cell_type": "code",
   "execution_count": null,
   "id": "2b73063c",
   "metadata": {
    "hide_input": true,
    "init_cell": true,
    "slideshow": {
     "slide_type": "skip"
    },
    "tags": [
     "Hide"
    ]
   },
   "outputs": [],
   "source": [
    "# This code cell starts the necessary setup for Hour of CI lesson notebooks.\n",
    "# First, it enables users to hide and unhide code by producing a 'Toggle raw code' button below.\n",
    "# Second, it imports the hourofci package, which is necessary for lessons and interactive Jupyter Widgets.\n",
    "# Third, it helps hide/control other aspects of Jupyter Notebooks to improve the user experience\n",
    "# This is an initialization cell\n",
    "# It is not displayed because the Slide Type is 'Skip'\n",
    "\n",
    "from IPython.display import HTML, IFrame, Javascript, display\n",
    "from ipywidgets import interactive\n",
    "import ipywidgets as widgets\n",
    "from ipywidgets import Layout\n",
    "\n",
    "import getpass # This library allows us to get the username (User agent string)\n",
    "\n",
    "# import package for hourofci project\n",
    "import sys\n",
    "sys.path.append('../../supplementary') # relative path (may change depending on the location of the lesson notebook)\n",
    "import hourofci\n",
    "\n",
    "# load javascript to initialize/hide cells, get user agent string, and hide output indicator\n",
    "# hide code by introducing a toggle button \"Toggle raw code\"\n",
    "HTML(''' \n",
    "    <script type=\"text/javascript\" src=\\\"../../supplementary/js/custom.js\\\"></script>\n",
    "    \n",
    "    <style>\n",
    "        .output_prompt{opacity:0;}\n",
    "    </style>\n",
    "    \n",
    "    <input id=\"toggle_code\" type=\"button\" value=\"Toggle raw code\">\n",
    "''')"
   ]
  },
  {
   "cell_type": "markdown",
   "id": "a38b6791",
   "metadata": {
    "slideshow": {
     "slide_type": "slide"
    }
   },
   "source": [
    "# Let's Create a Basic Site Suitability Model\n",
    "\n",
    "## Goal: \n",
    "Find buildings in a city that are suitable candidates for a new coffee shop business.\n",
    "\n",
    "## Criteria:\n",
    "The candidate buildings should be:\n",
    "1. A building type of commercial, retail, or office building\n",
    "1. At least 400 meters from other coffee shops\n",
    "1. Close to a bikepath\n",
    "1. Close to a cinema\n",
    "\n",
    "## The process:\n",
    "1. Determine the criteria (done!)\n",
    "1. Get data\n",
    "1. Create buffers\n",
    "1. Assign weights\n",
    "1. Intersect and sum values\n",
    "\n",
    "The result is a map showing the site suitability values. Suitability is indicated by the value - high values are highly suitable. "
   ]
  },
  {
   "cell_type": "markdown",
   "id": "fac26845",
   "metadata": {
    "slideshow": {
     "slide_type": "slide"
    }
   },
   "source": [
    "# Get the data\n",
    "First, as usual, we need to import the appropriate python packages, with `osmnx` being the most important one since this is where our data come from."
   ]
  },
  {
   "cell_type": "code",
   "execution_count": null,
   "id": "990655c4",
   "metadata": {
    "slideshow": {
     "slide_type": "fragment"
    }
   },
   "outputs": [],
   "source": [
    "from IPython import get_ipython\n",
    "import osmnx as ox \n",
    "import pandas as pd\n",
    "import geopandas as gpd\n",
    "import folium\n",
    "import matplotlib.pyplot as plt\n",
    "import warnings\n",
    "warnings.filterwarnings(\"ignore\")\n",
    "get_ipython().run_line_magic('matplotlib', 'inline')\n",
    "#Tells jupyter to plot matplotlib figures inline\n"
   ]
  },
  {
   "cell_type": "markdown",
   "id": "786a9a47",
   "metadata": {
    "slideshow": {
     "slide_type": "slide"
    }
   },
   "source": [
    "Since we're going to call for Minneapolis repeatedly, let's set a variable to store our location. \n",
    "\n",
    "[In OSM, you can use standard place names. If you want to run this notebook later for a different place, you can simply put a new placename in here. Remember that since OSM is crowd-sourced, you might not find all the places you want to use in the dataset. However, all major US and global cities are probably there.] "
   ]
  },
  {
   "cell_type": "code",
   "execution_count": null,
   "id": "e6d35200",
   "metadata": {},
   "outputs": [],
   "source": [
    "place = 'Minneapolis, MN'\n",
    "place"
   ]
  },
  {
   "cell_type": "markdown",
   "id": "1a47eeb1",
   "metadata": {
    "slideshow": {
     "slide_type": "slide"
    }
   },
   "source": [
    "Our criteria require that we get data about coffee shops, bikepaths, cinemas and buildings. The OSM data contains all these kinds of data, but we have to extract each one separately for our model.\n",
    "\n",
    "In this first block, we'll get cafes whose cuisine is coffee shop in Minneapolis, Minnesota. \n",
    "We use osmnx to create a gdf (GeoDataFrame) which is stored in the `coffee_shops` variable."
   ]
  },
  {
   "cell_type": "code",
   "execution_count": null,
   "id": "f6702bac",
   "metadata": {
    "slideshow": {
     "slide_type": "fragment"
    }
   },
   "outputs": [],
   "source": [
    "tags = {'amenity':'cafe', 'cuisine':'coffee-shop'}  \n",
    "coffee_shops = ox.geometries_from_place(place, tags) \n",
    "\n",
    "# Convert to UTM\n",
    "coffee_shops = coffee_shops.to_crs('epsg:3174')[['name', 'geometry']]\n",
    "\n",
    "coffee_shops.info()\n",
    "coffee_shops.head()"
   ]
  },
  {
   "cell_type": "markdown",
   "id": "ce83bb97",
   "metadata": {},
   "source": [
    "We got 140 coffee shops, did you? \n",
    "\n",
    "And what does this look like?"
   ]
  },
  {
   "cell_type": "code",
   "execution_count": null,
   "id": "2c94cd4d",
   "metadata": {},
   "outputs": [],
   "source": [
    "coffee_shops.plot()"
   ]
  },
  {
   "cell_type": "markdown",
   "id": "6dfa63e3",
   "metadata": {
    "slideshow": {
     "slide_type": "slide"
    }
   },
   "source": [
    "Next we'll get the bikepaths. Since OSM is crowd-sourced, the tagging of features is often inconsistent. Sometimes you need to use more than one tag to find all the features you are looking for. Here we're using three. \n",
    "\n",
    "[If you want to know more about OSM tags for mapped features, see https://wiki.openstreetmap.org/wiki/Map_features.] "
   ]
  },
  {
   "cell_type": "code",
   "execution_count": null,
   "id": "16741e9c",
   "metadata": {},
   "outputs": [],
   "source": [
    "warnings.filterwarnings(\"ignore\")\n",
    "tags = {'highway':'cycleway','route':'bicycle','cycleway':True}\n",
    "bikepaths = ox.geometries_from_place(place, tags)\n",
    "bikepaths.reset_index(inplace = True)\n",
    "bikepaths = bikepaths[['osmid', 'highway', 'geometry']]\n",
    "bikepaths = bikepaths.to_crs('epsg:3174') \n",
    "bikepaths.plot()\n",
    "bikepaths"
   ]
  },
  {
   "cell_type": "markdown",
   "id": "67b86b16",
   "metadata": {
    "slideshow": {
     "slide_type": "slide"
    }
   },
   "source": [
    "Now get the cinema point features."
   ]
  },
  {
   "cell_type": "code",
   "execution_count": null,
   "id": "31c60bdb",
   "metadata": {
    "slideshow": {
     "slide_type": "fragment"
    }
   },
   "outputs": [],
   "source": [
    "warnings.filterwarnings(\"ignore\")\n",
    "tags = {'amenity':'cinema'} \n",
    "cinemas = ox.geometries_from_place(place, tags)\n",
    "cinemas = cinemas.to_crs('epsg:3174') \n",
    "cinemas.reset_index(inplace = True)\n",
    "# Check and see if all objects are of Point type. If not a Point, then replace it by its centroid.\n",
    "for i, el in cinemas.iterrows():\n",
    "    if el.geometry.type != 'Point':\n",
    "        cinemas.iloc[i, 7] = el.geometry.centroid\n",
    "        \n",
    "cinemas.plot()\n",
    "cinemas"
   ]
  },
  {
   "cell_type": "markdown",
   "id": "78f97bfd",
   "metadata": {
    "slideshow": {
     "slide_type": "slide"
    }
   },
   "source": [
    "Finally fetch the footprints (outlines, i.e. polygons) for commerical, retail and office buildings in Minneapolis. This may take some time, so be patient while waiting for the asterisk to change to a number. "
   ]
  },
  {
   "cell_type": "code",
   "execution_count": null,
   "id": "d3538227",
   "metadata": {
    "slideshow": {
     "slide_type": "fragment"
    }
   },
   "outputs": [],
   "source": [
    "tags = {'building':['commercial','retail','offices']}\n",
    "warnings.filterwarnings(\"ignore\")\n",
    "buildings = ox.geometries_from_place(place, tags)\n",
    "buildings = buildings[buildings.geometry.type=='Polygon']\n",
    "buildings = buildings.to_crs('epsg:3174')[['name', 'type', 'phone', 'building', 'geometry']]\n",
    "buildings.plot(figsize = (20,10))\n",
    "buildings.head()"
   ]
  },
  {
   "cell_type": "markdown",
   "id": "e584ac35",
   "metadata": {},
   "source": [
    "Now, we have all our data. Let's go back to the criteria so we can see how we need to manipulate these data.\n",
    "\n",
    "Recall that the candidate buildings should be:\n",
    "\n",
    "1. A building type of commercial, retail, or office building\n",
    "1. At least 400 meters from other coffee shops\n",
    "1. Close to a bikepath\n",
    "1. Close to a cinema\n",
    "\n",
    "OK, we've already taken care of criteria #1 by getting data about only buildings of these types. To do criteria #2 we need to create buffers..."
   ]
  },
  {
   "cell_type": "markdown",
   "id": "70f41ca9",
   "metadata": {
    "slideshow": {
     "slide_type": "slide"
    }
   },
   "source": [
    "## Create buffers\n",
    "\n",
    "Buffers are used to define the area of influence of features. We'll buffer the coffee shops by 400m as an exclusion zone in which we don't want to select candidate sites. "
   ]
  },
  {
   "cell_type": "code",
   "execution_count": null,
   "id": "7279ec70",
   "metadata": {},
   "outputs": [],
   "source": [
    "coffee_shops_buffer = gpd.GeoDataFrame(coffee_shops.buffer(400), geometry = coffee_shops.buffer(400))\n",
    "coffee_shops_buffer.plot(figsize = (5,5))"
   ]
  },
  {
   "cell_type": "markdown",
   "id": "9dfbabc6",
   "metadata": {
    "slideshow": {
     "slide_type": "slide"
    }
   },
   "source": [
    "Good. This plot shows all those areas that are within 400m buffer of existing coffee shops. We do not want to include buildings in these areas in our result. \n",
    "\n",
    "Now we need to deal with the final two criteria in which locations close to cinemas and bikepaths are more favorable than those that are farther away. Thus places nearby should have higher value in our site selection than places far away - we do this by assigning weights.\n",
    "\n",
    "## Assign weights\n",
    "\n",
    "There are many ways to assign weights in site suitability models. Since this is all vector data, we're going to assign weights by creating concentric buffers with declining value as distance from the feature increases. For example, we prefer places that are close to cinemas, so locations that are less than 500 m get a higher weight than places between 500 and 1000 m, and those get more than places 1000 to 1500m away. Anything futher than 1500 gets no weight at all! \n",
    "\n",
    "Let's see how this works with our Cinema data."
   ]
  },
  {
   "cell_type": "code",
   "execution_count": null,
   "id": "d563a481",
   "metadata": {
    "slideshow": {
     "slide_type": "fragment"
    }
   },
   "outputs": [],
   "source": [
    "# Cinema weighting\n",
    "warnings.filterwarnings(\"ignore\")\n",
    "cinema_df1 = gpd.GeoDataFrame(cinemas.buffer(1500), geometry = cinemas.buffer(1500))\n",
    "cinema_df2 = gpd.GeoDataFrame(cinemas.buffer(1000), geometry = cinemas.buffer(1000))\n",
    "cinema_df3 = gpd.GeoDataFrame(cinemas.buffer(500), geometry = cinemas.buffer(500))\n",
    "\n",
    "cinema3 = cinema_df3\n",
    "cinema3['weight'] = 3\n",
    "\n",
    "cinema2 = gpd.overlay(cinema_df2, cinema_df3, how='difference')\n",
    "cinema2['weight'] = 2\n",
    "\n",
    "cinema1 = gpd.overlay(cinema_df1, cinema_df2, how='difference')\n",
    "cinema1['weight'] = 1\n",
    "\n",
    "ax = cinema3.plot(figsize = (10,10), color = 'red')\n",
    "ax2 = cinemas.plot(ax = ax , color = 'blue')\n",
    "ax3 = cinema2.plot(ax = ax2, color = '#FF7779') \n",
    "cinema1.plot(ax = ax3, color = '#f4c2c2') \n"
   ]
  },
  {
   "cell_type": "markdown",
   "id": "0e41331f",
   "metadata": {},
   "source": [
    "Note how the buffers nest inside of each other. Weights are 3 for the smallest, 2 for the middle one and 1 for the largest/furthest away. \n"
   ]
  },
  {
   "cell_type": "code",
   "execution_count": null,
   "id": "4584cb66",
   "metadata": {
    "slideshow": {
     "slide_type": "fragment"
    }
   },
   "outputs": [],
   "source": [
    "\n",
    "warnings.filterwarnings(\"ignore\")\n",
    "cinema_w = gpd.overlay(cinema1, cinema2, how='union')\n",
    "\n",
    "cinema_w = gpd.overlay(cinema_w, cinema3, how='union')\n",
    "# cinema_w.plot(figsize = (10,10))\n",
    "\n",
    "cinema_w['weights'] = pd.concat([cinema_w['weight_1'].fillna(0).astype('int'), \n",
    "                                 cinema_w['weight_2'].fillna(0).astype('int'), \n",
    "                                 cinema_w['weight'].fillna(0).astype('int')], axis = 1).max(axis=1)\n",
    "\n",
    "cinema_w"
   ]
  },
  {
   "cell_type": "markdown",
   "id": "f841a19f",
   "metadata": {
    "slideshow": {
     "slide_type": "slide"
    }
   },
   "source": [
    "Now we assign weights to the bikepaths. We'll set only 2 weights - 2 for locations less than 150 m away and 1 for locations between 150 to 300m. "
   ]
  },
  {
   "cell_type": "code",
   "execution_count": null,
   "id": "08325c08",
   "metadata": {
    "slideshow": {
     "slide_type": "fragment"
    }
   },
   "outputs": [],
   "source": [
    "warnings.filterwarnings(\"ignore\")\n",
    "bikepaths_df2 = gpd.GeoDataFrame(bikepaths.buffer(150), geometry = bikepaths.buffer(150))\n",
    "bikepaths_df1 = gpd.GeoDataFrame(bikepaths.buffer(300), geometry = bikepaths.buffer(300))\n",
    "\n",
    "bikepaths2 = bikepaths_df2\n",
    "bikepaths2['weight'] = 2\n",
    "\n",
    "bikepaths1 = gpd.overlay(bikepaths_df1, bikepaths_df2, how='difference')\n",
    "bikepaths1['weight'] = 1\n",
    "\n",
    "bikepaths_w = gpd.overlay(bikepaths1, bikepaths2, how='union')\n",
    "\n",
    "fig, (ax1,ax2 , ax3) = plt.subplots(ncols=3, sharex=True, sharey=True, figsize=(20,20))\n",
    "bikepaths1.plot(ax = ax1)\n",
    "bikepaths2.plot(ax = ax2)\n",
    "bikepaths_w.plot(ax = ax3)\n",
    "\n",
    "bikepaths_w['weights'] = pd.concat([bikepaths_w['weight_1'].fillna(0).astype('int'), \n",
    "                                 bikepaths_w['weight_2'].fillna(0).astype('int')], axis = 1).max(axis=1)\n",
    "\n",
    "bikepaths_w\n",
    "\n"
   ]
  },
  {
   "cell_type": "markdown",
   "id": "03a9e955",
   "metadata": {
    "slideshow": {
     "slide_type": "slide"
    }
   },
   "source": [
    "## Intersect and sum values to find the highest value locations"
   ]
  },
  {
   "cell_type": "code",
   "execution_count": null,
   "id": "2237f01f",
   "metadata": {
    "slideshow": {
     "slide_type": "fragment"
    }
   },
   "outputs": [],
   "source": [
    "warnings.filterwarnings(\"ignore\")\n",
    "res_union1 = gpd.overlay(bikepaths_w, coffee_shops_buffer, how='difference')\n",
    "res_union = gpd.overlay(res_union1[res_union1.geometry.type=='Polygon'], cinema_w, how='intersection')\n",
    "# sum up the weights\n",
    "res_union['final_weights'] = res_union['weights_1'].fillna(0).astype('int') + res_union['weights_2'].fillna(0).astype('int')\n",
    "res_union = res_union[['final_weights', 'geometry']] # keep only the final_weights and geometry columns\n",
    "res_union.columns = ['weight', 'geometry'] # rename the columns \n",
    "res_union\n"
   ]
  },
  {
   "cell_type": "code",
   "execution_count": null,
   "id": "bfd30ef2",
   "metadata": {
    "slideshow": {
     "slide_type": "slide"
    }
   },
   "outputs": [],
   "source": [
    "res_union.plot(figsize = (10,10), column = 'weight', cmap = 'Reds')\n"
   ]
  },
  {
   "cell_type": "markdown",
   "id": "21e418b5",
   "metadata": {
    "slideshow": {
     "slide_type": "slide"
    }
   },
   "source": [
    "Visualize the final result on a folium interactive map. \n",
    "\n",
    "When you hover over each point, you’ll see the area of the footprint of the available building in square meters. \n",
    "\n",
    "By clicking on each building you can see its properties like \"Type,\" \"Name,\" and \"Phone.\""
   ]
  },
  {
   "cell_type": "code",
   "execution_count": null,
   "id": "97e5a1dc",
   "metadata": {
    "slideshow": {
     "slide_type": "fragment"
    }
   },
   "outputs": [],
   "source": [
    "warnings.filterwarnings(\"ignore\")\n",
    "sites = gpd.overlay(res_union, buildings, how='intersection')\n",
    "sites['geo_area'] = sites.area\n",
    "\n",
    "sites = sites.to_crs(epsg='4326')\n",
    "sites['centroid'] = sites.centroid\n",
    "m = folium.Map(location = [44.96, -93.2650], tiles='OpenStreetMap' , zoom_start = 12)\n",
    "\n",
    "\n",
    "for _, r in sites.iterrows():\n",
    "\n",
    "    sim_geo = gpd.GeoSeries(r['geometry'])\n",
    "    geo_j = sim_geo.to_json()\n",
    "    geo_j = folium.GeoJson(data=geo_j, \n",
    "                           style_function = lambda x: {'color': 'red', 'weight': 1,  'fillColor': 'YlGnBu'})\n",
    "    folium.Popup(f\"<i>Type: {r['building']}, Area: {r['geo_area']}</i>\").add_to(geo_j)\n",
    "\n",
    "    \n",
    "    geo_j.add_to(m)\n",
    "    \n",
    "    folium.Marker([r['centroid'].y, r['centroid'].x], popup=f\"<i>Type: {r['building']}, Name: {r['name']}, Phone: {r['phone']}</i>\", tooltip=f\"<i>Area: {r['geo_area']}</i>\").add_to(m)\n",
    "\n",
    "\n",
    "m"
   ]
  },
  {
   "cell_type": "markdown",
   "id": "075a9c93",
   "metadata": {},
   "source": [
    "# Congratulations!\n",
    "\n",
    "\n",
    "**You have finished an Hour of CI!**\n",
    "\n",
    "\n",
    "But, before you go ... \n",
    "\n",
    "1. Please fill out a very brief questionnaire to provide feedback and help us improve the Hour of CI lessons. It is fast and your feedback is very important to let us know what you learned and how we can improve the lessons in the future.\n",
    "2. If you would like a certificate, then please type your name below and click \"Create Certificate\" and you will be presented with a PDF certificate.\n",
    "\n",
    "<font size=\"+1\"><a style=\"background-color:blue;color:white;padding:12px;margin:10px;font-weight:bold;\" href=\"https://forms.gle/JUUBm76rLB8iYppN7\">Take the questionnaire and provide feedback</a></font>"
   ]
  },
  {
   "cell_type": "code",
   "execution_count": null,
   "id": "8b926a25",
   "metadata": {
    "hide_input": false,
    "slideshow": {
     "slide_type": "-"
    },
    "tags": [
     "Hide",
     "Init"
    ]
   },
   "outputs": [],
   "source": [
    "\n",
    "# This code cell loads the Interact Textbox that will ask users for their name\n",
    "# Once they click \"Create Certificate\" then it will add their name to the certificate template\n",
    "# And present them a PDF certificate\n",
    "from PIL import Image\n",
    "from PIL import ImageFont\n",
    "from PIL import ImageDraw\n",
    "\n",
    "from ipywidgets import interact\n",
    "\n",
    "def make_cert(learner_name, lesson_name):\n",
    "    cert_filename = 'hourofci_certificate.pdf'\n",
    "\n",
    "    img = Image.open(\"../../supplementary/hci-certificate-template.jpg\")\n",
    "    draw = ImageDraw.Draw(img)\n",
    "\n",
    "    cert_font   = ImageFont.truetype('../../supplementary/cruft.ttf', 150)\n",
    "    cert_fontsm = ImageFont.truetype('../../supplementary/cruft.ttf', 80)\n",
    "    \n",
    "    _,_,w,h = cert_font.getbbox(learner_name)  \n",
    "    draw.text( xy = (1650-w/2,1100-h/2), text = learner_name, fill=(0,0,0),font=cert_font)\n",
    "    \n",
    "    _,_,w,h = cert_fontsm.getbbox(lesson_name)\n",
    "    draw.text( xy = (1650-w/2,1100-h/2 + 750), text = lesson_name, fill=(0,0,0),font=cert_fontsm)\n",
    "    \n",
    "    img.save(cert_filename, \"PDF\", resolution=100.0)   \n",
    "    return cert_filename\n",
    "\n",
    "\n",
    "interact_cert=interact.options(manual=True, manual_name=\"Create Certificate\")\n",
    "\n",
    "@interact_cert(name=\"Your Name\")\n",
    "def f(name):\n",
    "    print(\"Congratulations\",name)\n",
    "    filename = make_cert(name, 'Beginner Spatial Modeling and Analytics')\n",
    "    print(\"Download your certificate by clicking the link below.\")\n",
    "    \n",
    "    \n",
    "    "
   ]
  },
  {
   "cell_type": "markdown",
   "id": "0848ae91",
   "metadata": {},
   "source": [
    "<font size=\"+1\"><a style=\"background-color:blue;color:white;padding:12px;margin:10px;font-weight:bold;\" href=\"hourofci_certificate.pdf?download=1\" download=\"hourofci_certificate.pdf\">Download your certificate</a></font>\n"
   ]
  }
 ],
 "metadata": {
  "celltoolbar": "Edit Metadata",
  "kernelspec": {
   "display_name": "Python 3 (ipykernel)",
   "language": "python",
   "name": "python3"
  },
  "language_info": {
   "codemirror_mode": {
    "name": "ipython",
    "version": 3
   },
   "file_extension": ".py",
   "mimetype": "text/x-python",
   "name": "python",
   "nbconvert_exporter": "python",
   "pygments_lexer": "ipython3",
   "version": "3.8.1"
  }
 },
 "nbformat": 4,
 "nbformat_minor": 5
}
