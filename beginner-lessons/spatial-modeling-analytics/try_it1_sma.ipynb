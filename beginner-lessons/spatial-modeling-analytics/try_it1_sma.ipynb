{
 "cells": [
  {
   "cell_type": "markdown",
   "id": "4384e781",
   "metadata": {},
   "source": [
    "## Spatial Modeling and Analytics Try-it Notebook #1\n",
    "### Spatial analysis on elevation data"
   ]
  },
  {
   "cell_type": "markdown",
   "id": "2738eabc",
   "metadata": {
    "slideshow": {
     "slide_type": "slide"
    }
   },
   "source": [
    "Now we'll just work in a notebook without using slides. Just scroll down through the series of code blocks, executing them as you go. Run through this notebook as presented without making any changes, then when you're done, try experimenting with the code by making minor modifications. Enjoy!\n",
    "\n",
    "Remember for each of the code chunks below, click the arrow to the left of the box. Be patient, sometimes these take a few seconds to execute. Wait for the asterisk to change into a number. \n",
    "\n",
    "First of all, as in all Python programs, we have to load the special program libraries we want to use. Noteably, we're going to use some very specialized packages here:\n",
    "\n",
    "- <a href=\"https://osmnx.readthedocs.io/en/stable/\">OSMNX</a> (imported as \"os\") - \"OSMnx is a Python package that lets you download geospatial data from Open Street Map and model, project, visualize, and analyze real-world street networks and any other geospatial geometries.\" It's a very large package with lots of spatial analysis tools specially for modeling on networks, but we're just going to use it here to download data from Open Street Map. \n",
    "\n",
    "- <a href=\"http://elevation.bopen.eu/en/stable/\">Elevation</a> - Elevation provides \"Easy access to global terrain digital elevation models, SRTM 30m DEM and SRTM 90m DEM\".\n",
    "\n",
    "- <a href=\"https://www.osgeo.org/\">OSGEO</a> is a foundation that provides access to a broad set of open source geospatial software. Here we're getting <a href=\"https://gdal.org/\">gdal</a>. "
   ]
  },
  {
   "cell_type": "code",
   "execution_count": null,
   "id": "241cb25b",
   "metadata": {
    "slideshow": {
     "slide_type": "slide"
    }
   },
   "outputs": [],
   "source": [
    "import os\n",
    "import numpy as np\n",
    "import matplotlib.pyplot as plt\n",
    "from osgeo import gdal\n",
    "from matplotlib.pyplot import figure\n",
    "from mpl_toolkits.axes_grid1 import make_axes_locatable\n",
    "import warnings\n",
    "warnings.filterwarnings('ignore') "
   ]
  },
  {
   "cell_type": "markdown",
   "id": "3afb55c7",
   "metadata": {},
   "source": [
    "Now we are going to get a raster of elevation data (called a digital elevation model \"DEM\") for a specific area defined by a bounding box of lat and long pairs. We're going to start with the area west of Boulder, CO. At <a href=\"https://boundingbox.klokantech.com\">this website</a> we found the four corners of the bounding box for Boulder. "
   ]
  },
  {
   "cell_type": "code",
   "execution_count": null,
   "id": "976ef018",
   "metadata": {},
   "outputs": [],
   "source": [
    "#Path to the file\n",
    "dem_path = os.path.join(os.getcwd(), 'supplementary/bd_30m_DEM.tif')\n",
    "\n",
    "#Open the raster data\n",
    "bd_dem = gdal.Open(dem_path)\n",
    "\n",
    "# Convert gdal.Dataset to numpy ndArray\n",
    "bd_array = bd_dem.ReadAsArray() \n",
    "bd_array"
   ]
  },
  {
   "cell_type": "markdown",
   "id": "c597a1df",
   "metadata": {},
   "source": [
    "Now let's make a plot of this data. We'll use a color ramp designed to visualize terrain."
   ]
  },
  {
   "cell_type": "code",
   "execution_count": null,
   "id": "2adad19b",
   "metadata": {},
   "outputs": [],
   "source": [
    "plt.figure(figsize = (10,10))\n",
    "ax = plt.gca()\n",
    "im = ax.imshow(bd_array, cmap = 'terrain')\n",
    "spliter = make_axes_locatable(ax)\n",
    "cax = spliter.append_axes(\"right\", size = \"5%\", pad = 0.1) \n",
    "plt.colorbar(im, cax=cax)"
   ]
  },
  {
   "cell_type": "markdown",
   "id": "f6d14d13",
   "metadata": {},
   "source": [
    "Since it's elevation, though, we can also make a nice visualization of this elevation data using a hillshade function. "
   ]
  },
  {
   "cell_type": "code",
   "execution_count": null,
   "id": "733df21c",
   "metadata": {
    "slideshow": {
     "slide_type": "fragment"
    }
   },
   "outputs": [],
   "source": [
    "import earthpy as et\n",
    "import earthpy.spatial as es\n",
    "import earthpy.plot as ep\n",
    "\n",
    "hillshade = es.hillshade(bd_array)\n",
    "\n",
    "ep.plot_bands(\n",
    "    hillshade,\n",
    "    cbar=False,\n",
    "    title=\"Hillshade made from DEM of Boulder Colorado\",\n",
    "    figsize=(10, 6),\n",
    ")\n",
    "plt.show()\n"
   ]
  },
  {
   "cell_type": "markdown",
   "id": "057e05fd",
   "metadata": {
    "slideshow": {
     "slide_type": "slide"
    }
   },
   "source": [
    "Now we have the data, let's explore it a bit. What's the elevation at the grid point x = 50, y = 60? (origin is in the lower left corner)."
   ]
  },
  {
   "cell_type": "code",
   "execution_count": null,
   "id": "46d31edf",
   "metadata": {
    "slideshow": {
     "slide_type": "fragment"
    }
   },
   "outputs": [],
   "source": [
    "x = 50\n",
    "y = 60\n",
    "print('Elevation at (x, y) is: ', bd_array[x, y])"
   ]
  },
  {
   "cell_type": "markdown",
   "id": "fced1b5d",
   "metadata": {},
   "source": [
    "What's the elevation value at the cell at one over and one up? i.e. x+1, y+1?"
   ]
  },
  {
   "cell_type": "code",
   "execution_count": null,
   "id": "5abab246",
   "metadata": {},
   "outputs": [],
   "source": [
    "print('Elevation one cell away is: ', bd_array[x+1, y+1])"
   ]
  },
  {
   "cell_type": "markdown",
   "id": "bb53e772",
   "metadata": {},
   "source": [
    "Now you try - what's the elevation 10 cells over and up, and at 100 cells over and up?"
   ]
  },
  {
   "cell_type": "code",
   "execution_count": null,
   "id": "9f11d605",
   "metadata": {},
   "outputs": [],
   "source": [
    "# YOUR CODE HERE!\n"
   ]
  },
  {
   "cell_type": "markdown",
   "id": "46d4b175",
   "metadata": {
    "slideshow": {
     "slide_type": "slide"
    }
   },
   "source": [
    "Question: does TFL hold here?\n",
    "\n",
    "Definitely! Elevation is very highly spatially autocorrelated, so nearby cells will be similar, distant cells less so."
   ]
  },
  {
   "cell_type": "markdown",
   "id": "9fad50a2",
   "metadata": {
    "slideshow": {
     "slide_type": "slide"
    }
   },
   "source": [
    "Finally we can get a value for spatial autocorrelation by running the function for global Moran's I. We'll get this function out of the module pysal. "
   ]
  },
  {
   "cell_type": "code",
   "execution_count": null,
   "id": "0f90005f",
   "metadata": {
    "slideshow": {
     "slide_type": "fragment"
    }
   },
   "outputs": [],
   "source": [
    "import pysal as ps\n",
    "import pysal.explore as pse\n",
    "import pysal.lib as plib\n",
    "\n",
    "w = plib.weights.lat2W(bd_array.shape[0],bd_array.shape[1], rook=False, id_type=\"int\")\n",
    "moran = pse.esda.Moran(bd_array, w)\n",
    "\n",
    "print(f'Measured global Moran\\'s I is: {moran.I}') \n",
    "print(f'P-value of I under normality assumption is: {moran.p_norm}')"
   ]
  },
  {
   "cell_type": "markdown",
   "id": "7a0b565c",
   "metadata": {},
   "source": [
    "As we've mentioned, elevation is very highly autocorrelated, so we find a very high Moran's I value (close to the max) and a very low p-value which indicates this is very likely to be correct. "
   ]
  },
  {
   "cell_type": "markdown",
   "id": "a9fd9cc2",
   "metadata": {
    "slideshow": {
     "slide_type": "slide"
    }
   },
   "source": [
    "<font size=\"+1\"><a style=\"background-color:blue;color:white;padding:12px;margin:10px;font-weight:bold;\" \n",
    "href=\"sma-4.ipynb\">Click here to go to the next notebook.</a></font>"
   ]
  }
 ],
 "metadata": {
  "kernelspec": {
   "display_name": "Python 3 (ipykernel)",
   "language": "python",
   "name": "python3"
  },
  "language_info": {
   "codemirror_mode": {
    "name": "ipython",
    "version": 3
   },
   "file_extension": ".py",
   "mimetype": "text/x-python",
   "name": "python",
   "nbconvert_exporter": "python",
   "pygments_lexer": "ipython3",
   "version": "3.8.1"
  }
 },
 "nbformat": 4,
 "nbformat_minor": 5
}
