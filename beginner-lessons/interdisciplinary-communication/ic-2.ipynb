{
 "cells": [
  {
   "cell_type": "markdown",
   "metadata": {
    "slideshow": {
     "slide_type": "slide"
    }
   },
   "source": [
    "## Interdisciplinary Communication\n",
    "\n",
    "## Segment 1 of 5\n",
    "\n",
    "\n",
    "<i>Lesson Developer: </i>\n",
    "<ul>\n",
    "    <li>\n",
    "    <i>Forrest Bowlick (fbowlick@umass.edu)</i>\n",
    "    </li>\n",
    "</ul>\n"
   ]
  },
  {
   "cell_type": "markdown",
   "metadata": {
    "slideshow": {
     "slide_type": "slide"
    }
   },
   "source": [
    "# Interdisciplinary Communication\n",
    "## Overview\n",
    "\n",
    "Throughout this lesson, you'll think about how we communicate scientific concepts, what makes learning, thinking, or discussing those concepts easy or difficult, and how your understanding of concepts might differ from someone with a different background and experience than your own.\n",
    "\n",
    "*Lesson Developer: Forrest Bowlick fbowlick@umass.edu*"
   ]
  },
  {
   "cell_type": "code",
   "execution_count": 8,
   "metadata": {
    "hide_input": true,
    "init_cell": true,
    "slideshow": {
     "slide_type": "skip"
    },
    "tags": [
     "Hide"
    ]
   },
   "outputs": [
    {
     "data": {
      "text/html": [
       " \n",
       "    <script type=\"text/javascript\" src=\"../../supplementary/js/custom.js\"></script>\n",
       "    \n",
       "    <style>\n",
       "        .output_prompt{opacity:0;}\n",
       "    </style>\n",
       "    \n",
       "    <input id=\"toggle_code\" type=\"button\" value=\"Toggle raw code\">\n"
      ],
      "text/plain": [
       "<IPython.core.display.HTML object>"
      ]
     },
     "execution_count": 8,
     "metadata": {},
     "output_type": "execute_result"
    }
   ],
   "source": [
    "# This code cell starts the necessary setup for Hour of CI lesson notebooks.\n",
    "# First, it enables users to hide and unhide code by producing a 'Toggle raw code' button below.\n",
    "# Second, it imports the hourofci package, which is necessary for lessons and interactive Jupyter Widgets.\n",
    "# Third, it helps hide/control other aspects of Jupyter Notebooks to improve the user experience\n",
    "# This is an initialization cell\n",
    "# It is not displayed because the Slide Type is 'Skip'\n",
    "\n",
    "from IPython.display import HTML, IFrame, Javascript, display, Markdown\n",
    "from ipywidgets import interactive\n",
    "import ipywidgets as widgets\n",
    "from ipywidgets import Layout\n",
    "\n",
    "import getpass # This library allows us to get the username (User agent string)\n",
    "\n",
    "# import package for hourofci project\n",
    "import sys\n",
    "sys.path.append('../../supplementary') # relative path (may change depending on the location of the lesson notebook)\n",
    "import hourofci\n",
    "\n",
    "# load javascript to initialize/hide cells, get user agent string, and hide output indicator\n",
    "# hide code by introducing a toggle button \"Toggle raw code\"\n",
    "HTML(''' \n",
    "    <script type=\"text/javascript\" src=\\\"../../supplementary/js/custom.js\\\"></script>\n",
    "    \n",
    "    <style>\n",
    "        .output_prompt{opacity:0;}\n",
    "    </style>\n",
    "    \n",
    "    <input id=\"toggle_code\" type=\"button\" value=\"Toggle raw code\">\n",
    "''')"
   ]
  },
  {
   "cell_type": "markdown",
   "metadata": {
    "slideshow": {
     "slide_type": "slide"
    }
   },
   "source": [
    "Communicating within and across disciplines, domains, and areas of study can be difficult, especially when learning about a new area of interest.  \n",
    "\n",
    "However, it is essential to be able to talk to people across domains. Building skills in interdisciplinary communication allows you to understand, and be understood, in a diverse set of environments and contexts."
   ]
  },
  {
   "cell_type": "markdown",
   "metadata": {
    "slideshow": {
     "slide_type": "fragment"
    }
   },
   "source": [
    "In the world of cyberinfrastructure, different domains are often interacting with each other in novel and unique ways. But each domain builds its own vocabulary which can be difficult to interact with."
   ]
  },
  {
   "cell_type": "markdown",
   "metadata": {
    "slideshow": {
     "slide_type": "fragment"
    }
   },
   "source": [
    "Let’s look at some examples from our work and see what terminology you feel comfortable with."
   ]
  },
  {
   "cell_type": "markdown",
   "metadata": {
    "slideshow": {
     "slide_type": "slide"
    }
   },
   "source": [
    "# Word Clouds\n",
    "\n",
    "Let's start off by considering some word clouds. Word clouds are graphic representations of the content in a body of text. In this case, you'll see a word cloud generated from an article on Cyber Literacy in GIScience (hyperlink: https://www.tandfonline.com/doi/full/10.1080/00330124.2018.1518720). \n",
    "\n",
    "The word cloud on the **next page** has removed common 'dictionary' words, like 'the' or 'and', so the remaining words are core ideas, topics, and concepts in the work.\n",
    "\n",
    "Think about which of these words you've seen before in classes, working on projects, in your daily life, and so forth. Also, think about which of these words are new or unfamiliar. After considering these words for a while, click on three words that you don’t feel confident you know the definition for. (Please go to the next page to see)"
   ]
  },
  {
   "cell_type": "code",
   "execution_count": 10,
   "metadata": {
    "hide_input": true,
    "slideshow": {
     "slide_type": "slide"
    },
    "tags": [
     "Hide",
     "Init"
    ]
   },
   "outputs": [
    {
     "data": {
      "text/markdown": [
       "Click on three words that you don’t feel confident you know the definition for."
      ],
      "text/plain": [
       "<IPython.core.display.Markdown object>"
      ]
     },
     "metadata": {},
     "output_type": "display_data"
    },
    {
     "data": {
      "text/html": [
       "\n",
       "        <iframe\n",
       "            width=\"750\"\n",
       "            height=\"550\"\n",
       "            src=\"supplementary/wordcloud-phase1.html\"\n",
       "            frameborder=\"0\"\n",
       "            allowfullscreen\n",
       "            \n",
       "        ></iframe>\n",
       "        "
      ],
      "text/plain": [
       "<IPython.lib.display.IFrame at 0x7fe36cf0c910>"
      ]
     },
     "execution_count": 10,
     "metadata": {},
     "output_type": "execute_result"
    }
   ],
   "source": [
    "display(Markdown('Click on three words that you don’t feel confident you know the definition for.'))\n",
    "\n",
    "IFrame(\"supplementary/wordcloud-phase1.html\", width=\"750\", height=\"550\")"
   ]
  },
  {
   "cell_type": "code",
   "execution_count": 2,
   "metadata": {
    "hide_input": true,
    "init_cell": true,
    "slideshow": {
     "slide_type": "skip"
    },
    "tags": [
     "Hide"
    ]
   },
   "outputs": [
    {
     "data": {
      "application/javascript": [
       "// listen for word arrays from each iframe\n",
       "var data = [];\n",
       "window.addEventListener(\"message\", function(e) {\n",
       "    // parse data received from iframe\n",
       "    var kernel = IPython.notebook.kernel;\n",
       "    var key = e.message ? \"message\" : \"data\";\n",
       "    data += \",\" + e[key].join(', ');\n",
       "    var command = key + \" = \\\"\" + data + \"\\\"\";\n",
       "    kernel.execute(command);\n",
       "\n",
       "    // store unknown words\n",
       "    var cell = Jupyter.notebook.get_cell(9);\n",
       "    cell.execute();\n",
       "    \n",
       "    // store known words\n",
       "    cell = Jupyter.notebook.get_cell(10);\n",
       "    cell.execute();\n",
       "}, false);\n"
      ],
      "text/plain": [
       "<IPython.core.display.Javascript object>"
      ]
     },
     "metadata": {},
     "output_type": "display_data"
    }
   ],
   "source": [
    "%%javascript\n",
    "// listen for word arrays from each iframe\n",
    "var data = [];\n",
    "window.addEventListener(\"message\", function(e) {\n",
    "    // parse data received from iframe\n",
    "    var kernel = IPython.notebook.kernel;\n",
    "    var key = e.message ? \"message\" : \"data\";\n",
    "    data += \",\" + e[key].join(', ');\n",
    "    var command = key + \" = \\\"\" + data + \"\\\"\";\n",
    "    kernel.execute(command);\n",
    "\n",
    "    // store unknown words\n",
    "    var cell = Jupyter.notebook.get_cell(9);\n",
    "    cell.execute();\n",
    "    \n",
    "    // store known words\n",
    "    cell = Jupyter.notebook.get_cell(10);\n",
    "    cell.execute();\n",
    "}, false);"
   ]
  },
  {
   "cell_type": "code",
   "execution_count": 6,
   "metadata": {
    "hide_input": true,
    "scrolled": false,
    "slideshow": {
     "slide_type": "skip"
    },
    "tags": [
     "Hide"
    ]
   },
   "outputs": [
    {
     "data": {
      "application/javascript": [
       "Jupyter.notebook.execute_cells([12])"
      ],
      "text/plain": [
       "<IPython.core.display.Javascript object>"
      ]
     },
     "execution_count": 6,
     "metadata": {},
     "output_type": "execute_result"
    }
   ],
   "source": [
    "# Cell[9]\n",
    "# runs after words are selected in iframe\n",
    "try:\n",
    "    unknown = data\n",
    "except NameError:\n",
    "    unknown = \"\"\n",
    "\n",
    "Javascript(\"Jupyter.notebook.execute_cells([12])\")"
   ]
  },
  {
   "cell_type": "code",
   "execution_count": 7,
   "metadata": {
    "hide_input": true,
    "scrolled": true,
    "slideshow": {
     "slide_type": "skip"
    },
    "tags": [
     "Hide"
    ]
   },
   "outputs": [
    {
     "data": {
      "application/javascript": [
       "Jupyter.notebook.execute_cells([13])"
      ],
      "text/plain": [
       "<IPython.core.display.Javascript object>"
      ]
     },
     "execution_count": 7,
     "metadata": {},
     "output_type": "execute_result"
    }
   ],
   "source": [
    "# Cell[10]\n",
    "# runs after words are selected in iframe\n",
    "try:\n",
    "    known = data\n",
    "except NameError:\n",
    "    known = \"\"\n",
    "\n",
    "Javascript(\"Jupyter.notebook.execute_cells([13])\")"
   ]
  },
  {
   "cell_type": "code",
   "execution_count": 10,
   "metadata": {
    "hide_input": true,
    "slideshow": {
     "slide_type": "slide"
    },
    "tags": [
     "Hide",
     "Init"
    ]
   },
   "outputs": [
    {
     "data": {
      "text/markdown": [
       "Click on three words that you don’t feel confident you know the definition for."
      ],
      "text/plain": [
       "<IPython.core.display.Markdown object>"
      ]
     },
     "metadata": {},
     "output_type": "display_data"
    },
    {
     "data": {
      "text/html": [
       "\n",
       "        <iframe\n",
       "            width=\"750\"\n",
       "            height=\"550\"\n",
       "            src=\"supplementary/wordcloud-phase1.html\"\n",
       "            frameborder=\"0\"\n",
       "            allowfullscreen\n",
       "            \n",
       "        ></iframe>\n",
       "        "
      ],
      "text/plain": [
       "<IPython.lib.display.IFrame at 0x7fe36cf0c910>"
      ]
     },
     "execution_count": 10,
     "metadata": {},
     "output_type": "execute_result"
    }
   ],
   "source": [
    "display(Markdown('Here are the words again. Now, click on three words you feel confident you know the definition for.'))\n",
    "\n",
    "IFrame(\"supplementary/wordcloud-phase2.html\", width=\"750\", height=\"510\")"
   ]
  },
  {
   "cell_type": "code",
   "execution_count": null,
   "metadata": {
    "hide_input": true,
    "scrolled": false,
    "slideshow": {
     "slide_type": "slide"
    },
    "tags": [
     "Hide"
    ]
   },
   "outputs": [],
   "source": [
    "# Cell[12]\n",
    "\n",
    "print(\"Here are the words you clicked on that you are not confident about:\")\n",
    "# Runs after three words are selected in first iframe\n",
    "words = [n.strip() for n in unknown.split(',')]\n",
    "    \n",
    "for num, word in enumerate(words[1:4]):\n",
    "    print(num+1, word)"
   ]
  },
  {
   "cell_type": "code",
   "execution_count": null,
   "metadata": {
    "hide_input": true,
    "scrolled": true,
    "slideshow": {
     "slide_type": "fragment"
    },
    "tags": [
     "Hide"
    ]
   },
   "outputs": [],
   "source": [
    "# Cell[13]\n",
    "\n",
    "print(\"And here are the words you clicked on that you are confident about:\")\n",
    "\n",
    "# Runs after three words are selected in second iframe\n",
    "words = [n.strip() for n in unknown.split(',')]\n",
    "\n",
    "for num, word in enumerate(words[4:7]):\n",
    "    print(num+1, word)\n",
    "    \n",
    "# Execute cells asking for user definition\n",
    "Javascript(\"Jupyter.notebook.execute_cells([17,18,19])\")"
   ]
  },
  {
   "cell_type": "markdown",
   "metadata": {
    "slideshow": {
     "slide_type": "fragment"
    }
   },
   "source": [
    "Do you notice any similarities in the words you picked in each group? Does anything seem to connect those terms or ideas? Depending on what you picked, you might've revealed some of your own expertise or skill, or shown an area where you don't have a lot of practice."
   ]
  },
  {
   "cell_type": "markdown",
   "metadata": {
    "slideshow": {
     "slide_type": "slide"
    }
   },
   "source": [
    "### Defining Comfortable Terms"
   ]
  },
  {
   "cell_type": "markdown",
   "metadata": {
    "slideshow": {
     "slide_type": "fragment"
    }
   },
   "source": [
    "Let's focus on the terms you were comfortable with. Each term is listed below with its own definition box. For each term, write out <b>your</b> definition of the term - no dictionaries, please! - and we'll compare that with a more formal definition later."
   ]
  },
  {
   "cell_type": "code",
   "execution_count": null,
   "metadata": {
    "hide_input": true,
    "slideshow": {
     "slide_type": "slide"
    },
    "tags": [
     "Hide"
    ]
   },
   "outputs": [],
   "source": [
    "\n",
    "# Cell[17]\n",
    "\n",
    "print(\"Provide your definition of \\\"\" + words[4] + \"\\\":\")\n",
    "\n",
    "# Text widget\n",
    "t1 = widgets.Text(\n",
    "    placeholder = \"\\\"\" + words[4] + \"\\\"\" + \" definition\",\n",
    "    description = \"Definition:\",\n",
    "    value=None,\n",
    "    disabled=False\n",
    ")\n",
    "\n",
    "# Display widget\n",
    "display(t1)\n",
    "\n",
    "# Output function\n",
    "def out1():\n",
    "    print(\"Your definition: \" + t1.value)\n",
    "        \n",
    "    # Execute cell that fetches stored definition and compare\n",
    "    display(Javascript(\"Jupyter.notebook.execute_cells([22])\"))\n",
    "\n",
    "# Submit button\n",
    "# hourofci.SubmitBtn(user_agent, lesson, lesson_level, \"2C\", t1, out1)\n",
    "hourofci.SubmitBtn2(t1, out1)"
   ]
  },
  {
   "cell_type": "code",
   "execution_count": null,
   "metadata": {
    "hide_input": true,
    "slideshow": {
     "slide_type": "fragment"
    },
    "tags": [
     "Hide"
    ]
   },
   "outputs": [],
   "source": [
    "# Cell[18]\n",
    "\n",
    "print(\"Provide your definition of \\\"\" + words[5] + \"\\\":\")\n",
    "\n",
    "# Text widget\n",
    "t2 = widgets.Text(\n",
    "    placeholder = \"\\\"\" + words[5] + \"\\\"\" + \" definition\",\n",
    "    description = \"Definition:\",\n",
    "    value=None,\n",
    "    disabled=False\n",
    ")\n",
    "\n",
    "# Display widgets together\n",
    "display(t2)\n",
    "\n",
    "# Output function\n",
    "def out2():\n",
    "    print(\"Your definition: \" + t2.value)\n",
    "        \n",
    "    # Execute cell that fetches stored definition and compare\n",
    "    display(Javascript(\"Jupyter.notebook.execute_cells([23])\"));\n",
    "        \n",
    "# Submit button\n",
    "# hourofci.SubmitBtn(user_agent, lesson, lesson_level, \"2D\", t2, out2)\n",
    "hourofci.SubmitBtn2(t2, out2)"
   ]
  },
  {
   "cell_type": "code",
   "execution_count": null,
   "metadata": {
    "hide_input": true,
    "slideshow": {
     "slide_type": "fragment"
    },
    "tags": [
     "Hide"
    ]
   },
   "outputs": [],
   "source": [
    "# Cell[19]\n",
    "\n",
    "print(\"Provide your definition of \\\"\" + words[6] + \"\\\":\")\n",
    "\n",
    "# Text widget\n",
    "t3 = widgets.Text(\n",
    "    placeholder = \"\\\"\" + words[6] + \"\\\"\" + \" definition\",\n",
    "    description = \"Definition:\",\n",
    "    value=None,\n",
    "    disabled=False\n",
    ")\n",
    "\n",
    "# Display widgets together\n",
    "display(t3)\n",
    "\n",
    "# Output function\n",
    "def out3():\n",
    "    print(\"Your definition: \" + t3.value)\n",
    "\n",
    "    # Execute cell that fetches stored definition and compare\n",
    "    display(Javascript(\"Jupyter.notebook.execute_cells([24])\"));\n",
    "        \n",
    "# Submit button\n",
    "# hourofci.SubmitBtn(user_agent, lesson, lesson_level, \"2E\", t3, out3)\n",
    "hourofci.SubmitBtn2(t3, out3)"
   ]
  },
  {
   "cell_type": "markdown",
   "metadata": {
    "slideshow": {
     "slide_type": "slide"
    }
   },
   "source": [
    "### Compare\n",
    "\n",
    "Now let’s see how your definitions compare to ours.\n",
    "\n",
    "Depending on your experience and expertise, you might define terms differently. At the same time, you might need to use different types of definitions when talking to people with different backgrounds and expertise"
   ]
  },
  {
   "cell_type": "code",
   "execution_count": 3,
   "metadata": {
    "hide_input": true,
    "init_cell": true,
    "slideshow": {
     "slide_type": "skip"
    },
    "tags": [
     "Hide"
    ]
   },
   "outputs": [],
   "source": [
    "# TODO: FILL DEFINITION FOR \"CYBERINFRASTRUCTURE\" KEY\n",
    "\n",
    "definitions = {\n",
    "    \"spatial\": \"of, relating to, or involved in the perception of relationships in space\",\n",
    "    \"https\": \"hyper-text transfer protocol\",\n",
    "    \"geospatial\": \"relating to or denoting data that is associated with a particular location\",\n",
    "    \"parallel computing\": \"a type of computation in which many calculations or execution of processes are carried out simultaneously\",\n",
    "    \"gis\": \"geographic information science\",\n",
    "    \"geography\": \"a field of science devoted to the study of the lands, features, inhabitants, and phenomena of the Earth\",\n",
    "    \"cyberinfrastructure\": \"the network of computer systems used to share discoveries and research across the internet\",\n",
    "    \"cybergis\": \"a multidisciplinary field with a focus on computational and data-intensive geospatial problem-solving\",\n",
    "    \"interdisciplinary\": \"relating to more than one branch of knowledge\",\n",
    "    \"curriculum\": \"a set of courses constituting an area of specialization\",\n",
    "    \"communication\": \"a process by which information is exchanged between individuals through a common system of symbols, signs, or behavior\",\n",
    "    \"programming\": \"the process of developing and implementing various sets of instructions to enable a computer to do a certain task\",\n",
    "    \"abstraction\": \"the process of removing physical, spatial, or temporal details or attributes in the study of objects or systems in order to focus attention on details of higher importance\",\n",
    "    \"cyberliteracy\": \"the ability to understand and use established and emerging technologies to transform all forms and magnitudes of geospatial data into information for interdisciplinary problem solving\",\n",
    "    \"cognition\": \"the mental action or process of acquiring knowledge and understanding through thought, experience, and the senses\",\n",
    "    \"spatiotemporal\": \"belonging to both space and time, or time-space\",\n",
    "    \"interoperability\": \"the ability of computer systems or software to exchange and make use of information\",\n",
    "    \"geocomputing\": \"the process of applying computing technology to geographical problems\",\n",
    "    \"geovisualization\": \"the process of interactively visualizing geographic information in any of the steps in spatial analyses\",\n",
    "    \"reproducibility\": \"the extent to which consistent results are obtained when an experiment is repeated\"\n",
    "}"
   ]
  },
  {
   "cell_type": "code",
   "execution_count": null,
   "metadata": {
    "hide_input": true,
    "slideshow": {
     "slide_type": "slide"
    },
    "tags": [
     "Hide"
    ]
   },
   "outputs": [],
   "source": [
    "# Cell[22]\n",
    "\n",
    "print(\"\\nThe first term selected was \" + \"\\\"\" + words[4] + \"\\\".\")\n",
    "print(\"Your definition: \" + t1.value)\n",
    "print(\"Web definition: \" + definitions[words[4]])"
   ]
  },
  {
   "cell_type": "code",
   "execution_count": null,
   "metadata": {
    "hide_input": true,
    "slideshow": {
     "slide_type": "fragment"
    },
    "tags": [
     "Hide"
    ]
   },
   "outputs": [],
   "source": [
    "# Cell[23]\n",
    "\n",
    "print(\"\\nThe second term selected was \" + \"\\\"\" + words[5] + \"\\\".\")\n",
    "print(\"Your definition: \" + t2.value)\n",
    "print(\"Web definition: \" + definitions[words[5]])\n"
   ]
  },
  {
   "cell_type": "code",
   "execution_count": null,
   "metadata": {
    "hide_input": true,
    "slideshow": {
     "slide_type": "fragment"
    },
    "tags": [
     "Hide"
    ]
   },
   "outputs": [],
   "source": [
    "# Cell[24]\n",
    "\n",
    "print(\"\\nThe third term selected was \" + \"\\\"\" + words[6] + \"\\\".\")\n",
    "print(\"Your definition: \" + t3.value)\n",
    "print(\"Web definition: \" + definitions[words[6]])"
   ]
  },
  {
   "cell_type": "markdown",
   "metadata": {
    "hide_input": false,
    "slideshow": {
     "slide_type": "slide"
    },
    "tags": [
     "Init"
    ],
    "variables": {
     "IFrame(\"../../supplementary/confetti.html\", width=\"620\", height=\"450\")": "\n        <iframe\n            width=\"620\"\n            height=\"450\"\n            src=\"../../supplementary/confetti.html\"\n            frameborder=\"0\"\n            allowfullscreen\n            \n        ></iframe>\n        "
    }
   },
   "source": [
    "{{IFrame(\"../../supplementary/confetti.html\", width=\"620\", height=\"450\")}}\n",
    "\n",
    "Congratulations, you just learned about jargon! Jargon words are specialized for a given domain or application. And they can be confusing. Click through to the next notebook to learn more.\n",
    "\n",
    "**Continue the journey: [Next Section](ic-3.ipynb)**"
   ]
  },
  {
   "cell_type": "code",
   "execution_count": null,
   "metadata": {},
   "outputs": [],
   "source": []
  }
 ],
 "metadata": {
  "celltoolbar": "Edit Metadata",
  "kernelspec": {
   "display_name": "Python [conda env:iguide-ewd]",
   "language": "python",
   "name": "conda-env-iguide-ewd-py"
  },
  "language_info": {
   "codemirror_mode": {
    "name": "ipython",
    "version": 3
   },
   "file_extension": ".py",
   "mimetype": "text/x-python",
   "name": "python",
   "nbconvert_exporter": "python",
   "pygments_lexer": "ipython3",
   "version": "3.10.11"
  },
  "rise": {
   "autolaunch": true,
   "overlay": "<div class='hciheader'></div><div class='hcifooter'></div>",
   "scroll": true
  },
  "varInspector": {
   "cols": {
    "lenName": 16,
    "lenType": 16,
    "lenVar": 40
   },
   "kernels_config": {
    "python": {
     "delete_cmd_postfix": "",
     "delete_cmd_prefix": "del ",
     "library": "var_list.py",
     "varRefreshCmd": "print(var_dic_list())"
    },
    "r": {
     "delete_cmd_postfix": ") ",
     "delete_cmd_prefix": "rm(",
     "library": "var_list.r",
     "varRefreshCmd": "cat(var_dic_list()) "
    }
   },
   "types_to_exclude": [
    "module",
    "function",
    "builtin_function_or_method",
    "instance",
    "_Feature"
   ],
   "window_display": false
  }
 },
 "nbformat": 4,
 "nbformat_minor": 2
}
