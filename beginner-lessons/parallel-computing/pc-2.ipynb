{
 "cells": [
  {
   "cell_type": "markdown",
   "metadata": {
    "slideshow": {
     "slide_type": "slide"
    }
   },
   "source": [
    "# Parallel Computation\n",
    "### Segment 1 of 4\n",
    "\n",
    "Parallel Computation allows us to process multiple data elements simultaneously, which can speed up our processing or allow us to tackle bigger problems with more data.\n",
    "\n",
    "<i>Lesson Developer: </i>\n",
    "<ul>\n",
    "    <li>\n",
    "    <i>Eric Shook eshook@umn.edu</i>\n",
    "    </li>\n",
    "</ul>\n"
   ]
  },
  {
   "cell_type": "code",
   "execution_count": null,
   "metadata": {
    "hide_input": false,
    "init_cell": true,
    "slideshow": {
     "slide_type": "skip"
    },
    "tags": [
     "Hide"
    ]
   },
   "outputs": [],
   "source": [
    "# This code cell starts the necessary setup for Hour of CI lesson notebooks.\n",
    "# First, it enables users to hide and unhide code by producing a 'Toggle raw code' button below.\n",
    "# Second, it imports the hourofci package, which is necessary for lessons and interactive Jupyter Widgets.\n",
    "# Third, it helps hide/control other aspects of Jupyter Notebooks to improve the user experience\n",
    "# This is an initialization cell\n",
    "# It is not displayed because the Slide Type is 'Skip'\n",
    "\n",
    "from IPython.display import HTML, IFrame, Javascript, display\n",
    "from ipywidgets import interactive, Textarea, HBox, Text\n",
    "import ipywidgets as widgets\n",
    "from ipywidgets import Layout\n",
    "\n",
    "import getpass # This library allows us to get the username (User agent string)\n",
    "\n",
    "# import package for hourofci project\n",
    "import sys\n",
    "sys.path.append('../../supplementary') # relative path (may change depending on the location of the lesson notebook)\n",
    "# sys.path.append('supplementary')\n",
    "import hourofci\n",
    "try:\n",
    "    import os\n",
    "    os.chdir('supplementary')\n",
    "except:\n",
    "    pass\n",
    "\n",
    "# load javascript to initialize/hide cells, get user agent string, and hide output indicator\n",
    "# hide code by introducing a toggle button \"Toggle raw code\"\n",
    "HTML(''' \n",
    "    <script type=\"text/javascript\" src=\\\"../../supplementary/js/custom.js\\\"></script>\n",
    "    \n",
    "    <style>\n",
    "        .output_prompt{opacity:0;}\n",
    "    </style>\n",
    "    \n",
    "    <input id=\"toggle_code\" type=\"button\" value=\"Toggle raw code\">\n",
    "''')"
   ]
  },
  {
   "cell_type": "markdown",
   "metadata": {
    "slideshow": {
     "slide_type": "slide"
    }
   },
   "source": [
    "## Thank you for helping our study\n",
    "\n",
    "\n",
    "<a href=\"#/slide-1-0\" class=\"navigate-right\" style=\"background-color:blue;color:white;padding:8px;margin:2px;font-weight:bold;\">Continue with the lesson</a>\n",
    "\n",
    "Throughout this lesson you will see reminders, like the one below, to ensure that all participants understand that they are in a voluntary research study.\n",
    "\n",
    "### Reminder\n",
    "\n",
    "<font size=\"+1\">\n",
    "\n",
    "By continuing with this lesson you are granting your permission to take part in this research study for the Hour of Cyberinfrastructure: Developing Cyber Literacy for GIScience project. In this study, you will be learning about cyberinfrastructure and related concepts using a web-based platform that will take approximately one hour per lesson. Participation in this study is voluntary.\n",
    "\n",
    "Participants in this research must be 18 years or older. If you are under the age of 18 then please exit this webpage or navigate to another website such as the Hour of Code at https://hourofcode.com, which is designed for K-12 students.\n",
    "\n",
    "If you are not interested in participating please exit the browser or navigate to this website: http://www.umn.edu. Your participation is voluntary and you are free to stop the lesson at any time.\n",
    "\n",
    "For the full description please navigate to this website: <a href=\"gateway-1.ipynb\">Gateway Lesson Research Study Permission</a>.\n",
    "\n",
    "</font>"
   ]
  },
  {
   "cell_type": "markdown",
   "metadata": {
    "slideshow": {
     "slide_type": "slide"
    }
   },
   "source": [
    "### Purpose of Parallel Computation\n",
    "Almost every desktop computer, laptop computer, cellphone, and server has more that one processing **core** used to make sense of data, and they are called **multi-core processors.** These cores can help you find the nearest \"Hip Po Coffee\" location, estimate tomorrow's weather forecast, or calculate where stones thrown by a catapult will land. We use lots of terms for making sense of data: processing data, filtering data, querying data, analyzing data, data munging, and visualizing data are just a few examples. \n",
    "\n",
    "What if we have lots and lots of data? So much data that it takes one processing core hours, days, weeks, or even years to filter, query, analyze, or visualize it? Parallel computation is a special type of computation that enables multiple calculations to be performed simultanously using multiple processing cores.\n",
    "\n",
    "Before we get into parallel computation. First, let's have a little race."
   ]
  },
  {
   "cell_type": "markdown",
   "metadata": {
    "slideshow": {
     "slide_type": "slide"
    },
    "variables": {
     "IFrame(\"supplementary/field-manual.html\", width=\"600\", height=\"350\")": "\n        <iframe\n            width=\"600\"\n            height=\"350\"\n            src=\"supplementary/field-manual.html\"\n            frameborder=\"0\"\n            allowfullscreen\n        ></iframe>\n        "
    }
   },
   "source": [
    "### The race is on! How fast can you plant a field?\n",
    "\n",
    "Click on each cell to plant one seed. Let's see how fast you can do it.\n",
    "\n",
    "<!-- {{IFrame(\"supplementary/field-manual.html\", width=\"600\", height=\"350\")}} -->"
   ]
  },
  {
   "cell_type": "code",
   "execution_count": null,
   "metadata": {
    "hide_input": false,
    "slideshow": {
     "slide_type": "-"
    },
    "tags": [
     "Init",
     "Hide"
    ]
   },
   "outputs": [],
   "source": [
    "%%html\n",
    "<iframe src=\"supplementary/field-manual.html\", width=600, height=350, allowfullscreen></iframe>\n"
   ]
  },
  {
   "cell_type": "markdown",
   "metadata": {
    "slideshow": {
     "slide_type": "slide"
    }
   },
   "source": [
    "### Meet Sam.\n",
    "\n",
    "Sam is grumpy and works alone. In fact, he will only do his work when no one else is in the field.\n",
    "\n",
    "<!-- <img src=\"https://rawcdn.githack.com/coopbri/hci-binder/0a0f8e02e3a3e7429f881b69634200d671c0f560/notebooks/parallel-computation/supplementary/farmer.svg\" width=\"150\" height=\"150\"> -->\n",
    "\n",
    "<img src=\"supplementary/farmer.svg\" width=\"150\" height=\"150\">"
   ]
  },
  {
   "cell_type": "markdown",
   "metadata": {
    "slideshow": {
     "slide_type": "slide"
    }
   },
   "source": [
    "### Sam's turn to plant the field\n",
    "\n",
    "Let's see how fast Sam can plant the field."
   ]
  },
  {
   "cell_type": "code",
   "execution_count": null,
   "metadata": {
    "hide_input": true,
    "slideshow": {
     "slide_type": "-"
    },
    "tags": [
     "Init",
     "Hide"
    ]
   },
   "outputs": [],
   "source": [
    "\n",
    "%%html\n",
    "<iframe src=\"supplementary/field-one.html\", width=600, height=350, allowfullscreen></iframe>\n"
   ]
  },
  {
   "cell_type": "markdown",
   "metadata": {
    "slideshow": {
     "slide_type": "slide"
    },
    "variables": {
     "IFrame(\"supplementary/field-one.html\", width=\"600\", height=\"350\")": "\n        <iframe\n            width=\"600\"\n            height=\"350\"\n            src=\"supplementary/field-one.html\"\n            frameborder=\"0\"\n            allowfullscreen\n        ></iframe>\n        "
    }
   },
   "source": [
    "How quickly can Sam plant the entire field if he has all the seeds?"
   ]
  },
  {
   "cell_type": "code",
   "execution_count": null,
   "metadata": {
    "hide_input": false,
    "slideshow": {
     "slide_type": "-"
    },
    "tags": [
     "Init",
     "Hide"
    ]
   },
   "outputs": [],
   "source": [
    "widget0 = widgets.BoundedIntText(\n",
    "    value=0,\n",
    "    min=0,\n",
    "    max=100,\n",
    "    step=1,\n",
    "    description='Sam\\'s fastest time (seconds):', style={'description_width': 'initial'},\n",
    "    layout = Layout(width='40%'),\n",
    ")\n",
    "\n",
    "def out():\n",
    "    return print('Submitted!')\n",
    "display(widget0)\n",
    "\n",
    "hourofci.SubmitBtn2(widget0, out)"
   ]
  },
  {
   "cell_type": "markdown",
   "metadata": {
    "slideshow": {
     "slide_type": "slide"
    }
   },
   "source": [
    "What is the fundamental limitation in the planting time? Check all that apply."
   ]
  },
  {
   "cell_type": "code",
   "execution_count": null,
   "metadata": {
    "hide_input": false,
    "slideshow": {
     "slide_type": "-"
    },
    "tags": [
     "Init",
     "Hide"
    ]
   },
   "outputs": [],
   "source": [
    "check1 = widgets.Checkbox(\n",
    "    value=False,\n",
    "    description='Sam\\'s speed',\n",
    "    disabled=False\n",
    ")\n",
    "check2 = widgets.Checkbox(\n",
    "    value=False,\n",
    "    description='The number of spots to plant',\n",
    "    disabled=False\n",
    ")\n",
    "check3 = widgets.Checkbox(\n",
    "    value=False,\n",
    "    description='Sam\\'s shoe color',\n",
    "    disabled=False\n",
    ")\n",
    "\n",
    "# Submit button\n",
    "button1 = widgets.Button(\n",
    "    description = 'Submit',\n",
    "    disabled = False,\n",
    "    button_style = '',\n",
    "    icon = 'check'\n",
    ")\n",
    "\n",
    "# Output\n",
    "output1 = widgets.Output()\n",
    "\n",
    "display(check1, check2, check3, button1, output1)\n",
    "\n",
    "# Output function\n",
    "def out(b):\n",
    "    with output1:\n",
    "        output1.clear_output()\n",
    "        if (check1.value and check2.value and not check3.value):\n",
    "            print(\"Correct!\")\n",
    "        else:\n",
    "            print(\"Not quite!\")\n",
    "\n",
    "# Handle click event\n",
    "button1.on_click(out)"
   ]
  },
  {
   "cell_type": "markdown",
   "metadata": {
    "slideshow": {
     "slide_type": "slide"
    }
   },
   "source": [
    "Sam's speed gives us an example of **processing speed**.<br> <br>\n",
    "How fast can a core process data? This is usually measured in clock cycles per second (or Hertz/Hz). One Hertz is equal to one cycle per second. This represents the [Clock Rate](https://en.wikipedia.org/wiki/Clock_rate) of a processor. Today, most processors are between 1.8 and 3.0 Gigahertz/GHz. <br><br>\n",
    "This means that processors have a clock speed between 1,800,000,000 to 3,000,000,000 clock cycles per second! The clock rate of a processor can tell you roughly how fast it can process data.\n"
   ]
  },
  {
   "cell_type": "markdown",
   "metadata": {
    "slideshow": {
     "slide_type": "slide"
    }
   },
   "source": [
    "The number of spots to plant gives us an example of data to process. How much data do we need to crunch before it is all done? <br><br>\n",
    "Sam's shoe color is just a stylish choice so while it may help Sam feel cool. It won't get the field planted any faster.\n",
    "\n"
   ]
  },
  {
   "cell_type": "markdown",
   "metadata": {
    "slideshow": {
     "slide_type": "slide"
    }
   },
   "source": [
    "How did you compare?\n"
   ]
  },
  {
   "cell_type": "code",
   "execution_count": null,
   "metadata": {
    "hide_input": true,
    "slideshow": {
     "slide_type": "-"
    },
    "tags": [
     "Init",
     "Hide"
    ]
   },
   "outputs": [],
   "source": [
    "o1='faster'\n",
    "o2='slower'\n",
    "o3='about the speed'\n",
    "\n",
    "widget1 = widgets.RadioButtons(\n",
    "    options = [o1, o2, o3],\n",
    "    description = 'Compared to Sam planting the field, I was: ', style={'description_width': 'initial'},\n",
    "    layout = Layout(width='100%'),\n",
    "    value = None\n",
    ")\n",
    "def out():\n",
    "    print(\"Successfully submitted!\")\n",
    "\n",
    "display(widget1)\n",
    "\n",
    "hourofci.SubmitBtn2(widget1, out)"
   ]
  },
  {
   "cell_type": "markdown",
   "metadata": {
    "slideshow": {
     "slide_type": "slide"
    }
   },
   "source": [
    "Sam is an example of what is known as **serial computation**. He will only work alone and does his tasks one step at a time. When anyone learns how to program they learn how to write a program for serial computation. The next step in programming is **parallel computation.**"
   ]
  },
  {
   "cell_type": "markdown",
   "metadata": {
    "slideshow": {
     "slide_type": "slide"
    },
    "variables": {
     "IFrame(\"supplementary/field-two.html\", width=\"600\", height=\"520\")": "\n        <iframe\n            width=\"600\"\n            height=\"520\"\n            src=\"supplementary/field-two.html\"\n            frameborder=\"0\"\n            allowfullscreen\n        ></iframe>\n        "
    }
   },
   "source": [
    "### Meet Parker and Patricia. \n",
    "\n",
    "Parker and Patricia love to share, and they will work in the field at the same time. \n",
    "How quickly can Parker and Patricia plant the entire field if they split all the seeds evenly?\n",
    "\n"
   ]
  },
  {
   "cell_type": "code",
   "execution_count": null,
   "metadata": {
    "hide_input": true,
    "slideshow": {
     "slide_type": "-"
    },
    "tags": [
     "Init",
     "Hide"
    ]
   },
   "outputs": [],
   "source": [
    "%%html\n",
    "<iframe src=\"supplementary/field-two.html\", width=650, height=450, allowfullscreen></iframe>\n"
   ]
  },
  {
   "cell_type": "markdown",
   "metadata": {
    "slideshow": {
     "slide_type": "slide"
    }
   },
   "source": [
    "When working together what is the fastest time that Parker and Patricia can plant the field?\n"
   ]
  },
  {
   "cell_type": "code",
   "execution_count": null,
   "metadata": {
    "hide_input": true,
    "slideshow": {
     "slide_type": "-"
    },
    "tags": [
     "Init",
     "Hide"
    ]
   },
   "outputs": [],
   "source": [
    "# TODO: Style the widget better, there's no easy way unfortunately\n",
    "# Add end values, add units ('seconds') to current value, etc.\n",
    "widget1 = widgets.IntSlider(\n",
    "    value=1,\n",
    "    min=0,\n",
    "    max=20,\n",
    "    step=1,\n",
    "    description='Fastest time (0 - 20 seconds):', style={'description_width': 'initial'},\n",
    "    layout = Layout(width='60%'),\n",
    "    disabled=False,\n",
    "    continuous_update=False,\n",
    "    orientation='horizontal',\n",
    "    readout=True,\n",
    "    readout_format='d'\n",
    ")\n",
    "\n",
    "\n",
    "def out():\n",
    "    return print('Submitted!')\n",
    "display(widget1)\n",
    "\n",
    "hourofci.SubmitBtn2(widget1, out)\n"
   ]
  },
  {
   "cell_type": "markdown",
   "metadata": {
    "slideshow": {
     "slide_type": "slide"
    },
    "variables": {
     "IFrame(\"supplementary/field-two.html\", width=\"600\", height=\"520\")": "\n        <iframe\n            width=\"600\"\n            height=\"520\"\n            src=\"supplementary/field-two.html\"\n            frameborder=\"0\"\n            allowfullscreen\n        ></iframe>\n        "
    }
   },
   "source": [
    "What if Parker and Patricia change how they divide the field? <br>\n",
    "Move the black bar to adjust how many seeds they will each plant. Use the dropdown menu to adjust their planting speed. Try different combinations to see how fast or slow Parker and Patricia can plant a field in parallel."
   ]
  },
  {
   "cell_type": "code",
   "execution_count": null,
   "metadata": {
    "hide_input": false,
    "slideshow": {
     "slide_type": "-"
    },
    "tags": [
     "Init",
     "Hide"
    ]
   },
   "outputs": [],
   "source": [
    "%%html\n",
    "<iframe src=\"supplementary/field-two.html\", width=650, height=450, allowfullscreen></iframe>\n"
   ]
  },
  {
   "cell_type": "markdown",
   "metadata": {
    "slideshow": {
     "slide_type": "fragment"
    }
   },
   "source": [
    "What is the slowest time possible if you adjust the speed and division of work for Parker and Patricia?"
   ]
  },
  {
   "cell_type": "code",
   "execution_count": null,
   "metadata": {
    "hide_input": false,
    "slideshow": {
     "slide_type": "-"
    },
    "tags": [
     "Init",
     "Hide"
    ]
   },
   "outputs": [],
   "source": [
    "# TODO: Style the widget better, there's no easy way unfortunately\n",
    "# Add end values, add units ('seconds') to current value, etc.\n",
    "widget2 = widgets.IntSlider(\n",
    "    value=1,\n",
    "    min=0,\n",
    "    max=20,\n",
    "    step=1,\n",
    "    description='Slowest time (0 - 20 seconds):', style={'description_width': 'initial'},\n",
    "    layout = Layout(width='60%'),\n",
    "    disabled=False,\n",
    "    continuous_update=False,\n",
    "    orientation='horizontal',\n",
    "    readout=True,\n",
    "    readout_format='d'\n",
    ")\n",
    "\n",
    "def out():\n",
    "    return print('Submitted!')\n",
    "display(widget2)\n",
    "\n",
    "hourofci.SubmitBtn2(widget2, out)"
   ]
  },
  {
   "cell_type": "markdown",
   "metadata": {
    "slideshow": {
     "slide_type": "slide"
    }
   },
   "source": [
    "What is the difference between the fastest and slowest time? Write 1-2 sentences describing what affects the times when Parker and Patricia are planting in parallel."
   ]
  },
  {
   "cell_type": "code",
   "execution_count": null,
   "metadata": {
    "hide_input": false,
    "slideshow": {
     "slide_type": "-"
    },
    "tags": [
     "Init",
     "Hide"
    ]
   },
   "outputs": [],
   "source": [
    "\n",
    "tarea1 = Textarea(\n",
    "            value='',\n",
    "            placeholder='Type your answer here',\n",
    "            description='',\n",
    "            disabled=False,\n",
    "            layout=Layout( height='100px', min_height='100px', width='500px')\n",
    "            )\n",
    "\n",
    "\n",
    "\n",
    "def out():\n",
    "    return print('Submitted!')\n",
    "display(tarea1)\n",
    "\n",
    "hourofci.SubmitBtn2(tarea1, out)\n"
   ]
  },
  {
   "cell_type": "markdown",
   "metadata": {
    "slideshow": {
     "slide_type": "slide"
    }
   },
   "source": [
    "## Speed!\n",
    "To get the fastest time in this scenario requires two things. First, both Parker and Patricia need to be moving as quickly as possible, which means they are going the same speed: fast. Second, they need to have the same amount of work. \n",
    "\n",
    "The first requirement gives us an example of **processing speed** that we learned about earlier.\n",
    "\n",
    "The second requirement gives us an example of **load balancing.** Load balancing ensures that each core is processing its fair share of data, which will make parallel computation faster. Just as we saw with Parker and Patricia if they are both working to plant their portion of the field simultaneously the entire field is planted faster. If only Patricia is planting the field and Parker is not helping, then it takes longer because she is doing all of the work and Parker is doing no work. This is improper load balancing. The same is true in parallel computation. If we have two or more cores that are capable of processing data and we only use one core, then the other cores are not helping to speed up the computation."
   ]
  },
  {
   "cell_type": "markdown",
   "metadata": {
    "slideshow": {
     "slide_type": "slide"
    }
   },
   "source": [
    "## Let's take a step back\n",
    "Before we keep moving, let's take a step back to look at what you learned.\n",
    "* Serial computation - one task at a time versus\n",
    "* Parallel computation - multiple tasks at a time\n",
    "\n",
    "\n"
   ]
  },
  {
   "cell_type": "markdown",
   "metadata": {
    "slideshow": {
     "slide_type": "slide"
    }
   },
   "source": [
    "## Let's take a step back\n",
    "What affects parallel computation (parallelism)?\n",
    "<ul>\n",
    "    <li>\n",
    "Processing speed - how quickly can you finish each step in the task\n",
    "    </li> \n",
    "    <li>\n",
    "Data to process - how much 'work' do you have to do\n",
    "    </li>\n",
    "    <li>\n",
    "Load balancing - how 'fairly' is the workload distributed across the workers\n",
    "    </li>\n",
    "    <li>\n",
    "Coordination - how much coordination must be done where parallel work isn't happening\n",
    "    </li>\n",
    "</ul>\n",
    "\n",
    "\n"
   ]
  },
  {
   "cell_type": "markdown",
   "metadata": {
    "slideshow": {
     "slide_type": "slide"
    }
   },
   "source": [
    "## Where else do we see this?\n",
    "Cooking!\n",
    "* We see parallelism everywhere including cooking.\n",
    "* If you ever asked a friend to cut vegetables while you mixed up a few ingredients, then congratulations you have worked in parallel.\n",
    "* Another form of this is called multi-tasking where multiple tasks can be completed simultaneously.\n",
    "* If you have turned on the oven to preheat, then chopped vegetables while listening to music and chewing gum at the same time, then congratulations you have worked in parallel by multi-tasking.\n"
   ]
  },
  {
   "cell_type": "markdown",
   "metadata": {
    "slideshow": {
     "slide_type": "slide"
    }
   },
   "source": [
    "## Different levels of parallelism\n",
    "There are different levels of parallelism in parallel computing.\n",
    "* We will delve into this in more detail later in the lesson, but just remember just like you preheating the oven while listening to music and chewing gum at the same time is an example of parallelism. Three people working together in a kitchen to cook a meal is also an example of parallelism. But the task coordination and amount of parallelism is different.\n"
   ]
  },
  {
   "cell_type": "markdown",
   "metadata": {
    "slideshow": {
     "slide_type": "slide"
    }
   },
   "source": [
    "## Concept check\n",
    "How might parallelism be different from one person multitasking during cooking compared to multiple people working together to cook a meal?\n"
   ]
  },
  {
   "cell_type": "code",
   "execution_count": null,
   "metadata": {
    "hide_input": true,
    "slideshow": {
     "slide_type": "-"
    },
    "tags": [
     "Init",
     "Hide"
    ]
   },
   "outputs": [],
   "source": [
    "tarea2 = Textarea(\n",
    "            value='',\n",
    "            placeholder='Type your answer here',\n",
    "            description='',\n",
    "            disabled=False,\n",
    "            layout=Layout( height='100px', min_height='100px', width='500px')\n",
    "            )\n",
    "\n",
    "def out():\n",
    "    print(\"Interesting answer, let's compare answers on the next slide\")\n",
    "display(tarea2)\n",
    "hourofci.SubmitBtn2(tarea2, out)"
   ]
  },
  {
   "cell_type": "markdown",
   "metadata": {
    "slideshow": {
     "slide_type": "slide"
    }
   },
   "source": [
    "## Concept check\n",
    "How might parallelism be different from one person multitasking during cooking compared to multiple people working together to cook a meal? A few more differences.\n",
    "* A single person can coordinate tasks in their head without having to verbally communicate, which can save time.\n",
    "* Multiple people can run into each other in the kitchen.\n",
    "* Multiple people can disagree how and when tasks should be completed.\n",
    "* Multiple people can (usually) accomplish more than a single person, which means the food will be ready earlier or more food can be prepared.\n",
    "* People may operate at different speeds so tasks must be balanced differently.\n"
   ]
  },
  {
   "cell_type": "markdown",
   "metadata": {
    "slideshow": {
     "slide_type": "slide"
    }
   },
   "source": [
    "<b>Continue the journey: </b><br><br>\n",
    "\n",
    "\n",
    "<font size=\"+1\"><a style=\"background-color:blue;color:white;padding:12px;margin:10px;font-weight:bold;\" href=\"pc-3.ipynb\">Click here to go to the next notebook.</a></font>"
   ]
  }
 ],
 "metadata": {
  "celltoolbar": "Slideshow",
  "kernelspec": {
   "display_name": "Python 3 (ipykernel)",
   "language": "python",
   "name": "python3"
  },
  "language_info": {
   "codemirror_mode": {
    "name": "ipython",
    "version": 3
   },
   "file_extension": ".py",
   "mimetype": "text/x-python",
   "name": "python",
   "nbconvert_exporter": "python",
   "pygments_lexer": "ipython3",
   "version": "3.7.16"
  },
  "rise": {
   "autolaunch": true,
   "overlay": "<div class='hciheader'></div><div class='hcifooter'></div>",
   "scroll": true
  }
 },
 "nbformat": 4,
 "nbformat_minor": 2
}
