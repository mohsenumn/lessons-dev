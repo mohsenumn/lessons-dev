{
 "cells": [
  {
   "cell_type": "code",
   "execution_count": null,
   "id": "3f8546c7",
   "metadata": {
    "hide_input": false,
    "init_cell": true,
    "slideshow": {
     "slide_type": "skip"
    },
    "tags": [
     "Hide"
    ]
   },
   "outputs": [],
   "source": [
    "# This code cell starts the necessary setup for Hour of CI lesson notebooks.\n",
    "# First, it enables users to hide and unhide code by producing a 'Toggle raw code' button below.\n",
    "# Second, it imports the hourofci package, which is necessary for lessons and interactive Jupyter Widgets.\n",
    "# Third, it helps hide/control other aspects of Jupyter Notebooks to improve the user experience\n",
    "# This is an initialization cell\n",
    "# It is not displayed because the Slide Type is 'Skip'\n",
    "\n",
    "from IPython.display import HTML, IFrame, Javascript, display\n",
    "from ipywidgets import interactive\n",
    "import ipywidgets as widgets\n",
    "from ipywidgets import Layout\n",
    "\n",
    "import getpass # This library allows us to get the username (User agent string)\n",
    "\n",
    "# import package for hourofci project\n",
    "import sys\n",
    "sys.path.append('../../supplementary') # relative path (may change depending on the location of the lesson notebook)\n",
    "import hourofci\n",
    "\n",
    "# load javascript to initialize/hide cells, get user agent string, and hide output indicator\n",
    "# hide code by introducing a toggle button \"Toggle raw code\"\n",
    "HTML(''' \n",
    "    <script type=\"text/javascript\" src=\\\"../../supplementary/js/custom.js\\\"></script>\n",
    "    \n",
    "    <style>\n",
    "        .output_prompt{opacity:0;}\n",
    "    </style>\n",
    "    \n",
    "    <input id=\"toggle_code\" type=\"button\" value=\"Toggle raw code\">\n",
    "''')"
   ]
  },
  {
   "cell_type": "markdown",
   "id": "09d81df8",
   "metadata": {},
   "source": [
    "# Parallel Computing\n",
    "\n",
    "## Exploration\n",
    "\n",
    "Let's put our ideas into actions and give it a go. In this exploration exercise we are going to learn the basics of parallel computation (in Python).\n",
    "\n",
    "First, let's write a really basic function that does some task. Right now it does not matter what the task does, because you can replace it later."
   ]
  },
  {
   "cell_type": "markdown",
   "id": "37bc5658",
   "metadata": {},
   "source": [
    "## Reminder\n",
    "\n",
    "<font size=\"+1\">\n",
    "\n",
    "By continuing with this lesson you are granting your permission to take part in this research study for the Hour of Cyberinfrastructure: Developing Cyber Literacy for GIScience project. In this study, you will be learning about cyberinfrastructure and related concepts using a web-based platform that will take approximately one hour per lesson. Participation in this study is voluntary.\n",
    "\n",
    "Participants in this research must be 18 years or older. If you are under the age of 18 then please exit this webpage or navigate to another website such as the Hour of Code at https://hourofcode.com, which is designed for K-12 students.\n",
    "\n",
    "If you are not interested in participating please exit the browser or navigate to this website: http://www.umn.edu. Your participation is voluntary and you are free to stop the lesson at any time.\n",
    "\n",
    "For the full description please navigate to this website: <a href=\"../../gateway-lesson/gateway/gateway-1.ipynb\">Gateway Lesson Research Study Permission</a>.\n",
    "\n",
    "</font>"
   ]
  },
  {
   "cell_type": "markdown",
   "id": "7ed4ccf4",
   "metadata": {},
   "source": [
    "## Setting up our problem.\n",
    "In this first portion of the exploration, we will setup a simple task function.\n",
    "We will then apply the task function to lots of data (without parallel computing).\n",
    "In the next section, we will apply parallel computing to this problem."
   ]
  },
  {
   "cell_type": "code",
   "execution_count": null,
   "id": "682e1514",
   "metadata": {},
   "outputs": [],
   "source": [
    "# Task function that accepts a number and doubles it\n",
    "# It returns the doubled number. That's it.\n",
    "def task(some_number):\n",
    "    # We will double the number, then return it.\n",
    "    doubled = some_number * 2\n",
    "    \n",
    "    return doubled\n"
   ]
  },
  {
   "cell_type": "code",
   "execution_count": null,
   "id": "f29982ee",
   "metadata": {},
   "outputs": [],
   "source": [
    "# Let's try running our task function.\n",
    "\n",
    "output = task(5)\n",
    "\n",
    "print(\"Our output was\", output)"
   ]
  },
  {
   "cell_type": "markdown",
   "id": "b6e2db5e",
   "metadata": {},
   "source": [
    "## Lots of tasks\n",
    "Okay, now we have a simple task function. Let's say that we have a lot of tasks to do. In this simple example, we have a lot of numbers that need doubling. Let's start with the manual way of doing a lot of tasks. Don't worry. We will improve the code soon."
   ]
  },
  {
   "cell_type": "code",
   "execution_count": null,
   "id": "e8e070cb",
   "metadata": {},
   "outputs": [],
   "source": [
    "output1 = task(6)\n",
    "output2 = task(7)\n",
    "output3 = task(9)\n",
    "output4 = task(11)\n",
    "output5 = task(15)\n",
    "\n",
    "print(\"Our outputs\", output1, output2, output3, output4, output5)"
   ]
  },
  {
   "cell_type": "markdown",
   "id": "266e219b",
   "metadata": {},
   "source": [
    "### Streamlining our tasks. Step 1. Organize our data and loop over it.\n",
    "\n",
    "Instead of calling task 5 times. Let's ...\n",
    "  * make a list of inputs \n",
    "  * save a list of outputs\n",
    "  * use a for loop"
   ]
  },
  {
   "cell_type": "code",
   "execution_count": null,
   "id": "e7391674",
   "metadata": {},
   "outputs": [],
   "source": [
    "# Notice here we have the same numbers as the task example above\n",
    "input_list = [6, 7, 9, 11, 15]\n",
    "\n",
    "output_list = []\n",
    "\n",
    "# Loop over all task numbers in the list\n",
    "for task_number in input_list:\n",
    "    output = task(task_number)\n",
    "    output_list.append(output)\n",
    "\n",
    "print(\"Our outputs,\", output_list)"
   ]
  },
  {
   "cell_type": "markdown",
   "id": "a7f3d33a",
   "metadata": {},
   "source": [
    "### Streamlining or tasks. Step 2.\n",
    "\n",
    "Instead of a for loop, let's use the 'map' function.\n",
    "\n",
    "It just applies the function to everything in the list. Just like the for loop!\n",
    "\n",
    "So if you compare the code above and the code below, the only thing that changes is that we use the map function.\n"
   ]
  },
  {
   "cell_type": "code",
   "execution_count": null,
   "id": "827265c6",
   "metadata": {},
   "outputs": [],
   "source": [
    "# Notice here we have the same numbers as the task example above\n",
    "input_list = [6, 7, 9, 11, 15]\n",
    "\n",
    "output_list = []\n",
    "\n",
    "# Use the map function instead of a for loop\n",
    "map_list = map(task, input_list)\n",
    "\n",
    "# Transform (a.k.a. cast) our map list into a Python list.\n",
    "output_list = list(map_list)\n",
    "\n",
    "# When we print our results, it should be the same list of numbers.\n",
    "print(\"Our outputs,\", output_list)"
   ]
  },
  {
   "cell_type": "markdown",
   "id": "33c82072",
   "metadata": {},
   "source": [
    "## Adding parallelism\n",
    "\n",
    "Okay, now we have a task function and we are applying it to many different numbers.\n",
    "Let's make it run in parallel!"
   ]
  },
  {
   "cell_type": "markdown",
   "id": "b054c54a",
   "metadata": {},
   "source": [
    "First, let's import a new module called multiprocessing\n",
    "\n",
    "This module will allow multiple tasks to be processed in parallel. It is the simplest Python module for parallelism and is widely used.\n",
    "\n",
    "We will make a small change by introducing a 'pool' of processes to run our tasks in parallel. Think about having multiple farmers to plant seeds. We have a 'pool' of farmers that we can use to do our tasks in parallel."
   ]
  },
  {
   "cell_type": "code",
   "execution_count": null,
   "id": "5c350d44",
   "metadata": {},
   "outputs": [],
   "source": [
    "import multiprocessing\n",
    "\n",
    "# Now we will only make a small change to the code\n",
    "\n",
    "input_list = [6, 7, 9, 11, 15]\n",
    "\n",
    "output_list = []\n",
    "\n",
    "# We begin by creating a 'pool' of processes to run our task in parallel\n",
    "# Here we will create a pool of only 2 processes.\n",
    "our_pool = multiprocessing.Pool(2)\n",
    "\n",
    "# Now we run a slightly different map function, it is in our pool\n",
    "# So this map function will run in parallel!\n",
    "# Notice, the code is almost identical to the map function above ...\n",
    "# but we get to use 2 parallel processes\n",
    "output_list = our_pool.map(task, input_list)\n",
    "\n",
    "# Now that we are done, we want to close up our pool of processes\n",
    "our_pool.close()\n",
    "\n",
    "print(\"Our outputs\", output_list)        "
   ]
  },
  {
   "cell_type": "markdown",
   "id": "474dddc5",
   "metadata": {},
   "source": [
    "... that's it. That is all that it takes to run a parallel computing process in Python.\n",
    "Well, okay. There are more complex cases that we will get into, but that is the simplest way to add parallelism to your tasks."
   ]
  },
  {
   "cell_type": "markdown",
   "id": "8df8ead6",
   "metadata": {},
   "source": [
    "#### Optional: There is a slightly better way to program this in Python.\n",
    "\n",
    "If you are interested take a look at the code sample below If you are not, then just skip ahead. Our change is using the 'with' statement in Python that will automatically close the pool.\n"
   ]
  },
  {
   "cell_type": "code",
   "execution_count": null,
   "id": "4b6761f9",
   "metadata": {},
   "outputs": [],
   "source": [
    "\n",
    "input_list = [6, 7, 9, 11, 15]\n",
    "\n",
    "output_list = []\n",
    "\n",
    "# Instead of creating a pool and running close(), we can use Python's with statement\n",
    "with multiprocessing.Pool(2) as p:\n",
    "    output_list = p.map(task, input_list)\n",
    "\n",
    "print(\"Our outputs\", output_list)"
   ]
  },
  {
   "cell_type": "markdown",
   "id": "5b5246ea",
   "metadata": {},
   "source": [
    "## Scale: Let's scale up our problem and our parallel processing\n",
    "\n",
    "Okay, so we started with a simple problem: doubling numbers. We had a list of 5 numbers that we needed to double.\n",
    "As you can imagine, this is a fairly small problem. So let's make it a bit bigger. And a bit more complex."
   ]
  },
  {
   "cell_type": "markdown",
   "id": "7b4e3315",
   "metadata": {},
   "source": [
    "Our new task will be projecting points from latitude/longitude to the Mercator projection system\n",
    "\n",
    "We need to import the math module to do some of this math.\n",
    "\n",
    "We will also create our own function for this task. Here we will define our function using the __def__ keyword. We will call our function __proj_task__.\n",
    "\n",
    "What is going on with all that math down there? Well, this __proj_task__ function is transforming Latitude and Longitude points to a projected coordinate system called the Mercator Projection. You have all seen this projection on a map somewhere. Take a look at the Wikipedia page for an example (https://en.wikipedia.org/wiki/Mercator_projection).\n"
   ]
  },
  {
   "cell_type": "code",
   "execution_count": null,
   "id": "56362fc0",
   "metadata": {},
   "outputs": [],
   "source": [
    "import math\n",
    "\n",
    "# Inspiration: https://gis.stackexchange.com/questions/156035/calculating-mercator-coordinates-from-lat-lon\n",
    "\n",
    "def proj_task(latlon_point):\n",
    "    # Get lat/lon out of the input parameter\n",
    "    lat = latlon_point[0]\n",
    "    lon = latlon_point[1]\n",
    "    \n",
    "    r_major = 6378137.000\n",
    "    x = r_major * math.radians(lon)\n",
    "    scale = x/lon\n",
    "    y = 180.0/math.pi * math.log(math.tan(math.pi/4.0 + lat * (math.pi/180.0)/2.0)) * scale\n",
    "    \n",
    "    proj_point = [y, x]\n",
    "    \n",
    "    return proj_point"
   ]
  },
  {
   "cell_type": "markdown",
   "id": "dd992bb2",
   "metadata": {},
   "source": [
    "Let's try running our task function. Run the code cell below to see if it works."
   ]
  },
  {
   "cell_type": "code",
   "execution_count": null,
   "id": "66987c4f",
   "metadata": {},
   "outputs": [],
   "source": [
    "latlon_point = [44.97, -93.24]\n",
    "\n",
    "output = proj_task(latlon_point)\n",
    "\n",
    "print(\"Our output was\", output)"
   ]
  },
  {
   "cell_type": "markdown",
   "id": "2856b04c",
   "metadata": {},
   "source": [
    "### Use the map function\n",
    "\n",
    "Use the map function applying our new projection task to a list of latitude and longitude points. This is a similar switch to the first example at the top of this notebook.\n"
   ]
  },
  {
   "cell_type": "code",
   "execution_count": null,
   "id": "e2d259cc",
   "metadata": {},
   "outputs": [],
   "source": [
    "\n",
    "latlon_list = [ [44.5, -94.5], [45.5, -96.5], [44.4, -95.0], [40.5, -89.5] ]\n",
    "\n",
    "proj_list = []\n",
    "\n",
    "# Use the map function\n",
    "proj_list = map(proj_task, latlon_list)\n",
    "\n",
    "# Transform (a.k.a. cast) our map list into a Python list.\n",
    "output_list = list(proj_list)\n",
    "\n",
    "print(\"Our outputs,\", output_list)\n"
   ]
  },
  {
   "cell_type": "markdown",
   "id": "ddd522a5",
   "metadata": {},
   "source": [
    "Let's use a pool of processes again and parallelize our __proj_task__ task.\n"
   ]
  },
  {
   "cell_type": "code",
   "execution_count": null,
   "id": "3fa720c2",
   "metadata": {},
   "outputs": [],
   "source": [
    "latlon_list = [ [44.5, -94.5], [45.5, -96.5], [44.4, -95.0], [40.5, -89.5] ]\n",
    "\n",
    "proj_list = []\n",
    "\n",
    "our_pool = multiprocessing.Pool(2)\n",
    "\n",
    "# Now we run a slightly different map function, it is in our pool\n",
    "# So this map function will run in parallel!\n",
    "# Notice, the code is almost identical to the map function above ...\n",
    "# but we get to use 2 parallel processes\n",
    "proj_list = our_pool.map(proj_task, latlon_list)\n",
    "\n",
    "# Now that we are done, we want to close up our pool of processes\n",
    "our_pool.close()\n",
    "\n",
    "print(\"Our outputs\", proj_list)"
   ]
  },
  {
   "cell_type": "markdown",
   "id": "6e3ebfbd",
   "metadata": {},
   "source": [
    "### Scaling up!\n",
    "\n",
    "Let's scale up our list of points by creating a function to create large lists. Here we will use the __random__ package to generate random points.\n"
   ]
  },
  {
   "cell_type": "code",
   "execution_count": null,
   "id": "23ca672d",
   "metadata": {},
   "outputs": [],
   "source": [
    "# We are going to randomly generate points\n",
    "import random\n",
    "\n",
    "def make_latlon_list(number_of_points):\n",
    "\n",
    "    # Create an empty list\n",
    "    latlon_list = []\n",
    "    \n",
    "    # Loop 1 time for each number in number_of_points\n",
    "    for i in range(number_of_points):\n",
    "        \n",
    "        # Create a latitude and longitude coordinate\n",
    "        lat = 40.0 + random.random()*10\n",
    "        lon = -85.0 + random.random()*10\n",
    "        \n",
    "        # Turn it into a point\n",
    "        point = [lat, lon]\n",
    "        \n",
    "        latlon_list.append(point)\n",
    "        \n",
    "    return latlon_list\n",
    "\n"
   ]
  },
  {
   "cell_type": "code",
   "execution_count": null,
   "id": "b2f41aca",
   "metadata": {},
   "outputs": [],
   "source": [
    "# Let's try it\n",
    "\n",
    "latlon_list = make_latlon_list(20)\n",
    "\n",
    "print(\"20 lat/lon coordinates\", latlon_list)\n",
    "\n"
   ]
  },
  {
   "cell_type": "code",
   "execution_count": null,
   "id": "16959de7",
   "metadata": {},
   "outputs": [],
   "source": [
    "# Let's really scale\n",
    "\n",
    "# 1000 latitude longitude points\n",
    "latlon_list = make_latlon_list(1000)\n",
    "\n",
    "# 4 processes in our pool\n",
    "our_pool = multiprocessing.Pool(4)\n",
    "\n",
    "# Now we run a slightly different map function, it is in our pool\n",
    "# So this map function will run in parallel!\n",
    "# Notice, the code is almost identical to the map function above ...\n",
    "# but we get to use 2 parallel processes\n",
    "proj_list = our_pool.map(proj_task, latlon_list)\n",
    "\n",
    "# Now that we are done, we want to close up our pool of processes\n",
    "our_pool.close()\n",
    "\n",
    "print(\"Our first projected point\", proj_list[0])\n",
    "print(\"Our last projected point\", proj_list[len(proj_list)-1])\n",
    "\n",
    "print(\"Number of projected points:\", len(proj_list))\n"
   ]
  },
  {
   "cell_type": "markdown",
   "id": "3c07721f",
   "metadata": {},
   "source": [
    "## Your turn!\n",
    "\n",
    "Now we want you to try it.\n",
    "We added a timer function to tell you how long each took.\n",
    "Then, we can measure the speedup.\n",
    "\n",
    "Your tasks:\n",
    "  1) Change the number of points from 1000 to five million (5000000) points to increase the data even further.\n",
    "  2) Run the code using 1 process in our pool, record the time\n",
    "  3) Run the code using 2 processes in our pool, record the time\n",
    "  4) Run the code using 4 processes in our pool, record the time\n",
    "  5) Calculate the speedup for the parallel computing tasks (with 2 and 4 processes)\n"
   ]
  },
  {
   "cell_type": "code",
   "execution_count": null,
   "id": "473243f9",
   "metadata": {},
   "outputs": [],
   "source": [
    "# Let's give it a go.\n",
    "import time\n",
    "\n",
    "# TODO: Change the number of points from 1000 to 1000000 points.\n",
    "\n",
    "latlon_list = make_latlon_list(5000000)\n",
    "\n",
    "start_time = time.time()\n",
    "\n",
    "# TODO: Change the number of processes in our pool from 1 to 2 to 4\n",
    "\n",
    "# Number of processes in our pool\n",
    "our_pool = multiprocessing.Pool(1)\n",
    "\n",
    "# Run our projection task in parallel using our pool of processes\n",
    "proj_list = our_pool.map(proj_task, latlon_list)\n",
    "\n",
    "# Now that we are done, we want to close up our pool of processes\n",
    "our_pool.close()\n",
    "\n",
    "end_time = time.time()\n",
    "\n",
    "print(\"Our first projected point\", proj_list[0])\n",
    "print(\"Our last projected point\", proj_list[len(proj_list)-1])\n",
    "\n",
    "print(\"Number of projected points:\", len(proj_list))\n",
    "print(\"Execution time (seconds):\", end_time - start_time)"
   ]
  },
  {
   "cell_type": "markdown",
   "id": "c020b8b4",
   "metadata": {},
   "source": [
    "## Calculating speedup\n",
    "Now let's use the code above to calculate the speedup of our parallel code. Re-run the code for 5000000 (5 million) points using:\n",
    " * 1 process in our pool, \n",
    " * 2 processes in our pool\n",
    " * 4 processes in our pool\n",
    " \n",
    "For each time record the time in seconds below in the three variables. Then run the code below."
   ]
  },
  {
   "cell_type": "code",
   "execution_count": null,
   "id": "9f1a4db4",
   "metadata": {},
   "outputs": [],
   "source": [
    "# Run the code above \n",
    "\n",
    "speed_1_process = 1.0\n",
    "speed_2_process = 2.0\n",
    "speed_4_process = 4.0\n",
    "\n",
    "print(\"Speedup for 2 processes (2.0 is perfect speedup)\", speed_2_process/speed_1_process)\n",
    "print(\"Speedup for 4 processes (4.0 is perfect speedup)\", speed_4_process/speed_1_process)\n",
    "\n",
    "print(\"Remember Amdahl's Law, think about why you might not get perfect speedup by examining the code above\")"
   ]
  },
  {
   "cell_type": "markdown",
   "id": "dfe8394b",
   "metadata": {},
   "source": [
    "# Congratulations!\n",
    "\n",
    "\n",
    "**You have finished an Hour of CI!**\n",
    "\n",
    "\n",
    "But, before you go ... \n",
    "\n",
    "1. Please fill out a very brief questionnaire to provide feedback and help us improve the Hour of CI lessons. It is fast and your feedback is very important to let us know what you learned and how we can improve the lessons in the future.\n",
    "2. If you would like a certificate, then please type your name below and click \"Create Certificate\" and you will be presented with a PDF certificate.\n",
    "\n",
    "<font size=\"+1\"><a style=\"background-color:blue;color:white;padding:12px;margin:10px;font-weight:bold;\" href=\"https://forms.gle/JUUBm76rLB8iYppN7\">Take the questionnaire and provide feedback</a></font>"
   ]
  },
  {
   "cell_type": "code",
   "execution_count": null,
   "id": "06c4ddee",
   "metadata": {
    "hide_input": false,
    "slideshow": {
     "slide_type": "-"
    },
    "tags": [
     "Hide",
     "Init"
    ]
   },
   "outputs": [],
   "source": [
    "\n",
    "# This code cell loads the Interact Textbox that will ask users for their name\n",
    "# Once they click \"Create Certificate\" then it will add their name to the certificate template\n",
    "# And present them a PDF certificate\n",
    "from PIL import Image\n",
    "from PIL import ImageFont\n",
    "from PIL import ImageDraw\n",
    "\n",
    "from ipywidgets import interact\n",
    "\n",
    "def make_cert(learner_name, lesson_name):\n",
    "    cert_filename = 'hourofci_certificate.pdf'\n",
    "\n",
    "    img = Image.open(\"../../supplementary/hci-certificate-template.jpg\")\n",
    "    draw = ImageDraw.Draw(img)\n",
    "\n",
    "    cert_font   = ImageFont.truetype('../../supplementary/cruft.ttf', 150)\n",
    "    cert_fontsm = ImageFont.truetype('../../supplementary/cruft.ttf', 80)\n",
    "    \n",
    "    _,_,w,h = cert_font.getbbox(learner_name)  \n",
    "    draw.text( xy = (1650-w/2,1100-h/2), text = learner_name, fill=(0,0,0),font=cert_font)\n",
    "    \n",
    "    _,_,w,h = cert_fontsm.getbbox(lesson_name)\n",
    "    draw.text( xy = (1650-w/2,1100-h/2 + 750), text = lesson_name, fill=(0,0,0),font=cert_fontsm)\n",
    "    \n",
    "    img.save(cert_filename, \"PDF\", resolution=100.0)   \n",
    "    return cert_filename\n",
    "\n",
    "\n",
    "interact_cert=interact.options(manual=True, manual_name=\"Create Certificate\")\n",
    "\n",
    "@interact_cert(name=\"Your Name\")\n",
    "def f(name):\n",
    "    print(\"Congratulations\",name)\n",
    "    filename = make_cert(name, 'Beginner Parallel Computing')\n",
    "    print(\"Download your certificate by clicking the link below.\")\n",
    "    \n",
    "    \n",
    "    "
   ]
  },
  {
   "cell_type": "markdown",
   "id": "cbd1b84a",
   "metadata": {},
   "source": [
    "<font size=\"+1\"><a style=\"background-color:blue;color:white;padding:12px;margin:10px;font-weight:bold;\" href=\"hourofci_certificate.pdf?download=1\" download=\"hourofci_certificate.pdf\">Download your certificate</a></font>"
   ]
  }
 ],
 "metadata": {
  "celltoolbar": "Edit Metadata",
  "kernelspec": {
   "display_name": "Python 3 (ipykernel)",
   "language": "python",
   "name": "python3"
  },
  "language_info": {
   "codemirror_mode": {
    "name": "ipython",
    "version": 3
   },
   "file_extension": ".py",
   "mimetype": "text/x-python",
   "name": "python",
   "nbconvert_exporter": "python",
   "pygments_lexer": "ipython3",
   "version": "3.8.1"
  }
 },
 "nbformat": 4,
 "nbformat_minor": 5
}
