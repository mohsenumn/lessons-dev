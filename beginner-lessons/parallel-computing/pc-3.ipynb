{
 "cells": [
  {
   "cell_type": "markdown",
   "metadata": {
    "slideshow": {
     "slide_type": "slide"
    }
   },
   "source": [
    "# Parallel Computation\n",
    "## A Law of Parallel Computation\n",
    "*Lesson Developer: Eric Shook eshook@umn.edu*\n"
   ]
  },
  {
   "cell_type": "code",
   "execution_count": null,
   "metadata": {
    "hide_input": true,
    "init_cell": true,
    "slideshow": {
     "slide_type": "skip"
    },
    "tags": [
     "Hide"
    ]
   },
   "outputs": [],
   "source": [
    "# This code cell starts the necessary setup for Hour of CI lesson notebooks.\n",
    "# First, it enables users to hide and unhide code by producing a 'Toggle raw code' button below.\n",
    "# Second, it imports the hourofci package, which is necessary for lessons and interactive Jupyter Widgets.\n",
    "# Third, it helps hide/control other aspects of Jupyter Notebooks to improve the user experience\n",
    "# This is an initialization cell\n",
    "# It is not displayed because the Slide Type is 'Skip'\n",
    "\n",
    "from IPython.display import HTML, IFrame, Javascript, display\n",
    "from ipywidgets import interactive\n",
    "import ipywidgets as widgets\n",
    "from ipywidgets import Layout\n",
    "\n",
    "import getpass # This library allows us to get the username (User agent string)\n",
    "\n",
    "# import package for hourofci project\n",
    "import sys\n",
    "sys.path.append('../../supplementary') # relative path (may change depending on the location of the lesson notebook)\n",
    "import hourofci\n",
    "\n",
    "\n",
    "# load javascript to initialize/hide cells, get user agent string, and hide output indicator\n",
    "# hide code by introducing a toggle button \"Toggle raw code\"\n",
    "HTML(''' \n",
    "    <script type=\"text/javascript\" src=\\\"../../supplementary/js/custom.js\\\"></script>\n",
    "    \n",
    "    <style>\n",
    "        .output_prompt{opacity:0;}\n",
    "    </style>\n",
    "    \n",
    "    <input id=\"toggle_code\" type=\"button\" value=\"Toggle raw code\">\n",
    "''')"
   ]
  },
  {
   "cell_type": "markdown",
   "metadata": {
    "slideshow": {
     "slide_type": "slide"
    }
   },
   "source": [
    "## Thank you for helping our study\n",
    "\n",
    "\n",
    "<a href=\"#/slide-1-0\" class=\"navigate-right\" style=\"background-color:blue;color:white;padding:8px;margin:2px;font-weight:bold;\">Continue with the lesson</a>\n",
    "\n",
    "Throughout this lesson you will see reminders, like the one below, to ensure that all participants understand that they are in a voluntary research study.\n",
    "\n",
    "### Reminder\n",
    "\n",
    "<font size=\"+1\">\n",
    "\n",
    "By continuing with this lesson you are granting your permission to take part in this research study for the Hour of Cyberinfrastructure: Developing Cyber Literacy for GIScience project. In this study, you will be learning about cyberinfrastructure and related concepts using a web-based platform that will take approximately one hour per lesson. Participation in this study is voluntary.\n",
    "\n",
    "Participants in this research must be 18 years or older. If you are under the age of 18 then please exit this webpage or navigate to another website such as the Hour of Code at https://hourofcode.com, which is designed for K-12 students.\n",
    "\n",
    "If you are not interested in participating please exit the browser or navigate to this website: http://www.umn.edu. Your participation is voluntary and you are free to stop the lesson at any time.\n",
    "\n",
    "For the full description please navigate to this website: <a href=\"gateway-1.ipynb\">Gateway Lesson Research Study Permission</a>.\n",
    "\n",
    "</font>"
   ]
  },
  {
   "cell_type": "markdown",
   "metadata": {
    "slideshow": {
     "slide_type": "slide"
    }
   },
   "source": [
    "### Serial and Parallel Computation\n",
    "\n",
    "Sometimes Sam needs something to do. What happens when Sam is responsible for planting some of the field and Parker and Patricia are responsible for planting the rest? Remember, Sam only works alone. So when Sam is planting then Parker and Patricia have to stay out of the field. Let's see how long it takes these 3 farmers to plant the field if each of them plants one third of the field each."
   ]
  },
  {
   "cell_type": "code",
   "execution_count": null,
   "metadata": {
    "hide_input": false,
    "slideshow": {
     "slide_type": "-"
    },
    "tags": [
     "Init",
     "Hide"
    ]
   },
   "outputs": [],
   "source": [
    "IFrame(\"supplementary/field-three-static.html\", width=\"850\", height=\"350\")"
   ]
  },
  {
   "cell_type": "markdown",
   "metadata": {
    "slideshow": {
     "slide_type": "slide"
    }
   },
   "source": [
    "How fast is the field planted if they divide the field evenly? Everyone gets 1/3 of the field."
   ]
  },
  {
   "cell_type": "code",
   "execution_count": null,
   "metadata": {
    "hide_input": true,
    "slideshow": {
     "slide_type": "-"
    },
    "tags": [
     "Init",
     "Hide"
    ]
   },
   "outputs": [],
   "source": [
    "# TODO: Style the widget better, there's no easy way unfortunately\n",
    "# Add end values, add units ('seconds') to current value, etc.\n",
    "widget0 = widgets.IntSlider(\n",
    "    value=1,\n",
    "    min=0,\n",
    "    max=20,\n",
    "    step=1,\n",
    "    description='Fastest time divided evenly (0 - 20 seconds):', style={'description_width': 'initial'},\n",
    "    layout = Layout(width='70%'),\n",
    "    disabled=False,\n",
    "    continuous_update=False,\n",
    "    orientation='horizontal',\n",
    "    readout=True,\n",
    "    readout_format='d'\n",
    ")\n",
    "\n",
    "def out():\n",
    "    return print('Submitted!')\n",
    "display(widget0)\n",
    "\n",
    "hourofci.SubmitBtn2(widget0, out)\n"
   ]
  },
  {
   "cell_type": "markdown",
   "metadata": {
    "slideshow": {
     "slide_type": "fragment"
    }
   },
   "source": [
    "__10 Seconds!__ The first 5 seconds are dedicated to Sam who will only work on the field by himself. He plants the first third of the field. The second 5 seconds are dedicated to Parker and Patricia who work at the same time (i.e., in parallel) planting each of their third of the field."
   ]
  },
  {
   "cell_type": "markdown",
   "metadata": {
    "slideshow": {
     "slide_type": "slide"
    }
   },
   "source": [
    "### Changing it up\n",
    "\n",
    "Okay, now let's try changing how much each farmer plants. Try different configurations by moving the solid lines up and down to change the amount of seeds that each farmer will plant. Can you get the fastest time?"
   ]
  },
  {
   "cell_type": "code",
   "execution_count": null,
   "metadata": {
    "hide_input": true,
    "slideshow": {
     "slide_type": "-"
    },
    "tags": [
     "Init",
     "Hide"
    ]
   },
   "outputs": [],
   "source": [
    "IFrame(\"supplementary/field-three-static.html\", width=\"850\", height=\"350\")"
   ]
  },
  {
   "cell_type": "markdown",
   "metadata": {
    "slideshow": {
     "slide_type": "slide"
    }
   },
   "source": [
    "How fast can the field be planted? If you get to control how much, if any, of the field is planted by each person?"
   ]
  },
  {
   "cell_type": "code",
   "execution_count": null,
   "metadata": {
    "hide_input": false,
    "slideshow": {
     "slide_type": "-"
    },
    "tags": [
     "Init",
     "Hide"
    ]
   },
   "outputs": [],
   "source": [
    "# TODO: Style the widget better, there's no easy way unfortunately\n",
    "# Add end values, add units ('seconds') to current value, etc.\n",
    "widget1 = widgets.IntSlider(\n",
    "    value=1,\n",
    "    min=0,\n",
    "    max=20,\n",
    "    step=1,\n",
    "    description='Fastest time (0 - 20 seconds):', style={'description_width': 'initial'},\n",
    "    layout = Layout(width='60%'),\n",
    "    disabled=False,\n",
    "    continuous_update=False,\n",
    "    orientation='horizontal',\n",
    "    readout=True,\n",
    "    readout_format='d'\n",
    ")\n",
    "\n",
    "def out():\n",
    "    return print('Submitted!')\n",
    "display(widget1)\n",
    "\n",
    "hourofci.SubmitBtn2(widget1, out)"
   ]
  },
  {
   "cell_type": "markdown",
   "metadata": {
    "slideshow": {
     "slide_type": "fragment"
    }
   },
   "source": [
    "__8 Seconds!__ We can eliminate 2 seconds by giving Sam no part of the field to plant. He does not work with anyone so there is no chance of working in parallel. If we split the field in half between Parker and Patricia, then we can reduce the time to plant down to 8 seconds."
   ]
  },
  {
   "cell_type": "code",
   "execution_count": null,
   "metadata": {
    "hide_input": true,
    "slideshow": {
     "slide_type": "skip"
    },
    "tags": [
     "Init",
     "Hide"
    ]
   },
   "outputs": [],
   "source": [
    "IFrame(\"supplementary/field-three.html\", width=\"850\", height=\"450\")"
   ]
  },
  {
   "cell_type": "markdown",
   "metadata": {
    "slideshow": {
     "slide_type": "slide"
    }
   },
   "source": [
    "### Coordination\n",
    "\n",
    "In our first scenario with Parker and Patricia you moved the bar to determine how much work they each had to do. Generally, Parker and Patricia would need to coordinate their efforts. They might talk and say something like: \n",
    "\n",
    "> Meet in the middle? \n",
    "\n",
    "> Sure, sounds good! Then we'll get something to eat at Hip Po Restaurant.\n",
    "\n",
    "That short discussion is usually required for two or more people to coordinate their work. The more workers there are, generally the longer the discussion needed for them to coordinate their work. Notice that they are not working when they are having their conversation. In fact only one of them is talking at a time. The time it takes to coordinate workers such as Parker and Patricia adds to the overall time to complete the task. "
   ]
  },
  {
   "cell_type": "markdown",
   "metadata": {
    "slideshow": {
     "slide_type": "slide"
    }
   },
   "source": [
    "## Coordination\n",
    "<table>\n",
    "    <tr style=\"background: #fff; text-align: left; vertical-align: top;\">\n",
    "        <td style=\"width: 20%; background: #fff;\"> \n",
    "            <center><h3>Group Size: 5</h3></center>\n",
    "            <center><img src=\"supplementary/worker5_res.png\" width=\"85%\"></center>\n",
    "        </td>\n",
    "        <td style=\"width: 25%; background: #fff; text-align: left; vertical-align: top;\"> \n",
    "            <center><h3>Group Size: 15</h3></center>\n",
    "            <center><img src=\"supplementary/worker15_res.png\" width=\"65%\"></center>\n",
    "        </td>\n",
    "        <td style=\"width: 35%; background: #fff; text-align: left; vertical-align: top;\"> \n",
    "            <center><h3>Group Size: 100+</h3></center>\n",
    "            <center><img src=\"supplementary/worker100p_res.png\" width=\"70%\"></center>\n",
    "        </td>\n",
    "    </tr>\n",
    "</table>\n",
    "Which group would take longer to coordinate?"
   ]
  },
  {
   "cell_type": "code",
   "execution_count": null,
   "metadata": {
    "hide_input": false,
    "slideshow": {
     "slide_type": "-"
    },
    "tags": [
     "Init",
     "Hide"
    ]
   },
   "outputs": [],
   "source": [
    "o1='5'\n",
    "o2='15'\n",
    "o3=\"100+\"\n",
    "\n",
    "widget1 = widgets.RadioButtons(\n",
    "    options = [o1, o2, o3],\n",
    "    description = ' ', style={'description_width': 'initial'},\n",
    "    layout = Layout(width='100%'),\n",
    "    value = None\n",
    ")\n",
    "\n",
    "display(widget1)\n",
    "\n",
    "hourofci.SubmitBtn2(widget1)"
   ]
  },
  {
   "cell_type": "markdown",
   "metadata": {
    "slideshow": {
     "slide_type": "slide"
    }
   },
   "source": [
    "## Coordination\n",
    "100+ people would take longer to coordinate. There are so many people that it would take multiple individuals to get messages out to everyone (a communication cost). Feedback collection from all the individuals would take time to collect and aggregate. Someone would have to do the work of aggregating the responses as a type of coordination. This 'work' would be serial and not happen in parallel (think back to Sam working alone).\n",
    "\n",
    "A group of only 3-5 people could coordinate with a short conversation and then get moving.\n"
   ]
  },
  {
   "cell_type": "markdown",
   "metadata": {
    "slideshow": {
     "slide_type": "slide"
    }
   },
   "source": [
    "## More people equals More capabilities\n",
    "More people will require more coordination. However, more people can usually accomplish more work. Universities employ hundreds or thousands of instructors to teach many classes to thousands or tens of thousands of students simultaneously in a single semester. This could not be accomplished with only 3 instructors in the same semester. \n"
   ]
  },
  {
   "cell_type": "markdown",
   "metadata": {
    "slideshow": {
     "slide_type": "slide"
    }
   },
   "source": [
    "## More people equals More capabilities\n",
    "\n",
    "<table>\n",
    "    <tr style=\"background: #fff; text-align: left; vertical-align: top;\">\n",
    "        <td style=\"width: 10%; background: #fff; text-align: left; vertical-align: center; font-size:160%;\"> \n",
    "            Supercomputers are specially designed computers that have thousands of processors all connected together using cutting-edge networking technologies. Supercomputers have more capabilities than your personal computer, but also require more coordination to make them compute in parallel.\n",
    "        </td>\n",
    "        <td style=\"width: 10%; background: #fff; text-align: left; vertical-align: top;\"> \n",
    "            <center><img src=\"https://images.unsplash.com/flagged/photo-1579274216947-86eaa4b00475?ixlib=rb-1.2.1&ixid=MnwxMjA3fDB8MHxwaG90by1wYWdlfHx8fGVufDB8fHx8&auto=format&fit=crop&w=927&q=80\" width=\"250\" height=\"250\"></center>\n",
    "        </td>\n",
    "    </tr>\n",
    "</table>"
   ]
  },
  {
   "cell_type": "markdown",
   "metadata": {
    "slideshow": {
     "slide_type": "slide"
    }
   },
   "source": [
    "## There are limits\n",
    "So we learned that more workers will require more coordination (communication and serial computation). We also learned that more workers can accomplish more work (bigger problem size). However, there are limits. Can we always add workers to accomplish more work and/or speed up the work done?\n",
    "\n",
    "What if you have more workers than there is work to do? Will adding even more workers help?\n"
   ]
  },
  {
   "cell_type": "code",
   "execution_count": null,
   "metadata": {
    "hide_input": false,
    "slideshow": {
     "slide_type": "-"
    },
    "tags": [
     "Init",
     "Hide"
    ]
   },
   "outputs": [],
   "source": [
    "o12=\"Yes\"\n",
    "o22=\"No\"\n",
    "\n",
    "widget12 = widgets.RadioButtons(\n",
    "    options = [o12, o22],\n",
    "    description = ' ', style={'description_width': 'initial'},\n",
    "    layout = Layout(width='100%'),\n",
    "    value = None\n",
    ")\n",
    "\n",
    "display(widget12)\n",
    "\n",
    "hourofci.SubmitBtn2(widget12)"
   ]
  },
  {
   "cell_type": "markdown",
   "metadata": {
    "slideshow": {
     "slide_type": "slide"
    }
   },
   "source": [
    "## There are limits\n",
    "No, adding more workers doesn't always help. This is sometimes referred to as \"Too many cooks in the kitchen.\" In even a large kitchen if you continue adding people to help cook, eventually people start getting in the way, there is too much talking, and there are not enough tasks (e.g., cutting vegetables, mixing ingredients) for all the people to do.\n"
   ]
  },
  {
   "cell_type": "markdown",
   "metadata": {
    "slideshow": {
     "slide_type": "slide"
    }
   },
   "source": [
    "## Amdahl's Law\n",
    "Now let's formalize this scenario by introducing a law. **Amdahl's Law** establishes a theoretical speedup for a given problem based on the percentage of work that can be parallelized *(p)* and the remaining percentage of the work that must be done serially *(1-p)*.\n",
    "\n",
    "Amdahl's Law tells us that even if we have an unlimited number of cooks, we can only speedup cooking so much.\n"
   ]
  },
  {
   "cell_type": "markdown",
   "metadata": {
    "slideshow": {
     "slide_type": "slide"
    }
   },
   "source": [
    "## Amdahl's Law\n",
    "\n",
    "$$\n",
    "S(n) = \\frac{1}{(1 - p) + (\\frac{p}{n})}\n",
    "$$\n",
    "\n",
    "\n",
    "n = number of workers <br/>\n",
    "p = percentage of parallel work<br/>\n",
    "(1 - p) = percentage of serial work<br/>\n",
    "\n",
    "What this equation shows that as we have infinite workers then p/n goes to 0. This means the percentage of serial work limits the amount of speedup of our problem:\n",
    "\n",
    "$$\n",
    "\\frac{1}{(1 - p)}\n",
    "$$\n"
   ]
  },
  {
   "cell_type": "markdown",
   "metadata": {
    "slideshow": {
     "slide_type": "slide"
    }
   },
   "source": [
    "## Back to the farm\n",
    "If Sam is responsible for planting only 10% of a field and we have thousands of other farmers that can work perfectly in parallel to plant the rest of the field. Theoretically, how much faster can the field get planted compared to only Sam planting the field one seed at a time? (Hint: Amdahl's Law might help here …)\n"
   ]
  },
  {
   "cell_type": "code",
   "execution_count": null,
   "metadata": {
    "hide_input": true,
    "slideshow": {
     "slide_type": "-"
    },
    "tags": [
     "Init",
     "Hide"
    ]
   },
   "outputs": [],
   "source": [
    "o13=\"5 times faster\"\n",
    "o23=\"10 times faster\"\n",
    "o33=\"50 times faster\"\n",
    "o43=\"100 times faster\"\n",
    "\n",
    "widget13 = widgets.RadioButtons(\n",
    "    options = [o13, o23, o33, o43],\n",
    "    description = ' ', style={'description_width': 'initial'},\n",
    "    layout = Layout(width='100%'),\n",
    "    value = None\n",
    ")\n",
    "\n",
    "display(widget13)\n",
    "\n",
    "hourofci.SubmitBtn2(widget13)"
   ]
  },
  {
   "cell_type": "markdown",
   "metadata": {
    "slideshow": {
     "slide_type": "slide"
    }
   },
   "source": [
    "## Back to the farm\n",
    "We are limited to only 10 times faster execution if only 90% of the problem can be solved in parallel. We are limited to 20 times faster if only 95% of the problem can be solved in parallel. Now, we must also think about tackling bigger problems. If you have more workers you can farm more fields than just one. Keep that in mind in the future!\n"
   ]
  },
  {
   "cell_type": "markdown",
   "metadata": {
    "slideshow": {
     "slide_type": "slide"
    }
   },
   "source": [
    "<b>Continue the journey: </b><br><br>\n",
    "\n",
    "\n",
    "<font size=\"+1\"><a style=\"background-color:blue;color:white;padding:12px;margin:10px;font-weight:bold;\" href=\"pc-4.ipynb\">Click here to go to the next notebook.</a></font>"
   ]
  }
 ],
 "metadata": {
  "celltoolbar": "Edit Metadata",
  "kernelspec": {
   "display_name": "Python 3 (ipykernel)",
   "language": "python",
   "name": "python3"
  },
  "language_info": {
   "codemirror_mode": {
    "name": "ipython",
    "version": 3
   },
   "file_extension": ".py",
   "mimetype": "text/x-python",
   "name": "python",
   "nbconvert_exporter": "python",
   "pygments_lexer": "ipython3",
   "version": "3.8.1"
  },
  "rise": {
   "autolaunch": true,
   "overlay": "<div class='hciheader'></div><div class='hcifooter'></div>",
   "scroll": true
  }
 },
 "nbformat": 4,
 "nbformat_minor": 2
}
