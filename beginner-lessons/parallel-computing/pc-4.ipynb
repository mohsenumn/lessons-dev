{
 "cells": [
  {
   "cell_type": "markdown",
   "metadata": {
    "slideshow": {
     "slide_type": "slide"
    }
   },
   "source": [
    "### Parallel Computing\n",
    "\n",
    "## Part 3 of 5\n",
    "# What to parallelize"
   ]
  },
  {
   "cell_type": "markdown",
   "metadata": {
    "slideshow": {
     "slide_type": "slide"
    }
   },
   "source": [
    "## Reminder\n",
    "<a href=\"#/slide-2-0\" class=\"navigate-right\" style=\"background-color:blue;color:white;padding:8px;margin:2px;font-weight:bold;\">Continue with the lesson</a>\n",
    "\n",
    "<br>\n",
    "</br>\n",
    "<font size=\"+1\">\n",
    "\n",
    "By continuing with this lesson you are granting your permission to take part in this research study for the Hour of Cyberinfrastructure: Developing Cyber Literacy for GIScience project. In this study, you will be learning about cyberinfrastructure and related concepts using a web-based platform that will take approximately one hour per lesson. Participation in this study is voluntary.\n",
    "\n",
    "Participants in this research must be 18 years or older. If you are under the age of 18 then please exit this webpage or navigate to another website such as the Hour of Code at https://hourofcode.com, which is designed for K-12 students.\n",
    "\n",
    "If you are not interested in participating please exit the browser or navigate to this website: http://www.umn.edu. Your participation is voluntary and you are free to stop the lesson at any time.\n",
    "\n",
    "For the full description please navigate to this website: <a href=\"../../gateway-lesson/gateway/gateway-1.ipynb\">Gateway Lesson Research Study Permission</a>.\n",
    "\n",
    "</font>"
   ]
  },
  {
   "cell_type": "code",
   "execution_count": null,
   "metadata": {
    "hide_input": false,
    "init_cell": true,
    "slideshow": {
     "slide_type": "skip"
    },
    "tags": [
     "Hide"
    ]
   },
   "outputs": [],
   "source": [
    "# This code cell starts the necessary setup for Hour of CI lesson notebooks.\n",
    "# First, it enables users to hide and unhide code by producing a 'Toggle raw code' button below.\n",
    "# Second, it imports the hourofci package, which is necessary for lessons and interactive Jupyter Widgets.\n",
    "# Third, it helps hide/control other aspects of Jupyter Notebooks to improve the user experience\n",
    "# This is an initialization cell\n",
    "# It is not displayed because the Slide Type is 'Skip'\n",
    "\n",
    "from IPython.display import HTML, IFrame, Javascript, display\n",
    "from ipywidgets import interactive\n",
    "import ipywidgets as widgets\n",
    "from ipywidgets import Layout, Textarea\n",
    "import warnings\n",
    "import getpass # This library allows us to get the username (User agent string)\n",
    "\n",
    "# import package for hourofci project\n",
    "import sys\n",
    "sys.path.append('../../supplementary') # relative path (may change depending on the location of the lesson notebook)\n",
    "import hourofci\n",
    "\n",
    "\n",
    "# load javascript to initialize/hide cells, get user agent string, and hide output indicator\n",
    "# hide code by introducing a toggle button \"Toggle raw code\"\n",
    "HTML(''' \n",
    "    <script type=\"text/javascript\" src=\\\"../../supplementary/js/custom.js\\\"></script>\n",
    "    \n",
    "    <style>\n",
    "        .output_prompt{opacity:0;}\n",
    "    </style>\n",
    "    \n",
    "    <input id=\"toggle_code\" type=\"button\" value=\"Toggle raw code\">\n",
    "''')"
   ]
  },
  {
   "cell_type": "markdown",
   "metadata": {
    "slideshow": {
     "slide_type": "slide"
    }
   },
   "source": [
    "## Data parallelism\n",
    "Notice when we were talking about Sam, Parker, and Patricia that the three workers dividing the work and all doing the same task: planting seeds in a single field. This is an example of **data parallelism**, which involves dividing data into chunks and distributing the chunks to a number of workers to work on in parallel. In this case we have 3 workers who divide the field into partitions and then plant seeds serially (Sam) or in parallel (Parker and Patricia)."
   ]
  },
  {
   "cell_type": "markdown",
   "metadata": {
    "slideshow": {
     "slide_type": "slide"
    }
   },
   "source": [
    "## Data parallelism\n",
    "Here you can see a dataset (left) and then we can divide it into the top half (middle) and bottom half (right). If we assign the top half to one worker and the bottom half to another worker. We could speed up our data processing by up to 2X. This is because each worker will do half of the work, and the work will be done simultaneously.\n",
    "\n",
    "<center><img src='supplementary/blocks.png' width=500></center>"
   ]
  },
  {
   "cell_type": "markdown",
   "metadata": {
    "slideshow": {
     "slide_type": "slide"
    }
   },
   "source": [
    "## Another type of parallelism: Task parallelism\n",
    "Are there other types of parallelism? Yes! Another common type of parallelism is called task parallelism. In task parallelism different workers divide the problem by completing different tasks oftentimes in parallel. In our field problem if we need to water the seeds after they are planted, then we can invoke task parallelism. We can assign one worker to water each seed after it is planted. "
   ]
  },
  {
   "cell_type": "markdown",
   "metadata": {
    "slideshow": {
     "slide_type": "slide"
    }
   },
   "source": [
    "## We see these types of parallelism all over.\n",
    "When you shop for groceries and you go to check out, you might notice a row of checkout lanes. Each lane has a worker to check you and your fellow shoppers out. This is similar to data parallelism. Taking the same problem (checking out a large number of shoppers) and dividing the work among a number of workers (people working each checkout lane). Before you finished shopping, you might have met someone behind the meat counter cutting fresh ham, another worker stocking shelves, and yet another mopping the floors. This is an example of task parallelism where each worker is performing a different task, which are all necessary for you and a large number of shoppers to complete your respective shopping trips.\n"
   ]
  },
  {
   "cell_type": "markdown",
   "metadata": {
    "slideshow": {
     "slide_type": "slide"
    }
   },
   "source": [
    "## We see these types of parallelism all over.\n",
    "Returning to our cooking example, we invoke task parallelism when we ask our friend to cut vegetables while we are putting a casserole in the oven. If there are a lot of vegetables to cut and we join our friend, then we are invoking the equivalent of data parallelism where we are dividing the work to finish it faster.\n"
   ]
  },
  {
   "cell_type": "markdown",
   "metadata": {
    "slideshow": {
     "slide_type": "slide"
    }
   },
   "source": [
    "## Task versus Data Parallelism\n",
    "On the right we have Data Parallelism: Processing Core 0 completes Task A for the top half of the data, then completes Task B for the top of the data. Processing Core 1 Task A for the bottom half of the data, then completes Task B for the bottom of the data. Both are completed independently (but in parallel).\n",
    "<center><img src='supplementary/par_types.png' width=700></center>\n",
    "\n",
    "Notice in this example the processing time is theoretically equivalent. "
   ]
  },
  {
   "cell_type": "markdown",
   "metadata": {
    "slideshow": {
     "slide_type": "slide"
    }
   },
   "source": [
    "## How could we speed up the processing even further?\n",
    "<center><img src='supplementary/par_types.png' width=500></center>\n",
    "\n",
    "If we increase the number of processing cores to 4, then …"
   ]
  },
  {
   "cell_type": "code",
   "execution_count": null,
   "metadata": {
    "hide_input": false,
    "slideshow": {
     "slide_type": "-"
    },
    "tags": [
     "Init",
     "Hide"
    ]
   },
   "outputs": [],
   "source": [
    "tarea1 = Textarea(\n",
    "            value='',\n",
    "            placeholder='Type your answer here',\n",
    "            description='',\n",
    "            disabled=False,\n",
    "            layout=Layout( height='100px', min_height='100px', width='500px')\n",
    "            )\n",
    "\n",
    "\n",
    "\n",
    "def out():\n",
    "    return print('Submitted!')\n",
    "display(tarea1)\n",
    "\n",
    "hourofci.SubmitBtn2(tarea1, out)"
   ]
  },
  {
   "cell_type": "markdown",
   "metadata": {
    "slideshow": {
     "slide_type": "slide"
    }
   },
   "source": [
    "## How could we speed up the processing even further?\n",
    "Right, we could apply BOTH data parallelism and task parallelism. Assigning one task (A or B) and one half of the data (top or bottom) to each core. Like so:\n",
    "\n",
    "<center><img src='supplementary/par_types2.png' width=700></center>\n",
    "\n",
    "Great work!"
   ]
  },
  {
   "cell_type": "markdown",
   "metadata": {
    "slideshow": {
     "slide_type": "slide"
    }
   },
   "source": [
    "## Notice\n",
    "Notice in Data Parallelism that we are taking the data and decomposing it into multiple portions. In our examples we decomposed the data into the top half and the bottom half. What if the data were spatial? Then dividing the top half and the bottom half would be like dividing the United States into the Northern half and the Southern half. Are there other ways we could divide these types of data?"
   ]
  },
  {
   "cell_type": "markdown",
   "metadata": {
    "slideshow": {
     "slide_type": "slide"
    }
   },
   "source": [
    "## Did you know?\n",
    "That there is a term for decomposing spatial data, it is called **Spatial Domain Decomposition**. There are numerous ways to decompose spatial data. Here are a few common examples. Each have their own advantages and disadvantages in their complexity and flexibility.\n",
    "\n",
    "<center><img src='supplementary/grid.png' width=700></center>\n"
   ]
  },
  {
   "cell_type": "markdown",
   "metadata": {
    "slideshow": {
     "slide_type": "slide"
    }
   },
   "source": [
    "## Inter-processor communication\n",
    "Parallelism does not come for free. Amdahl's Law shows us that the 'serial' portion of a code will limit our speedup. One important aspect of parallelism is coordinating all of the processing across all of the cores. This happens using Inter-processor Communication. For example, if we divide the US into the Northern half and Southern half. We may need information from one half to be made available for the other half. So we need a way for processing cores to communicate with each other.\n",
    "\n",
    "<center><img src='supplementary/usa.png' width=600></center>\n"
   ]
  },
  {
   "cell_type": "markdown",
   "metadata": {
    "slideshow": {
     "slide_type": "slide"
    }
   },
   "source": [
    "## A Tale of Two… Paradigms for Communication\n",
    "\n",
    "<center><img src='supplementary/tale.png' width=700></center>\n",
    "\n",
    "<b>Shared Memory</b> is one paradigm for inter-processor communication. In this paradigm, there is a single shared memory space that processors can write to and read from. If they use the same memory location (storing a Latitude and Longitude coordinate pair, for example), then they can communicate through the shared memory.<br>"
   ]
  },
  {
   "cell_type": "markdown",
   "metadata": {
    "slideshow": {
     "slide_type": "slide"
    }
   },
   "source": [
    "## Shared Memory\n",
    "\n",
    "<table>\n",
    "    <tr style=\"background: #fff; text-align: left; vertical-align:\">\n",
    "        <td style=\"background: #fff; text-align: left; font-size: 23px;\">\n",
    "An analogy for shared memory is a shared sheet of paper. If we give two people a sheet of paper, where they can each write questions and answers. They will be able to easily communicate without talking. What might be difficult is if they both wanted to write something at the same time. Or if one person wrote over the writing of the other person. Or if they both wrote a question and were waiting on a response from the other person. These are all examples of <b>resource contention</b>. Here we can have conflicts in accessing a shared resource (the sheet of paper). \n",
    "        </td>\n",
    "        <td style=\"width: 30%; background: #fff; text-align: left; vertical-align: top;\"> \n",
    "            <img src=\"supplementary/shared_mem.png\" width=\"100%\">\n",
    "    </td>\n",
    "    </tr>\n",
    "</table>"
   ]
  },
  {
   "cell_type": "markdown",
   "metadata": {
    "slideshow": {
     "slide_type": "slide"
    }
   },
   "source": [
    "## A Tale of Two… Paradigms for Communication\n",
    "\n",
    "<center><img src='supplementary/tale.png' width=700></center>\n",
    "\n",
    "<b>Message Passing</b> is another popular paradigm. In this paradigm, each processing core has its own memory space. So, the Latitude and Longitude coordinate pair on Processing Core 0 is not accessible to Processing Core 1. So, Processing Core 0 must send a message with the data inside the message. Processing Core 1 accepts the message and now has the data."
   ]
  },
  {
   "cell_type": "markdown",
   "metadata": {
    "slideshow": {
     "slide_type": "slide"
    }
   },
   "source": [
    "## Message Passing\n",
    "\n",
    "<table>\n",
    "    <tr style=\"background: #fff; text-align: left; vertical-align:\">\n",
    "        <td style=\"background: #fff; text-align: left; font-size: 23px;\">\n",
    "            An analogy for message passing is sending notes using the postal system. Let's give two people unlimited sheets of papers, envelopes, and stamps. They can each write questions and answers and post them to the other person. They will be able to easily communicate without talking. What might be difficult in this scenario is sending messages simultaneously because they do not know when the other person is sending them a post! <br>\n",
    "            There is no possibility that one person overwrites the note of another, because they each write their notes separately and send them. However, what if they both wrote a question and were waiting on a response from the other person? What if they write so many notes that they overwhelm the other person? Or what if so many notes are going through the postal system that the postal system is overwhelmed? The last example is called <b>network contention</b>. Here we can have conflicts in sending and receiving our notes. \n",
    "        </td>\n",
    "        <td style=\"width: 30%; background: #fff; text-align: left; vertical-align: top;\"> \n",
    "            <img src=\"supplementary/mess_passing.png\" width=\"100%\">\n",
    "    </td>\n",
    "    </tr>\n",
    "</table>"
   ]
  },
  {
   "cell_type": "markdown",
   "metadata": {
    "hide_input": true,
    "slideshow": {
     "slide_type": "slide"
    }
   },
   "source": [
    "## Let's check.\n",
    "Let's test your knowledge. We have two parallel processes running. Process 0 writes the value 0 into the first element a dataset like so: \n",
    "\n",
    "`dataset[0] = 0`\n",
    "\n",
    "Process 1 reads the value written by Process and assigns it to a variable like so:\n",
    "\n",
    "`variable = dataset[0]`\n",
    "Is this an example of shared memory or message passing?\n"
   ]
  },
  {
   "cell_type": "code",
   "execution_count": null,
   "metadata": {
    "hide_input": false,
    "slideshow": {
     "slide_type": "-"
    },
    "tags": [
     "Init",
     "Hide"
    ]
   },
   "outputs": [],
   "source": [
    "o1='Shared Memory'\n",
    "o2='Message Passing'\n",
    "widget12 = widgets.RadioButtons(\n",
    "    options = [o1, o2],\n",
    "    description = '', style={'description_width': 'initial'},\n",
    "    layout = Layout(width='100%'),\n",
    "    value = None)\n",
    "\n",
    "display(widget12)\n",
    "hourofci.SubmitBtn2(widget12)\n"
   ]
  },
  {
   "cell_type": "markdown",
   "metadata": {
    "slideshow": {
     "slide_type": "slide"
    }
   },
   "source": [
    "## Let's check: Shared memory!\n",
    "It is an example of shared memory. Here we are using the fact that the `dataset` is accessible to both processes. So each process can write to (i.e., `dataset[0] = 0`) and read from (i.e., `variable = dataset[0]`) the same shared data.\n",
    "\n",
    "\n",
    "\n"
   ]
  },
  {
   "cell_type": "markdown",
   "metadata": {
    "slideshow": {
     "slide_type": "slide"
    }
   },
   "source": [
    "## Speedup\n",
    "Now that we understand Amdahl's Law, Task versus Data Parallelism, and Inter-processor Communication we can understand why we measure **Speedup**.\n",
    "\n",
    "What is speedup?\n"
   ]
  },
  {
   "cell_type": "markdown",
   "metadata": {
    "slideshow": {
     "slide_type": "slide"
    }
   },
   "source": [
    "## Speedup\n",
    "Speedup is commonly used to assess the performance of a parallel program.  Speedup is defined as the execution time on a single core (T<sub>1</sub>) over the execution time on p cores (T<sub>p</sub>) (Amdahl, 1967). Linear or ideal speedup is reached when S<sub>p</sub> = p. \n",
    "\n",
    "<center><img src=\"supplementary/speedup.png\" width=\"700\"></center>\n"
   ]
  },
  {
   "cell_type": "markdown",
   "metadata": {
    "slideshow": {
     "slide_type": "slide"
    }
   },
   "source": [
    "## Speedup\n",
    "<center><img src=\"supplementary/speedup.png\" width=\"700\"></center>\n",
    "Every time we introduce serial portions of our code and/or inter-processor communication and/or resource contention, we reduce our actual speedup from our theoretically ideal (a.k.a. linear) speedup.\n",
    "\n"
   ]
  },
  {
   "cell_type": "markdown",
   "metadata": {
    "slideshow": {
     "slide_type": "slide"
    }
   },
   "source": [
    "## Let's see! Back to the field\n",
    "\n",
    "<center><img src=\"supplementary/portion.png\" width=\"700\"></center>\n",
    "On the left we have 5 ordered tasks. 3 of the tasks are completed sequentially. Two tasks are completed in parallel. If we use our three farmers: Sam, Parker, and Patricia, then we can see that only 1 portion of this problem can be parallelized. "
   ]
  },
  {
   "cell_type": "markdown",
   "metadata": {
    "slideshow": {
     "slide_type": "slide"
    }
   },
   "source": [
    "## Let's check\n",
    "\n",
    "<center><img src=\"supplementary/portion.png\" width=\"700\"></center>\n",
    "Using this diagram, what will be the key limitation in achieving ideal speedup?"
   ]
  },
  {
   "cell_type": "code",
   "execution_count": null,
   "metadata": {
    "hide_input": false,
    "slideshow": {
     "slide_type": "-"
    },
    "tags": [
     "Init",
     "Hide"
    ]
   },
   "outputs": [],
   "source": [
    "tarea2 = Textarea(\n",
    "            value='',\n",
    "            placeholder='Type your answer here',\n",
    "            description='',\n",
    "            disabled=False,\n",
    "            layout=Layout( height='100px', min_height='100px', width='500px')\n",
    "            )\n",
    "\n",
    "\n",
    "\n",
    "def out2():\n",
    "    return print('Answer submitted! Go to next page to check your answer.')\n",
    "display(tarea2)\n",
    "\n",
    "hourofci.SubmitBtn2(tarea2, out2)"
   ]
  },
  {
   "cell_type": "markdown",
   "metadata": {
    "slideshow": {
     "slide_type": "slide"
    }
   },
   "source": [
    "## Let's check! The serial portions!\n",
    "The serial portion will limit the amount of speedup that we can achieve. Recall Amdahl's Law.\n",
    "If we assume *P* is the parallel portion of a parallel program, \n",
    "then *(1-P)* is the portion that cannot be made parallel (serial portion).\n",
    "Amdahl's law states that the maximum speedup on *N* processors is:\n",
    "\n",
    "$$\n",
    "  S(N) = \\frac{1}{(1-P)+\\frac{P}{N}}\n",
    "$$\n",
    "\n",
    "Here, Sam's serial portion *(1-P)* is quite large. So this will limit our speedup. Our goal is to limit Sam's portion so that we can parallelize more of our problem.\n"
   ]
  },
  {
   "cell_type": "markdown",
   "metadata": {
    "slideshow": {
     "slide_type": "slide"
    }
   },
   "source": [
    "## Next up\n",
    "Now, enough talking. Let's parallelize some code!\n",
    "In the next Exploration Segment you will start with a simple piece of code and then walk through a step-by-step process introducing parallel computing so that we can take these principles and put them to action.\n",
    "\n",
    "\n"
   ]
  },
  {
   "cell_type": "markdown",
   "metadata": {
    "slideshow": {
     "slide_type": "-"
    }
   },
   "source": [
    "\n",
    "\n",
    "<font size=\"+1\"><a style=\"background-color:blue;color:white;padding:12px;margin:10px;font-weight:bold;\" \n",
    "href=\"pc-exploration.ipynb\">Click here to go to the next notebook.</a></font>\n"
   ]
  }
 ],
 "metadata": {
  "celltoolbar": "Edit Metadata",
  "kernelspec": {
   "display_name": "Python 3 (ipykernel)",
   "language": "python",
   "name": "python3"
  },
  "language_info": {
   "codemirror_mode": {
    "name": "ipython",
    "version": 3
   },
   "file_extension": ".py",
   "mimetype": "text/x-python",
   "name": "python",
   "nbconvert_exporter": "python",
   "pygments_lexer": "ipython3",
   "version": "3.8.1"
  },
  "rise": {
   "autolaunch": true,
   "overlay": "<div class='hciheader'></div><div class='hcifooter'></div>",
   "scroll": true
  }
 },
 "nbformat": 4,
 "nbformat_minor": 4
}
