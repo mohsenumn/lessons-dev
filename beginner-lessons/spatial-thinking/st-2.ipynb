{
 "cells": [
  {
   "cell_type": "markdown",
   "metadata": {
    "hide_input": true,
    "slideshow": {
     "slide_type": "slide"
    }
   },
   "source": [
    "## Introduction to Spatial Thinking\n",
    "### Segment 1 of 2\n",
    "# Spatial Thinking\n",
    "\n",
    "<i>Lesson Developer: </i>\n",
    "<ul>\n",
    "    <li>\n",
    "    <i>Sarah Bednarz, s-bednarz@geos.tamu.edu</i>\n",
    "    </li>\n",
    "</ul>\n"
   ]
  },
  {
   "cell_type": "markdown",
   "metadata": {
    "slideshow": {
     "slide_type": "slide"
    }
   },
   "source": [
    "## Thank you for helping our study\n",
    "\n",
    "\n",
    "<a href=\"#/slide-1-0\" class=\"navigate-right\" style=\"background-color:blue;color:white;padding:8px;margin:2px;font-weight:bold;\">Continue with the lesson</a>\n",
    "\n",
    "Throughout this lesson you will see reminders, like the one below, to ensure that all participants understand that they are in a voluntary research study.\n",
    "\n",
    "### Reminder\n",
    "\n",
    "<font size=\"+1\">\n",
    "\n",
    "By continuing with this lesson you are granting your permission to take part in this research study for the Hour of Cyberinfrastructure: Developing Cyber Literacy for GIScience project. In this study, you will be learning about cyberinfrastructure and related concepts using a web-based platform that will take approximately one hour per lesson. Participation in this study is voluntary.\n",
    "\n",
    "Participants in this research must be 18 years or older. If you are under the age of 18 then please exit this webpage or navigate to another website such as the Hour of Code at https://hourofcode.com, which is designed for K-12 students.\n",
    "\n",
    "If you are not interested in participating please exit the browser or navigate to this website: http://www.umn.edu. Your participation is voluntary and you are free to stop the lesson at any time.\n",
    "\n",
    "For the full description please navigate to this website: <a href=\"../../gateway-lesson/gateway/gateway-1.ipynb\">Gateway Lesson Research Study Permission</a>.\n",
    "\n",
    "</font>"
   ]
  },
  {
   "cell_type": "code",
   "execution_count": null,
   "metadata": {
    "hide_input": true,
    "init_cell": true,
    "slideshow": {
     "slide_type": "skip"
    },
    "tags": [
     "Hide"
    ]
   },
   "outputs": [],
   "source": [
    "# This code cell starts the necessary setup for Hour of CI lesson notebooks.\n",
    "# First, it enables users to hide and unhide code by producing a 'Toggle raw code' button below.\n",
    "# Second, it imports the hourofci package, which is necessary for lessons and interactive Jupyter Widgets.\n",
    "# Third, it helps hide/control other aspects of Jupyter Notebooks to improve the user experience\n",
    "# This is an initialization cell\n",
    "# It is not displayed because the Slide Type is 'Skip'\n",
    "\n",
    "from IPython.display import HTML, IFrame, Javascript, display\n",
    "from ipywidgets import interactive\n",
    "import ipywidgets as widgets\n",
    "from ipywidgets import Layout\n",
    "\n",
    "import getpass # This library allows us to get the username (User agent string)\n",
    "\n",
    "# import package for hourofci project\n",
    "import sys\n",
    "sys.path.append('../../supplementary') # relative path (may change depending on the location of the lesson notebook)\n",
    "import hourofci\n",
    "\n",
    "import warnings\n",
    "warnings.filterwarnings('ignore') # Hide warnings\n",
    "\n",
    "# load javascript to initialize/hide cells, get user agent string, and hide output indicator\n",
    "# hide code by introducing a toggle button \"Toggle raw code\"\n",
    "# HTML(''' \n",
    "#     <script type=\"text/javascript\" src=\\\"../../supplementary/js/custom.js\\\"></script>\n",
    "    \n",
    "#     <input id=\"toggle_code\" type=\"button\" value=\"Toggle raw code\">\n",
    "# ''')\n",
    "\n",
    "HTML(''' \n",
    "    <script type=\"text/javascript\" src=\\\"../../supplementary/js/custom.js\\\"></script>\n",
    "    \n",
    "    <style>\n",
    "        .output_prompt{opacity:0;}\n",
    "    </style>\n",
    "    \n",
    "    <input id=\"toggle_code\" type=\"button\" value=\"Toggle raw code\">\n",
    "''')\n"
   ]
  },
  {
   "cell_type": "markdown",
   "metadata": {
    "slideshow": {
     "slide_type": "slide"
    }
   },
   "source": [
    "## Spatial Thinking\n",
    "### Segment 1: Spatial Thinking and Your World \n",
    "Spatial thinking, the focus of this lesson, is an important but under-recognized set of skills and abilities. We all think spatially, but some of us are more inclined to do so than others. \n",
    "\n",
    "To begin, in the next few slides, let’s explore your spatial thinking by responding to a few sets of statements.\n",
    "   * You have these options: Agree, Strongly Agree, Undecided, Disagree, Strongly Disagree\n",
    "Following each set, there will be a brief explanation and opportunity to reflect about aspects of your spatial thinking."
   ]
  },
  {
   "cell_type": "markdown",
   "metadata": {
    "slideshow": {
     "slide_type": "slide"
    }
   },
   "source": [
    "## Spatial Thinking\n",
    "\n",
    "#### Statement 1: When I am thinking about a complex idea, I use diagrams, maps, and graphics to help me understand.\n"
   ]
  },
  {
   "cell_type": "code",
   "execution_count": null,
   "metadata": {
    "hide_input": true,
    "tags": [
     "Hide",
     "Init"
    ]
   },
   "outputs": [],
   "source": [
    "widget1 = widgets.RadioButtons(\n",
    "    options = ['Agree', 'Strongly Agree', 'Undecided', 'Disagree', 'Strongly Disagree'],\n",
    "    description = ' ', style={'description_width': 'initial'},\n",
    "    layout = Layout(width='100%'),\n",
    "    value = None\n",
    ")\n",
    "def out():\n",
    "    print('Answer successfully submitted!')\n",
    "display(widget1)\n",
    "\n",
    "hourofci.SubmitBtn2(widget1, out)"
   ]
  },
  {
   "cell_type": "markdown",
   "metadata": {
    "slideshow": {
     "slide_type": "slide"
    }
   },
   "source": [
    "#### Statement 2: When I assemble something such as furniture, a bicycle, or a computer, written instructions are more helpful to me than pictorial instructions.\n"
   ]
  },
  {
   "cell_type": "code",
   "execution_count": null,
   "metadata": {
    "hide_input": true,
    "tags": [
     "Hide",
     "Init"
    ]
   },
   "outputs": [],
   "source": [
    "widget1 = widgets.RadioButtons(\n",
    "    options = ['Agree', 'Strongly Agree', 'Undecided', 'Disagree', 'Strongly Disagree'],\n",
    "    description = ' ', style={'description_width': 'initial'},\n",
    "    layout = Layout(width='100%'),\n",
    "    value = None\n",
    ")\n",
    "def out():\n",
    "    print('Answer successfully submitted!')\n",
    "display(widget1)\n",
    "\n",
    "hourofci.SubmitBtn2(widget1, out)"
   ]
  },
  {
   "cell_type": "markdown",
   "metadata": {},
   "source": [
    "<table>\n",
    "    <tr style=\"background: #fff; text-align: left; vertical-align: top;\">\n",
    "        <td style=\"width: 10%; background: #fff; text-align: left; vertical-align: top;\"> <img src='supplementary/st1.png' >\n",
    "        </td>\n",
    "        <td style=\"width: 10%; background: #fff; text-align: left; vertical-align: top;\"> <img src='supplementary/st2.png' >\n",
    "        </td>\n",
    "    </tr>\n",
    "</table>"
   ]
  },
  {
   "cell_type": "markdown",
   "metadata": {
    "slideshow": {
     "slide_type": "slide"
    }
   },
   "source": [
    "## Explanation/Reflection\n",
    "#### Statement 1: When I am thinking about a complex idea, I use diagrams, maps, and graphics to help me understand.\n",
    "If you agreed or strongly agreed with this statement, you have strong visualization skills, a key component of spatial thinking.\n",
    "#### Statement 2: When I assemble something such as furniture, a bicycle, or a computer, written instructions are more helpful to me than pictorial instructions.\n",
    "If you agreed or strongly agreed with this statement, you are one of many people who prefer to read rather than to “see” instructions.\n"
   ]
  },
  {
   "cell_type": "markdown",
   "metadata": {
    "slideshow": {
     "slide_type": "slide"
    }
   },
   "source": [
    "## Reflection\n",
    "\n",
    "To enhance your spatial skills, try to transform a problem in a written or verbal form into a visual or graphic representation to see if that helps you. For example,\n",
    "\n",
    "<img src='supplementary/st3.png' width='600px'>\n",
    "\n",
    "Let’s say you want to know which age group has the most people. Take a look at the table of data and the visualization. Which one helps you find that answer the easiest and quickest?\n",
    "\n"
   ]
  },
  {
   "cell_type": "markdown",
   "metadata": {
    "slideshow": {
     "slide_type": "slide"
    }
   },
   "source": [
    "## Spatial Thinking\n",
    "\n",
    "#### Statement 3: I am curious about patterns in information or data, that is, where things are and why they are where they are.\n"
   ]
  },
  {
   "cell_type": "code",
   "execution_count": null,
   "metadata": {
    "hide_input": true,
    "tags": [
     "Hide",
     "Init"
    ]
   },
   "outputs": [],
   "source": [
    "widget1 = widgets.RadioButtons(\n",
    "    options = ['Agree', 'Strongly Agree', 'Undecided', 'Disagree', 'Strongly Disagree'],\n",
    "    description = ' ', style={'description_width': 'initial'},\n",
    "    layout = Layout(width='100%'),\n",
    "    value = None\n",
    ")\n",
    "def out():\n",
    "    print('Answer successfully submitted!')\n",
    "display(widget1)\n",
    "\n",
    "hourofci.SubmitBtn2(widget1, out)"
   ]
  },
  {
   "cell_type": "markdown",
   "metadata": {},
   "source": [
    "\n",
    "#### Statement 4: I notice details in how things are arranged such as the location of items in a room, or significant landmarks in a city.\n"
   ]
  },
  {
   "cell_type": "code",
   "execution_count": null,
   "metadata": {
    "hide_input": true,
    "tags": [
     "Hide",
     "Init"
    ]
   },
   "outputs": [],
   "source": [
    "widget1 = widgets.RadioButtons(\n",
    "    options = ['Agree', 'Strongly Agree', 'Undecided', 'Disagree', 'Strongly Disagree'],\n",
    "    description = ' ', style={'description_width': 'initial'},\n",
    "    layout = Layout(width='100%'),\n",
    "    value = None\n",
    ")\n",
    "def out():\n",
    "    print('Answer successfully submitted!')\n",
    "display(widget1)\n",
    "\n",
    "hourofci.SubmitBtn2(widget1, out)"
   ]
  },
  {
   "cell_type": "markdown",
   "metadata": {
    "slideshow": {
     "slide_type": "slide"
    }
   },
   "source": [
    "## Explanation/Reflection\n",
    "#### Statement 3: I am curious about patterns in information or data, that is, where things are and why they are where they are.\n",
    "If you agreed or strongly agreed with this statement, you have strong pattern recognition skills, a key component of spatial thinking.\n",
    "#### Statement 4: I notice details in how things are arranged, such as the location of items in a room, or significant landmarks in a city.\n",
    "If you disagreed or strongly disagreed with this statement, know that pattern recognition is not a skill that comes naturally to everyone, but it can be developed."
   ]
  },
  {
   "cell_type": "markdown",
   "metadata": {
    "slideshow": {
     "slide_type": "slide"
    }
   },
   "source": [
    "## Reflection\n",
    "The ability to see patterns in the arrangement of things spatially is a skill that is easily developed primarily through careful observation and the use of key concepts such as those illustrated below.\n",
    "\n",
    "The ability to see patterns in the arrangement of things spatially is a skill that can be developed through careful observation and the use of key concepts such as those illustrated below.\n",
    "\n",
    "<img src='supplementary/st4.jpg' width='500px'>"
   ]
  },
  {
   "cell_type": "markdown",
   "metadata": {
    "slideshow": {
     "slide_type": "slide"
    }
   },
   "source": [
    "## Spatial Thinking\n",
    "#### Statement 5: I have a good sense of direction and easily know where I am in unfamiliar places.\n"
   ]
  },
  {
   "cell_type": "code",
   "execution_count": null,
   "metadata": {
    "hide_input": true,
    "tags": [
     "Hide",
     "Init"
    ]
   },
   "outputs": [],
   "source": [
    "widget1 = widgets.RadioButtons(\n",
    "    options = ['Agree', 'Strongly Agree', 'Undecided', 'Disagree', 'Strongly Disagree'],\n",
    "    description = ' ', style={'description_width': 'initial'},\n",
    "    layout = Layout(width='100%'),\n",
    "    value = None\n",
    ")\n",
    "def out():\n",
    "    print('Answer successfully submitted!')\n",
    "display(widget1)\n",
    "\n",
    "hourofci.SubmitBtn2(widget1, out)"
   ]
  },
  {
   "cell_type": "markdown",
   "metadata": {
    "slideshow": {
     "slide_type": "slide"
    }
   },
   "source": [
    "\n",
    "#### Statement 6: As a child, I enjoyed building with blocks and Legos, doing jigsaw puzzles, and playing video games.\n"
   ]
  },
  {
   "cell_type": "code",
   "execution_count": null,
   "metadata": {
    "hide_input": false,
    "tags": [
     "Hide",
     "Init"
    ]
   },
   "outputs": [],
   "source": [
    "widget1 = widgets.RadioButtons(\n",
    "    options = ['Agree', 'Strongly Agree', 'Undecided', 'Disagree', 'Strongly Disagree'],\n",
    "    description = ' ', style={'description_width': 'initial'},\n",
    "    layout = Layout(width='100%'),\n",
    "    value = None\n",
    ")\n",
    "def out():\n",
    "    print('Answer successfully submitted!')\n",
    "display(widget1)\n",
    "\n",
    "hourofci.SubmitBtn2(widget1, out)"
   ]
  },
  {
   "cell_type": "markdown",
   "metadata": {
    "slideshow": {
     "slide_type": "-"
    }
   },
   "source": [
    "\n",
    "<center><img src='supplementary/st5.png' width='400px'>\n"
   ]
  },
  {
   "cell_type": "markdown",
   "metadata": {
    "slideshow": {
     "slide_type": "slide"
    }
   },
   "source": [
    "## Explanation/Reflection\n",
    "\n",
    "#### Statement 5: I have a good sense of direction and easily know where I am in unfamiliar places.\n",
    "Knowing where you are reflects on your understanding of spatial relationships and your position in geographical spaces, all hallmarks of spatial thinkers.\n",
    "#### Question 6: As a child, I enjoyed building with blocks and Legos, doing jigsaw puzzles, and playing video games.\n",
    "If you agreed or strongly agreed with this statement, you may have acquired many spatial skills through your play and other childhood experiences.\n"
   ]
  },
  {
   "cell_type": "markdown",
   "metadata": {
    "slideshow": {
     "slide_type": "slide"
    }
   },
   "source": [
    "## Spatial Thinking\n",
    "### Segment 1: Summary\n",
    "You may already be a very accomplished spatial thinker: someone who visualizes well, sees patterns in the locations  of things, and who uses spatial representations like maps, graphs, lists, and graphic organizers to help solve problems. You pack the trunk of your car efficiently (a spatial skill), and when playing team sports are aware of where all your fellow players are arranged around you (another spatial skill).\n",
    "\n",
    "Or, you may be “spatially challenged.” You may prefer verbal directions when navigating places or putting together furniture. You may not have enjoyed playing with blocks or Tetris, and you find arranging items in enclosed spaces to be a challenge.\n",
    "\n",
    "But it is easy to develop stronger spatial thinking skills. And it is important because spatial thinking is an important part of everyday life and it is important in many academic disciplines including engineering and the sciences.\n",
    "\n",
    "But what is spatial thinking?\n"
   ]
  },
  {
   "cell_type": "markdown",
   "metadata": {
    "slideshow": {
     "slide_type": "slide"
    }
   },
   "source": [
    "## Spatial Thinking\n",
    "#### Segment 2: What is spatial thinking? \n",
    "\n",
    "Definition: the knowledge, skills, and habits of mind to use concepts of space, spatial representations, and processes of reasoning to structure and solve problems (https://nap.nationalacademies.org/catalog/11019/learning-to-think-spatially)\n",
    "\n",
    "<ul>\n",
    "    <li>\n",
    "Concepts of space? These are ideas we use to understand and talk about aspects of space, e.g. scale, direction, patterns, distribution, proximity, distance, near, far, up, down\n",
    "    </li>\n",
    "    <li>\n",
    "Spatial representations? Maps, graphs, animations, diagrams, tables, word clouds→ visualizations\n",
    "    </li>\n",
    "    <li>\n",
    "Processes of reasoning? Thinking processes, problem-solving strategies, approaches to explore relationships\n",
    "    </li>\n",
    "    <li>\n",
    "Habits of mind? The predilection to think spatially and to use the skills required to engage in reasoning this way\n",
    "    </li>\n",
    "</ul>\n"
   ]
  },
  {
   "cell_type": "markdown",
   "metadata": {
    "slideshow": {
     "slide_type": "slide"
    }
   },
   "source": [
    "Spatial thinking engages space, tools of representation, and reasoning processes in  a unique form of thinking that enables the user to see the world in new and productive ways. \n",
    "\n",
    "## Practice: Which of these two scenarios is  an example of spatial thinking?\n",
    "\n",
    "A: Jose is shocked at the price of gas so is trying to develop the most efficient route to run their errands. They write a list of things to do and organizes them by distance from their house to sequence the trip, drops pins on a map on their phone, and takes off. \n",
    "\n",
    "B: Susanna is writing test items to assess the geographic knowledge of their students. One multiple choice question asks students to identify the best location for a coffee shop on a map with a scale that shows the locations of competing coffee shops and major roadways. Students are then asked to write a brief justification for their location decision.\n"
   ]
  },
  {
   "cell_type": "code",
   "execution_count": null,
   "metadata": {
    "hide_input": true,
    "tags": [
     "Hide",
     "Init"
    ]
   },
   "outputs": [],
   "source": [
    "widget2 = widgets.RadioButtons(\n",
    "    options = ['A', 'B', 'Both', 'Neither'],\n",
    "    description = ' ', style={'description_width': 'initial'},\n",
    "    layout = Layout(width='100%'),\n",
    "    value = None\n",
    ")\n",
    "\n",
    "display(widget2)\n",
    "\n",
    "hourofci.SubmitBtn2(widget2)"
   ]
  },
  {
   "cell_type": "markdown",
   "metadata": {
    "slideshow": {
     "slide_type": "slide"
    }
   },
   "source": [
    "### Both!\n",
    "A is an example of spatial thinking. Jose is taking into account distance, a spatial concept, from his house to the various errands. They organize them to minimize their travel to be efficient and save on gas, a process of reasoning. Jose also uses a map, a spatial representation, to assist in the process. Jose exhibits the habit of mind to consider space when making decisions.\n",
    "\n",
    "B is also an example of spatial thinking. Susanna asks their students to compare locations based on competing coffee shops and access to major roads, both of which will affect traffic to the shop. The students use the information on the map, a spatial representation, to evaluate possible locations. Then, students are asked to explain their decision and processes of reasoning.\n",
    "\n",
    "In both cases, spatial concepts, spatial representations, and processes of reasoning are evident. \n",
    "\n",
    "There are many examples in every day life and in our workplaces where spatial thinking is an important asset in a toolkit of thinking.\n"
   ]
  },
  {
   "cell_type": "markdown",
   "metadata": {
    "slideshow": {
     "slide_type": "slide"
    }
   },
   "source": [
    "However, unlike other forms of thinking (mathematical thinking, verbal thinking), spatial thinking is not explicitly taught in schools. The ability to think spatially varies with a number of factors. This is the focus of the next segment.\n",
    "## Spatial Thinking\n",
    "### Segment 3: Factors that influence spatial thinking\n",
    "Some people naturally have more developed spatial thinking skills. There are a number of factors that can influence one’s abilities: \n",
    "\n",
    "Age: as one grows up and develops, the ability to comprehend spatial concepts changes. Five- year olds have adult understandings of “in” and “under.” Six year olds know “in front” and “behind” Children do not learn “left” and “right” until about age 7. However, many adults still struggle with spatial relationships, such as the water level test. \n",
    "<img src='supplementary/st6.png' width='300px'>"
   ]
  },
  {
   "cell_type": "markdown",
   "metadata": {
    "slideshow": {
     "slide_type": "slide"
    }
   },
   "source": [
    "Gender: In psychological tests of spatial abilities, women often do not perform as well as men. This is especially true in mental rotation tasks. However, with specific interventions, spatial skills can improve significantly.\n",
    "\n",
    "Socio-economic status: This also makes a difference in spatial abilities,\n",
    "\n",
    "particularly in young learners who may not have had access to early education programs. Again, with deliberate instruction, all can improve their spatial abilities.\n",
    "\n",
    "Environmental context: Some research indicates that people who grow up in urban areas organized on a grid are less-able spatially than people who grow up in more chaotic urban settings. Certainly there are differences between rural and urban dwellers in terms of wayfinding and spatial skills.\n",
    "\n",
    "The important message is that spatial thinking is malleable, that is, it can be improved, at any age, and with lasting results.\n"
   ]
  },
  {
   "cell_type": "markdown",
   "metadata": {
    "hide_input": false,
    "slideshow": {
     "slide_type": "slide"
    }
   },
   "source": [
    "\n",
    "\n",
    "<font size=\"+1\"><a style=\"background-color:blue;color:white;padding:12px;margin:10px;font-weight:bold;\" href=\"st-exploration.ipynb\">Click here to go to the next notebook.</a></font>"
   ]
  }
 ],
 "metadata": {
  "celltoolbar": "Slideshow",
  "kernelspec": {
   "display_name": "Python 3 (ipykernel)",
   "language": "python",
   "name": "python3"
  },
  "language_info": {
   "codemirror_mode": {
    "name": "ipython",
    "version": 3
   },
   "file_extension": ".py",
   "mimetype": "text/x-python",
   "name": "python",
   "nbconvert_exporter": "python",
   "pygments_lexer": "ipython3",
   "version": "3.8.1"
  },
  "rise": {
   "autolaunch": true,
   "overlay": "<div class='hciheader'></div><div class='hcifooter'></div>",
   "scroll": true
  }
 },
 "nbformat": 4,
 "nbformat_minor": 4
}
